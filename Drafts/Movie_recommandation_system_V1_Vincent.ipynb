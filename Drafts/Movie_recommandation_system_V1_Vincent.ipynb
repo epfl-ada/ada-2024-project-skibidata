{
 "cells": [
  {
   "cell_type": "code",
   "execution_count": 5,
   "id": "fbfb6947-dd8a-49e4-b7cc-d9b3594fc893",
   "metadata": {},
   "outputs": [],
   "source": [
    "# Required libraries\n",
    "import pandas as pd\n",
    "import numpy as np\n",
    "import matplotlib.pyplot as plt\n",
    "import seaborn as sns\n",
    "import scipy\n",
    "from statsmodels.stats import diagnostic\n",
    "import statsmodels.api as sm\n",
    "import statsmodels.formula.api as smf\n",
    "import sklearn\n",
    "from sklearn.neighbors import NearestNeighbors"
   ]
  },
  {
   "cell_type": "code",
   "execution_count": 2,
   "id": "1fe3bf3f-24d6-4e5c-afa6-d61ccb92870b",
   "metadata": {},
   "outputs": [],
   "source": [
    "data_folder = './MovieSummaries/MovieSummaries/'\n",
    "#paths to files\n",
    "movie_metadata_path = data_folder + 'movie.metadata.tsv'\n",
    "\n",
    "# load the data\n",
    "movie_metadata_df = pd.read_csv(movie_metadata_path, delimiter='\\t', names=['wikipedia_movie_id', 'freebase_movie_id', \n",
    "                                                                            'movie_name', 'release_date', 'box_office_revenue',\n",
    "                                                                            'runtime', 'languages', 'countries', 'genres'], \n",
    "                                 encoding='utf-8')\n",
    "\n",
    "df = pd.read_csv('./ml-32m/ratings.csv')\n",
    "\n",
    "movies = pd.read_csv('ml-32m/movies.csv')"
   ]
  },
  {
   "cell_type": "code",
   "execution_count": 3,
   "id": "eee8a24f-64dd-4b52-83f5-cbd327d02e31",
   "metadata": {},
   "outputs": [],
   "source": [
    "# Formatting the movie names in the two database such that they can latter be merged on the names\n",
    "movie_metadata_df['movie_name_formatted'] = movie_metadata_df['movie_name'].str.lower().str.strip()\n",
    "movies['title_format'] = movies['title'].str[:-6].str.strip().str.lower()"
   ]
  },
  {
   "cell_type": "code",
   "execution_count": 4,
   "id": "cf98f387-3219-4ea2-aa96-c7485f1f48fb",
   "metadata": {},
   "outputs": [
    {
     "name": "stdout",
     "output_type": "stream",
     "text": [
      "Number of common movies: 25632\n"
     ]
    }
   ],
   "source": [
    "# calculate the number of common movies between the two datasets\n",
    "common_movies = set(movie_metadata_df['movie_name_formatted']).intersection(set(movies['title_format']))\n",
    "print('Number of common movies:', len(common_movies))\n",
    "\n",
    "# merge the two datasets\n",
    "merged_df = pd.merge(movies, movie_metadata_df, left_on='title_format', right_on='movie_name_formatted', how='inner')"
   ]
  },
  {
   "cell_type": "code",
   "execution_count": 9,
   "id": "c0e32313-a27c-48b9-8e14-a6484c47d545",
   "metadata": {},
   "outputs": [
    {
     "name": "stdout",
     "output_type": "stream",
     "text": [
      "(20323585, 4)\n",
      "          userId  movieId  rating  timestamp\n",
      "0              1       17     1.5  944249077\n",
      "1              1       25    -1.5  944250228\n",
      "5              1       34    -0.5  943228491\n",
      "6              1       36    -1.5  944249008\n",
      "8              1      110     0.5  943231119\n",
      "...          ...      ...     ...        ...\n",
      "12781363   79999     3114     0.5  974951172\n",
      "12781364   79999     3362     0.5  974951172\n",
      "12781365   79999     3424    -1.5  974951104\n",
      "12781366   79999     3504     1.5  974951254\n",
      "12781367   79999     3916     2.5  974951915\n",
      "\n",
      "[8124111 rows x 4 columns]\n"
     ]
    }
   ],
   "source": [
    "# Only take common movies for analysis\n",
    "movieId_to_keep= set(merged_df[merged_df['movie_name_formatted'].isin(common_movies)]['movieId'])\n",
    "df_reduced= df[df['movieId'].isin(movieId_to_keep)]\n",
    "print(df_reduced.shape)\n",
    "# Number of user is reduced for now otherwise the code won't run because the matrix is too big\n",
    "df_more_reduced= df_reduced[df_reduced['userId'] < 80000].copy()\n",
    "df_more_reduced['rating']= df_more_reduced['rating'].apply(lambda x : x -2.5)\n",
    "print(df_more_reduced)"
   ]
  },
  {
   "cell_type": "code",
   "execution_count": null,
   "id": "f3b33b14-4e88-4662-924d-17d357e1ec0f",
   "metadata": {},
   "outputs": [],
   "source": [
    "hyper_space= df_more_reduced.pivot(index='userId',columns='movieId',values='rating')\n",
    "\n",
    "hyper_space.fillna(0, inplace=True)\n",
    "print(hyper_space.head())\n",
    "\n",
    "sparse_matrix_rep= scipy.sparse.csr_matrix(hyper_space.values)\n",
    "print(sparse_matrix_rep)\n",
    "print(sparse_matrix_rep.shape)"
   ]
  },
  {
   "cell_type": "code",
   "execution_count": 13,
   "id": "129e70d5-4ce1-4ac2-b6a8-24f22dd83328",
   "metadata": {},
   "outputs": [],
   "source": [
    "scipy.sparse.save_npz(\"Sparse_hyperspace_user_movie.npz\", sparse_matrix_rep)"
   ]
  },
  {
   "cell_type": "code",
   "execution_count": 14,
   "id": "35e1d596-c5a6-4995-8baa-4f18d072b51e",
   "metadata": {},
   "outputs": [],
   "source": [
    "sparse_matrix_rep_loaded= scipy.sparse.load_npz(\"Sparse_hyperspace_user_movie.npz\")"
   ]
  },
  {
   "cell_type": "code",
   "execution_count": 15,
   "id": "c24333bf-ada7-4adf-9e63-9a18283c2039",
   "metadata": {},
   "outputs": [
    {
     "name": "stdout",
     "output_type": "stream",
     "text": [
      "  (0, 15)\t1.5\n",
      "  (0, 23)\t-1.5\n",
      "  (0, 29)\t-0.5\n",
      "  (0, 31)\t-1.5\n",
      "  (0, 80)\t0.5\n",
      "  (0, 81)\t2.5\n",
      "  (0, 109)\t-1.5\n",
      "  (0, 123)\t1.5\n",
      "  (0, 214)\t1.5\n",
      "  (0, 237)\t-0.5\n",
      "  (0, 358)\t0.5\n",
      "  (0, 368)\t2.5\n",
      "  (0, 380)\t2.5\n",
      "  (0, 405)\t-0.5\n",
      "  (0, 500)\t1.5\n",
      "  (0, 518)\t0.5\n",
      "  (0, 521)\t2.5\n",
      "  (0, 555)\t2.5\n",
      "  (0, 558)\t-0.5\n",
      "  (0, 560)\t2.5\n",
      "  (0, 561)\t1.5\n",
      "  (0, 565)\t2.5\n",
      "  (0, 568)\t2.5\n",
      "  (0, 573)\t2.5\n",
      "  (0, 600)\t0.5\n",
      "  :\t:\n",
      "  (79997, 3719)\t-1.5\n",
      "  (79997, 3727)\t2.0\n",
      "  (79997, 3761)\t1.5\n",
      "  (79997, 3875)\t1.5\n",
      "  (79997, 3936)\t2.5\n",
      "  (79998, 0)\t0.5\n",
      "  (79998, 133)\t2.5\n",
      "  (79998, 237)\t0.5\n",
      "  (79998, 405)\t2.5\n",
      "  (79998, 698)\t-1.5\n",
      "  (79998, 735)\t2.5\n",
      "  (79998, 741)\t1.5\n",
      "  (79998, 747)\t0.5\n",
      "  (79998, 754)\t0.5\n",
      "  (79998, 841)\t1.5\n",
      "  (79998, 1252)\t2.5\n",
      "  (79998, 1409)\t2.5\n",
      "  (79998, 1740)\t2.5\n",
      "  (79998, 1835)\t2.5\n",
      "  (79998, 1898)\t2.5\n",
      "  (79998, 1907)\t0.5\n",
      "  (79998, 2051)\t0.5\n",
      "  (79998, 2089)\t-1.5\n",
      "  (79998, 2147)\t1.5\n",
      "  (79998, 2410)\t2.5\n"
     ]
    }
   ],
   "source": [
    "print(sparse_matrix_rep_loaded)"
   ]
  },
  {
   "cell_type": "code",
   "execution_count": 16,
   "id": "4e902c07-0c3e-4d89-b9cd-6a1fb8b9cbdc",
   "metadata": {},
   "outputs": [],
   "source": [
    "# Function that generate a sparse vector of the hyperspace user-movies from the ratings and movie-ids given by the website user\n",
    "def generate_sparse_vector_from_ratings(list_of_imdbid_and_rating, total_nbr_of_movies) :\n",
    "    bidule= np.array(list_of_imdbid_and_rating)\n",
    "    imdb_ids= bidule[:, 0]\n",
    "    ratings= np.array(bidule[:, 1], dtype= float)\n",
    "    movie_ids= merged_df[merged_df['freebase_movie_id'].isin(imdb_ids)]['movieId'].values\n",
    "    movie_ids= movie_ids - 1\n",
    "    return scipy.sparse.csr_matrix((ratings, (np.zeros(len(movie_ids)), movie_ids)), shape= (1, total_nbr_of_movies)), movie_ids + 1"
   ]
  },
  {
   "cell_type": "code",
   "execution_count": 49,
   "id": "accd2c45-a1ad-43ff-9cee-876f742920fd",
   "metadata": {},
   "outputs": [
    {
     "name": "stdout",
     "output_type": "stream",
     "text": [
      "0                      toy story\n",
      "1                        jumanji\n",
      "2               grumpier old men\n",
      "3              waiting to exhale\n",
      "4    father of the bride part ii\n",
      "Name: movie_name_formatted, dtype: object\n"
     ]
    },
    {
     "data": {
      "text/plain": [
       "['executive decision',\n",
       " \"mr. holland's opus\",\n",
       " 'dead man walking',\n",
       " 'ransom',\n",
       " 'jerry maguire']"
      ]
     },
     "execution_count": 49,
     "metadata": {},
     "output_type": "execute_result"
    }
   ],
   "source": [
    "def weighted_rating(R, v, m, C):\n",
    "    # Calculation based on the IMDB formula\n",
    "    return (v/(v+m) * R) + (m/(m+v) * C)\n",
    "\n",
    "def recommand_movies_for_website_user(list_, sparse_matrix_rep, n_neighbors=30, n_movies= 5) :\n",
    "    total_nbr_of_movies= sparse_matrix_rep.shape[1]\n",
    "    sparse_vec, movies_watched_id= generate_sparse_vector_from_ratings(list_, total_nbr_of_movies)\n",
    "    # Generate a fit to approximate nearest neighbors of a given user in the database\n",
    "    knn_function= NearestNeighbors(metric='cosine', algorithm='brute', n_neighbors=n_neighbors, n_jobs=-1)\n",
    "    knn_function.fit(sparse_matrix_rep)\n",
    "    distances, indices= knn_function.kneighbors(sparse_vec, n_neighbors= n_neighbors)\n",
    "    indices= indices[0, 1:] + 1\n",
    "    moviesid_to_check= df_more_reduced[(df_more_reduced['userId'].isin(indices)) & (df_more_reduced['rating']> -5)]\n",
    "    df_temp= moviesid_to_check.groupby('movieId')\n",
    "    averages= df_temp['rating'].mean()\n",
    "    C= averages.mean()\n",
    "    number_of_votes= df_temp['userId'].count()\n",
    "    m= number_of_votes.quantile(0.8)\n",
    "    scores= weighted_rating(averages, number_of_votes, m , C)\n",
    "    sorted_scores_id= scores.sort_values(ascending= False).index\n",
    "    movies_watched=  merged_df[merged_df['movieId'].isin(movies_watched_id)]['movie_name_formatted']\n",
    "    print(movies_watched)\n",
    "    final_recommandation= []\n",
    "    n_temp= n_movies\n",
    "    while len(final_recommandation) < n_movies :\n",
    "        movies_recommanded= merged_df[merged_df['movieId'].isin(sorted_scores_id[:n_temp])]['movie_name_formatted']\n",
    "        final_recommandation= list(set(movies_recommanded.values) - set(movies_recommanded.values).intersection(set(movies_watched.values)))\n",
    "        n_temp+=1\n",
    "    return final_recommandation[:n_movies]\n",
    "\n",
    "# Testing of the function\n",
    "list_= [[\"/m/0dyb1\", 4.5], [\"/m/09w353\", 3], [\"/m/0676dr\", 2], [\"/m/03vny7\", 3.5], [\"/m/094g2z\", 5]]\n",
    "recommand_movies_for_website_user(list_, sparse_matrix_rep)"
   ]
  },
  {
   "cell_type": "code",
   "execution_count": 50,
   "id": "053df02e-5bb9-41f5-82fe-3afb194f9a41",
   "metadata": {},
   "outputs": [],
   "source": [
    "def find_liked_movies_user(userid) :\n",
    "    movies_id= df_more_reduced[(df_more_reduced['userId']== userid) & (df_more_reduced['rating']>= 2)]['movieId'].values\n",
    "    names_of_the_moovies= merged_df[merged_df['movieId'].isin(movies_id)]['movie_name']\n",
    "    return names_of_the_moovies\n",
    "\n",
    "def find_disliked_movies_user(userid) :\n",
    "    movies_id= df_more_reduced[(df_more_reduced['userId']== userid) & (df_more_reduced['rating']< -1)]['movieId'].values\n",
    "    names_of_the_moovies= merged_df[merged_df['movieId'].isin(movies_id)]['movie_name']\n",
    "    return names_of_the_moovies"
   ]
  },
  {
   "cell_type": "code",
   "execution_count": 138,
   "id": "91e4f567-b07a-4c44-9e9f-097f6d578ec8",
   "metadata": {},
   "outputs": [
    {
     "name": "stdout",
     "output_type": "stream",
     "text": [
      "194                                    Waterworld\n",
      "2674                                  Pitch Black\n",
      "3535                                        Shrek\n",
      "4032                               Monsters, Inc.\n",
      "5153                                 Finding Nemo\n",
      "6359     Harry Potter and the Prisoner of Azkaban\n",
      "6515                                     I, Robot\n",
      "7905                                Batman Begins\n",
      "8207          Harry Potter and the Goblet of Fire\n",
      "9598                                     Iron Man\n",
      "9599                                     Iron Man\n",
      "10274                                   Star Trek\n",
      "10317                                          Up\n",
      "10318                                          Up\n",
      "10439      Harry Potter and the Half-Blood Prince\n",
      "10829                                      Avatar\n",
      "10830                                      Avatar\n",
      "10831                                      Avatar\n",
      "11118                    How to Train Your Dragon\n",
      "11790                                     Tangled\n",
      "11791                                     Tangled\n",
      "13611                              Wreck-It Ralph\n",
      "14386                                      Frozen\n",
      "14387                                      Frozen\n",
      "14388                                      Frozen\n",
      "14389                                      Frozen\n",
      "14390                                      Frozen\n",
      "27612                                       Moana\n",
      "Name: movie_name, dtype: object\n"
     ]
    },
    {
     "data": {
      "text/plain": [
       "['toy story',\n",
       " 'the hunger games: catching fire',\n",
       " 'kung fu panda',\n",
       " 'harry potter and the chamber of secrets',\n",
       " 'toy story 2']"
      ]
     },
     "execution_count": 138,
     "metadata": {},
     "output_type": "execute_result"
    }
   ],
   "source": [
    "def weighted_rating(R, v, m, C):\n",
    "    # Calculation based on the IMDB formula\n",
    "    return (v/(v+m) * R) + (m/(m+v) * C)\n",
    "\n",
    "def recommand_movies_for_user(userid, sparse_matrix_rep, n_neighbors=30, n_movies= 5) :\n",
    "    userid_matrix= userid-1\n",
    "    knn_function= NearestNeighbors(metric='cosine', algorithm='brute', n_neighbors=n_neighbors, n_jobs=-1)\n",
    "    knn_function.fit(sparse_matrix_rep)\n",
    "    distances, indices= knn_function.kneighbors(sparse_matrix_rep[userid_matrix], n_neighbors= n_neighbors)\n",
    "    indices= indices[0, 1:] + 1\n",
    "    moviesid_to_check= df_more_reduced[(df_more_reduced['userId'].isin(indices)) & (df_more_reduced['rating']> -5)]\n",
    "    df_temp= moviesid_to_check.groupby('movieId')\n",
    "    averages= df_temp['rating'].mean()\n",
    "    C= averages.mean()\n",
    "    number_of_votes= df_temp['userId'].count()\n",
    "    m= number_of_votes.quantile(0.8)\n",
    "    scores= weighted_rating(averages, number_of_votes, m , C)\n",
    "    sorted_scores_id= scores.sort_values(ascending= False).index\n",
    "    movies_watched_id= df_more_reduced[(df_more_reduced['userId']== userid) & (df_more_reduced['rating']> -5)]['movieId'].values\n",
    "    movies_watched=  merged_df[merged_df['movieId'].isin(movies_watched_id)]['movie_name_formatted']\n",
    "    print(find_liked_movies_user(userid))\n",
    "    n_temp= n_movies\n",
    "    final_recommandation= []\n",
    "    while len(final_recommandation) < n_movies :\n",
    "        movies_recommanded= merged_df[merged_df['movieId'].isin(sorted_scores_id[:n_temp])]['movie_name_formatted']\n",
    "        final_recommandation= list(set(movies_recommanded.values) - set(movies_recommanded.values).intersection(set(movies_watched.values)))\n",
    "        n_temp+=1\n",
    "    return final_recommandation[:n_movies]\n",
    "\n",
    "recommand_movies_for_user(24205, sparse_matrix_rep)"
   ]
  },
  {
   "cell_type": "code",
   "execution_count": null,
   "id": "a6fd44d9-7e81-4a1d-b20b-cb2205d2a5cc",
   "metadata": {},
   "outputs": [],
   "source": [
    "['indiana jones and the last crusade',\n",
    " 'pirates of the caribbean: the curse of the black pearl',\n",
    " 'toy story',\n",
    " 'monty python and the holy grail',\n",
    " 'back to the future']"
   ]
  },
  {
   "cell_type": "code",
   "execution_count": null,
   "id": "ecfb3a3e-5773-493d-92a2-2abb41119eb7",
   "metadata": {},
   "outputs": [],
   "source": [
    "# Testing this recommandation model by comparing the recommandation with what the user liked and disliked\n",
    "test_recommand= recommand_movies_for_user(28)\n",
    "test_liked= find_liked_movies_user(28)\n",
    "test_disliked= find_disliked_movies_user(28)\n",
    "print(\"Number of recommanded movies : \", test_recommand.shape)\n",
    "print(\"Number of liked movies : \", test_liked.shape)\n",
    "print(\"Number of disliked movies : \", test_disliked.shape)\n",
    "print(\"Percentage of movies liked by user 1 (rating >= 4) that are recommanded by the sytem : \", len(set(test_recommand.values).intersection(set(test_liked.values))) / test_liked.shape[0])\n",
    "print(\"Percentage of movies disliked by user 1 (rating < 3) that are recommanded by the sytem : \", len(set(test_recommand.values).intersection(set(test_disliked.values))) / test_disliked.shape[0])"
   ]
  },
  {
   "cell_type": "code",
   "execution_count": null,
   "id": "53e9149f-7333-4c2e-acaa-76a29169e849",
   "metadata": {},
   "outputs": [],
   "source": [
    "def test_model(ids_to_test, n_neighbors=30, n_duplicates= 8, print_inter= False) :\n",
    "    scores_positive= []\n",
    "    scores_negative= []\n",
    "    count= 0\n",
    "    for i in ids_to_test :\n",
    "        test_recommand= recommand_movies_for_user(i, n_neighbors, n_duplicates)\n",
    "        test_liked= find_liked_movies_user(i)\n",
    "        test_disliked= find_disliked_movies_user(i)\n",
    "        if print_inter :\n",
    "            print(\"Number of recommanded movies : \", test_recommand.shape)\n",
    "            print(\"Number of liked movies : \", test_liked.shape)\n",
    "            print(\"Number of disliked movies : \", test_disliked.shape)\n",
    "        nbr_movies_liked_recommanded= len(set(test_recommand.values).intersection(set(test_liked.values)))\n",
    "        if test_liked.shape[0] != 0 :\n",
    "            proportion_liked_recommanded=  nbr_movies_liked_recommanded / test_liked.shape[0]\n",
    "        else :\n",
    "            proportion_liked_recommanded = 0\n",
    "\n",
    "        if print_inter :\n",
    "            print(\"Percentage of movies liked by user 1 (rating >= 4) that are recommanded by the sytem : \", proportion_liked_recommanded)\n",
    "        \n",
    "        nbr_movies_disliked_recommanded= len(set(test_recommand.values).intersection(set(test_disliked.values)))\n",
    "        if test_disliked.shape[0] != 0 :\n",
    "            proportion_disliked_recommanded= nbr_movies_disliked_recommanded / test_disliked.shape[0]\n",
    "        else :\n",
    "            proportion_disliked_recommanded= 0\n",
    "\n",
    "        if print_inter :\n",
    "            print(\"Percentage of movies disliked by user 1 (rating < 3) that are recommanded by the sytem : \", proportion_disliked_recommanded)\n",
    "        \n",
    "        if test_recommand.shape[0] != 0 :\n",
    "            scores_positive.append(nbr_movies_liked_recommanded/test_recommand.shape[0])\n",
    "            scores_negative.append(nbr_movies_disliked_recommanded/test_recommand.shape[0])\n",
    "        else :\n",
    "            scores_positive.append(0)\n",
    "            scores_negative.append(1)\n",
    "\n",
    "        count+=1\n",
    "        if count%50 == 0 :\n",
    "            print(f\"{count} users have been tested\")\n",
    "    return scores_positive, scores_negative"
   ]
  },
  {
   "cell_type": "code",
   "execution_count": null,
   "id": "67e4d546-1fc1-42d0-854e-529c428fac38",
   "metadata": {},
   "outputs": [],
   "source": [
    "ids_to_test= []\n",
    "ids_to_test= range(1000)"
   ]
  },
  {
   "cell_type": "code",
   "execution_count": null,
   "id": "79c68c03-afb6-4184-a381-11c7972ba12d",
   "metadata": {},
   "outputs": [],
   "source": [
    "scores_pos, scores_neg= test_model(ids_to_test)"
   ]
  },
  {
   "cell_type": "code",
   "execution_count": null,
   "id": "9af3ce7f-64c1-4a54-8d2f-d9b2a18536e8",
   "metadata": {},
   "outputs": [],
   "source": [
    "scores_pos= np.array(scores_pos)\n",
    "scores_neg= np.array(scores_neg)\n",
    "print(np.mean(scores_pos), np.mean(scores_neg))"
   ]
  },
  {
   "cell_type": "code",
   "execution_count": null,
   "id": "ea38b992-ae00-4526-94be-5e01dafc2c52",
   "metadata": {},
   "outputs": [],
   "source": [
    "def parameter_scanning(values_neighbors, values_duplicates) :\n",
    "    ids_to_test= np.array(range(1, 49998), dtype= int)\n",
    "    values_pos= 0\n",
    "    values_neg= 1\n",
    "    best_n_neighbors_pos= values_neighbors[0]\n",
    "    best_n_duplicates_pos= values_duplicates[0]\n",
    "    best_n_neighbors_neg= values_neighbors[0]\n",
    "    best_n_duplicates_neg= values_duplicates[0]\n",
    "    for n_neighbors in values_neighbors :\n",
    "        for n_duplicates in values_duplicates :\n",
    "            np.random.shuffle(ids_to_test)\n",
    "            ids_to_test_prime= ids_to_test[:100]\n",
    "            scores_pos, scores_neg= test_model(ids_to_test_prime, n_neighbors, n_duplicates)\n",
    "            if np.mean(np.array(scores_pos)) > values_pos :\n",
    "                values_pos= np.mean(np.array(scores_pos))\n",
    "                best_n_neighbors_pos= n_neighbors\n",
    "                best_n_duplicates_pos= n_duplicates\n",
    "            if np.mean(np.array(scores_neg)) < values_neg :\n",
    "                values_neg= np.mean(np.array(scores_neg))\n",
    "                best_n_neighbors_neg= n_neighbors\n",
    "                best_n_duplicates_neg= n_duplicates\n",
    "            print(f\"The couple of parameters ({n_neighbors}, {n_duplicates}) has been tested.\")\n",
    "    print(f\"The best parameters for the positive score are : ({best_n_neighbors_pos}, {best_n_duplicates_pos})\")\n",
    "    print(f\"The best parameters for the negative score are : ({best_n_neighbors_neg}, {best_n_duplicates_neg})\")"
   ]
  },
  {
   "cell_type": "code",
   "execution_count": null,
   "id": "1a31b95a-1205-4f14-9fbc-73bda4e54e44",
   "metadata": {},
   "outputs": [],
   "source": [
    "parameter_scanning([10,20,30,40,50], [2,3,4,5,6,7,8,9,10])"
   ]
  },
  {
   "cell_type": "code",
   "execution_count": null,
   "id": "9a1a376d-9c46-4e6c-978a-75c3035b1c3b",
   "metadata": {},
   "outputs": [],
   "source": [
    "ids_to_test= range(1000)\n",
    "scores_pos, scores_neg= test_model(ids_to_test, 40, 2)\n",
    "scores_pos= np.array(scores_pos)\n",
    "scores_neg= np.array(scores_neg)\n",
    "print(np.mean(scores_pos), np.mean(scores_neg))"
   ]
  },
  {
   "cell_type": "markdown",
   "id": "15e15ab8-8a67-4825-ba2e-ccbbaa97eba9",
   "metadata": {},
   "source": [
    "0.5758076498476176 0.06482582511974802 : (30, 8)\n",
    "0.6206855745121398 0.10482759500198037 : (30, 10)\n",
    "0.2068181921610013 0.024991750957941428 : (40, 2)"
   ]
  },
  {
   "cell_type": "code",
   "execution_count": 22,
   "id": "516d9e28-5a40-4fc3-b4fa-90f94e742d3f",
   "metadata": {},
   "outputs": [],
   "source": [
    "def movie_recommandation(userid, n_movies= 5) :\n",
    "    final_recommandation= []\n",
    "    n_duplicates= 8\n",
    "    movies_watched_id= df_more_reduced[(df_more_reduced['userId']== userid) & (df_more_reduced['rating']>= 0)]['movieId'].values\n",
    "    movies_watched=  merged_df[merged_df['movieId'].isin(movies_watched_id)]['movie_name']\n",
    "    print(find_liked_movies_user(userid))\n",
    "    while len(final_recommandation) < n_movies and n_duplicates >= 2:\n",
    "        print(n_duplicates)\n",
    "        movies_recommanded= recommand_movies_for_user(userid, 30, n_duplicates)\n",
    "        n_duplicates-= 1\n",
    "        final_recommandation= list(set(movies_recommanded.values) - set(movies_recommanded.values).intersection(set(movies_watched.values)))\n",
    "    return final_recommandation[:n_movies]"
   ]
  },
  {
   "cell_type": "code",
   "execution_count": 25,
   "id": "14ec917d-5e44-4760-9d72-cecbeea09488",
   "metadata": {},
   "outputs": [
    {
     "name": "stdout",
     "output_type": "stream",
     "text": [
      "0                            Toy Story\n",
      "13                           GoldenEye\n",
      "27                   Leaving Las Vegas\n",
      "50                     Dead Presidents\n",
      "82                        Bed of Roses\n",
      "                     ...              \n",
      "9354                              Juno\n",
      "9387              Charlie Wilson's War\n",
      "9388    Walk Hard: The Dewey Cox Story\n",
      "9472                 Definitely, Maybe\n",
      "9759                     Step Brothers\n",
      "Name: movie_name, Length: 418, dtype: object\n",
      "8\n",
      "7\n",
      "6\n"
     ]
    },
    {
     "data": {
      "text/plain": [
       "['Gladiator',\n",
       " 'Stand by Me',\n",
       " 'Shakespeare in Love',\n",
       " 'Indiana Jones and the Last Crusade',\n",
       " 'Fight Club',\n",
       " 'To Kill a Mockingbird']"
      ]
     },
     "execution_count": 25,
     "metadata": {},
     "output_type": "execute_result"
    }
   ],
   "source": [
    "movie_recommandation(78932, 6)"
   ]
  },
  {
   "cell_type": "code",
   "execution_count": null,
   "id": "78bbcb69-2a91-41de-8ca2-85a16a19ea7c",
   "metadata": {},
   "outputs": [],
   "source": []
  }
 ],
 "metadata": {
  "kernelspec": {
   "display_name": "Python 3 (ipykernel)",
   "language": "python",
   "name": "python3"
  },
  "language_info": {
   "codemirror_mode": {
    "name": "ipython",
    "version": 3
   },
   "file_extension": ".py",
   "mimetype": "text/x-python",
   "name": "python",
   "nbconvert_exporter": "python",
   "pygments_lexer": "ipython3",
   "version": "3.12.3"
  }
 },
 "nbformat": 4,
 "nbformat_minor": 5
}
