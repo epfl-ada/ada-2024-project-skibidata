{
 "cells": [
  {
   "cell_type": "code",
   "execution_count": 2,
   "metadata": {},
   "outputs": [],
   "source": [
    "import numpy as np\n",
    "import pandas as pd\n",
    "from sklearn.metrics.pairwise import cosine_similarity"
   ]
  },
  {
   "cell_type": "code",
   "execution_count": 58,
   "metadata": {},
   "outputs": [],
   "source": [
    "movies = [\n",
    "    \"tt0114709\", # Toy Story\n",
    "    \"tt0120363\", # Toy Story 2\n",
    "    \"tt0441773\", # Kung Fu Panda\n",
    "    \"tt0347149\", # Howl's moving castle\n",
    "    \"tt1375666\", # Inception\n",
    "    \"tt0816692\", # Interstellar\n",
    "    \"tt0074103\", # L'aile ou la cuisse\n",
    "    \"tt0250223\", # Asterix & Obelix, Mission cleopatra\n",
    "    \"tt1675434\", # Intouchables\n",
    "    \"tt1074638\", # Skyfall\n",
    "]\n",
    "\n",
    "movies = [\n",
    "    \"tt1119646\", # hangover\n",
    "    \"tt0892769\", # how to train your dargon,\n",
    "    \"tt0371746\", # iron man\n",
    "    \"tt0430651\", # survive style\n",
    "    \"tt0876563\", # ponyo\n",
    "    \"tt1436045\", # 13 assassins\n",
    "    \"tt1675434\", # Intouchables\n",
    "    \"tt1673702\", # cat in paris\n",
    "    \"tt0414852\", # district 13\n",
    "]"
   ]
  },
  {
   "cell_type": "code",
   "execution_count": 54,
   "metadata": {},
   "outputs": [],
   "source": [
    "encodings = np.load('./SAE_embedding.npy', allow_pickle=True)\n",
    "movie_mapping_SAE = np.load('./mapping_SAE.npy', allow_pickle=True).item()\n",
    "reverse_movie_mapping_SAE = np.load('./reverse_mapping_SAE.npy', allow_pickle=True).item()\n"
   ]
  },
  {
   "cell_type": "code",
   "execution_count": 55,
   "metadata": {},
   "outputs": [],
   "source": [
    "def inverse_imdb_transform(imdb):\n",
    "    return int(imdb[2:])\n",
    "\n",
    "def formating_imdbId(x) :\n",
    "    x= round(x)\n",
    "    x_str= str(x)\n",
    "    while len(x_str) < 7 :\n",
    "        x_str= '0' + x_str\n",
    "    return 'tt' + x_str"
   ]
  },
  {
   "cell_type": "code",
   "execution_count": 85,
   "metadata": {},
   "outputs": [],
   "source": [
    "def recommend_SAE(imdb_ids, isin=None, return_similarities=False, min_similarity=0.0):\n",
    "    \"\"\"\n",
    "    Recommend movies based on a list of IMDB IDs, excluding the input movies from recommendations.\n",
    "    \n",
    "    Parameters:\n",
    "    -----------\n",
    "    imdb_ids : list\n",
    "        List of IMDB IDs to base recommendations on\n",
    "    isin : list, optional\n",
    "        List of IMDB IDs to restrict recommendations to\n",
    "    return_similarities : bool, optional\n",
    "        Whether to return similarity scores along with recommendations\n",
    "    min_similarity : float, optional\n",
    "        Minimum similarity threshold (0.0 to 1.0) for recommendations\n",
    "        \n",
    "    Returns:\n",
    "    --------\n",
    "    list or tuple\n",
    "        If return_similarities is False, returns list of recommended IMDB IDs\n",
    "        If return_similarities is True, returns tuple of (recommendations, similarities)\n",
    "    \"\"\"\n",
    "    encodings_ = encodings\n",
    "    input_movies = [inverse_imdb_transform(id) for id in imdb_ids]\n",
    "    \n",
    "    if isin is not None:\n",
    "        isin_imdb_ids = [inverse_imdb_transform(id) for id in isin]\n",
    "        encodings_ = encodings[[movie_mapping_SAE[id] for id in isin_imdb_ids]]\n",
    "    \n",
    "    similarities = np.zeros(encodings_.shape[0])\n",
    "    \n",
    "    # Calculate similarities\n",
    "    for movie in input_movies:\n",
    "        id = movie_mapping_SAE[movie]\n",
    "        embedding = encodings[id].reshape(1,-1)\n",
    "        similarities += cosine_similarity(encodings_, embedding).ravel()\n",
    "    \n",
    "    # Normalize similarities by number of input movies\n",
    "    similarities = similarities / len(input_movies)\n",
    "    \n",
    "    # Set similarity scores of input movies to negative infinity to exclude them\n",
    "    if isin is not None:\n",
    "        for movie in input_movies:\n",
    "            for i, isin_movie in enumerate(isin_imdb_ids):\n",
    "                if movie == isin_movie:\n",
    "                    similarities[i] = float('-inf')\n",
    "    else:\n",
    "        for movie in input_movies:\n",
    "            similarities[movie_mapping_SAE[movie]] = float('-inf')\n",
    "    \n",
    "    # Apply similarity threshold\n",
    "    similarities[similarities < min_similarity] = float('-inf')\n",
    "    \n",
    "    # Sort and get recommendations\n",
    "    similar_indices = np.argsort(similarities)[::-1]\n",
    "    \n",
    "    # Filter out movies below threshold\n",
    "    valid_indices = similar_indices[similarities[similar_indices] > float('-inf')]\n",
    "    \n",
    "    if isin is not None:\n",
    "        recommendations = [isin[rec_id] for rec_id in valid_indices[:5]]\n",
    "    else:\n",
    "        recommendations = [formating_imdbId(reverse_movie_mapping_SAE[rec_id]) \n",
    "                         for rec_id in valid_indices[:5]]\n",
    "    \n",
    "    if return_similarities:\n",
    "        if isin is not None:\n",
    "            filtered_similarities = similarities[valid_indices[:5]]\n",
    "        else:\n",
    "            filtered_similarities = similarities[valid_indices[:5]]\n",
    "        return recommendations, filtered_similarities\n",
    "    \n",
    "    return recommendations"
   ]
  },
  {
   "cell_type": "code",
   "execution_count": 95,
   "metadata": {},
   "outputs": [
    {
     "data": {
      "text/plain": [
       "['tt0892769', 'tt1119646', 'tt0414852', 'tt1436045', 'tt0430651']"
      ]
     },
     "execution_count": 95,
     "metadata": {},
     "output_type": "execute_result"
    }
   ],
   "source": [
    "list_, sim = recommend_SAE([movies[2]], movies, return_similarities=True)\n",
    "list_"
   ]
  },
  {
   "cell_type": "code",
   "execution_count": 69,
   "metadata": {},
   "outputs": [
    {
     "data": {
      "text/plain": [
       "{'tt1119646': 'The Hangover',\n",
       " 'tt0892769': 'How to Train Your Dragon',\n",
       " 'tt0371746': 'Iron Man',\n",
       " 'tt0430651': 'Survive Style 5+',\n",
       " 'tt0876563': 'Ponyo',\n",
       " 'tt1436045': '13 Assassins',\n",
       " 'tt1675434': 'The Intouchables',\n",
       " 'tt1673702': 'A Cat in Paris',\n",
       " 'tt0414852': 'District B13'}"
      ]
     },
     "execution_count": 69,
     "metadata": {},
     "output_type": "execute_result"
    }
   ],
   "source": [
    "movie_names_df = pd.read_csv('movie_names.csv', index_col=0)\n",
    "movie_names = {id: movie_names_df[movie_names_df['imdb_id'] == id]['title'].item() for id in movies}\n",
    "movie_names"
   ]
  },
  {
   "cell_type": "code",
   "execution_count": 93,
   "metadata": {},
   "outputs": [],
   "source": [
    "import json\n",
    "\n",
    "# Create JSON structure from existing recommendations\n",
    "recommendations_json = {}\n",
    "\n",
    "for r in range(1, 9):  # up to 8 movies\n",
    "    for combo in combinations(movies, r):\n",
    "        # Get recommendations for this combination\n",
    "        recs = recommend_SAE(list(combo), movies, min_similarity=0.5)\n",
    "        \n",
    "        # Format input movies and create key\n",
    "        input_movies = [movie_names[movie_id] for movie_id in combo]\n",
    "        key = \" + \".join(sorted(input_movies))\n",
    "        \n",
    "        # Format recommended movies\n",
    "        rec_movies = [movie_names[rec_id] for rec_id in recs]\n",
    "        \n",
    "        # Store in dictionary\n",
    "        recommendations_json[key] = {\n",
    "            \"input_movies\": input_movies,\n",
    "            \"recommended_movies\": rec_movies\n",
    "        }\n",
    "\n",
    "# Save to JSON file\n",
    "with open('movie_recommendations.json', 'w') as f:\n",
    "    json.dump(recommendations_json, f, indent=4)"
   ]
  },
  {
   "cell_type": "code",
   "execution_count": 78,
   "metadata": {},
   "outputs": [
    {
     "name": "stdout",
     "output_type": "stream",
     "text": [
      "(9, 50)\n",
      "(9, 50)\n",
      "(9, 50)\n",
      "(9, 50)\n",
      "(9, 50)\n",
      "(9, 50)\n",
      "(9, 50)\n",
      "(9, 50)\n",
      "(9, 50)\n"
     ]
    },
    {
     "data": {
      "application/vnd.plotly.v1+json": {
       "config": {
        "plotlyServerURL": "https://plot.ly"
       },
       "data": [
        {
         "hoverinfo": "none",
         "line": {
          "color": "rgb(200,200,200)",
          "width": 1
         },
         "mode": "lines",
         "type": "scatter3d",
         "x": [
          -0.42934324271585556,
          -0.26008028988181264,
          null,
          -0.42934324271585556,
          -0.2839200428124499,
          null,
          -0.26008028988181264,
          -0.2839200428124499,
          null,
          -0.06763708889128892,
          0.0842107440626327,
          null,
          -0.06763708889128892,
          0.14244489226564347,
          null,
          0.298827216893165,
          0.2880243914780117,
          null,
          0.298827216893165,
          0.14244489226564347,
          null,
          0.2880243914780117,
          0.22747342073821744,
          null,
          0.0842107440626327,
          0.14244489226564347,
          null,
          0.14244489226564347,
          0.22747342073821744,
          null
         ],
         "y": [
          0.0486620362777406,
          -0.1362499910951961,
          null,
          0.0486620362777406,
          -0.2409870006861612,
          null,
          -0.1362499910951961,
          -0.2409870006861612,
          null,
          0.1915983644595415,
          0.4063203538629401,
          null,
          0.1915983644595415,
          0.11283213674717493,
          null,
          -0.018106902705792835,
          -0.150934466307632,
          null,
          -0.018106902705792835,
          0.11283213674717493,
          null,
          -0.150934466307632,
          -0.21313453481832537,
          null,
          0.4063203538629401,
          0.11283213674717493,
          null,
          0.11283213674717493,
          -0.21313453481832537,
          null
         ],
         "z": [
          -0.1693967812764746,
          -0.24641066830352898,
          null,
          -0.1693967812764746,
          0.016891203300112238,
          null,
          -0.24641066830352898,
          0.016891203300112238,
          null,
          0.24352337970858468,
          0.03308201649072987,
          null,
          0.24352337970858468,
          -0.16696040189125477,
          null,
          -0.13747665187003738,
          0.21825626768553885,
          null,
          -0.13747665187003738,
          -0.16696040189125477,
          null,
          0.21825626768553885,
          0.20849164109289617,
          null,
          0.03308201649072987,
          -0.16696040189125477,
          null,
          -0.16696040189125477,
          0.20849164109289617,
          null
         ]
        },
        {
         "hoverinfo": "text",
         "marker": {
          "color": "rgb(255, 127, 14)",
          "line": {
           "color": "rgb(50,50,50)",
           "width": 1
          },
          "size": 10
         },
         "mode": "markers+text",
         "text": [
          "The Hangover",
          "How to Train Your Dragon",
          "Iron Man",
          "Survive Style 5+",
          "Ponyo",
          "13 Assassins",
          "The Intouchables",
          "A Cat in Paris",
          "District B13"
         ],
         "type": "scatter3d",
         "x": [
          -0.42934324271585556,
          -0.26008028988181264,
          -0.2839200428124499,
          -0.06763708889128892,
          0.298827216893165,
          0.2880243914780117,
          0.0842107440626327,
          0.14244489226564347,
          0.22747342073821744
         ],
         "y": [
          0.0486620362777406,
          -0.1362499910951961,
          -0.2409870006861612,
          0.1915983644595415,
          -0.018106902705792835,
          -0.150934466307632,
          0.4063203538629401,
          0.11283213674717493,
          -0.21313453481832537
         ],
         "z": [
          -0.1693967812764746,
          -0.24641066830352898,
          0.016891203300112238,
          0.24352337970858468,
          -0.13747665187003738,
          0.21825626768553885,
          0.03308201649072987,
          -0.16696040189125477,
          0.20849164109289617
         ]
        }
       ],
       "layout": {
        "margin": {
         "b": 0,
         "l": 0,
         "r": 0,
         "t": 40
        },
        "scene": {
         "xaxis": {
          "showticklabels": false
         },
         "yaxis": {
          "showticklabels": false
         },
         "zaxis": {
          "showticklabels": false
         }
        },
        "showlegend": false,
        "template": {
         "data": {
          "bar": [
           {
            "error_x": {
             "color": "#2a3f5f"
            },
            "error_y": {
             "color": "#2a3f5f"
            },
            "marker": {
             "line": {
              "color": "#E5ECF6",
              "width": 0.5
             },
             "pattern": {
              "fillmode": "overlay",
              "size": 10,
              "solidity": 0.2
             }
            },
            "type": "bar"
           }
          ],
          "barpolar": [
           {
            "marker": {
             "line": {
              "color": "#E5ECF6",
              "width": 0.5
             },
             "pattern": {
              "fillmode": "overlay",
              "size": 10,
              "solidity": 0.2
             }
            },
            "type": "barpolar"
           }
          ],
          "carpet": [
           {
            "aaxis": {
             "endlinecolor": "#2a3f5f",
             "gridcolor": "white",
             "linecolor": "white",
             "minorgridcolor": "white",
             "startlinecolor": "#2a3f5f"
            },
            "baxis": {
             "endlinecolor": "#2a3f5f",
             "gridcolor": "white",
             "linecolor": "white",
             "minorgridcolor": "white",
             "startlinecolor": "#2a3f5f"
            },
            "type": "carpet"
           }
          ],
          "choropleth": [
           {
            "colorbar": {
             "outlinewidth": 0,
             "ticks": ""
            },
            "type": "choropleth"
           }
          ],
          "contour": [
           {
            "colorbar": {
             "outlinewidth": 0,
             "ticks": ""
            },
            "colorscale": [
             [
              0,
              "#0d0887"
             ],
             [
              0.1111111111111111,
              "#46039f"
             ],
             [
              0.2222222222222222,
              "#7201a8"
             ],
             [
              0.3333333333333333,
              "#9c179e"
             ],
             [
              0.4444444444444444,
              "#bd3786"
             ],
             [
              0.5555555555555556,
              "#d8576b"
             ],
             [
              0.6666666666666666,
              "#ed7953"
             ],
             [
              0.7777777777777778,
              "#fb9f3a"
             ],
             [
              0.8888888888888888,
              "#fdca26"
             ],
             [
              1,
              "#f0f921"
             ]
            ],
            "type": "contour"
           }
          ],
          "contourcarpet": [
           {
            "colorbar": {
             "outlinewidth": 0,
             "ticks": ""
            },
            "type": "contourcarpet"
           }
          ],
          "heatmap": [
           {
            "colorbar": {
             "outlinewidth": 0,
             "ticks": ""
            },
            "colorscale": [
             [
              0,
              "#0d0887"
             ],
             [
              0.1111111111111111,
              "#46039f"
             ],
             [
              0.2222222222222222,
              "#7201a8"
             ],
             [
              0.3333333333333333,
              "#9c179e"
             ],
             [
              0.4444444444444444,
              "#bd3786"
             ],
             [
              0.5555555555555556,
              "#d8576b"
             ],
             [
              0.6666666666666666,
              "#ed7953"
             ],
             [
              0.7777777777777778,
              "#fb9f3a"
             ],
             [
              0.8888888888888888,
              "#fdca26"
             ],
             [
              1,
              "#f0f921"
             ]
            ],
            "type": "heatmap"
           }
          ],
          "heatmapgl": [
           {
            "colorbar": {
             "outlinewidth": 0,
             "ticks": ""
            },
            "colorscale": [
             [
              0,
              "#0d0887"
             ],
             [
              0.1111111111111111,
              "#46039f"
             ],
             [
              0.2222222222222222,
              "#7201a8"
             ],
             [
              0.3333333333333333,
              "#9c179e"
             ],
             [
              0.4444444444444444,
              "#bd3786"
             ],
             [
              0.5555555555555556,
              "#d8576b"
             ],
             [
              0.6666666666666666,
              "#ed7953"
             ],
             [
              0.7777777777777778,
              "#fb9f3a"
             ],
             [
              0.8888888888888888,
              "#fdca26"
             ],
             [
              1,
              "#f0f921"
             ]
            ],
            "type": "heatmapgl"
           }
          ],
          "histogram": [
           {
            "marker": {
             "pattern": {
              "fillmode": "overlay",
              "size": 10,
              "solidity": 0.2
             }
            },
            "type": "histogram"
           }
          ],
          "histogram2d": [
           {
            "colorbar": {
             "outlinewidth": 0,
             "ticks": ""
            },
            "colorscale": [
             [
              0,
              "#0d0887"
             ],
             [
              0.1111111111111111,
              "#46039f"
             ],
             [
              0.2222222222222222,
              "#7201a8"
             ],
             [
              0.3333333333333333,
              "#9c179e"
             ],
             [
              0.4444444444444444,
              "#bd3786"
             ],
             [
              0.5555555555555556,
              "#d8576b"
             ],
             [
              0.6666666666666666,
              "#ed7953"
             ],
             [
              0.7777777777777778,
              "#fb9f3a"
             ],
             [
              0.8888888888888888,
              "#fdca26"
             ],
             [
              1,
              "#f0f921"
             ]
            ],
            "type": "histogram2d"
           }
          ],
          "histogram2dcontour": [
           {
            "colorbar": {
             "outlinewidth": 0,
             "ticks": ""
            },
            "colorscale": [
             [
              0,
              "#0d0887"
             ],
             [
              0.1111111111111111,
              "#46039f"
             ],
             [
              0.2222222222222222,
              "#7201a8"
             ],
             [
              0.3333333333333333,
              "#9c179e"
             ],
             [
              0.4444444444444444,
              "#bd3786"
             ],
             [
              0.5555555555555556,
              "#d8576b"
             ],
             [
              0.6666666666666666,
              "#ed7953"
             ],
             [
              0.7777777777777778,
              "#fb9f3a"
             ],
             [
              0.8888888888888888,
              "#fdca26"
             ],
             [
              1,
              "#f0f921"
             ]
            ],
            "type": "histogram2dcontour"
           }
          ],
          "mesh3d": [
           {
            "colorbar": {
             "outlinewidth": 0,
             "ticks": ""
            },
            "type": "mesh3d"
           }
          ],
          "parcoords": [
           {
            "line": {
             "colorbar": {
              "outlinewidth": 0,
              "ticks": ""
             }
            },
            "type": "parcoords"
           }
          ],
          "pie": [
           {
            "automargin": true,
            "type": "pie"
           }
          ],
          "scatter": [
           {
            "fillpattern": {
             "fillmode": "overlay",
             "size": 10,
             "solidity": 0.2
            },
            "type": "scatter"
           }
          ],
          "scatter3d": [
           {
            "line": {
             "colorbar": {
              "outlinewidth": 0,
              "ticks": ""
             }
            },
            "marker": {
             "colorbar": {
              "outlinewidth": 0,
              "ticks": ""
             }
            },
            "type": "scatter3d"
           }
          ],
          "scattercarpet": [
           {
            "marker": {
             "colorbar": {
              "outlinewidth": 0,
              "ticks": ""
             }
            },
            "type": "scattercarpet"
           }
          ],
          "scattergeo": [
           {
            "marker": {
             "colorbar": {
              "outlinewidth": 0,
              "ticks": ""
             }
            },
            "type": "scattergeo"
           }
          ],
          "scattergl": [
           {
            "marker": {
             "colorbar": {
              "outlinewidth": 0,
              "ticks": ""
             }
            },
            "type": "scattergl"
           }
          ],
          "scattermapbox": [
           {
            "marker": {
             "colorbar": {
              "outlinewidth": 0,
              "ticks": ""
             }
            },
            "type": "scattermapbox"
           }
          ],
          "scatterpolar": [
           {
            "marker": {
             "colorbar": {
              "outlinewidth": 0,
              "ticks": ""
             }
            },
            "type": "scatterpolar"
           }
          ],
          "scatterpolargl": [
           {
            "marker": {
             "colorbar": {
              "outlinewidth": 0,
              "ticks": ""
             }
            },
            "type": "scatterpolargl"
           }
          ],
          "scatterternary": [
           {
            "marker": {
             "colorbar": {
              "outlinewidth": 0,
              "ticks": ""
             }
            },
            "type": "scatterternary"
           }
          ],
          "surface": [
           {
            "colorbar": {
             "outlinewidth": 0,
             "ticks": ""
            },
            "colorscale": [
             [
              0,
              "#0d0887"
             ],
             [
              0.1111111111111111,
              "#46039f"
             ],
             [
              0.2222222222222222,
              "#7201a8"
             ],
             [
              0.3333333333333333,
              "#9c179e"
             ],
             [
              0.4444444444444444,
              "#bd3786"
             ],
             [
              0.5555555555555556,
              "#d8576b"
             ],
             [
              0.6666666666666666,
              "#ed7953"
             ],
             [
              0.7777777777777778,
              "#fb9f3a"
             ],
             [
              0.8888888888888888,
              "#fdca26"
             ],
             [
              1,
              "#f0f921"
             ]
            ],
            "type": "surface"
           }
          ],
          "table": [
           {
            "cells": {
             "fill": {
              "color": "#EBF0F8"
             },
             "line": {
              "color": "white"
             }
            },
            "header": {
             "fill": {
              "color": "#C8D4E3"
             },
             "line": {
              "color": "white"
             }
            },
            "type": "table"
           }
          ]
         },
         "layout": {
          "annotationdefaults": {
           "arrowcolor": "#2a3f5f",
           "arrowhead": 0,
           "arrowwidth": 1
          },
          "autotypenumbers": "strict",
          "coloraxis": {
           "colorbar": {
            "outlinewidth": 0,
            "ticks": ""
           }
          },
          "colorscale": {
           "diverging": [
            [
             0,
             "#8e0152"
            ],
            [
             0.1,
             "#c51b7d"
            ],
            [
             0.2,
             "#de77ae"
            ],
            [
             0.3,
             "#f1b6da"
            ],
            [
             0.4,
             "#fde0ef"
            ],
            [
             0.5,
             "#f7f7f7"
            ],
            [
             0.6,
             "#e6f5d0"
            ],
            [
             0.7,
             "#b8e186"
            ],
            [
             0.8,
             "#7fbc41"
            ],
            [
             0.9,
             "#4d9221"
            ],
            [
             1,
             "#276419"
            ]
           ],
           "sequential": [
            [
             0,
             "#0d0887"
            ],
            [
             0.1111111111111111,
             "#46039f"
            ],
            [
             0.2222222222222222,
             "#7201a8"
            ],
            [
             0.3333333333333333,
             "#9c179e"
            ],
            [
             0.4444444444444444,
             "#bd3786"
            ],
            [
             0.5555555555555556,
             "#d8576b"
            ],
            [
             0.6666666666666666,
             "#ed7953"
            ],
            [
             0.7777777777777778,
             "#fb9f3a"
            ],
            [
             0.8888888888888888,
             "#fdca26"
            ],
            [
             1,
             "#f0f921"
            ]
           ],
           "sequentialminus": [
            [
             0,
             "#0d0887"
            ],
            [
             0.1111111111111111,
             "#46039f"
            ],
            [
             0.2222222222222222,
             "#7201a8"
            ],
            [
             0.3333333333333333,
             "#9c179e"
            ],
            [
             0.4444444444444444,
             "#bd3786"
            ],
            [
             0.5555555555555556,
             "#d8576b"
            ],
            [
             0.6666666666666666,
             "#ed7953"
            ],
            [
             0.7777777777777778,
             "#fb9f3a"
            ],
            [
             0.8888888888888888,
             "#fdca26"
            ],
            [
             1,
             "#f0f921"
            ]
           ]
          },
          "colorway": [
           "#636efa",
           "#EF553B",
           "#00cc96",
           "#ab63fa",
           "#FFA15A",
           "#19d3f3",
           "#FF6692",
           "#B6E880",
           "#FF97FF",
           "#FECB52"
          ],
          "font": {
           "color": "#2a3f5f"
          },
          "geo": {
           "bgcolor": "white",
           "lakecolor": "white",
           "landcolor": "#E5ECF6",
           "showlakes": true,
           "showland": true,
           "subunitcolor": "white"
          },
          "hoverlabel": {
           "align": "left"
          },
          "hovermode": "closest",
          "mapbox": {
           "style": "light"
          },
          "paper_bgcolor": "white",
          "plot_bgcolor": "#E5ECF6",
          "polar": {
           "angularaxis": {
            "gridcolor": "white",
            "linecolor": "white",
            "ticks": ""
           },
           "bgcolor": "#E5ECF6",
           "radialaxis": {
            "gridcolor": "white",
            "linecolor": "white",
            "ticks": ""
           }
          },
          "scene": {
           "xaxis": {
            "backgroundcolor": "#E5ECF6",
            "gridcolor": "white",
            "gridwidth": 2,
            "linecolor": "white",
            "showbackground": true,
            "ticks": "",
            "zerolinecolor": "white"
           },
           "yaxis": {
            "backgroundcolor": "#E5ECF6",
            "gridcolor": "white",
            "gridwidth": 2,
            "linecolor": "white",
            "showbackground": true,
            "ticks": "",
            "zerolinecolor": "white"
           },
           "zaxis": {
            "backgroundcolor": "#E5ECF6",
            "gridcolor": "white",
            "gridwidth": 2,
            "linecolor": "white",
            "showbackground": true,
            "ticks": "",
            "zerolinecolor": "white"
           }
          },
          "shapedefaults": {
           "line": {
            "color": "#2a3f5f"
           }
          },
          "ternary": {
           "aaxis": {
            "gridcolor": "white",
            "linecolor": "white",
            "ticks": ""
           },
           "baxis": {
            "gridcolor": "white",
            "linecolor": "white",
            "ticks": ""
           },
           "bgcolor": "#E5ECF6",
           "caxis": {
            "gridcolor": "white",
            "linecolor": "white",
            "ticks": ""
           }
          },
          "title": {
           "x": 0.05
          },
          "xaxis": {
           "automargin": true,
           "gridcolor": "white",
           "linecolor": "white",
           "ticks": "",
           "title": {
            "standoff": 15
           },
           "zerolinecolor": "white",
           "zerolinewidth": 2
          },
          "yaxis": {
           "automargin": true,
           "gridcolor": "white",
           "linecolor": "white",
           "ticks": "",
           "title": {
            "standoff": 15
           },
           "zerolinecolor": "white",
           "zerolinewidth": 2
          }
         }
        },
        "title": {
         "text": "3D Movie Similarity Visualization"
        }
       }
      }
     },
     "metadata": {},
     "output_type": "display_data"
    }
   ],
   "source": [
    "import numpy as np\n",
    "import networkx as nx\n",
    "import plotly.graph_objects as go\n",
    "from sklearn.manifold import MDS\n",
    "\n",
    "def create_3d_visualization(movies, similarities, movie_names=None):\n",
    "    \"\"\"\n",
    "    Create a 3D visualization of movie similarities using MDS for dimensionality reduction\n",
    "    \n",
    "    Parameters:\n",
    "    movies: list of movie IDs\n",
    "    similarities: numpy array of similarity scores between movies\n",
    "    movie_names: optional dictionary mapping movie IDs to readable names\n",
    "    \"\"\"\n",
    "    # Convert similarities to distances (higher similarity = lower distance)\n",
    "    distances = 1 - similarities\n",
    "    \n",
    "    # Use MDS to convert distances to 3D coordinates\n",
    "    mds = MDS(n_components=3, dissimilarity='precomputed', random_state=42)\n",
    "    coords_3d = mds.fit_transform(distances)\n",
    "    \n",
    "    # Create edges between movies that are similar enough (you can adjust the threshold)\n",
    "    threshold = np.percentile(similarities, 75)  # Top 25% of similarities\n",
    "    edges = []\n",
    "    edge_weights = []\n",
    "    \n",
    "    for i in range(len(movies)):\n",
    "        for j in range(i+1, len(movies)):\n",
    "            if similarities[i,j] > threshold:\n",
    "                edges.append((i, j))\n",
    "                edge_weights.append(similarities[i,j])\n",
    "    \n",
    "    # Create the 3D visualization using Plotly\n",
    "    edge_trace = go.Scatter3d(\n",
    "        x=[], y=[], z=[],\n",
    "        line=dict(width=1, color='rgb(200,200,200)'),\n",
    "        hoverinfo='none',\n",
    "        mode='lines'\n",
    "    )\n",
    "    \n",
    "    # Add edges to the visualization\n",
    "    for edge in edges:\n",
    "        x0, y0, z0 = coords_3d[edge[0]]\n",
    "        x1, y1, z1 = coords_3d[edge[1]]\n",
    "        edge_trace['x'] += (x0, x1, None)\n",
    "        edge_trace['y'] += (y0, y1, None)\n",
    "        edge_trace['z'] += (z0, z1, None)\n",
    "    \n",
    "    # Create nodes\n",
    "    node_trace = go.Scatter3d(\n",
    "        x=coords_3d[:,0],\n",
    "        y=coords_3d[:,1],\n",
    "        z=coords_3d[:,2],\n",
    "        mode='markers+text',\n",
    "        marker=dict(\n",
    "            size=10,\n",
    "            color='rgb(255, 127, 14)',\n",
    "            line=dict(width=1, color='rgb(50,50,50)')\n",
    "        ),\n",
    "        text=[movie_names.get(movie_id, movie_id) if movie_names else movie_id for movie_id in movies],\n",
    "        hoverinfo='text'\n",
    "    )\n",
    "    \n",
    "    # Create the figure\n",
    "    fig = go.Figure(data=[edge_trace, node_trace])\n",
    "    \n",
    "    # Update layout\n",
    "    fig.update_layout(\n",
    "        title='3D Movie Similarity Visualization',\n",
    "        showlegend=False,\n",
    "        scene=dict(\n",
    "            xaxis=dict(showticklabels=False),\n",
    "            yaxis=dict(showticklabels=False),\n",
    "            zaxis=dict(showticklabels=False)\n",
    "        ),\n",
    "        margin=dict(l=0, r=0, t=40, b=0)\n",
    "    )\n",
    "    \n",
    "    return fig\n",
    "\n",
    "# Create similarity matrix from your recommend_SAE function\n",
    "# This is just an example - you'll need to adapt this to your actual data\n",
    "n_movies = len(movies)\n",
    "similarities = np.zeros((n_movies, n_movies))\n",
    "for i, movie1 in enumerate(movies):\n",
    "    rec, sim = recommend_SAE([movie1], movies, return_similarities=True)\n",
    "    similarities[i] = sim\n",
    "    similarities[i][i] = 0.0\n",
    "\n",
    "\n",
    "# Create and show the visualization\n",
    "fig = create_3d_visualization(movies, similarities, movie_names)\n",
    "fig.show()"
   ]
  },
  {
   "cell_type": "code",
   "execution_count": 94,
   "metadata": {},
   "outputs": [
    {
     "name": "stdout",
     "output_type": "stream",
     "text": [
      "Sample of the generated JSON:\n",
      "\n",
      "First 2 nodes:\n",
      "[\n",
      "  {\n",
      "    \"id\": \"tt1119646\",\n",
      "    \"name\": \"The Hangover\",\n",
      "    \"group\": 1,\n",
      "    \"x\": -0.42934324271585556,\n",
      "    \"y\": 0.0486620362777406,\n",
      "    \"z\": -0.1693967812764746\n",
      "  },\n",
      "  {\n",
      "    \"id\": \"tt0892769\",\n",
      "    \"name\": \"How to Train Your Dragon\",\n",
      "    \"group\": 1,\n",
      "    \"x\": -0.26008028988181264,\n",
      "    \"y\": -0.1362499910951961,\n",
      "    \"z\": -0.24641066830352898\n",
      "  }\n",
      "]\n",
      "\n",
      "First 2 links:\n",
      "[\n",
      "  {\n",
      "    \"source\": \"tt1119646\",\n",
      "    \"target\": \"tt0892769\",\n",
      "    \"value\": 0.7814019322395325\n",
      "  },\n",
      "  {\n",
      "    \"source\": \"tt1119646\",\n",
      "    \"target\": \"tt0371746\",\n",
      "    \"value\": 0.7243795394897461\n",
      "  }\n",
      "]\n"
     ]
    }
   ],
   "source": [
    "distances = 1 - similarities\n",
    "\n",
    "# Use MDS to convert distances to 3D coordinates\n",
    "mds = MDS(n_components=3, dissimilarity='precomputed', random_state=42)\n",
    "coords_3d = mds.fit_transform(distances)\n",
    "\n",
    "# Create edges between movies that are similar enough\n",
    "threshold = np.percentile(similarities, 75)  # Top 25% of similarities\n",
    "links = []\n",
    "for i in range(len(movies)):\n",
    "    for j in range(i+1, len(movies)):\n",
    "        if similarities[i,j] > threshold:\n",
    "            links.append({\n",
    "                \"source\": movies[i],\n",
    "                \"target\": movies[j],\n",
    "                \"value\": float(similarities[i,j])  # Convert to float for JSON serialization\n",
    "            })\n",
    "\n",
    "# Create nodes with names and coordinates\n",
    "nodes = []\n",
    "for i, movie_id in enumerate(movies):\n",
    "    nodes.append({\n",
    "        \"id\": movie_id,\n",
    "        \"name\": movie_names.get(movie_id, movie_id),\n",
    "        \"group\": 1,  # You can modify this if you want to group movies\n",
    "        \"x\": float(coords_3d[i,0]),\n",
    "        \"y\": float(coords_3d[i,1]),\n",
    "        \"z\": float(coords_3d[i,2])\n",
    "    })\n",
    "\n",
    "# Create the final graph data structure\n",
    "graph_data = {\n",
    "    \"nodes\": nodes,\n",
    "    \"links\": links\n",
    "}\n",
    "\n",
    "# Save to JSON file\n",
    "with open('graph-data.json', 'w') as f:\n",
    "    json.dump(graph_data, f, indent=2)\n",
    "\n",
    "# Print first few nodes and links as a sample\n",
    "print(\"Sample of the generated JSON:\")\n",
    "print(\"\\nFirst 2 nodes:\")\n",
    "print(json.dumps(graph_data[\"nodes\"][:2], indent=2))\n",
    "print(\"\\nFirst 2 links:\")\n",
    "print(json.dumps(graph_data[\"links\"][:2], indent=2))"
   ]
  },
  {
   "cell_type": "code",
   "execution_count": 91,
   "metadata": {},
   "outputs": [
    {
     "name": "stdout",
     "output_type": "stream",
     "text": [
      "\n",
      "[The Hangover] : [How to Train Your Dragon | Iron Man]\n",
      "\n",
      "[How to Train Your Dragon] : [The Hangover | Iron Man | A Cat in Paris | Ponyo]\n",
      "\n",
      "[Iron Man] : [How to Train Your Dragon | The Hangover | District B13]\n",
      "\n",
      "[Survive Style 5+] : [The Intouchables | A Cat in Paris | Ponyo]\n",
      "\n",
      "[Ponyo] : [A Cat in Paris | 13 Assassins | District B13 | Survive Style 5+ | The Intouchables]\n",
      "\n",
      "[13 Assassins] : [District B13 | Ponyo]\n",
      "\n",
      "[The Intouchables] : [Survive Style 5+ | A Cat in Paris | Ponyo]\n",
      "\n",
      "[A Cat in Paris] : [Ponyo | The Intouchables | District B13 | Survive Style 5+ | How to Train Your Dragon]\n",
      "\n",
      "[District B13] : [13 Assassins | A Cat in Paris | Iron Man | Ponyo]\n",
      "\n",
      "[The Hangover + How to Train Your Dragon] : [Iron Man]\n",
      "\n",
      "[The Hangover + Iron Man] : [How to Train Your Dragon]\n",
      "\n",
      "[The Hangover + Survive Style 5+] : [Iron Man | How to Train Your Dragon | The Intouchables]\n",
      "\n",
      "[The Hangover + Ponyo] : [How to Train Your Dragon | A Cat in Paris]\n",
      "\n",
      "[The Hangover + 13 Assassins] : [Iron Man | District B13 | How to Train Your Dragon]\n",
      "\n",
      "[The Hangover + The Intouchables] : [How to Train Your Dragon | Survive Style 5+]\n",
      "\n",
      "[The Hangover + A Cat in Paris] : [How to Train Your Dragon | Iron Man | The Intouchables]\n",
      "\n",
      "[The Hangover + District B13] : [Iron Man | How to Train Your Dragon | 13 Assassins]\n",
      "\n",
      "[How to Train Your Dragon + Iron Man] : [The Hangover]\n",
      "\n",
      "[How to Train Your Dragon + Survive Style 5+] : [Iron Man | The Hangover | A Cat in Paris | Ponyo]\n",
      "\n",
      "[How to Train Your Dragon + Ponyo] : [A Cat in Paris | Iron Man]\n",
      "\n",
      "[How to Train Your Dragon + 13 Assassins] : [Iron Man | District B13 | Ponyo | A Cat in Paris]\n",
      "\n",
      "[How to Train Your Dragon + The Intouchables] : [The Hangover | A Cat in Paris | Ponyo]\n",
      "\n",
      "[How to Train Your Dragon + A Cat in Paris] : [Ponyo | The Hangover | Iron Man]\n",
      "\n",
      "[How to Train Your Dragon + District B13] : [Iron Man | 13 Assassins | A Cat in Paris | Ponyo]\n",
      "\n",
      "[Iron Man + Survive Style 5+] : [The Hangover | How to Train Your Dragon | District B13]\n",
      "\n",
      "[Iron Man + Ponyo] : [How to Train Your Dragon | 13 Assassins | District B13 | A Cat in Paris]\n",
      "\n",
      "[Iron Man + 13 Assassins] : [District B13 | How to Train Your Dragon]\n",
      "\n",
      "[Iron Man + The Intouchables] : [The Hangover | How to Train Your Dragon | Survive Style 5+]\n",
      "\n",
      "[Iron Man + A Cat in Paris] : [How to Train Your Dragon | District B13 | The Hangover | Survive Style 5+ | Ponyo]\n",
      "\n",
      "[Iron Man + District B13] : [13 Assassins | How to Train Your Dragon]\n",
      "\n",
      "[Survive Style 5+ + Ponyo] : [A Cat in Paris | The Intouchables | 13 Assassins | District B13]\n",
      "\n",
      "[Survive Style 5+ + 13 Assassins] : [District B13 | Ponyo | A Cat in Paris | The Intouchables]\n",
      "\n",
      "[Survive Style 5+ + The Intouchables] : [A Cat in Paris | Ponyo]\n",
      "\n",
      "[Survive Style 5+ + A Cat in Paris] : [Ponyo | The Intouchables | District B13]\n",
      "\n",
      "[Survive Style 5+ + District B13] : [13 Assassins | A Cat in Paris | Ponyo]\n",
      "\n",
      "[Ponyo + 13 Assassins] : [District B13 | A Cat in Paris]\n",
      "\n",
      "[Ponyo + The Intouchables] : [A Cat in Paris | Survive Style 5+ | 13 Assassins]\n",
      "\n",
      "[Ponyo + A Cat in Paris] : [District B13 | Survive Style 5+ | 13 Assassins | The Intouchables | How to Train Your Dragon]\n",
      "\n",
      "[Ponyo + District B13] : [13 Assassins | A Cat in Paris | Survive Style 5+]\n",
      "\n",
      "[13 Assassins + The Intouchables] : [District B13 | Ponyo | A Cat in Paris | Survive Style 5+]\n",
      "\n",
      "[13 Assassins + A Cat in Paris] : [District B13 | Ponyo | The Intouchables | Survive Style 5+]\n",
      "\n",
      "[13 Assassins + District B13] : [Ponyo | A Cat in Paris | Iron Man]\n",
      "\n",
      "[The Intouchables + A Cat in Paris] : [Ponyo | Survive Style 5+]\n",
      "\n",
      "[The Intouchables + District B13] : [13 Assassins | A Cat in Paris | Ponyo | Survive Style 5+]\n",
      "\n",
      "[A Cat in Paris + District B13] : [13 Assassins | Ponyo | Survive Style 5+]\n",
      "\n",
      "[The Hangover + How to Train Your Dragon + Iron Man] : []\n",
      "\n",
      "[The Hangover + How to Train Your Dragon + Survive Style 5+] : [Iron Man | A Cat in Paris]\n",
      "\n",
      "[The Hangover + How to Train Your Dragon + Ponyo] : [Iron Man | A Cat in Paris]\n",
      "\n",
      "[The Hangover + How to Train Your Dragon + 13 Assassins] : [Iron Man]\n",
      "\n",
      "[The Hangover + How to Train Your Dragon + The Intouchables] : [Iron Man | A Cat in Paris]\n",
      "\n",
      "[The Hangover + How to Train Your Dragon + A Cat in Paris] : [Iron Man]\n",
      "\n",
      "[The Hangover + How to Train Your Dragon + District B13] : [Iron Man | A Cat in Paris]\n",
      "\n",
      "[The Hangover + Iron Man + Survive Style 5+] : [How to Train Your Dragon]\n",
      "\n",
      "[The Hangover + Iron Man + Ponyo] : [How to Train Your Dragon]\n",
      "\n",
      "[The Hangover + Iron Man + 13 Assassins] : [How to Train Your Dragon | District B13]\n",
      "\n",
      "[The Hangover + Iron Man + The Intouchables] : [How to Train Your Dragon]\n",
      "\n",
      "[The Hangover + Iron Man + A Cat in Paris] : [How to Train Your Dragon]\n",
      "\n",
      "[The Hangover + Iron Man + District B13] : [How to Train Your Dragon | 13 Assassins]\n",
      "\n",
      "[The Hangover + Survive Style 5+ + Ponyo] : [A Cat in Paris | How to Train Your Dragon | The Intouchables]\n",
      "\n",
      "[The Hangover + Survive Style 5+ + 13 Assassins] : [Iron Man | District B13]\n",
      "\n",
      "[The Hangover + Survive Style 5+ + The Intouchables] : [A Cat in Paris]\n",
      "\n",
      "[The Hangover + Survive Style 5+ + A Cat in Paris] : [How to Train Your Dragon | The Intouchables | Iron Man]\n",
      "\n",
      "[The Hangover + Survive Style 5+ + District B13] : [Iron Man | A Cat in Paris]\n",
      "\n",
      "[The Hangover + Ponyo + 13 Assassins] : [District B13 | A Cat in Paris | How to Train Your Dragon]\n",
      "\n",
      "[The Hangover + Ponyo + The Intouchables] : [A Cat in Paris | How to Train Your Dragon | Survive Style 5+]\n",
      "\n",
      "[The Hangover + Ponyo + A Cat in Paris] : [How to Train Your Dragon | The Intouchables | Survive Style 5+]\n",
      "\n",
      "[The Hangover + Ponyo + District B13] : [A Cat in Paris | 13 Assassins | How to Train Your Dragon | Iron Man]\n",
      "\n",
      "[The Hangover + 13 Assassins + The Intouchables] : []\n",
      "\n",
      "[The Hangover + 13 Assassins + A Cat in Paris] : [District B13 | How to Train Your Dragon | Ponyo | Iron Man]\n",
      "\n",
      "[The Hangover + 13 Assassins + District B13] : [Iron Man]\n",
      "\n",
      "[The Hangover + The Intouchables + A Cat in Paris] : [How to Train Your Dragon | Survive Style 5+]\n",
      "\n",
      "[The Hangover + The Intouchables + District B13] : [A Cat in Paris]\n",
      "\n",
      "[The Hangover + A Cat in Paris + District B13] : [Iron Man | How to Train Your Dragon | 13 Assassins]\n",
      "\n",
      "[How to Train Your Dragon + Iron Man + Survive Style 5+] : [The Hangover]\n",
      "\n",
      "[How to Train Your Dragon + Iron Man + Ponyo] : [The Hangover | A Cat in Paris]\n",
      "\n",
      "[How to Train Your Dragon + Iron Man + 13 Assassins] : [District B13 | The Hangover]\n",
      "\n",
      "[How to Train Your Dragon + Iron Man + The Intouchables] : [The Hangover]\n",
      "\n",
      "[How to Train Your Dragon + Iron Man + A Cat in Paris] : [The Hangover | Ponyo]\n",
      "\n",
      "[How to Train Your Dragon + Iron Man + District B13] : [13 Assassins | The Hangover]\n",
      "\n",
      "[How to Train Your Dragon + Survive Style 5+ + Ponyo] : [A Cat in Paris]\n",
      "\n",
      "[How to Train Your Dragon + Survive Style 5+ + 13 Assassins] : [Iron Man | Ponyo | District B13 | A Cat in Paris]\n",
      "\n",
      "[How to Train Your Dragon + Survive Style 5+ + The Intouchables] : [A Cat in Paris | The Hangover | Ponyo]\n",
      "\n",
      "[How to Train Your Dragon + Survive Style 5+ + A Cat in Paris] : [Ponyo | The Hangover | Iron Man]\n",
      "\n",
      "[How to Train Your Dragon + Survive Style 5+ + District B13] : [Iron Man | A Cat in Paris | 13 Assassins | Ponyo]\n",
      "\n",
      "[How to Train Your Dragon + Ponyo + 13 Assassins] : [A Cat in Paris | District B13 | Iron Man]\n",
      "\n",
      "[How to Train Your Dragon + Ponyo + The Intouchables] : [A Cat in Paris]\n",
      "\n",
      "[How to Train Your Dragon + Ponyo + A Cat in Paris] : []\n",
      "\n",
      "[How to Train Your Dragon + Ponyo + District B13] : [A Cat in Paris | 13 Assassins | Iron Man]\n",
      "\n",
      "[How to Train Your Dragon + 13 Assassins + The Intouchables] : [Ponyo | A Cat in Paris | District B13]\n",
      "\n",
      "[How to Train Your Dragon + 13 Assassins + A Cat in Paris] : [Ponyo | District B13 | Iron Man]\n",
      "\n",
      "[How to Train Your Dragon + 13 Assassins + District B13] : [Iron Man | Ponyo | A Cat in Paris]\n",
      "\n",
      "[How to Train Your Dragon + The Intouchables + A Cat in Paris] : [Ponyo | The Hangover | Survive Style 5+]\n",
      "\n",
      "[How to Train Your Dragon + The Intouchables + District B13] : [A Cat in Paris | 13 Assassins | Ponyo | Iron Man]\n",
      "\n",
      "[How to Train Your Dragon + A Cat in Paris + District B13] : [Ponyo | Iron Man | 13 Assassins]\n",
      "\n",
      "[Iron Man + Survive Style 5+ + Ponyo] : [A Cat in Paris | How to Train Your Dragon | 13 Assassins | District B13]\n",
      "\n",
      "[Iron Man + Survive Style 5+ + 13 Assassins] : [District B13]\n",
      "\n",
      "[Iron Man + Survive Style 5+ + The Intouchables] : [The Hangover | A Cat in Paris]\n",
      "\n",
      "[Iron Man + Survive Style 5+ + A Cat in Paris] : [How to Train Your Dragon | District B13 | Ponyo | The Hangover]\n",
      "\n",
      "[Iron Man + Survive Style 5+ + District B13] : [13 Assassins | A Cat in Paris]\n",
      "\n",
      "[Iron Man + Ponyo + 13 Assassins] : [District B13 | A Cat in Paris | How to Train Your Dragon]\n",
      "\n",
      "[Iron Man + Ponyo + The Intouchables] : [A Cat in Paris | 13 Assassins | Survive Style 5+ | How to Train Your Dragon]\n",
      "\n",
      "[Iron Man + Ponyo + A Cat in Paris] : [How to Train Your Dragon | District B13 | 13 Assassins | Survive Style 5+]\n",
      "\n",
      "[Iron Man + Ponyo + District B13] : [13 Assassins | A Cat in Paris | How to Train Your Dragon]\n",
      "\n",
      "[Iron Man + 13 Assassins + The Intouchables] : [District B13]\n",
      "\n",
      "[Iron Man + 13 Assassins + A Cat in Paris] : [District B13 | Ponyo | How to Train Your Dragon]\n",
      "\n",
      "[Iron Man + 13 Assassins + District B13] : []\n",
      "\n",
      "[Iron Man + The Intouchables + A Cat in Paris] : [Survive Style 5+ | How to Train Your Dragon | The Hangover | Ponyo]\n",
      "\n",
      "[Iron Man + The Intouchables + District B13] : [13 Assassins | A Cat in Paris]\n",
      "\n",
      "[Iron Man + A Cat in Paris + District B13] : [13 Assassins | How to Train Your Dragon | Ponyo]\n",
      "\n",
      "[Survive Style 5+ + Ponyo + 13 Assassins] : [District B13 | A Cat in Paris | The Intouchables]\n",
      "\n",
      "[Survive Style 5+ + Ponyo + The Intouchables] : [A Cat in Paris | 13 Assassins]\n",
      "\n",
      "[Survive Style 5+ + Ponyo + A Cat in Paris] : [The Intouchables | District B13 | 13 Assassins]\n",
      "\n",
      "[Survive Style 5+ + Ponyo + District B13] : [13 Assassins | A Cat in Paris]\n",
      "\n",
      "[Survive Style 5+ + 13 Assassins + The Intouchables] : [District B13 | Ponyo | A Cat in Paris]\n",
      "\n",
      "[Survive Style 5+ + 13 Assassins + A Cat in Paris] : [District B13 | Ponyo | The Intouchables]\n",
      "\n",
      "[Survive Style 5+ + 13 Assassins + District B13] : [Ponyo | A Cat in Paris]\n",
      "\n",
      "[Survive Style 5+ + The Intouchables + A Cat in Paris] : [Ponyo]\n",
      "\n",
      "[Survive Style 5+ + The Intouchables + District B13] : [13 Assassins | A Cat in Paris | Ponyo]\n",
      "\n",
      "[Survive Style 5+ + A Cat in Paris + District B13] : [13 Assassins | Ponyo | The Intouchables]\n",
      "\n",
      "[Ponyo + 13 Assassins + The Intouchables] : [District B13 | A Cat in Paris | Survive Style 5+]\n",
      "\n",
      "[Ponyo + 13 Assassins + A Cat in Paris] : [District B13 | Survive Style 5+ | The Intouchables]\n",
      "\n",
      "[Ponyo + 13 Assassins + District B13] : [A Cat in Paris]\n",
      "\n",
      "[Ponyo + The Intouchables + A Cat in Paris] : [Survive Style 5+ | 13 Assassins]\n",
      "\n",
      "[Ponyo + The Intouchables + District B13] : [13 Assassins | A Cat in Paris | Survive Style 5+]\n",
      "\n",
      "[Ponyo + A Cat in Paris + District B13] : [13 Assassins | Survive Style 5+]\n",
      "\n",
      "[13 Assassins + The Intouchables + A Cat in Paris] : [Ponyo | District B13 | Survive Style 5+]\n",
      "\n",
      "[13 Assassins + The Intouchables + District B13] : [Ponyo | A Cat in Paris]\n",
      "\n",
      "[13 Assassins + A Cat in Paris + District B13] : [Ponyo]\n",
      "\n",
      "[The Intouchables + A Cat in Paris + District B13] : [13 Assassins | Ponyo | Survive Style 5+]\n",
      "\n",
      "[The Hangover + How to Train Your Dragon + Iron Man + Survive Style 5+] : []\n",
      "\n",
      "[The Hangover + How to Train Your Dragon + Iron Man + Ponyo] : [A Cat in Paris]\n",
      "\n",
      "[The Hangover + How to Train Your Dragon + Iron Man + 13 Assassins] : []\n",
      "\n",
      "[The Hangover + How to Train Your Dragon + Iron Man + The Intouchables] : []\n",
      "\n",
      "[The Hangover + How to Train Your Dragon + Iron Man + A Cat in Paris] : []\n",
      "\n",
      "[The Hangover + How to Train Your Dragon + Iron Man + District B13] : []\n",
      "\n",
      "[The Hangover + How to Train Your Dragon + Survive Style 5+ + Ponyo] : [A Cat in Paris | Iron Man]\n",
      "\n",
      "[The Hangover + How to Train Your Dragon + Survive Style 5+ + 13 Assassins] : [Iron Man]\n",
      "\n",
      "[The Hangover + How to Train Your Dragon + Survive Style 5+ + The Intouchables] : [Iron Man | A Cat in Paris]\n",
      "\n",
      "[The Hangover + How to Train Your Dragon + Survive Style 5+ + A Cat in Paris] : [Iron Man]\n",
      "\n",
      "[The Hangover + How to Train Your Dragon + Survive Style 5+ + District B13] : [Iron Man | A Cat in Paris]\n",
      "\n",
      "[The Hangover + How to Train Your Dragon + Ponyo + 13 Assassins] : [Iron Man | A Cat in Paris]\n",
      "\n",
      "[The Hangover + How to Train Your Dragon + Ponyo + The Intouchables] : [A Cat in Paris]\n",
      "\n",
      "[The Hangover + How to Train Your Dragon + Ponyo + A Cat in Paris] : [Iron Man]\n",
      "\n",
      "[The Hangover + How to Train Your Dragon + Ponyo + District B13] : [Iron Man | A Cat in Paris]\n",
      "\n",
      "[The Hangover + How to Train Your Dragon + 13 Assassins + The Intouchables] : [Iron Man]\n",
      "\n",
      "[The Hangover + How to Train Your Dragon + 13 Assassins + A Cat in Paris] : [Iron Man | Ponyo]\n",
      "\n",
      "[The Hangover + How to Train Your Dragon + 13 Assassins + District B13] : [Iron Man]\n",
      "\n",
      "[The Hangover + How to Train Your Dragon + The Intouchables + A Cat in Paris] : [Iron Man]\n",
      "\n",
      "[The Hangover + How to Train Your Dragon + The Intouchables + District B13] : [Iron Man | A Cat in Paris]\n",
      "\n",
      "[The Hangover + How to Train Your Dragon + A Cat in Paris + District B13] : [Iron Man | Ponyo]\n",
      "\n",
      "[The Hangover + Iron Man + Survive Style 5+ + Ponyo] : [How to Train Your Dragon | A Cat in Paris]\n",
      "\n",
      "[The Hangover + Iron Man + Survive Style 5+ + 13 Assassins] : [How to Train Your Dragon | District B13]\n",
      "\n",
      "[The Hangover + Iron Man + Survive Style 5+ + The Intouchables] : [How to Train Your Dragon]\n",
      "\n",
      "[The Hangover + Iron Man + Survive Style 5+ + A Cat in Paris] : [How to Train Your Dragon]\n",
      "\n",
      "[The Hangover + Iron Man + Survive Style 5+ + District B13] : [How to Train Your Dragon]\n",
      "\n",
      "[The Hangover + Iron Man + Ponyo + 13 Assassins] : [How to Train Your Dragon | District B13]\n",
      "\n",
      "[The Hangover + Iron Man + Ponyo + The Intouchables] : [How to Train Your Dragon | A Cat in Paris]\n",
      "\n",
      "[The Hangover + Iron Man + Ponyo + A Cat in Paris] : [How to Train Your Dragon]\n",
      "\n",
      "[The Hangover + Iron Man + Ponyo + District B13] : [How to Train Your Dragon | 13 Assassins | A Cat in Paris]\n",
      "\n",
      "[The Hangover + Iron Man + 13 Assassins + The Intouchables] : [How to Train Your Dragon]\n",
      "\n",
      "[The Hangover + Iron Man + 13 Assassins + A Cat in Paris] : [How to Train Your Dragon | District B13]\n",
      "\n",
      "[The Hangover + Iron Man + 13 Assassins + District B13] : [How to Train Your Dragon]\n",
      "\n",
      "[The Hangover + Iron Man + The Intouchables + A Cat in Paris] : [How to Train Your Dragon | Survive Style 5+]\n",
      "\n",
      "[The Hangover + Iron Man + The Intouchables + District B13] : [How to Train Your Dragon]\n",
      "\n",
      "[The Hangover + Iron Man + A Cat in Paris + District B13] : [How to Train Your Dragon]\n",
      "\n",
      "[The Hangover + Survive Style 5+ + Ponyo + 13 Assassins] : [A Cat in Paris | District B13 | The Intouchables]\n",
      "\n",
      "[The Hangover + Survive Style 5+ + Ponyo + The Intouchables] : [A Cat in Paris]\n",
      "\n",
      "[The Hangover + Survive Style 5+ + Ponyo + A Cat in Paris] : [How to Train Your Dragon | The Intouchables]\n",
      "\n",
      "[The Hangover + Survive Style 5+ + Ponyo + District B13] : [A Cat in Paris | 13 Assassins]\n",
      "\n",
      "[The Hangover + Survive Style 5+ + 13 Assassins + The Intouchables] : [A Cat in Paris]\n",
      "\n",
      "[The Hangover + Survive Style 5+ + 13 Assassins + A Cat in Paris] : [Ponyo | District B13 | The Intouchables | Iron Man]\n",
      "\n",
      "[The Hangover + Survive Style 5+ + 13 Assassins + District B13] : [Iron Man | A Cat in Paris]\n",
      "\n",
      "[The Hangover + Survive Style 5+ + The Intouchables + A Cat in Paris] : []\n",
      "\n",
      "[The Hangover + Survive Style 5+ + The Intouchables + District B13] : [A Cat in Paris]\n",
      "\n",
      "[The Hangover + Survive Style 5+ + A Cat in Paris + District B13] : [Iron Man | Ponyo]\n",
      "\n",
      "[The Hangover + Ponyo + 13 Assassins + The Intouchables] : [A Cat in Paris]\n",
      "\n",
      "[The Hangover + Ponyo + 13 Assassins + A Cat in Paris] : [District B13 | How to Train Your Dragon | The Intouchables]\n",
      "\n",
      "[The Hangover + Ponyo + 13 Assassins + District B13] : [A Cat in Paris | Iron Man]\n",
      "\n",
      "[The Hangover + Ponyo + The Intouchables + A Cat in Paris] : [Survive Style 5+ | How to Train Your Dragon]\n",
      "\n",
      "[The Hangover + Ponyo + The Intouchables + District B13] : [A Cat in Paris | 13 Assassins | Survive Style 5+]\n",
      "\n",
      "[The Hangover + Ponyo + A Cat in Paris + District B13] : [13 Assassins | How to Train Your Dragon]\n",
      "\n",
      "[The Hangover + 13 Assassins + The Intouchables + A Cat in Paris] : [Ponyo | Survive Style 5+]\n",
      "\n",
      "[The Hangover + 13 Assassins + The Intouchables + District B13] : [A Cat in Paris]\n",
      "\n",
      "[The Hangover + 13 Assassins + A Cat in Paris + District B13] : [Ponyo | Iron Man]\n",
      "\n",
      "[The Hangover + The Intouchables + A Cat in Paris + District B13] : [Survive Style 5+ | Ponyo]\n",
      "\n",
      "[How to Train Your Dragon + Iron Man + Survive Style 5+ + Ponyo] : [A Cat in Paris | The Hangover]\n",
      "\n",
      "[How to Train Your Dragon + Iron Man + Survive Style 5+ + 13 Assassins] : [District B13 | The Hangover]\n",
      "\n",
      "[How to Train Your Dragon + Iron Man + Survive Style 5+ + The Intouchables] : [The Hangover | A Cat in Paris]\n",
      "\n",
      "[How to Train Your Dragon + Iron Man + Survive Style 5+ + A Cat in Paris] : [The Hangover | Ponyo]\n",
      "\n",
      "[How to Train Your Dragon + Iron Man + Survive Style 5+ + District B13] : [13 Assassins | The Hangover | A Cat in Paris]\n",
      "\n",
      "[How to Train Your Dragon + Iron Man + Ponyo + 13 Assassins] : [District B13 | A Cat in Paris]\n",
      "\n",
      "[How to Train Your Dragon + Iron Man + Ponyo + The Intouchables] : [A Cat in Paris | The Hangover]\n",
      "\n",
      "[How to Train Your Dragon + Iron Man + Ponyo + A Cat in Paris] : [The Hangover]\n",
      "\n",
      "[How to Train Your Dragon + Iron Man + Ponyo + District B13] : [13 Assassins | A Cat in Paris]\n",
      "\n",
      "[How to Train Your Dragon + Iron Man + 13 Assassins + The Intouchables] : [District B13 | The Hangover]\n",
      "\n",
      "[How to Train Your Dragon + Iron Man + 13 Assassins + A Cat in Paris] : [District B13 | Ponyo | The Hangover]\n",
      "\n",
      "[How to Train Your Dragon + Iron Man + 13 Assassins + District B13] : []\n",
      "\n",
      "[How to Train Your Dragon + Iron Man + The Intouchables + A Cat in Paris] : [The Hangover | Ponyo]\n",
      "\n",
      "[How to Train Your Dragon + Iron Man + The Intouchables + District B13] : [The Hangover | 13 Assassins | A Cat in Paris]\n",
      "\n",
      "[How to Train Your Dragon + Iron Man + A Cat in Paris + District B13] : [13 Assassins | Ponyo | The Hangover]\n",
      "\n",
      "[How to Train Your Dragon + Survive Style 5+ + Ponyo + 13 Assassins] : [A Cat in Paris | District B13]\n",
      "\n",
      "[How to Train Your Dragon + Survive Style 5+ + Ponyo + The Intouchables] : [A Cat in Paris]\n",
      "\n",
      "[How to Train Your Dragon + Survive Style 5+ + Ponyo + A Cat in Paris] : []\n",
      "\n",
      "[How to Train Your Dragon + Survive Style 5+ + Ponyo + District B13] : [A Cat in Paris | 13 Assassins | Iron Man]\n",
      "\n",
      "[How to Train Your Dragon + Survive Style 5+ + 13 Assassins + The Intouchables] : [Ponyo | A Cat in Paris | District B13]\n",
      "\n",
      "[How to Train Your Dragon + Survive Style 5+ + 13 Assassins + A Cat in Paris] : [Ponyo | District B13 | Iron Man]\n",
      "\n",
      "[How to Train Your Dragon + Survive Style 5+ + 13 Assassins + District B13] : [Iron Man | Ponyo | A Cat in Paris]\n",
      "\n",
      "[How to Train Your Dragon + Survive Style 5+ + The Intouchables + A Cat in Paris] : [Ponyo | The Hangover]\n",
      "\n",
      "[How to Train Your Dragon + Survive Style 5+ + The Intouchables + District B13] : [A Cat in Paris | Ponyo | 13 Assassins]\n",
      "\n",
      "[How to Train Your Dragon + Survive Style 5+ + A Cat in Paris + District B13] : [Ponyo | Iron Man | 13 Assassins]\n",
      "\n",
      "[How to Train Your Dragon + Ponyo + 13 Assassins + The Intouchables] : [A Cat in Paris | District B13]\n",
      "\n",
      "[How to Train Your Dragon + Ponyo + 13 Assassins + A Cat in Paris] : [District B13]\n",
      "\n",
      "[How to Train Your Dragon + Ponyo + 13 Assassins + District B13] : [A Cat in Paris | Iron Man]\n",
      "\n",
      "[How to Train Your Dragon + Ponyo + The Intouchables + A Cat in Paris] : [Survive Style 5+]\n",
      "\n",
      "[How to Train Your Dragon + Ponyo + The Intouchables + District B13] : [A Cat in Paris | 13 Assassins]\n",
      "\n",
      "[How to Train Your Dragon + Ponyo + A Cat in Paris + District B13] : [13 Assassins]\n",
      "\n",
      "[How to Train Your Dragon + 13 Assassins + The Intouchables + A Cat in Paris] : [Ponyo | District B13]\n",
      "\n",
      "[How to Train Your Dragon + 13 Assassins + The Intouchables + District B13] : [Ponyo | A Cat in Paris | Iron Man]\n",
      "\n",
      "[How to Train Your Dragon + 13 Assassins + A Cat in Paris + District B13] : [Ponyo | Iron Man]\n",
      "\n",
      "[How to Train Your Dragon + The Intouchables + A Cat in Paris + District B13] : [Ponyo | 13 Assassins]\n",
      "\n",
      "[Iron Man + Survive Style 5+ + Ponyo + 13 Assassins] : [District B13 | A Cat in Paris]\n",
      "\n",
      "[Iron Man + Survive Style 5+ + Ponyo + The Intouchables] : [A Cat in Paris | 13 Assassins]\n",
      "\n",
      "[Iron Man + Survive Style 5+ + Ponyo + A Cat in Paris] : [How to Train Your Dragon | District B13 | 13 Assassins]\n",
      "\n",
      "[Iron Man + Survive Style 5+ + Ponyo + District B13] : [13 Assassins | A Cat in Paris]\n",
      "\n",
      "[Iron Man + Survive Style 5+ + 13 Assassins + The Intouchables] : [District B13]\n",
      "\n",
      "[Iron Man + Survive Style 5+ + 13 Assassins + A Cat in Paris] : [District B13 | Ponyo]\n",
      "\n",
      "[Iron Man + Survive Style 5+ + 13 Assassins + District B13] : []\n",
      "\n",
      "[Iron Man + Survive Style 5+ + The Intouchables + A Cat in Paris] : [Ponyo]\n",
      "\n",
      "[Iron Man + Survive Style 5+ + The Intouchables + District B13] : [13 Assassins | A Cat in Paris]\n",
      "\n",
      "[Iron Man + Survive Style 5+ + A Cat in Paris + District B13] : [13 Assassins | Ponyo]\n",
      "\n",
      "[Iron Man + Ponyo + 13 Assassins + The Intouchables] : [District B13 | A Cat in Paris | Survive Style 5+]\n",
      "\n",
      "[Iron Man + Ponyo + 13 Assassins + A Cat in Paris] : [District B13 | How to Train Your Dragon]\n",
      "\n",
      "[Iron Man + Ponyo + 13 Assassins + District B13] : [A Cat in Paris]\n",
      "\n",
      "[Iron Man + Ponyo + The Intouchables + A Cat in Paris] : [Survive Style 5+ | How to Train Your Dragon | 13 Assassins | District B13]\n",
      "\n",
      "[Iron Man + Ponyo + The Intouchables + District B13] : [13 Assassins | A Cat in Paris | Survive Style 5+]\n",
      "\n",
      "[Iron Man + Ponyo + A Cat in Paris + District B13] : [13 Assassins | How to Train Your Dragon | Survive Style 5+]\n",
      "\n",
      "[Iron Man + 13 Assassins + The Intouchables + A Cat in Paris] : [District B13 | Ponyo | Survive Style 5+]\n",
      "\n",
      "[Iron Man + 13 Assassins + The Intouchables + District B13] : []\n",
      "\n",
      "[Iron Man + 13 Assassins + A Cat in Paris + District B13] : [Ponyo]\n",
      "\n",
      "[Iron Man + The Intouchables + A Cat in Paris + District B13] : [13 Assassins | Ponyo | Survive Style 5+]\n",
      "\n",
      "[Survive Style 5+ + Ponyo + 13 Assassins + The Intouchables] : [A Cat in Paris | District B13]\n",
      "\n",
      "[Survive Style 5+ + Ponyo + 13 Assassins + A Cat in Paris] : [District B13 | The Intouchables]\n",
      "\n",
      "[Survive Style 5+ + Ponyo + 13 Assassins + District B13] : [A Cat in Paris]\n",
      "\n",
      "[Survive Style 5+ + Ponyo + The Intouchables + A Cat in Paris] : []\n",
      "\n",
      "[Survive Style 5+ + Ponyo + The Intouchables + District B13] : [A Cat in Paris | 13 Assassins]\n",
      "\n",
      "[Survive Style 5+ + Ponyo + A Cat in Paris + District B13] : [13 Assassins | The Intouchables]\n",
      "\n",
      "[Survive Style 5+ + 13 Assassins + The Intouchables + A Cat in Paris] : [Ponyo | District B13]\n",
      "\n",
      "[Survive Style 5+ + 13 Assassins + The Intouchables + District B13] : [Ponyo | A Cat in Paris]\n",
      "\n",
      "[Survive Style 5+ + 13 Assassins + A Cat in Paris + District B13] : [Ponyo]\n",
      "\n",
      "[Survive Style 5+ + The Intouchables + A Cat in Paris + District B13] : [Ponyo | 13 Assassins]\n",
      "\n",
      "[Ponyo + 13 Assassins + The Intouchables + A Cat in Paris] : [District B13 | Survive Style 5+]\n",
      "\n",
      "[Ponyo + 13 Assassins + The Intouchables + District B13] : [A Cat in Paris | Survive Style 5+]\n",
      "\n",
      "[Ponyo + 13 Assassins + A Cat in Paris + District B13] : [Survive Style 5+]\n",
      "\n",
      "[Ponyo + The Intouchables + A Cat in Paris + District B13] : [13 Assassins | Survive Style 5+]\n",
      "\n",
      "[13 Assassins + The Intouchables + A Cat in Paris + District B13] : [Ponyo | Survive Style 5+]\n",
      "\n",
      "[The Hangover + How to Train Your Dragon + Iron Man + Survive Style 5+ + Ponyo] : [A Cat in Paris]\n",
      "\n",
      "[The Hangover + How to Train Your Dragon + Iron Man + Survive Style 5+ + 13 Assassins] : []\n",
      "\n",
      "[The Hangover + How to Train Your Dragon + Iron Man + Survive Style 5+ + The Intouchables] : []\n",
      "\n",
      "[The Hangover + How to Train Your Dragon + Iron Man + Survive Style 5+ + A Cat in Paris] : []\n",
      "\n",
      "[The Hangover + How to Train Your Dragon + Iron Man + Survive Style 5+ + District B13] : []\n",
      "\n",
      "[The Hangover + How to Train Your Dragon + Iron Man + Ponyo + 13 Assassins] : []\n",
      "\n",
      "[The Hangover + How to Train Your Dragon + Iron Man + Ponyo + The Intouchables] : [A Cat in Paris]\n",
      "\n",
      "[The Hangover + How to Train Your Dragon + Iron Man + Ponyo + A Cat in Paris] : []\n",
      "\n",
      "[The Hangover + How to Train Your Dragon + Iron Man + Ponyo + District B13] : [A Cat in Paris]\n",
      "\n",
      "[The Hangover + How to Train Your Dragon + Iron Man + 13 Assassins + The Intouchables] : []\n",
      "\n",
      "[The Hangover + How to Train Your Dragon + Iron Man + 13 Assassins + A Cat in Paris] : []\n",
      "\n",
      "[The Hangover + How to Train Your Dragon + Iron Man + 13 Assassins + District B13] : []\n",
      "\n",
      "[The Hangover + How to Train Your Dragon + Iron Man + The Intouchables + A Cat in Paris] : []\n",
      "\n",
      "[The Hangover + How to Train Your Dragon + Iron Man + The Intouchables + District B13] : []\n",
      "\n",
      "[The Hangover + How to Train Your Dragon + Iron Man + A Cat in Paris + District B13] : []\n",
      "\n",
      "[The Hangover + How to Train Your Dragon + Survive Style 5+ + Ponyo + 13 Assassins] : [A Cat in Paris | Iron Man]\n",
      "\n",
      "[The Hangover + How to Train Your Dragon + Survive Style 5+ + Ponyo + The Intouchables] : [A Cat in Paris]\n",
      "\n",
      "[The Hangover + How to Train Your Dragon + Survive Style 5+ + Ponyo + A Cat in Paris] : [Iron Man]\n",
      "\n",
      "[The Hangover + How to Train Your Dragon + Survive Style 5+ + Ponyo + District B13] : [A Cat in Paris | Iron Man]\n",
      "\n",
      "[The Hangover + How to Train Your Dragon + Survive Style 5+ + 13 Assassins + The Intouchables] : [Iron Man | A Cat in Paris]\n",
      "\n",
      "[The Hangover + How to Train Your Dragon + Survive Style 5+ + 13 Assassins + A Cat in Paris] : [Iron Man | Ponyo]\n",
      "\n",
      "[The Hangover + How to Train Your Dragon + Survive Style 5+ + 13 Assassins + District B13] : [Iron Man | A Cat in Paris]\n",
      "\n",
      "[The Hangover + How to Train Your Dragon + Survive Style 5+ + The Intouchables + A Cat in Paris] : [Ponyo | Iron Man]\n",
      "\n",
      "[The Hangover + How to Train Your Dragon + Survive Style 5+ + The Intouchables + District B13] : [Iron Man | A Cat in Paris]\n",
      "\n",
      "[The Hangover + How to Train Your Dragon + Survive Style 5+ + A Cat in Paris + District B13] : [Iron Man | Ponyo]\n",
      "\n",
      "[The Hangover + How to Train Your Dragon + Ponyo + 13 Assassins + The Intouchables] : [A Cat in Paris]\n",
      "\n",
      "[The Hangover + How to Train Your Dragon + Ponyo + 13 Assassins + A Cat in Paris] : [Iron Man]\n",
      "\n",
      "[The Hangover + How to Train Your Dragon + Ponyo + 13 Assassins + District B13] : [Iron Man | A Cat in Paris]\n",
      "\n",
      "[The Hangover + How to Train Your Dragon + Ponyo + The Intouchables + A Cat in Paris] : []\n",
      "\n",
      "[The Hangover + How to Train Your Dragon + Ponyo + The Intouchables + District B13] : [A Cat in Paris | Iron Man]\n",
      "\n",
      "[The Hangover + How to Train Your Dragon + Ponyo + A Cat in Paris + District B13] : [Iron Man]\n",
      "\n",
      "[The Hangover + How to Train Your Dragon + 13 Assassins + The Intouchables + A Cat in Paris] : [Ponyo | Iron Man]\n",
      "\n",
      "[The Hangover + How to Train Your Dragon + 13 Assassins + The Intouchables + District B13] : [Iron Man | A Cat in Paris]\n",
      "\n",
      "[The Hangover + How to Train Your Dragon + 13 Assassins + A Cat in Paris + District B13] : [Iron Man | Ponyo]\n",
      "\n",
      "[The Hangover + How to Train Your Dragon + The Intouchables + A Cat in Paris + District B13] : [Iron Man | Ponyo]\n",
      "\n",
      "[The Hangover + Iron Man + Survive Style 5+ + Ponyo + 13 Assassins] : [How to Train Your Dragon | District B13 | A Cat in Paris]\n",
      "\n",
      "[The Hangover + Iron Man + Survive Style 5+ + Ponyo + The Intouchables] : [How to Train Your Dragon | A Cat in Paris]\n",
      "\n",
      "[The Hangover + Iron Man + Survive Style 5+ + Ponyo + A Cat in Paris] : [How to Train Your Dragon]\n",
      "\n",
      "[The Hangover + Iron Man + Survive Style 5+ + Ponyo + District B13] : [How to Train Your Dragon | A Cat in Paris | 13 Assassins]\n",
      "\n",
      "[The Hangover + Iron Man + Survive Style 5+ + 13 Assassins + The Intouchables] : []\n",
      "\n",
      "[The Hangover + Iron Man + Survive Style 5+ + 13 Assassins + A Cat in Paris] : [How to Train Your Dragon | District B13]\n",
      "\n",
      "[The Hangover + Iron Man + Survive Style 5+ + 13 Assassins + District B13] : []\n",
      "\n",
      "[The Hangover + Iron Man + Survive Style 5+ + The Intouchables + A Cat in Paris] : [How to Train Your Dragon]\n",
      "\n",
      "[The Hangover + Iron Man + Survive Style 5+ + The Intouchables + District B13] : []\n",
      "\n",
      "[The Hangover + Iron Man + Survive Style 5+ + A Cat in Paris + District B13] : [How to Train Your Dragon]\n",
      "\n",
      "[The Hangover + Iron Man + Ponyo + 13 Assassins + The Intouchables] : [How to Train Your Dragon | A Cat in Paris | District B13]\n",
      "\n",
      "[The Hangover + Iron Man + Ponyo + 13 Assassins + A Cat in Paris] : [How to Train Your Dragon | District B13]\n",
      "\n",
      "[The Hangover + Iron Man + Ponyo + 13 Assassins + District B13] : [How to Train Your Dragon | A Cat in Paris]\n",
      "\n",
      "[The Hangover + Iron Man + Ponyo + The Intouchables + A Cat in Paris] : [How to Train Your Dragon | Survive Style 5+]\n",
      "\n",
      "[The Hangover + Iron Man + Ponyo + The Intouchables + District B13] : [A Cat in Paris | How to Train Your Dragon | 13 Assassins]\n",
      "\n",
      "[The Hangover + Iron Man + Ponyo + A Cat in Paris + District B13] : [How to Train Your Dragon | 13 Assassins]\n",
      "\n",
      "[The Hangover + Iron Man + 13 Assassins + The Intouchables + A Cat in Paris] : [How to Train Your Dragon | District B13]\n",
      "\n",
      "[The Hangover + Iron Man + 13 Assassins + The Intouchables + District B13] : []\n",
      "\n",
      "[The Hangover + Iron Man + 13 Assassins + A Cat in Paris + District B13] : [How to Train Your Dragon]\n",
      "\n",
      "[The Hangover + Iron Man + The Intouchables + A Cat in Paris + District B13] : [How to Train Your Dragon]\n",
      "\n",
      "[The Hangover + Survive Style 5+ + Ponyo + 13 Assassins + The Intouchables] : [A Cat in Paris]\n",
      "\n",
      "[The Hangover + Survive Style 5+ + Ponyo + 13 Assassins + A Cat in Paris] : [District B13 | The Intouchables]\n",
      "\n",
      "[The Hangover + Survive Style 5+ + Ponyo + 13 Assassins + District B13] : [A Cat in Paris]\n",
      "\n",
      "[The Hangover + Survive Style 5+ + Ponyo + The Intouchables + A Cat in Paris] : []\n",
      "\n",
      "[The Hangover + Survive Style 5+ + Ponyo + The Intouchables + District B13] : [A Cat in Paris | 13 Assassins]\n",
      "\n",
      "[The Hangover + Survive Style 5+ + Ponyo + A Cat in Paris + District B13] : [13 Assassins]\n",
      "\n",
      "[The Hangover + Survive Style 5+ + 13 Assassins + The Intouchables + A Cat in Paris] : [Ponyo]\n",
      "\n",
      "[The Hangover + Survive Style 5+ + 13 Assassins + The Intouchables + District B13] : [A Cat in Paris]\n",
      "\n",
      "[The Hangover + Survive Style 5+ + 13 Assassins + A Cat in Paris + District B13] : [Ponyo | Iron Man]\n",
      "\n",
      "[The Hangover + Survive Style 5+ + The Intouchables + A Cat in Paris + District B13] : [Ponyo]\n",
      "\n",
      "[The Hangover + Ponyo + 13 Assassins + The Intouchables + A Cat in Paris] : [Survive Style 5+ | District B13]\n",
      "\n",
      "[The Hangover + Ponyo + 13 Assassins + The Intouchables + District B13] : [A Cat in Paris]\n",
      "\n",
      "[The Hangover + Ponyo + 13 Assassins + A Cat in Paris + District B13] : []\n",
      "\n",
      "[The Hangover + Ponyo + The Intouchables + A Cat in Paris + District B13] : [13 Assassins | Survive Style 5+]\n",
      "\n",
      "[The Hangover + 13 Assassins + The Intouchables + A Cat in Paris + District B13] : [Ponyo]\n",
      "\n",
      "[How to Train Your Dragon + Iron Man + Survive Style 5+ + Ponyo + 13 Assassins] : [District B13 | A Cat in Paris]\n",
      "\n",
      "[How to Train Your Dragon + Iron Man + Survive Style 5+ + Ponyo + The Intouchables] : [A Cat in Paris | The Hangover]\n",
      "\n",
      "[How to Train Your Dragon + Iron Man + Survive Style 5+ + Ponyo + A Cat in Paris] : [The Hangover]\n",
      "\n",
      "[How to Train Your Dragon + Iron Man + Survive Style 5+ + Ponyo + District B13] : [A Cat in Paris | 13 Assassins]\n",
      "\n",
      "[How to Train Your Dragon + Iron Man + Survive Style 5+ + 13 Assassins + The Intouchables] : [District B13 | A Cat in Paris | The Hangover]\n",
      "\n",
      "[How to Train Your Dragon + Iron Man + Survive Style 5+ + 13 Assassins + A Cat in Paris] : [District B13 | Ponyo]\n",
      "\n",
      "[How to Train Your Dragon + Iron Man + Survive Style 5+ + 13 Assassins + District B13] : [A Cat in Paris | Ponyo]\n",
      "\n",
      "[How to Train Your Dragon + Iron Man + Survive Style 5+ + The Intouchables + A Cat in Paris] : [The Hangover | Ponyo]\n",
      "\n",
      "[How to Train Your Dragon + Iron Man + Survive Style 5+ + The Intouchables + District B13] : [A Cat in Paris | 13 Assassins | The Hangover]\n",
      "\n",
      "[How to Train Your Dragon + Iron Man + Survive Style 5+ + A Cat in Paris + District B13] : [Ponyo | 13 Assassins]\n",
      "\n",
      "[How to Train Your Dragon + Iron Man + Ponyo + 13 Assassins + The Intouchables] : [A Cat in Paris | District B13]\n",
      "\n",
      "[How to Train Your Dragon + Iron Man + Ponyo + 13 Assassins + A Cat in Paris] : [District B13]\n",
      "\n",
      "[How to Train Your Dragon + Iron Man + Ponyo + 13 Assassins + District B13] : [A Cat in Paris]\n",
      "\n",
      "[How to Train Your Dragon + Iron Man + Ponyo + The Intouchables + A Cat in Paris] : [The Hangover]\n",
      "\n",
      "[How to Train Your Dragon + Iron Man + Ponyo + The Intouchables + District B13] : [A Cat in Paris | 13 Assassins]\n",
      "\n",
      "[How to Train Your Dragon + Iron Man + Ponyo + A Cat in Paris + District B13] : [13 Assassins]\n",
      "\n",
      "[How to Train Your Dragon + Iron Man + 13 Assassins + The Intouchables + A Cat in Paris] : [District B13 | Ponyo]\n",
      "\n",
      "[How to Train Your Dragon + Iron Man + 13 Assassins + The Intouchables + District B13] : [A Cat in Paris]\n",
      "\n",
      "[How to Train Your Dragon + Iron Man + 13 Assassins + A Cat in Paris + District B13] : [Ponyo]\n",
      "\n",
      "[How to Train Your Dragon + Iron Man + The Intouchables + A Cat in Paris + District B13] : [Ponyo | 13 Assassins | The Hangover]\n",
      "\n",
      "[How to Train Your Dragon + Survive Style 5+ + Ponyo + 13 Assassins + The Intouchables] : [A Cat in Paris | District B13]\n",
      "\n",
      "[How to Train Your Dragon + Survive Style 5+ + Ponyo + 13 Assassins + A Cat in Paris] : [District B13]\n",
      "\n",
      "[How to Train Your Dragon + Survive Style 5+ + Ponyo + 13 Assassins + District B13] : [A Cat in Paris | Iron Man]\n",
      "\n",
      "[How to Train Your Dragon + Survive Style 5+ + Ponyo + The Intouchables + A Cat in Paris] : []\n",
      "\n",
      "[How to Train Your Dragon + Survive Style 5+ + Ponyo + The Intouchables + District B13] : [A Cat in Paris | 13 Assassins]\n",
      "\n",
      "[How to Train Your Dragon + Survive Style 5+ + Ponyo + A Cat in Paris + District B13] : [13 Assassins]\n",
      "\n",
      "[How to Train Your Dragon + Survive Style 5+ + 13 Assassins + The Intouchables + A Cat in Paris] : [Ponyo | District B13]\n",
      "\n",
      "[How to Train Your Dragon + Survive Style 5+ + 13 Assassins + The Intouchables + District B13] : [A Cat in Paris | Ponyo]\n",
      "\n",
      "[How to Train Your Dragon + Survive Style 5+ + 13 Assassins + A Cat in Paris + District B13] : [Ponyo | Iron Man]\n",
      "\n",
      "[How to Train Your Dragon + Survive Style 5+ + The Intouchables + A Cat in Paris + District B13] : [Ponyo | 13 Assassins]\n",
      "\n",
      "[How to Train Your Dragon + Ponyo + 13 Assassins + The Intouchables + A Cat in Paris] : [District B13]\n",
      "\n",
      "[How to Train Your Dragon + Ponyo + 13 Assassins + The Intouchables + District B13] : [A Cat in Paris]\n",
      "\n",
      "[How to Train Your Dragon + Ponyo + 13 Assassins + A Cat in Paris + District B13] : []\n",
      "\n",
      "[How to Train Your Dragon + Ponyo + The Intouchables + A Cat in Paris + District B13] : [13 Assassins | Survive Style 5+]\n",
      "\n",
      "[How to Train Your Dragon + 13 Assassins + The Intouchables + A Cat in Paris + District B13] : [Ponyo]\n",
      "\n",
      "[Iron Man + Survive Style 5+ + Ponyo + 13 Assassins + The Intouchables] : [District B13 | A Cat in Paris]\n",
      "\n",
      "[Iron Man + Survive Style 5+ + Ponyo + 13 Assassins + A Cat in Paris] : [District B13]\n",
      "\n",
      "[Iron Man + Survive Style 5+ + Ponyo + 13 Assassins + District B13] : [A Cat in Paris]\n",
      "\n",
      "[Iron Man + Survive Style 5+ + Ponyo + The Intouchables + A Cat in Paris] : []\n",
      "\n",
      "[Iron Man + Survive Style 5+ + Ponyo + The Intouchables + District B13] : [13 Assassins | A Cat in Paris]\n",
      "\n",
      "[Iron Man + Survive Style 5+ + Ponyo + A Cat in Paris + District B13] : [13 Assassins]\n",
      "\n",
      "[Iron Man + Survive Style 5+ + 13 Assassins + The Intouchables + A Cat in Paris] : [District B13 | Ponyo]\n",
      "\n",
      "[Iron Man + Survive Style 5+ + 13 Assassins + The Intouchables + District B13] : [A Cat in Paris | Ponyo]\n",
      "\n",
      "[Iron Man + Survive Style 5+ + 13 Assassins + A Cat in Paris + District B13] : [Ponyo]\n",
      "\n",
      "[Iron Man + Survive Style 5+ + The Intouchables + A Cat in Paris + District B13] : [13 Assassins | Ponyo]\n",
      "\n",
      "[Iron Man + Ponyo + 13 Assassins + The Intouchables + A Cat in Paris] : [District B13 | Survive Style 5+]\n",
      "\n",
      "[Iron Man + Ponyo + 13 Assassins + The Intouchables + District B13] : [A Cat in Paris]\n",
      "\n",
      "[Iron Man + Ponyo + 13 Assassins + A Cat in Paris + District B13] : []\n",
      "\n",
      "[Iron Man + Ponyo + The Intouchables + A Cat in Paris + District B13] : [13 Assassins | Survive Style 5+]\n",
      "\n",
      "[Iron Man + 13 Assassins + The Intouchables + A Cat in Paris + District B13] : [Ponyo | Survive Style 5+]\n",
      "\n",
      "[Survive Style 5+ + Ponyo + 13 Assassins + The Intouchables + A Cat in Paris] : [District B13]\n",
      "\n",
      "[Survive Style 5+ + Ponyo + 13 Assassins + The Intouchables + District B13] : [A Cat in Paris]\n",
      "\n",
      "[Survive Style 5+ + Ponyo + 13 Assassins + A Cat in Paris + District B13] : []\n",
      "\n",
      "[Survive Style 5+ + Ponyo + The Intouchables + A Cat in Paris + District B13] : [13 Assassins]\n",
      "\n",
      "[Survive Style 5+ + 13 Assassins + The Intouchables + A Cat in Paris + District B13] : [Ponyo]\n",
      "\n",
      "[Ponyo + 13 Assassins + The Intouchables + A Cat in Paris + District B13] : [Survive Style 5+]\n",
      "\n",
      "[The Hangover + How to Train Your Dragon + Iron Man + Survive Style 5+ + Ponyo + 13 Assassins] : [A Cat in Paris]\n",
      "\n",
      "[The Hangover + How to Train Your Dragon + Iron Man + Survive Style 5+ + Ponyo + The Intouchables] : [A Cat in Paris]\n",
      "\n",
      "[The Hangover + How to Train Your Dragon + Iron Man + Survive Style 5+ + Ponyo + A Cat in Paris] : []\n",
      "\n",
      "[The Hangover + How to Train Your Dragon + Iron Man + Survive Style 5+ + Ponyo + District B13] : [A Cat in Paris]\n",
      "\n",
      "[The Hangover + How to Train Your Dragon + Iron Man + Survive Style 5+ + 13 Assassins + The Intouchables] : []\n",
      "\n",
      "[The Hangover + How to Train Your Dragon + Iron Man + Survive Style 5+ + 13 Assassins + A Cat in Paris] : []\n",
      "\n",
      "[The Hangover + How to Train Your Dragon + Iron Man + Survive Style 5+ + 13 Assassins + District B13] : []\n",
      "\n",
      "[The Hangover + How to Train Your Dragon + Iron Man + Survive Style 5+ + The Intouchables + A Cat in Paris] : []\n",
      "\n",
      "[The Hangover + How to Train Your Dragon + Iron Man + Survive Style 5+ + The Intouchables + District B13] : [A Cat in Paris]\n",
      "\n",
      "[The Hangover + How to Train Your Dragon + Iron Man + Survive Style 5+ + A Cat in Paris + District B13] : []\n",
      "\n",
      "[The Hangover + How to Train Your Dragon + Iron Man + Ponyo + 13 Assassins + The Intouchables] : [A Cat in Paris]\n",
      "\n",
      "[The Hangover + How to Train Your Dragon + Iron Man + Ponyo + 13 Assassins + A Cat in Paris] : [District B13]\n",
      "\n",
      "[The Hangover + How to Train Your Dragon + Iron Man + Ponyo + 13 Assassins + District B13] : [A Cat in Paris]\n",
      "\n",
      "[The Hangover + How to Train Your Dragon + Iron Man + Ponyo + The Intouchables + A Cat in Paris] : []\n",
      "\n",
      "[The Hangover + How to Train Your Dragon + Iron Man + Ponyo + The Intouchables + District B13] : [A Cat in Paris]\n",
      "\n",
      "[The Hangover + How to Train Your Dragon + Iron Man + Ponyo + A Cat in Paris + District B13] : []\n",
      "\n",
      "[The Hangover + How to Train Your Dragon + Iron Man + 13 Assassins + The Intouchables + A Cat in Paris] : []\n",
      "\n",
      "[The Hangover + How to Train Your Dragon + Iron Man + 13 Assassins + The Intouchables + District B13] : []\n",
      "\n",
      "[The Hangover + How to Train Your Dragon + Iron Man + 13 Assassins + A Cat in Paris + District B13] : []\n",
      "\n",
      "[The Hangover + How to Train Your Dragon + Iron Man + The Intouchables + A Cat in Paris + District B13] : []\n",
      "\n",
      "[The Hangover + How to Train Your Dragon + Survive Style 5+ + Ponyo + 13 Assassins + The Intouchables] : [A Cat in Paris]\n",
      "\n",
      "[The Hangover + How to Train Your Dragon + Survive Style 5+ + Ponyo + 13 Assassins + A Cat in Paris] : [Iron Man]\n",
      "\n",
      "[The Hangover + How to Train Your Dragon + Survive Style 5+ + Ponyo + 13 Assassins + District B13] : [A Cat in Paris | Iron Man]\n",
      "\n",
      "[The Hangover + How to Train Your Dragon + Survive Style 5+ + Ponyo + The Intouchables + A Cat in Paris] : []\n",
      "\n",
      "[The Hangover + How to Train Your Dragon + Survive Style 5+ + Ponyo + The Intouchables + District B13] : [A Cat in Paris]\n",
      "\n",
      "[The Hangover + How to Train Your Dragon + Survive Style 5+ + Ponyo + A Cat in Paris + District B13] : [Iron Man]\n",
      "\n",
      "[The Hangover + How to Train Your Dragon + Survive Style 5+ + 13 Assassins + The Intouchables + A Cat in Paris] : [Ponyo]\n",
      "\n",
      "[The Hangover + How to Train Your Dragon + Survive Style 5+ + 13 Assassins + The Intouchables + District B13] : [Iron Man | A Cat in Paris]\n",
      "\n",
      "[The Hangover + How to Train Your Dragon + Survive Style 5+ + 13 Assassins + A Cat in Paris + District B13] : [Iron Man | Ponyo]\n",
      "\n",
      "[The Hangover + How to Train Your Dragon + Survive Style 5+ + The Intouchables + A Cat in Paris + District B13] : [Ponyo | Iron Man]\n",
      "\n",
      "[The Hangover + How to Train Your Dragon + Ponyo + 13 Assassins + The Intouchables + A Cat in Paris] : []\n",
      "\n",
      "[The Hangover + How to Train Your Dragon + Ponyo + 13 Assassins + The Intouchables + District B13] : [A Cat in Paris | Iron Man]\n",
      "\n",
      "[The Hangover + How to Train Your Dragon + Ponyo + 13 Assassins + A Cat in Paris + District B13] : [Iron Man]\n",
      "\n",
      "[The Hangover + How to Train Your Dragon + Ponyo + The Intouchables + A Cat in Paris + District B13] : []\n",
      "\n",
      "[The Hangover + How to Train Your Dragon + 13 Assassins + The Intouchables + A Cat in Paris + District B13] : [Ponyo | Iron Man]\n",
      "\n",
      "[The Hangover + Iron Man + Survive Style 5+ + Ponyo + 13 Assassins + The Intouchables] : [A Cat in Paris]\n",
      "\n",
      "[The Hangover + Iron Man + Survive Style 5+ + Ponyo + 13 Assassins + A Cat in Paris] : [How to Train Your Dragon | District B13]\n",
      "\n",
      "[The Hangover + Iron Man + Survive Style 5+ + Ponyo + 13 Assassins + District B13] : [A Cat in Paris]\n",
      "\n",
      "[The Hangover + Iron Man + Survive Style 5+ + Ponyo + The Intouchables + A Cat in Paris] : [How to Train Your Dragon]\n",
      "\n",
      "[The Hangover + Iron Man + Survive Style 5+ + Ponyo + The Intouchables + District B13] : [A Cat in Paris | 13 Assassins]\n",
      "\n",
      "[The Hangover + Iron Man + Survive Style 5+ + Ponyo + A Cat in Paris + District B13] : [How to Train Your Dragon | 13 Assassins]\n",
      "\n",
      "[The Hangover + Iron Man + Survive Style 5+ + 13 Assassins + The Intouchables + A Cat in Paris] : [District B13]\n",
      "\n",
      "[The Hangover + Iron Man + Survive Style 5+ + 13 Assassins + The Intouchables + District B13] : []\n",
      "\n",
      "[The Hangover + Iron Man + Survive Style 5+ + 13 Assassins + A Cat in Paris + District B13] : []\n",
      "\n",
      "[The Hangover + Iron Man + Survive Style 5+ + The Intouchables + A Cat in Paris + District B13] : []\n",
      "\n",
      "[The Hangover + Iron Man + Ponyo + 13 Assassins + The Intouchables + A Cat in Paris] : [How to Train Your Dragon | District B13 | Survive Style 5+]\n",
      "\n",
      "[The Hangover + Iron Man + Ponyo + 13 Assassins + The Intouchables + District B13] : [A Cat in Paris]\n",
      "\n",
      "[The Hangover + Iron Man + Ponyo + 13 Assassins + A Cat in Paris + District B13] : [How to Train Your Dragon]\n",
      "\n",
      "[The Hangover + Iron Man + Ponyo + The Intouchables + A Cat in Paris + District B13] : [How to Train Your Dragon | 13 Assassins | Survive Style 5+]\n",
      "\n",
      "[The Hangover + Iron Man + 13 Assassins + The Intouchables + A Cat in Paris + District B13] : []\n",
      "\n",
      "[The Hangover + Survive Style 5+ + Ponyo + 13 Assassins + The Intouchables + A Cat in Paris] : []\n",
      "\n",
      "[The Hangover + Survive Style 5+ + Ponyo + 13 Assassins + The Intouchables + District B13] : [A Cat in Paris]\n",
      "\n",
      "[The Hangover + Survive Style 5+ + Ponyo + 13 Assassins + A Cat in Paris + District B13] : []\n",
      "\n",
      "[The Hangover + Survive Style 5+ + Ponyo + The Intouchables + A Cat in Paris + District B13] : [13 Assassins]\n",
      "\n",
      "[The Hangover + Survive Style 5+ + 13 Assassins + The Intouchables + A Cat in Paris + District B13] : [Ponyo]\n",
      "\n",
      "[The Hangover + Ponyo + 13 Assassins + The Intouchables + A Cat in Paris + District B13] : [Survive Style 5+]\n",
      "\n",
      "[How to Train Your Dragon + Iron Man + Survive Style 5+ + Ponyo + 13 Assassins + The Intouchables] : [A Cat in Paris | District B13]\n",
      "\n",
      "[How to Train Your Dragon + Iron Man + Survive Style 5+ + Ponyo + 13 Assassins + A Cat in Paris] : [District B13]\n",
      "\n",
      "[How to Train Your Dragon + Iron Man + Survive Style 5+ + Ponyo + 13 Assassins + District B13] : [A Cat in Paris]\n",
      "\n",
      "[How to Train Your Dragon + Iron Man + Survive Style 5+ + Ponyo + The Intouchables + A Cat in Paris] : []\n",
      "\n",
      "[How to Train Your Dragon + Iron Man + Survive Style 5+ + Ponyo + The Intouchables + District B13] : [A Cat in Paris | 13 Assassins]\n",
      "\n",
      "[How to Train Your Dragon + Iron Man + Survive Style 5+ + Ponyo + A Cat in Paris + District B13] : [13 Assassins]\n",
      "\n",
      "[How to Train Your Dragon + Iron Man + Survive Style 5+ + 13 Assassins + The Intouchables + A Cat in Paris] : [Ponyo | District B13]\n",
      "\n",
      "[How to Train Your Dragon + Iron Man + Survive Style 5+ + 13 Assassins + The Intouchables + District B13] : [A Cat in Paris | Ponyo]\n",
      "\n",
      "[How to Train Your Dragon + Iron Man + Survive Style 5+ + 13 Assassins + A Cat in Paris + District B13] : [Ponyo]\n",
      "\n",
      "[How to Train Your Dragon + Iron Man + Survive Style 5+ + The Intouchables + A Cat in Paris + District B13] : [Ponyo | 13 Assassins]\n",
      "\n",
      "[How to Train Your Dragon + Iron Man + Ponyo + 13 Assassins + The Intouchables + A Cat in Paris] : [District B13]\n",
      "\n",
      "[How to Train Your Dragon + Iron Man + Ponyo + 13 Assassins + The Intouchables + District B13] : [A Cat in Paris]\n",
      "\n",
      "[How to Train Your Dragon + Iron Man + Ponyo + 13 Assassins + A Cat in Paris + District B13] : []\n",
      "\n",
      "[How to Train Your Dragon + Iron Man + Ponyo + The Intouchables + A Cat in Paris + District B13] : [13 Assassins]\n",
      "\n",
      "[How to Train Your Dragon + Iron Man + 13 Assassins + The Intouchables + A Cat in Paris + District B13] : [Ponyo]\n",
      "\n",
      "[How to Train Your Dragon + Survive Style 5+ + Ponyo + 13 Assassins + The Intouchables + A Cat in Paris] : [District B13]\n",
      "\n",
      "[How to Train Your Dragon + Survive Style 5+ + Ponyo + 13 Assassins + The Intouchables + District B13] : [A Cat in Paris]\n",
      "\n",
      "[How to Train Your Dragon + Survive Style 5+ + Ponyo + 13 Assassins + A Cat in Paris + District B13] : []\n",
      "\n",
      "[How to Train Your Dragon + Survive Style 5+ + Ponyo + The Intouchables + A Cat in Paris + District B13] : [13 Assassins]\n",
      "\n",
      "[How to Train Your Dragon + Survive Style 5+ + 13 Assassins + The Intouchables + A Cat in Paris + District B13] : [Ponyo]\n",
      "\n",
      "[How to Train Your Dragon + Ponyo + 13 Assassins + The Intouchables + A Cat in Paris + District B13] : []\n",
      "\n",
      "[Iron Man + Survive Style 5+ + Ponyo + 13 Assassins + The Intouchables + A Cat in Paris] : [District B13]\n",
      "\n",
      "[Iron Man + Survive Style 5+ + Ponyo + 13 Assassins + The Intouchables + District B13] : [A Cat in Paris]\n",
      "\n",
      "[Iron Man + Survive Style 5+ + Ponyo + 13 Assassins + A Cat in Paris + District B13] : []\n",
      "\n",
      "[Iron Man + Survive Style 5+ + Ponyo + The Intouchables + A Cat in Paris + District B13] : [13 Assassins]\n",
      "\n",
      "[Iron Man + Survive Style 5+ + 13 Assassins + The Intouchables + A Cat in Paris + District B13] : [Ponyo]\n",
      "\n",
      "[Iron Man + Ponyo + 13 Assassins + The Intouchables + A Cat in Paris + District B13] : [Survive Style 5+]\n",
      "\n",
      "[Survive Style 5+ + Ponyo + 13 Assassins + The Intouchables + A Cat in Paris + District B13] : []\n",
      "\n",
      "[The Hangover + How to Train Your Dragon + Iron Man + Survive Style 5+ + Ponyo + 13 Assassins + The Intouchables] : [A Cat in Paris]\n",
      "\n",
      "[The Hangover + How to Train Your Dragon + Iron Man + Survive Style 5+ + Ponyo + 13 Assassins + A Cat in Paris] : []\n",
      "\n",
      "[The Hangover + How to Train Your Dragon + Iron Man + Survive Style 5+ + Ponyo + 13 Assassins + District B13] : [A Cat in Paris]\n",
      "\n",
      "[The Hangover + How to Train Your Dragon + Iron Man + Survive Style 5+ + Ponyo + The Intouchables + A Cat in Paris] : []\n",
      "\n",
      "[The Hangover + How to Train Your Dragon + Iron Man + Survive Style 5+ + Ponyo + The Intouchables + District B13] : [A Cat in Paris]\n",
      "\n",
      "[The Hangover + How to Train Your Dragon + Iron Man + Survive Style 5+ + Ponyo + A Cat in Paris + District B13] : []\n",
      "\n",
      "[The Hangover + How to Train Your Dragon + Iron Man + Survive Style 5+ + 13 Assassins + The Intouchables + A Cat in Paris] : []\n",
      "\n",
      "[The Hangover + How to Train Your Dragon + Iron Man + Survive Style 5+ + 13 Assassins + The Intouchables + District B13] : [A Cat in Paris]\n",
      "\n",
      "[The Hangover + How to Train Your Dragon + Iron Man + Survive Style 5+ + 13 Assassins + A Cat in Paris + District B13] : []\n",
      "\n",
      "[The Hangover + How to Train Your Dragon + Iron Man + Survive Style 5+ + The Intouchables + A Cat in Paris + District B13] : []\n",
      "\n",
      "[The Hangover + How to Train Your Dragon + Iron Man + Ponyo + 13 Assassins + The Intouchables + A Cat in Paris] : []\n",
      "\n",
      "[The Hangover + How to Train Your Dragon + Iron Man + Ponyo + 13 Assassins + The Intouchables + District B13] : [A Cat in Paris]\n",
      "\n",
      "[The Hangover + How to Train Your Dragon + Iron Man + Ponyo + 13 Assassins + A Cat in Paris + District B13] : []\n",
      "\n",
      "[The Hangover + How to Train Your Dragon + Iron Man + Ponyo + The Intouchables + A Cat in Paris + District B13] : []\n",
      "\n",
      "[The Hangover + How to Train Your Dragon + Iron Man + 13 Assassins + The Intouchables + A Cat in Paris + District B13] : []\n",
      "\n",
      "[The Hangover + How to Train Your Dragon + Survive Style 5+ + Ponyo + 13 Assassins + The Intouchables + A Cat in Paris] : []\n",
      "\n",
      "[The Hangover + How to Train Your Dragon + Survive Style 5+ + Ponyo + 13 Assassins + The Intouchables + District B13] : [A Cat in Paris]\n",
      "\n",
      "[The Hangover + How to Train Your Dragon + Survive Style 5+ + Ponyo + 13 Assassins + A Cat in Paris + District B13] : [Iron Man]\n",
      "\n",
      "[The Hangover + How to Train Your Dragon + Survive Style 5+ + Ponyo + The Intouchables + A Cat in Paris + District B13] : []\n",
      "\n",
      "[The Hangover + How to Train Your Dragon + Survive Style 5+ + 13 Assassins + The Intouchables + A Cat in Paris + District B13] : [Ponyo | Iron Man]\n",
      "\n",
      "[The Hangover + How to Train Your Dragon + Ponyo + 13 Assassins + The Intouchables + A Cat in Paris + District B13] : []\n",
      "\n",
      "[The Hangover + Iron Man + Survive Style 5+ + Ponyo + 13 Assassins + The Intouchables + A Cat in Paris] : [District B13]\n",
      "\n",
      "[The Hangover + Iron Man + Survive Style 5+ + Ponyo + 13 Assassins + The Intouchables + District B13] : [A Cat in Paris]\n",
      "\n",
      "[The Hangover + Iron Man + Survive Style 5+ + Ponyo + 13 Assassins + A Cat in Paris + District B13] : []\n",
      "\n",
      "[The Hangover + Iron Man + Survive Style 5+ + Ponyo + The Intouchables + A Cat in Paris + District B13] : [13 Assassins | How to Train Your Dragon]\n",
      "\n",
      "[The Hangover + Iron Man + Survive Style 5+ + 13 Assassins + The Intouchables + A Cat in Paris + District B13] : []\n",
      "\n",
      "[The Hangover + Iron Man + Ponyo + 13 Assassins + The Intouchables + A Cat in Paris + District B13] : []\n",
      "\n",
      "[The Hangover + Survive Style 5+ + Ponyo + 13 Assassins + The Intouchables + A Cat in Paris + District B13] : []\n",
      "\n",
      "[How to Train Your Dragon + Iron Man + Survive Style 5+ + Ponyo + 13 Assassins + The Intouchables + A Cat in Paris] : [District B13]\n",
      "\n",
      "[How to Train Your Dragon + Iron Man + Survive Style 5+ + Ponyo + 13 Assassins + The Intouchables + District B13] : [A Cat in Paris]\n",
      "\n",
      "[How to Train Your Dragon + Iron Man + Survive Style 5+ + Ponyo + 13 Assassins + A Cat in Paris + District B13] : []\n",
      "\n",
      "[How to Train Your Dragon + Iron Man + Survive Style 5+ + Ponyo + The Intouchables + A Cat in Paris + District B13] : [13 Assassins]\n",
      "\n",
      "[How to Train Your Dragon + Iron Man + Survive Style 5+ + 13 Assassins + The Intouchables + A Cat in Paris + District B13] : [Ponyo]\n",
      "\n",
      "[How to Train Your Dragon + Iron Man + Ponyo + 13 Assassins + The Intouchables + A Cat in Paris + District B13] : []\n",
      "\n",
      "[How to Train Your Dragon + Survive Style 5+ + Ponyo + 13 Assassins + The Intouchables + A Cat in Paris + District B13] : []\n",
      "\n",
      "[Iron Man + Survive Style 5+ + Ponyo + 13 Assassins + The Intouchables + A Cat in Paris + District B13] : []\n",
      "\n",
      "[The Hangover + How to Train Your Dragon + Iron Man + Survive Style 5+ + Ponyo + 13 Assassins + The Intouchables + A Cat in Paris] : []\n",
      "\n",
      "[The Hangover + How to Train Your Dragon + Iron Man + Survive Style 5+ + Ponyo + 13 Assassins + The Intouchables + District B13] : [A Cat in Paris]\n",
      "\n",
      "[The Hangover + How to Train Your Dragon + Iron Man + Survive Style 5+ + Ponyo + 13 Assassins + A Cat in Paris + District B13] : []\n",
      "\n",
      "[The Hangover + How to Train Your Dragon + Iron Man + Survive Style 5+ + Ponyo + The Intouchables + A Cat in Paris + District B13] : []\n",
      "\n",
      "[The Hangover + How to Train Your Dragon + Iron Man + Survive Style 5+ + 13 Assassins + The Intouchables + A Cat in Paris + District B13] : []\n",
      "\n",
      "[The Hangover + How to Train Your Dragon + Iron Man + Ponyo + 13 Assassins + The Intouchables + A Cat in Paris + District B13] : []\n",
      "\n",
      "[The Hangover + How to Train Your Dragon + Survive Style 5+ + Ponyo + 13 Assassins + The Intouchables + A Cat in Paris + District B13] : []\n",
      "\n",
      "[The Hangover + Iron Man + Survive Style 5+ + Ponyo + 13 Assassins + The Intouchables + A Cat in Paris + District B13] : []\n",
      "\n",
      "[How to Train Your Dragon + Iron Man + Survive Style 5+ + Ponyo + 13 Assassins + The Intouchables + A Cat in Paris + District B13] : []\n"
     ]
    }
   ],
   "source": [
    "from itertools import combinations\n",
    "\n",
    "def get_all_combination_recommendations(movies, movie_names, max_size=8):\n",
    "    \"\"\"\n",
    "    Generate recommendations for all possible combinations of movies up to max_size.\n",
    "    \n",
    "    Args:\n",
    "        movies: List of movie IDs\n",
    "        movie_names: Dictionary mapping movie IDs to movie names\n",
    "        max_size: Maximum number of movies to combine (default: 8)\n",
    "    \n",
    "    Returns:\n",
    "        Dictionary mapping combination strings to recommendation strings\n",
    "    \"\"\"\n",
    "    results = {}\n",
    "    \n",
    "    # Generate all possible combinations from 1 to max_size movies\n",
    "    for r in range(1, max_size + 1):\n",
    "        for combo in combinations(movies, r):\n",
    "            # Get recommendations for this combination\n",
    "            recs = recommend_SAE(list(combo), movies, min_similarity=0.5)\n",
    "            \n",
    "            # Format the input movies\n",
    "            input_movies = [movie_names[movie_id] for movie_id in combo]\n",
    "            input_str = \" + \".join(input_movies)\n",
    "            \n",
    "            # Format the recommended movies\n",
    "            rec_movies = [movie_names[rec_id] for rec_id in recs]\n",
    "            rec_str = \" | \".join(rec_movies)\n",
    "            \n",
    "            # Store the result\n",
    "            results[input_str] = rec_str\n",
    "    \n",
    "    return results\n",
    "\n",
    "# Generate all recommendations\n",
    "all_recommendations = get_all_combination_recommendations(movies, movie_names)\n",
    "\n",
    "# Print results in a formatted way\n",
    "for input_movies, recommendations in all_recommendations.items():\n",
    "    print(f\"\\n[{input_movies}] : [{recommendations}]\")"
   ]
  }
 ],
 "metadata": {
  "kernelspec": {
   "display_name": ".venv",
   "language": "python",
   "name": "python3"
  },
  "language_info": {
   "codemirror_mode": {
    "name": "ipython",
    "version": 3
   },
   "file_extension": ".py",
   "mimetype": "text/x-python",
   "name": "python",
   "nbconvert_exporter": "python",
   "pygments_lexer": "ipython3",
   "version": "3.12.3"
  }
 },
 "nbformat": 4,
 "nbformat_minor": 2
}
