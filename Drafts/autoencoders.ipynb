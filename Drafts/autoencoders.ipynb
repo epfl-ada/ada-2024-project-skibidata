{
 "cells": [
  {
   "cell_type": "code",
   "execution_count": 1,
   "metadata": {},
   "outputs": [],
   "source": [
    "%load_ext autoreload\n",
    "%autoreload 2"
   ]
  },
  {
   "cell_type": "markdown",
   "metadata": {},
   "source": [
    "# Feature pre-pro for autoencoders"
   ]
  },
  {
   "cell_type": "code",
   "execution_count": 2,
   "metadata": {},
   "outputs": [
    {
     "data": {
      "text/html": [
       "<div>\n",
       "<style scoped>\n",
       "    .dataframe tbody tr th:only-of-type {\n",
       "        vertical-align: middle;\n",
       "    }\n",
       "\n",
       "    .dataframe tbody tr th {\n",
       "        vertical-align: top;\n",
       "    }\n",
       "\n",
       "    .dataframe thead th {\n",
       "        text-align: right;\n",
       "    }\n",
       "</style>\n",
       "<table border=\"1\" class=\"dataframe\">\n",
       "  <thead>\n",
       "    <tr style=\"text-align: right;\">\n",
       "      <th></th>\n",
       "      <th>Unnamed: 0</th>\n",
       "      <th>userId</th>\n",
       "      <th>movieId</th>\n",
       "      <th>rating</th>\n",
       "      <th>imdbId</th>\n",
       "    </tr>\n",
       "  </thead>\n",
       "  <tbody>\n",
       "  </tbody>\n",
       "</table>\n",
       "</div>"
      ],
      "text/plain": [
       "Empty DataFrame\n",
       "Columns: [Unnamed: 0, userId, movieId, rating, imdbId]\n",
       "Index: []"
      ]
     },
     "execution_count": 2,
     "metadata": {},
     "output_type": "execute_result"
    }
   ],
   "source": [
    "import pandas as pd\n",
    "\n",
    "ratings = pd.read_csv('../Data/df_filtered.csv')\n",
    "\n",
    "ratings[ratings.userId == 0]"
   ]
  },
  {
   "cell_type": "code",
   "execution_count": 3,
   "metadata": {},
   "outputs": [
    {
     "data": {
      "text/plain": [
       "Index(['Unnamed: 0', 'imdb_id', 'title', 'budget', 'genres_cmu', 'languages',\n",
       "       'original_language', 'spoken_languages', 'countries',\n",
       "       'production_companies', 'plot_summary', 'overview', 'tagline',\n",
       "       'keywords', 'popularity', 'vote_average', 'vote_count', 'cast', 'adult',\n",
       "       'belongs_to_collection', 'box_office_clean', 'release_date_clean',\n",
       "       'runtime_clean', 'director', 'day', 'month', 'year'],\n",
       "      dtype='object')"
      ]
     },
     "execution_count": 3,
     "metadata": {},
     "output_type": "execute_result"
    }
   ],
   "source": [
    "import pandas as pd\n",
    "\n",
    "features = pd.read_csv('../movie_metadata.csv')\n",
    "features.columns"
   ]
  },
  {
   "cell_type": "code",
   "execution_count": 4,
   "metadata": {},
   "outputs": [],
   "source": [
    "features[['title', 'imdb_id']].to_csv('movie_names.csv')"
   ]
  },
  {
   "cell_type": "code",
   "execution_count": 5,
   "metadata": {},
   "outputs": [
    {
     "data": {
      "text/plain": [
       "'Batman'"
      ]
     },
     "execution_count": 5,
     "metadata": {},
     "output_type": "execute_result"
    }
   ],
   "source": [
    "features['title'][1418]"
   ]
  },
  {
   "cell_type": "code",
   "execution_count": 6,
   "metadata": {},
   "outputs": [],
   "source": [
    "from ast import literal_eval\n",
    "\n",
    "features['keywords'] = features['keywords'].apply(literal_eval)"
   ]
  },
  {
   "cell_type": "code",
   "execution_count": 7,
   "metadata": {},
   "outputs": [
    {
     "name": "stdout",
     "output_type": "stream",
     "text": [
      " The dataframe has 300 different categories of keywords. Let' one hot encode !\n",
      " The dataframe has 77 different categories of original_language. Let' one hot encode !\n",
      " The dataframe has 100 different categories of genres_cmu. Let' one hot encode !\n"
     ]
    },
    {
     "data": {
      "text/plain": [
       "Index(['Unnamed: 0', 'imdb_id', 'title', 'budget', 'genres_cmu', 'languages',\n",
       "       'original_language', 'spoken_languages', 'countries',\n",
       "       'production_companies',\n",
       "       ...\n",
       "       'genre_Fantasy Comedy', 'genre_Political thriller', 'genre_Zombie Film',\n",
       "       'genre_Courtroom Drama', 'genre_Fantasy Adventure',\n",
       "       'genre_Domestic Comedy', 'genre_Experimental film',\n",
       "       'genre_Computer Animation', 'genre_Comedy of Errors', 'genre_Erotica'],\n",
       "      dtype='object', length=504)"
      ]
     },
     "execution_count": 7,
     "metadata": {},
     "output_type": "execute_result"
    }
   ],
   "source": [
    "import numpy as np\n",
    "\n",
    "def one_hot_encode(df, column_name, prefix, keeponly=100):\n",
    "    all_cat = {}\n",
    "    for cat in df[column_name]:\n",
    "\n",
    "        if isinstance(cat, str):\n",
    "            cat = [el.strip() for el in cat.split(',')]\n",
    "        \n",
    "        if not isinstance(cat, list):\n",
    "            continue\n",
    "        for el in cat:\n",
    "            if el not in all_cat:\n",
    "                all_cat[el] = 0        \n",
    "            all_cat[el] += 1\n",
    "    \n",
    "    sorted_cat = {k: v for k, v in sorted(all_cat.items(), reverse=True, key=lambda item: item[1])}\n",
    "    \n",
    "    all_cat = {v[0]: v[1] for v in (list(sorted_cat.items())[:keeponly])}\n",
    "\n",
    "\n",
    "    print(f' The dataframe has {len(all_cat)} different categories of {column_name}. Let\\' one hot encode !')\n",
    "    columns = []\n",
    "\n",
    "    for cat in all_cat:\n",
    "        columns.append(pd.DataFrame({f'{prefix}_{cat}': df[column_name].apply(lambda x: 1 if (not isinstance(x, float) and cat in x) else 0)}))\n",
    "    \n",
    "    return all_cat, pd.concat([df, *columns], axis=1)\n",
    "\n",
    "df = features.copy(deep=True)\n",
    "#all_countries, df = one_hot_encode(df, 'countries', 'country')\n",
    "all_keywords, df = one_hot_encode(df, 'keywords', 'keyword', 300)\n",
    "#all_languages, df = one_hot_encode(df, 'languages', 'language')\n",
    "all_languages, df = one_hot_encode(df, 'original_language', 'origin_lang')\n",
    "all_genres, df = one_hot_encode(df, 'genres_cmu', 'genre')\n",
    "df.columns"
   ]
  },
  {
   "cell_type": "code",
   "execution_count": 8,
   "metadata": {},
   "outputs": [
    {
     "name": "stderr",
     "output_type": "stream",
     "text": [
      "/tmp/ipykernel_107629/972312380.py:20: PerformanceWarning: DataFrame is highly fragmented.  This is usually the result of calling `frame.insert` many times, which has poor performance.  Consider joining all columns at once using pd.concat(axis=1) instead. To get a de-fragmented frame, use `newframe = frame.copy()`\n",
      "  df['box_office_normalized'] = np.log(df['box_office_clean'].replace(0, 1))\n",
      "/tmp/ipykernel_107629/972312380.py:14: FutureWarning: Setting an item of incompatible dtype is deprecated and will raise an error in a future version of pandas. Value '[ 0.58021779 -2.05541226  0.4128762  ... -1.92990606  0.83123017\n",
      "  0.99857176]' has dtype incompatible with int64, please explicitly cast to a compatible dtype first.\n",
      "  df.loc[mask, column_name] = ( col - col.mean()) / col.std()\n",
      "/tmp/ipykernel_107629/972312380.py:22: PerformanceWarning: DataFrame is highly fragmented.  This is usually the result of calling `frame.insert` many times, which has poor performance.  Consider joining all columns at once using pd.concat(axis=1) instead. To get a de-fragmented frame, use `newframe = frame.copy()`\n",
      "  df['year_normalized'] = normalize_without_nan(df, 'year', 0, clip=5)\n",
      "/tmp/ipykernel_107629/972312380.py:23: PerformanceWarning: DataFrame is highly fragmented.  This is usually the result of calling `frame.insert` many times, which has poor performance.  Consider joining all columns at once using pd.concat(axis=1) instead. To get a de-fragmented frame, use `newframe = frame.copy()`\n",
      "  df['runtime_normalized'] = normalize_without_nan(df, 'runtime_clean', clip=5)\n"
     ]
    }
   ],
   "source": [
    "def normalize_without_nan(df, column_name, nan_val=None, clip=None):\n",
    "    mask = df[column_name].isna()\n",
    "    if nan_val is not None:\n",
    "        mask = mask | (df[column_name] == nan_val)\n",
    "    mask = ~mask\n",
    "\n",
    "    \n",
    "    col = df.loc[mask, column_name]\n",
    "\n",
    "\n",
    "    if clip is not None:\n",
    "        col = np.clip(col, np.mean(col) - clip* np.std(col), np.mean(col) + clip * np.std(col))\n",
    "\n",
    "    df.loc[mask, column_name] = ( col - col.mean()) / col.std()\n",
    "\n",
    "    df.fillna({column_name: 0}, inplace=True)\n",
    "\n",
    "    return df[column_name]\n",
    "\n",
    "df['box_office_normalized'] = np.log(df['box_office_clean'].replace(0, 1))\n",
    "df['box_office_normalized'] = normalize_without_nan(df, 'box_office_normalized', clip=5)\n",
    "df['year_normalized'] = normalize_without_nan(df, 'year', 0, clip=5)\n",
    "df['runtime_normalized'] = normalize_without_nan(df, 'runtime_clean', clip=5)"
   ]
  },
  {
   "cell_type": "code",
   "execution_count": 9,
   "metadata": {},
   "outputs": [
    {
     "name": "stdout",
     "output_type": "stream",
     "text": [
      "Numer of na : 0\n",
      "Feature matrix shape: (27329, 480)\n"
     ]
    }
   ],
   "source": [
    "\n",
    "# Create final feature matrix\n",
    "feature_columns = (\n",
    "    [f'genre_{genre}' for genre in all_genres] +\n",
    "    #[f'country_{country}' for country in all_countries] +\n",
    "    [f'origin_lang_{language}' for language in all_languages] +\n",
    "    [f'keyword_{keyword}' for keyword in all_keywords] +\n",
    "    ['runtime_normalized', 'box_office_normalized'] +\n",
    "    ['year_normalized']\n",
    ")\n",
    "\n",
    "# Create feature matrix\n",
    "X = df[feature_columns]\n",
    "print(f'Numer of na : {np.isnan(X).sum().sum()}')\n",
    "\n",
    "# Print some information about the features\n",
    "print(\"Feature matrix shape:\", X.shape)\n",
    "\n",
    "df['year'] = features['year']"
   ]
  },
  {
   "cell_type": "code",
   "execution_count": 10,
   "metadata": {},
   "outputs": [],
   "source": [
    "import torch\n",
    "\n",
    "X_tensor = torch.Tensor(X.values)\n"
   ]
  },
  {
   "cell_type": "code",
   "execution_count": 177,
   "metadata": {},
   "outputs": [],
   "source": [
    "torch.save(X_tensor, 'torch_tensor.pt', )"
   ]
  },
  {
   "cell_type": "markdown",
   "metadata": {},
   "source": [
    "# Model"
   ]
  },
  {
   "cell_type": "code",
   "execution_count": 1,
   "metadata": {},
   "outputs": [],
   "source": [
    "from autoencoder import SparseMovieAutoencoder\n"
   ]
  },
  {
   "cell_type": "markdown",
   "metadata": {},
   "source": [
    "## Load previous"
   ]
  },
  {
   "cell_type": "code",
   "execution_count": 12,
   "metadata": {},
   "outputs": [
    {
     "data": {
      "text/plain": [
       "SparseMovieAutoencoder(\n",
       "  (encoder): Sequential(\n",
       "    (0): Linear(in_features=480, out_features=50, bias=True)\n",
       "    (1): ReLU()\n",
       "  )\n",
       "  (decoder): Sequential(\n",
       "    (0): Linear(in_features=50, out_features=480, bias=True)\n",
       "    (1): Sigmoid()\n",
       "  )\n",
       ")"
      ]
     },
     "execution_count": 12,
     "metadata": {},
     "output_type": "execute_result"
    }
   ],
   "source": [
    "input_dim = X_tensor.shape[1]  # number of features after one-hot encoding\n",
    "encoding_dim = 50 # this is a hyperparameter you can tune\n",
    "sae = SparseMovieAutoencoder(input_dim=input_dim, encoding_dim=encoding_dim, sparsity_param= 0.01, beta=0.01)\n",
    "\n",
    "sae.load_state_dict(torch.load('model_current', weights_only=True))\n",
    "sae.eval()"
   ]
  },
  {
   "cell_type": "code",
   "execution_count": 14,
   "metadata": {},
   "outputs": [],
   "source": [
    "encodings, _ = sae(X_tensor)"
   ]
  },
  {
   "cell_type": "code",
   "execution_count": 21,
   "metadata": {},
   "outputs": [],
   "source": [
    "np.save('SAE_embedding.npy', encodings.detach().numpy())"
   ]
  },
  {
   "cell_type": "code",
   "execution_count": 30,
   "metadata": {},
   "outputs": [],
   "source": [
    "mapping_SAE = {int(imdb[2:]): id for id, imdb in enumerate(features['imdb_id'])}\n",
    "reverse_mapping_SAE = {key: value for value, key in mapping_SAE.items()}\n",
    "np.save('mapping_SAE.npy', mapping_SAE)\n",
    "np.save('reverse_mapping_SAE.npy', reverse_mapping_SAE)"
   ]
  },
  {
   "cell_type": "code",
   "execution_count": 75,
   "metadata": {},
   "outputs": [
    {
     "name": "stdout",
     "output_type": "stream",
     "text": [
      "[18011 14823 11136   644 26507]\n",
      "[120363, 116683, 198781, 101329, 117705]\n"
     ]
    }
   ],
   "source": [
    "# Example to get recommendations\n",
    "\n",
    "from sklearn.metrics.pairwise import cosine_similarity\n",
    "\n",
    "\n",
    "\n",
    "imdbid = ['tt0114709', 'tt0126029']\n",
    "encodings = np.load('SAE_embedding.npy')\n",
    "\n",
    "similarities = np.zeros(encodings.shape[0])\n",
    "\n",
    "for movie in imdbid:\n",
    "\n",
    "    id = mapping_SAE[int(movie[2:])]\n",
    "\n",
    "    embedding = encodings[id].reshape(1,-1)\n",
    "\n",
    "    similarities += cosine_similarity(encodings, embedding).ravel()\n",
    "\n",
    "    similarities[id] = float('-inf')\n",
    "\n",
    "similar_indices = np.argsort(similarities)[::-1]\n",
    "print(similar_indices[:5])\n",
    "recommendations = [reverse_mapping_SAE[rec_id] for rec_id in similar_indices[:5]]\n",
    "\n",
    "print(recommendations)"
   ]
  },
  {
   "cell_type": "markdown",
   "metadata": {},
   "source": [
    "## Retrain model"
   ]
  },
  {
   "cell_type": "code",
   "execution_count": 178,
   "metadata": {},
   "outputs": [],
   "source": [
    "def analyze_encodings(encodings):\n",
    "    \"\"\"Analyze encoding statistics\"\"\"\n",
    "    with torch.no_grad():\n",
    "        # Move to CPU for analysis\n",
    "        encodings_cpu = encodings.cpu()\n",
    "        \n",
    "        # Calculate sparsity ratio (proportion of near-zero values)\n",
    "        sparsity_threshold = 1e-3\n",
    "        sparsity_ratio = (torch.abs(encodings_cpu) < sparsity_threshold).float().mean().item()\n",
    "        \n",
    "        # Calculate average activation\n",
    "        avg_activation = torch.mean(torch.abs(encodings_cpu)).item()\n",
    "        \n",
    "        # Calculate standard deviation across features\n",
    "        encoding_std = torch.std(encodings_cpu, dim=0).mean().item()\n",
    "        \n",
    "        return sparsity_ratio, avg_activation, encoding_std\n"
   ]
  },
  {
   "cell_type": "code",
   "execution_count": 186,
   "metadata": {},
   "outputs": [
    {
     "name": "stdout",
     "output_type": "stream",
     "text": [
      "Starting training...\n",
      "Epoch 0: Loss=0.0690, Sparsity Ratio=0.3091, Avg Activation=0.0215\n",
      "Epoch 1: Loss=0.0438, Sparsity Ratio=0.4899, Avg Activation=0.0177\n",
      "Epoch 2: Loss=0.0351, Sparsity Ratio=0.6289, Avg Activation=0.0134\n",
      "Epoch 3: Loss=0.0317, Sparsity Ratio=0.6618, Avg Activation=0.0123\n",
      "Epoch 4: Loss=0.0290, Sparsity Ratio=0.6536, Avg Activation=0.0119\n",
      "Epoch 5: Loss=0.0267, Sparsity Ratio=0.6498, Avg Activation=0.0114\n",
      "Epoch 6: Loss=0.0242, Sparsity Ratio=0.6483, Avg Activation=0.0111\n",
      "Epoch 7: Loss=0.0243, Sparsity Ratio=0.6473, Avg Activation=0.0110\n",
      "Epoch 8: Loss=0.0243, Sparsity Ratio=0.6450, Avg Activation=0.0110\n",
      "Epoch 9: Loss=0.0236, Sparsity Ratio=0.6412, Avg Activation=0.0110\n",
      "Epoch 10: Loss=0.0239, Sparsity Ratio=0.6422, Avg Activation=0.0110\n",
      "Epoch 11: Loss=0.0243, Sparsity Ratio=0.6455, Avg Activation=0.0110\n"
     ]
    },
    {
     "ename": "KeyboardInterrupt",
     "evalue": "",
     "output_type": "error",
     "traceback": [
      "\u001b[0;31m---------------------------------------------------------------------------\u001b[0m",
      "\u001b[0;31mKeyboardInterrupt\u001b[0m                         Traceback (most recent call last)",
      "Cell \u001b[0;32mIn[186], line 59\u001b[0m\n\u001b[1;32m     57\u001b[0m \u001b[38;5;66;03m# Backward pass\u001b[39;00m\n\u001b[1;32m     58\u001b[0m loss\u001b[38;5;241m.\u001b[39mbackward()\n\u001b[0;32m---> 59\u001b[0m \u001b[43moptimizer\u001b[49m\u001b[38;5;241;43m.\u001b[39;49m\u001b[43mstep\u001b[49m\u001b[43m(\u001b[49m\u001b[43m)\u001b[49m\n\u001b[1;32m     61\u001b[0m total_loss \u001b[38;5;241m+\u001b[39m\u001b[38;5;241m=\u001b[39m loss\u001b[38;5;241m.\u001b[39mitem()\n\u001b[1;32m     62\u001b[0m recon_loss \u001b[38;5;241m+\u001b[39m\u001b[38;5;241m=\u001b[39m reconstruction_loss\u001b[38;5;241m.\u001b[39mitem()\n",
      "File \u001b[0;32m~/Documents/EPFL/ada-2024-project-skibidata/.venv/lib/python3.12/site-packages/torch/optim/optimizer.py:487\u001b[0m, in \u001b[0;36mOptimizer.profile_hook_step.<locals>.wrapper\u001b[0;34m(*args, **kwargs)\u001b[0m\n\u001b[1;32m    482\u001b[0m         \u001b[38;5;28;01melse\u001b[39;00m:\n\u001b[1;32m    483\u001b[0m             \u001b[38;5;28;01mraise\u001b[39;00m \u001b[38;5;167;01mRuntimeError\u001b[39;00m(\n\u001b[1;32m    484\u001b[0m                 \u001b[38;5;124mf\u001b[39m\u001b[38;5;124m\"\u001b[39m\u001b[38;5;132;01m{\u001b[39;00mfunc\u001b[38;5;132;01m}\u001b[39;00m\u001b[38;5;124m must return None or a tuple of (new_args, new_kwargs), but got \u001b[39m\u001b[38;5;132;01m{\u001b[39;00mresult\u001b[38;5;132;01m}\u001b[39;00m\u001b[38;5;124m.\u001b[39m\u001b[38;5;124m\"\u001b[39m\n\u001b[1;32m    485\u001b[0m             )\n\u001b[0;32m--> 487\u001b[0m out \u001b[38;5;241m=\u001b[39m \u001b[43mfunc\u001b[49m\u001b[43m(\u001b[49m\u001b[38;5;241;43m*\u001b[39;49m\u001b[43margs\u001b[49m\u001b[43m,\u001b[49m\u001b[43m \u001b[49m\u001b[38;5;241;43m*\u001b[39;49m\u001b[38;5;241;43m*\u001b[39;49m\u001b[43mkwargs\u001b[49m\u001b[43m)\u001b[49m\n\u001b[1;32m    488\u001b[0m \u001b[38;5;28mself\u001b[39m\u001b[38;5;241m.\u001b[39m_optimizer_step_code()\n\u001b[1;32m    490\u001b[0m \u001b[38;5;66;03m# call optimizer step post hooks\u001b[39;00m\n",
      "File \u001b[0;32m~/Documents/EPFL/ada-2024-project-skibidata/.venv/lib/python3.12/site-packages/torch/optim/optimizer.py:91\u001b[0m, in \u001b[0;36m_use_grad_for_differentiable.<locals>._use_grad\u001b[0;34m(self, *args, **kwargs)\u001b[0m\n\u001b[1;32m     89\u001b[0m     torch\u001b[38;5;241m.\u001b[39mset_grad_enabled(\u001b[38;5;28mself\u001b[39m\u001b[38;5;241m.\u001b[39mdefaults[\u001b[38;5;124m\"\u001b[39m\u001b[38;5;124mdifferentiable\u001b[39m\u001b[38;5;124m\"\u001b[39m])\n\u001b[1;32m     90\u001b[0m     torch\u001b[38;5;241m.\u001b[39m_dynamo\u001b[38;5;241m.\u001b[39mgraph_break()\n\u001b[0;32m---> 91\u001b[0m     ret \u001b[38;5;241m=\u001b[39m \u001b[43mfunc\u001b[49m\u001b[43m(\u001b[49m\u001b[38;5;28;43mself\u001b[39;49m\u001b[43m,\u001b[49m\u001b[43m \u001b[49m\u001b[38;5;241;43m*\u001b[39;49m\u001b[43margs\u001b[49m\u001b[43m,\u001b[49m\u001b[43m \u001b[49m\u001b[38;5;241;43m*\u001b[39;49m\u001b[38;5;241;43m*\u001b[39;49m\u001b[43mkwargs\u001b[49m\u001b[43m)\u001b[49m\n\u001b[1;32m     92\u001b[0m \u001b[38;5;28;01mfinally\u001b[39;00m:\n\u001b[1;32m     93\u001b[0m     torch\u001b[38;5;241m.\u001b[39m_dynamo\u001b[38;5;241m.\u001b[39mgraph_break()\n",
      "File \u001b[0;32m~/Documents/EPFL/ada-2024-project-skibidata/.venv/lib/python3.12/site-packages/torch/optim/adam.py:223\u001b[0m, in \u001b[0;36mAdam.step\u001b[0;34m(self, closure)\u001b[0m\n\u001b[1;32m    211\u001b[0m     beta1, beta2 \u001b[38;5;241m=\u001b[39m group[\u001b[38;5;124m\"\u001b[39m\u001b[38;5;124mbetas\u001b[39m\u001b[38;5;124m\"\u001b[39m]\n\u001b[1;32m    213\u001b[0m     has_complex \u001b[38;5;241m=\u001b[39m \u001b[38;5;28mself\u001b[39m\u001b[38;5;241m.\u001b[39m_init_group(\n\u001b[1;32m    214\u001b[0m         group,\n\u001b[1;32m    215\u001b[0m         params_with_grad,\n\u001b[0;32m   (...)\u001b[0m\n\u001b[1;32m    220\u001b[0m         state_steps,\n\u001b[1;32m    221\u001b[0m     )\n\u001b[0;32m--> 223\u001b[0m     \u001b[43madam\u001b[49m\u001b[43m(\u001b[49m\n\u001b[1;32m    224\u001b[0m \u001b[43m        \u001b[49m\u001b[43mparams_with_grad\u001b[49m\u001b[43m,\u001b[49m\n\u001b[1;32m    225\u001b[0m \u001b[43m        \u001b[49m\u001b[43mgrads\u001b[49m\u001b[43m,\u001b[49m\n\u001b[1;32m    226\u001b[0m \u001b[43m        \u001b[49m\u001b[43mexp_avgs\u001b[49m\u001b[43m,\u001b[49m\n\u001b[1;32m    227\u001b[0m \u001b[43m        \u001b[49m\u001b[43mexp_avg_sqs\u001b[49m\u001b[43m,\u001b[49m\n\u001b[1;32m    228\u001b[0m \u001b[43m        \u001b[49m\u001b[43mmax_exp_avg_sqs\u001b[49m\u001b[43m,\u001b[49m\n\u001b[1;32m    229\u001b[0m \u001b[43m        \u001b[49m\u001b[43mstate_steps\u001b[49m\u001b[43m,\u001b[49m\n\u001b[1;32m    230\u001b[0m \u001b[43m        \u001b[49m\u001b[43mamsgrad\u001b[49m\u001b[38;5;241;43m=\u001b[39;49m\u001b[43mgroup\u001b[49m\u001b[43m[\u001b[49m\u001b[38;5;124;43m\"\u001b[39;49m\u001b[38;5;124;43mamsgrad\u001b[39;49m\u001b[38;5;124;43m\"\u001b[39;49m\u001b[43m]\u001b[49m\u001b[43m,\u001b[49m\n\u001b[1;32m    231\u001b[0m \u001b[43m        \u001b[49m\u001b[43mhas_complex\u001b[49m\u001b[38;5;241;43m=\u001b[39;49m\u001b[43mhas_complex\u001b[49m\u001b[43m,\u001b[49m\n\u001b[1;32m    232\u001b[0m \u001b[43m        \u001b[49m\u001b[43mbeta1\u001b[49m\u001b[38;5;241;43m=\u001b[39;49m\u001b[43mbeta1\u001b[49m\u001b[43m,\u001b[49m\n\u001b[1;32m    233\u001b[0m \u001b[43m        \u001b[49m\u001b[43mbeta2\u001b[49m\u001b[38;5;241;43m=\u001b[39;49m\u001b[43mbeta2\u001b[49m\u001b[43m,\u001b[49m\n\u001b[1;32m    234\u001b[0m \u001b[43m        \u001b[49m\u001b[43mlr\u001b[49m\u001b[38;5;241;43m=\u001b[39;49m\u001b[43mgroup\u001b[49m\u001b[43m[\u001b[49m\u001b[38;5;124;43m\"\u001b[39;49m\u001b[38;5;124;43mlr\u001b[39;49m\u001b[38;5;124;43m\"\u001b[39;49m\u001b[43m]\u001b[49m\u001b[43m,\u001b[49m\n\u001b[1;32m    235\u001b[0m \u001b[43m        \u001b[49m\u001b[43mweight_decay\u001b[49m\u001b[38;5;241;43m=\u001b[39;49m\u001b[43mgroup\u001b[49m\u001b[43m[\u001b[49m\u001b[38;5;124;43m\"\u001b[39;49m\u001b[38;5;124;43mweight_decay\u001b[39;49m\u001b[38;5;124;43m\"\u001b[39;49m\u001b[43m]\u001b[49m\u001b[43m,\u001b[49m\n\u001b[1;32m    236\u001b[0m \u001b[43m        \u001b[49m\u001b[43meps\u001b[49m\u001b[38;5;241;43m=\u001b[39;49m\u001b[43mgroup\u001b[49m\u001b[43m[\u001b[49m\u001b[38;5;124;43m\"\u001b[39;49m\u001b[38;5;124;43meps\u001b[39;49m\u001b[38;5;124;43m\"\u001b[39;49m\u001b[43m]\u001b[49m\u001b[43m,\u001b[49m\n\u001b[1;32m    237\u001b[0m \u001b[43m        \u001b[49m\u001b[43mmaximize\u001b[49m\u001b[38;5;241;43m=\u001b[39;49m\u001b[43mgroup\u001b[49m\u001b[43m[\u001b[49m\u001b[38;5;124;43m\"\u001b[39;49m\u001b[38;5;124;43mmaximize\u001b[39;49m\u001b[38;5;124;43m\"\u001b[39;49m\u001b[43m]\u001b[49m\u001b[43m,\u001b[49m\n\u001b[1;32m    238\u001b[0m \u001b[43m        \u001b[49m\u001b[43mforeach\u001b[49m\u001b[38;5;241;43m=\u001b[39;49m\u001b[43mgroup\u001b[49m\u001b[43m[\u001b[49m\u001b[38;5;124;43m\"\u001b[39;49m\u001b[38;5;124;43mforeach\u001b[39;49m\u001b[38;5;124;43m\"\u001b[39;49m\u001b[43m]\u001b[49m\u001b[43m,\u001b[49m\n\u001b[1;32m    239\u001b[0m \u001b[43m        \u001b[49m\u001b[43mcapturable\u001b[49m\u001b[38;5;241;43m=\u001b[39;49m\u001b[43mgroup\u001b[49m\u001b[43m[\u001b[49m\u001b[38;5;124;43m\"\u001b[39;49m\u001b[38;5;124;43mcapturable\u001b[39;49m\u001b[38;5;124;43m\"\u001b[39;49m\u001b[43m]\u001b[49m\u001b[43m,\u001b[49m\n\u001b[1;32m    240\u001b[0m \u001b[43m        \u001b[49m\u001b[43mdifferentiable\u001b[49m\u001b[38;5;241;43m=\u001b[39;49m\u001b[43mgroup\u001b[49m\u001b[43m[\u001b[49m\u001b[38;5;124;43m\"\u001b[39;49m\u001b[38;5;124;43mdifferentiable\u001b[39;49m\u001b[38;5;124;43m\"\u001b[39;49m\u001b[43m]\u001b[49m\u001b[43m,\u001b[49m\n\u001b[1;32m    241\u001b[0m \u001b[43m        \u001b[49m\u001b[43mfused\u001b[49m\u001b[38;5;241;43m=\u001b[39;49m\u001b[43mgroup\u001b[49m\u001b[43m[\u001b[49m\u001b[38;5;124;43m\"\u001b[39;49m\u001b[38;5;124;43mfused\u001b[39;49m\u001b[38;5;124;43m\"\u001b[39;49m\u001b[43m]\u001b[49m\u001b[43m,\u001b[49m\n\u001b[1;32m    242\u001b[0m \u001b[43m        \u001b[49m\u001b[43mgrad_scale\u001b[49m\u001b[38;5;241;43m=\u001b[39;49m\u001b[38;5;28;43mgetattr\u001b[39;49m\u001b[43m(\u001b[49m\u001b[38;5;28;43mself\u001b[39;49m\u001b[43m,\u001b[49m\u001b[43m \u001b[49m\u001b[38;5;124;43m\"\u001b[39;49m\u001b[38;5;124;43mgrad_scale\u001b[39;49m\u001b[38;5;124;43m\"\u001b[39;49m\u001b[43m,\u001b[49m\u001b[43m \u001b[49m\u001b[38;5;28;43;01mNone\u001b[39;49;00m\u001b[43m)\u001b[49m\u001b[43m,\u001b[49m\n\u001b[1;32m    243\u001b[0m \u001b[43m        \u001b[49m\u001b[43mfound_inf\u001b[49m\u001b[38;5;241;43m=\u001b[39;49m\u001b[38;5;28;43mgetattr\u001b[39;49m\u001b[43m(\u001b[49m\u001b[38;5;28;43mself\u001b[39;49m\u001b[43m,\u001b[49m\u001b[43m \u001b[49m\u001b[38;5;124;43m\"\u001b[39;49m\u001b[38;5;124;43mfound_inf\u001b[39;49m\u001b[38;5;124;43m\"\u001b[39;49m\u001b[43m,\u001b[49m\u001b[43m \u001b[49m\u001b[38;5;28;43;01mNone\u001b[39;49;00m\u001b[43m)\u001b[49m\u001b[43m,\u001b[49m\n\u001b[1;32m    244\u001b[0m \u001b[43m    \u001b[49m\u001b[43m)\u001b[49m\n\u001b[1;32m    246\u001b[0m \u001b[38;5;28;01mreturn\u001b[39;00m loss\n",
      "File \u001b[0;32m~/Documents/EPFL/ada-2024-project-skibidata/.venv/lib/python3.12/site-packages/torch/optim/optimizer.py:154\u001b[0m, in \u001b[0;36m_disable_dynamo_if_unsupported.<locals>.wrapper.<locals>.maybe_fallback\u001b[0;34m(*args, **kwargs)\u001b[0m\n\u001b[1;32m    152\u001b[0m     \u001b[38;5;28;01mreturn\u001b[39;00m disabled_func(\u001b[38;5;241m*\u001b[39margs, \u001b[38;5;241m*\u001b[39m\u001b[38;5;241m*\u001b[39mkwargs)\n\u001b[1;32m    153\u001b[0m \u001b[38;5;28;01melse\u001b[39;00m:\n\u001b[0;32m--> 154\u001b[0m     \u001b[38;5;28;01mreturn\u001b[39;00m \u001b[43mfunc\u001b[49m\u001b[43m(\u001b[49m\u001b[38;5;241;43m*\u001b[39;49m\u001b[43margs\u001b[49m\u001b[43m,\u001b[49m\u001b[43m \u001b[49m\u001b[38;5;241;43m*\u001b[39;49m\u001b[38;5;241;43m*\u001b[39;49m\u001b[43mkwargs\u001b[49m\u001b[43m)\u001b[49m\n",
      "File \u001b[0;32m~/Documents/EPFL/ada-2024-project-skibidata/.venv/lib/python3.12/site-packages/torch/optim/adam.py:784\u001b[0m, in \u001b[0;36madam\u001b[0;34m(params, grads, exp_avgs, exp_avg_sqs, max_exp_avg_sqs, state_steps, foreach, capturable, differentiable, fused, grad_scale, found_inf, has_complex, amsgrad, beta1, beta2, lr, weight_decay, eps, maximize)\u001b[0m\n\u001b[1;32m    781\u001b[0m \u001b[38;5;28;01melse\u001b[39;00m:\n\u001b[1;32m    782\u001b[0m     func \u001b[38;5;241m=\u001b[39m _single_tensor_adam\n\u001b[0;32m--> 784\u001b[0m \u001b[43mfunc\u001b[49m\u001b[43m(\u001b[49m\n\u001b[1;32m    785\u001b[0m \u001b[43m    \u001b[49m\u001b[43mparams\u001b[49m\u001b[43m,\u001b[49m\n\u001b[1;32m    786\u001b[0m \u001b[43m    \u001b[49m\u001b[43mgrads\u001b[49m\u001b[43m,\u001b[49m\n\u001b[1;32m    787\u001b[0m \u001b[43m    \u001b[49m\u001b[43mexp_avgs\u001b[49m\u001b[43m,\u001b[49m\n\u001b[1;32m    788\u001b[0m \u001b[43m    \u001b[49m\u001b[43mexp_avg_sqs\u001b[49m\u001b[43m,\u001b[49m\n\u001b[1;32m    789\u001b[0m \u001b[43m    \u001b[49m\u001b[43mmax_exp_avg_sqs\u001b[49m\u001b[43m,\u001b[49m\n\u001b[1;32m    790\u001b[0m \u001b[43m    \u001b[49m\u001b[43mstate_steps\u001b[49m\u001b[43m,\u001b[49m\n\u001b[1;32m    791\u001b[0m \u001b[43m    \u001b[49m\u001b[43mamsgrad\u001b[49m\u001b[38;5;241;43m=\u001b[39;49m\u001b[43mamsgrad\u001b[49m\u001b[43m,\u001b[49m\n\u001b[1;32m    792\u001b[0m \u001b[43m    \u001b[49m\u001b[43mhas_complex\u001b[49m\u001b[38;5;241;43m=\u001b[39;49m\u001b[43mhas_complex\u001b[49m\u001b[43m,\u001b[49m\n\u001b[1;32m    793\u001b[0m \u001b[43m    \u001b[49m\u001b[43mbeta1\u001b[49m\u001b[38;5;241;43m=\u001b[39;49m\u001b[43mbeta1\u001b[49m\u001b[43m,\u001b[49m\n\u001b[1;32m    794\u001b[0m \u001b[43m    \u001b[49m\u001b[43mbeta2\u001b[49m\u001b[38;5;241;43m=\u001b[39;49m\u001b[43mbeta2\u001b[49m\u001b[43m,\u001b[49m\n\u001b[1;32m    795\u001b[0m \u001b[43m    \u001b[49m\u001b[43mlr\u001b[49m\u001b[38;5;241;43m=\u001b[39;49m\u001b[43mlr\u001b[49m\u001b[43m,\u001b[49m\n\u001b[1;32m    796\u001b[0m \u001b[43m    \u001b[49m\u001b[43mweight_decay\u001b[49m\u001b[38;5;241;43m=\u001b[39;49m\u001b[43mweight_decay\u001b[49m\u001b[43m,\u001b[49m\n\u001b[1;32m    797\u001b[0m \u001b[43m    \u001b[49m\u001b[43meps\u001b[49m\u001b[38;5;241;43m=\u001b[39;49m\u001b[43meps\u001b[49m\u001b[43m,\u001b[49m\n\u001b[1;32m    798\u001b[0m \u001b[43m    \u001b[49m\u001b[43mmaximize\u001b[49m\u001b[38;5;241;43m=\u001b[39;49m\u001b[43mmaximize\u001b[49m\u001b[43m,\u001b[49m\n\u001b[1;32m    799\u001b[0m \u001b[43m    \u001b[49m\u001b[43mcapturable\u001b[49m\u001b[38;5;241;43m=\u001b[39;49m\u001b[43mcapturable\u001b[49m\u001b[43m,\u001b[49m\n\u001b[1;32m    800\u001b[0m \u001b[43m    \u001b[49m\u001b[43mdifferentiable\u001b[49m\u001b[38;5;241;43m=\u001b[39;49m\u001b[43mdifferentiable\u001b[49m\u001b[43m,\u001b[49m\n\u001b[1;32m    801\u001b[0m \u001b[43m    \u001b[49m\u001b[43mgrad_scale\u001b[49m\u001b[38;5;241;43m=\u001b[39;49m\u001b[43mgrad_scale\u001b[49m\u001b[43m,\u001b[49m\n\u001b[1;32m    802\u001b[0m \u001b[43m    \u001b[49m\u001b[43mfound_inf\u001b[49m\u001b[38;5;241;43m=\u001b[39;49m\u001b[43mfound_inf\u001b[49m\u001b[43m,\u001b[49m\n\u001b[1;32m    803\u001b[0m \u001b[43m\u001b[49m\u001b[43m)\u001b[49m\n",
      "File \u001b[0;32m~/Documents/EPFL/ada-2024-project-skibidata/.venv/lib/python3.12/site-packages/torch/optim/adam.py:367\u001b[0m, in \u001b[0;36m_single_tensor_adam\u001b[0;34m(params, grads, exp_avgs, exp_avg_sqs, max_exp_avg_sqs, state_steps, grad_scale, found_inf, amsgrad, has_complex, beta1, beta2, lr, weight_decay, eps, maximize, capturable, differentiable)\u001b[0m\n\u001b[1;32m    364\u001b[0m step_t \u001b[38;5;241m+\u001b[39m\u001b[38;5;241m=\u001b[39m \u001b[38;5;241m1\u001b[39m\n\u001b[1;32m    366\u001b[0m \u001b[38;5;28;01mif\u001b[39;00m weight_decay \u001b[38;5;241m!=\u001b[39m \u001b[38;5;241m0\u001b[39m:\n\u001b[0;32m--> 367\u001b[0m     grad \u001b[38;5;241m=\u001b[39m \u001b[43mgrad\u001b[49m\u001b[38;5;241;43m.\u001b[39;49m\u001b[43madd\u001b[49m\u001b[43m(\u001b[49m\u001b[43mparam\u001b[49m\u001b[43m,\u001b[49m\u001b[43m \u001b[49m\u001b[43malpha\u001b[49m\u001b[38;5;241;43m=\u001b[39;49m\u001b[43mweight_decay\u001b[49m\u001b[43m)\u001b[49m\n\u001b[1;32m    369\u001b[0m \u001b[38;5;28;01mif\u001b[39;00m torch\u001b[38;5;241m.\u001b[39mis_complex(param):\n\u001b[1;32m    370\u001b[0m     grad \u001b[38;5;241m=\u001b[39m torch\u001b[38;5;241m.\u001b[39mview_as_real(grad)\n",
      "\u001b[0;31mKeyboardInterrupt\u001b[0m: "
     ]
    }
   ],
   "source": [
    "from torch.utils.data import TensorDataset\n",
    "from torch.utils.data import DataLoader\n",
    "from autoencoder import SparseMovieAutoencoder\n",
    "import torch.nn as nn\n",
    "\n",
    "\n",
    "input_dim = X_tensor.shape[1]  # number of features after one-hot encoding\n",
    "encoding_dim = 500 # this is a hyperparameter you can tune\n",
    "sae = SparseMovieAutoencoder(input_dim=input_dim, encoding_dim=encoding_dim, sparsity_param= 0.01, beta=0.01)\n",
    "\n",
    "# Create a simple DataLoader\n",
    "dataset = TensorDataset(X_tensor)\n",
    "train_loader = DataLoader(dataset, batch_size=32, shuffle=True)\n",
    "\n",
    "# Train the model\n",
    "optimizer = torch.optim.Adam(sae.parameters(), lr=0.001, weight_decay=1e-5)\n",
    "scheduler = torch.optim.lr_scheduler.ReduceLROnPlateau(optimizer, 'min', patience=5, factor=0.5)\n",
    "reconstruction_criterion = nn.MSELoss()\n",
    "\n",
    "# Training loop\n",
    "training_history = {\n",
    "        'total_loss': [],\n",
    "        'reconstruction_loss': [],\n",
    "        'sparsity_loss': [],\n",
    "        'avg_activation': [],\n",
    "        'sparsity_ratio': [],\n",
    "        'encoding_std': []\n",
    "    }\n",
    "\n",
    "# Training loop\n",
    "print(\"Starting training...\")\n",
    "for epoch in range(100):\n",
    "    total_loss = 0\n",
    "    recon_loss = 0\n",
    "    sparse_loss = 0\n",
    "    epoch_encodings = []\n",
    "    \n",
    "    for batch in train_loader:\n",
    "        optimizer.zero_grad()\n",
    "        \n",
    "        # Forward pass\n",
    "        encodings, reconstructions = sae(batch[0])\n",
    "        epoch_encodings.append(encodings.detach())\n",
    "        \n",
    "        # Calculate losses\n",
    "        reconstruction_loss = reconstruction_criterion(reconstructions, batch[0])\n",
    "        sparsity_loss = sae.get_sparsity_loss(encodings)\n",
    "        loss = reconstruction_loss + sae.beta * sparsity_loss\n",
    "\n",
    "        # Inside training loop, before loss.backward()\n",
    "        if torch.isnan(loss):\n",
    "            print(f\"NaN detected!\")\n",
    "            print(f\"Reconstruction loss: {reconstruction_loss.item()}\")\n",
    "            print(f\"Sparsity loss: {sparsity_loss.item()}\")\n",
    "            print(f\"Encoding stats - min: {encodings.min()}, max: {encodings.max()}, mean: {encodings.mean()}\")\n",
    "        \n",
    "        # Backward pass\n",
    "        loss.backward()\n",
    "        optimizer.step()\n",
    "        \n",
    "        total_loss += loss.item()\n",
    "        recon_loss += reconstruction_loss.item()\n",
    "        sparse_loss += sparsity_loss.item()\n",
    "    \n",
    "    # Combine all batch encodings\n",
    "    epoch_encodings = torch.cat(epoch_encodings, dim=0)\n",
    "    sparsity_ratio, avg_activation, encoding_std = analyze_encodings(epoch_encodings)\n",
    "    \n",
    "    # Store metrics\n",
    "    training_history['total_loss'].append(total_loss / len(train_loader))\n",
    "    training_history['reconstruction_loss'].append(recon_loss / len(train_loader))\n",
    "    training_history['sparsity_loss'].append(sparse_loss / len(train_loader))\n",
    "    training_history['sparsity_ratio'].append(sparsity_ratio)\n",
    "    training_history['avg_activation'].append(avg_activation)\n",
    "    training_history['encoding_std'].append(encoding_std)\n",
    "    \n",
    "    # Print progress\n",
    "    print(f\"Epoch {epoch}: Loss={total_loss/len(train_loader):.4f}, \"\n",
    "            f\"Sparsity Ratio={sparsity_ratio:.4f}, \"\n",
    "            f\"Avg Activation={avg_activation:.4f}\")"
   ]
  },
  {
   "cell_type": "markdown",
   "metadata": {},
   "source": [
    "# Feature intepretation + Visu"
   ]
  },
  {
   "cell_type": "code",
   "execution_count": 198,
   "metadata": {},
   "outputs": [],
   "source": [
    "def interpret_features(model, X_tensor, df, feature_names, neuron=None):\n",
    "    with torch.no_grad():\n",
    "        # Get encodings\n",
    "        encodings, _ = model(X_tensor)\n",
    "        \n",
    "        if not isinstance(neuron, list):\n",
    "            neuron = range(encodings.shape[1])\n",
    "\n",
    "        neurons_list = []\n",
    "\n",
    "        # For each neuron in the encoding\n",
    "        for neuron_idx in neuron:\n",
    "\n",
    "            # Get movies that activate this neuron the most\n",
    "            activation = encodings[:, neuron_idx]\n",
    "            top_movies = activation.argsort(descending=True)[:5]\n",
    "            \n",
    "            #print(f\"\\nNeuron {neuron_idx}:\")\n",
    "            #print(\"Top activating movies:\")\n",
    "            #for idx in top_movies:\n",
    "            #    print(f\"- {df.iloc[int(idx)]['title']} \"\n",
    "            #          f\"(activation: {activation[int(idx)]:.3f})\")\n",
    "\n",
    "            # Find feature correlation\n",
    "            correlations = []\n",
    "            for i, feature in enumerate(feature_names):\n",
    "                corr = torch.corrcoef(\n",
    "                    torch.stack([activation, X_tensor[:, i]])\n",
    "                )[0,1].item()\n",
    "                correlations.append((feature, corr))\n",
    "\n",
    "            neurons_list.append([top_movies, correlations])\n",
    "            \n",
    "            # Print top correlated features\n",
    "            #print(\"Top correlated features:\")\n",
    "            #for feature, corr in sorted(correlations, \n",
    "            #                          key=lambda x: (x[1]), \n",
    "            #                          reverse=True)[:5]:\n",
    "            #    print(f\"- {feature}: {corr:.3f}\")\n",
    "    return neurons_list\n",
    "\n",
    "# Use it\n",
    "neurons_info = interpret_features(sae, X_tensor, features, X.columns)"
   ]
  },
  {
   "cell_type": "code",
   "execution_count": 262,
   "metadata": {},
   "outputs": [],
   "source": [
    "neurons_concise = []\n",
    "for info in neurons_info:\n",
    "    langs = []\n",
    "    for i in info[1]:\n",
    "        if 'lang_' in i[0]:\n",
    "            langs.append({i[0]: i[1]})\n",
    "\n",
    "    neurons_concise.append([list(df.iloc[list(info[0])]['imdb_id']),\n",
    "                             sorted(info[1], key=lambda x: abs(x[1]), reverse=True)[:10], langs])"
   ]
  },
  {
   "cell_type": "code",
   "execution_count": 263,
   "metadata": {},
   "outputs": [],
   "source": [
    "import json\n",
    "\n",
    "import json\n",
    "\n",
    "# Assuming neurons_concise contains your title-activation pairs\n",
    "with open('neurons_data.json', 'w') as f:\n",
    "    json.dump(\n",
    "        [{\"titles\": title, \"activations\": {k:d for k, d in value}, \"countries\": countries} for title, value, countries in neurons_concise],\n",
    "        f,\n",
    "        indent=2  # This makes the JSON file readable with nice formatting\n",
    "    )"
   ]
  },
  {
   "cell_type": "code",
   "execution_count": 264,
   "metadata": {},
   "outputs": [
    {
     "name": "stdout",
     "output_type": "stream",
     "text": [
      "{'titles': ['tt0145033', 'tt0485241', 'tt0067354', 'tt0327169', 'tt0078753'], 'activations': {'genre_Thriller': -0.2072601467370987, 'genre_Action/Adventure': -0.19817481935024261, 'genre_Crime Fiction': -0.18694765865802765, 'genre_Adventure': -0.18284004926681519, 'genre_Comedy': -0.17430910468101501, 'origin_lang_it': 0.17323718965053558, 'origin_lang_en': -0.16520941257476807, 'genre_Action': -0.1592087298631668, 'box_office_normalized': -0.14484696090221405, 'keyword_independent film': -0.13827075064182281}, 'countries': [{'origin_lang_ab': -0.004183308221399784}, {'origin_lang_af': -0.003384246490895748}, {'origin_lang_am': 0.0031041777692735195}, {'origin_lang_ar': 0.03247978165745735}, {'origin_lang_ay': 0.014814906753599644}, {'origin_lang_bg': 0.01936175301671028}, {'origin_lang_bm': 0.019358254969120026}, {'origin_lang_bn': 0.06086805835366249}, {'origin_lang_bo': -0.004786130040884018}, {'origin_lang_bs': -0.0050814091227948666}, {'origin_lang_ca': -0.0004386853543110192}, {'origin_lang_cn': -0.039455708116292953}, {'origin_lang_cs': 0.031564295291900635}, {'origin_lang_cy': -0.003384246025234461}, {'origin_lang_da': -0.01374000497162342}, {'origin_lang_de': 0.032715730369091034}, {'origin_lang_el': 0.0630204901099205}, {'origin_lang_en': -0.16520941257476807}, {'origin_lang_eo': -0.0033842483535408974}, {'origin_lang_es': -0.03603942692279816}, {'origin_lang_et': 0.013622676022350788}, {'origin_lang_eu': 0.01663411222398281}, {'origin_lang_fa': 0.07396162301301956}, {'origin_lang_fi': 0.052452508360147476}, {'origin_lang_fr': 0.04953579977154732}, {'origin_lang_fy': 0.003206533147022128}, {'origin_lang_he': 0.0021371531765908003}, {'origin_lang_hi': -0.0459870919585228}, {'origin_lang_hr': 0.013811387121677399}, {'origin_lang_hu': -0.015070388093590736}, {'origin_lang_id': -0.0033349760342389345}, {'origin_lang_is': 0.018072087317705154}, {'origin_lang_it': 0.17323718965053558}, {'origin_lang_ja': 0.03741177171468735}, {'origin_lang_jv': -0.003384246025234461}, {'origin_lang_ka': -0.005116898100823164}, {'origin_lang_ko': 0.08628372102975845}, {'origin_lang_ku': -0.0015458572888746858}, {'origin_lang_ky': 0.014590357430279255}, {'origin_lang_la': -0.003384246025234461}, {'origin_lang_lt': 0.0010304372990503907}, {'origin_lang_lv': 0.00911235623061657}, {'origin_lang_mk': -0.0048168920911848545}, {'origin_lang_ml': -0.004970644135028124}, {'origin_lang_mn': -0.004786129575222731}, {'origin_lang_mr': -0.005706765688955784}, {'origin_lang_ms': -0.003384246025234461}, {'origin_lang_nb': -0.0014939693501219153}, {'origin_lang_nl': 0.017563536763191223}, {'origin_lang_no': -0.017773514613509178}, {'origin_lang_pl': 0.0668598860502243}, {'origin_lang_ps': 0.002834076527506113}, {'origin_lang_pt': 0.02067951299250126}, {'origin_lang_ro': 0.05398671701550484}, {'origin_lang_ru': 0.04607122018933296}, {'origin_lang_rw': 0.0027519178111106157}, {'origin_lang_sh': 0.0014110454358160496}, {'origin_lang_si': -0.0002939374535344541}, {'origin_lang_sk': 0.008079197257757187}, {'origin_lang_sl': 0.001057908171787858}, {'origin_lang_sm': 0.010893932543694973}, {'origin_lang_sq': 0.015640361234545708}, {'origin_lang_sr': 0.04830218106508255}, {'origin_lang_sv': 0.032483361661434174}, {'origin_lang_ta': 0.005822380073368549}, {'origin_lang_te': 0.07010044157505035}, {'origin_lang_tg': 0.004217205103486776}, {'origin_lang_th': -0.007145291659981012}, {'origin_lang_tl': 0.004775666166096926}, {'origin_lang_tr': -0.02493056282401085}, {'origin_lang_uk': 0.004401217680424452}, {'origin_lang_ur': 0.009000256657600403}, {'origin_lang_vi': 0.004650693852454424}, {'origin_lang_wo': 0.002389322267845273}, {'origin_lang_xx': -0.013540688902139664}, {'origin_lang_zh': -0.05032319203019142}, {'origin_lang_zu': -0.00338424788787961}]}\n"
     ]
    }
   ],
   "source": [
    "with open('neurons_data.json', 'r') as f:\n",
    "    print(json.load(f)[0])"
   ]
  },
  {
   "cell_type": "code",
   "execution_count": 235,
   "metadata": {},
   "outputs": [
    {
     "data": {
      "text/plain": [
       "array(['en', 'es', 'tr', 'sv', 'it', 'hi', 'pl', 'hu', 'de', 'sr', 'fi',\n",
       "       'ko', 'fr', 'da', 'ro', 'cn', 'ja', 'pt', 'he', 'nl', 'el', 'mk',\n",
       "       'ru', 'bs', 'xx', 'cs', 'bo', 'fa', 'no', 'zh', 'te', 'th', 'ta',\n",
       "       'mr', 'wo', 'sl', 'ar', 'bn', 'ky', 'ay', 'id', 'ml', 'tl', 'ka',\n",
       "       'hr', 'ur', 'is', 'mn', 'tg', 'rw', 'bm', 'sq', nan, 'vi', 'ab',\n",
       "       'ku', 'sh', 'sk', 'ps', 'nb', 'bg', 'ca', 'eo', 'lt', 'et', 'fy',\n",
       "       'uk', 'zu', 'la', 'ms', 'af', 'sm', 'lv', 'am', 'cy', 'eu', 'si',\n",
       "       'jv'], dtype=object)"
      ]
     },
     "execution_count": 235,
     "metadata": {},
     "output_type": "execute_result"
    }
   ],
   "source": [
    "df['original_language'].unique()"
   ]
  },
  {
   "cell_type": "code",
   "execution_count": 187,
   "metadata": {},
   "outputs": [],
   "source": [
    "with torch.no_grad():\n",
    "    encodings, _ = sae(X_tensor)\n",
    "    movie_embeddings = encodings.numpy()"
   ]
  },
  {
   "cell_type": "code",
   "execution_count": 188,
   "metadata": {},
   "outputs": [
    {
     "data": {
      "image/png": "[encoded data removed]",
      "text/plain": [
       "<Figure size 640x480 with 1 Axes>"
      ]
     },
     "metadata": {},
     "output_type": "display_data"
    },
    {
     "data": {
      "image/png": "[encoded data removed]",
      "text/plain": [
       "<Figure size 640x480 with 2 Axes>"
      ]
     },
     "metadata": {},
     "output_type": "display_data"
    }
   ],
   "source": [
    "import seaborn as sns\n",
    "import matplotlib.pyplot as plt\n",
    "\n",
    "plt.hist(encodings.flatten(), bins=50)\n",
    "plt.show()\n",
    "sns.heatmap(encodings[:100, :100], cmap='viridis')\n",
    "plt.show()"
   ]
  },
  {
   "cell_type": "code",
   "execution_count": 189,
   "metadata": {},
   "outputs": [
    {
     "name": "stderr",
     "output_type": "stream",
     "text": [
      "/tmp/ipykernel_43926/900954121.py:21: UserWarning:\n",
      "\n",
      "Boolean Series key will be reindexed to match DataFrame index.\n",
      "\n",
      "/tmp/ipykernel_43926/900954121.py:28: UserWarning:\n",
      "\n",
      "Boolean Series key will be reindexed to match DataFrame index.\n",
      "\n",
      "/tmp/ipykernel_43926/900954121.py:32: UserWarning:\n",
      "\n",
      "Boolean Series key will be reindexed to match DataFrame index.\n",
      "\n",
      "/tmp/ipykernel_43926/900954121.py:21: UserWarning:\n",
      "\n",
      "Boolean Series key will be reindexed to match DataFrame index.\n",
      "\n",
      "/tmp/ipykernel_43926/900954121.py:21: UserWarning:\n",
      "\n",
      "Boolean Series key will be reindexed to match DataFrame index.\n",
      "\n",
      "/tmp/ipykernel_43926/900954121.py:28: UserWarning:\n",
      "\n",
      "Boolean Series key will be reindexed to match DataFrame index.\n",
      "\n",
      "/tmp/ipykernel_43926/900954121.py:32: UserWarning:\n",
      "\n",
      "Boolean Series key will be reindexed to match DataFrame index.\n",
      "\n",
      "/tmp/ipykernel_43926/900954121.py:21: UserWarning:\n",
      "\n",
      "Boolean Series key will be reindexed to match DataFrame index.\n",
      "\n"
     ]
    }
   ],
   "source": [
    "countries_of_interest = ['United States of America', 'Japan', 'France', 'Switzerland']\n",
    "\n",
    "current_year = 2024  # or df['year'].max()\n",
    "\n",
    "recent_mask = df['year'] >= 2000\n",
    "somewhat_old_mask = (df['year'] >= 2000) & (df['year'] < 1960)\n",
    "old_mask = df['year'] < 1960\n",
    "\n",
    "mask = np.zeros((df.shape[0],1))\n",
    "\n",
    "n = 30\n",
    "\n",
    "# Filter for movies that have EXACTLY one of these countries (no others)\n",
    "indices = []\n",
    "countries = []\n",
    "for country in countries_of_interest:\n",
    "    country_movies = df[df[f'countries'] == country]\n",
    "    \n",
    "    m = len(indices)\n",
    "    indices.extend(\n",
    "        country_movies[recent_mask].nlargest(n, 'box_office_normalized').index.tolist())\n",
    "    countries.extend((len(indices) - m) * [country])\n",
    "    if country == 'Switzerland' or country == 'Japan':\n",
    "        continue\n",
    "    m = len(indices)\n",
    "\n",
    "    indices.extend(\n",
    "        country_movies[somewhat_old_mask].nlargest(n, 'box_office_normalized').index.tolist())\n",
    "    countries.extend(n * [country])\n",
    "\n",
    "    indices.extend(\n",
    "        country_movies[old_mask].nlargest(n, 'box_office_normalized').index.tolist())\n",
    "    countries.extend(n * [country])\n",
    "\n",
    "    countries.extend((len(indices) - m) * [country])\n",
    "\n",
    "indices = np.array(indices)\n",
    "countries = np.array(countries)"
   ]
  },
  {
   "cell_type": "code",
   "execution_count": 190,
   "metadata": {},
   "outputs": [],
   "source": [
    "def get_genre(s):\n",
    "    keywords = ['Family', 'Thriller', 'Action', 'Short Film', 'Black-and-white', 'Comedy', 'Romance Film', 'Drama']\n",
    "    for word in keywords:\n",
    "        if word in s:\n",
    "            return word"
   ]
  },
  {
   "cell_type": "code",
   "execution_count": 195,
   "metadata": {},
   "outputs": [
    {
     "data": {
      "application/vnd.plotly.v1+json": {
       "config": {
        "plotlyServerURL": "https://plot.ly"
       },
       "data": [
        {
         "customdata": [
          [
           "Iron Man 3",
           2013
          ],
          [
           "Pirates of the Caribbean: Dead Man's Chest",
           2006
          ],
          [
           "Pirates of the Caribbean: On Stranger Tides",
           2011
          ],
          [
           "Pirates of the Caribbean: At World's End",
           2007
          ],
          [
           "Star Wars: Episode III - Revenge of the Sith",
           2005
          ],
          [
           "Spider-Man",
           2002
          ],
          [
           "The Hunger Games",
           2012
          ],
          [
           "Man of Steel",
           2013
          ],
          [
           "Pirates of the Caribbean: The Curse of the Black Pearl",
           2003
          ],
          [
           "Thor: The Dark World",
           2013
          ],
          [
           "Pirates of the Caribbean: Dead Men Tell No Tales",
           0
          ],
          [
           "The 300 Spartans",
           0
          ],
          [
           "Space Battleship Yamato",
           2010
          ],
          [
           "Evangelion: 2.0 You Can (Not) Advance",
           2009
          ],
          [
           "Gantz",
           2010
          ],
          [
           "Zatoichi",
           2003
          ],
          [
           "Goemon",
           2009
          ],
          [
           "When the Last Sword Is Drawn",
           2003
          ],
          [
           "Taxi 4",
           2007
          ],
          [
           "The Tiger Brigades",
           2006
          ]
         ],
         "hovertemplate": "Genres=Action<br>t-SNE Dimension 1=%{x}<br>t-SNE Dimension 2=%{y}<br>marker_size=%{marker.size}<br>Title=%{customdata[0]}<br>Year=%{customdata[1]}<extra></extra>",
         "legendgroup": "Action",
         "marker": {
          "color": "#636efa",
          "line": {
           "color": "DarkSlateGrey",
           "width": 1
          },
          "size": [
           50,
           49.63979701139968,
           49.58321753737772,
           49.36354917033949,
           49.01647225674841,
           48.927773103757495,
           48.43550118508138,
           48.339329576390305,
           48.30363850823859,
           48.26275889794842,
           48.834483450514234,
           42.42599390786993,
           41.24237483929745,
           40.71848850718332,
           40.687945309637286,
           40.062480689603426,
           37.861527855274545,
           33.041469267307825,
           14.31358210713479,
           14.31358210713479
          ],
          "sizemode": "area",
          "sizeref": 0.125,
          "symbol": "circle"
         },
         "mode": "markers",
         "name": "Action",
         "orientation": "v",
         "showlegend": true,
         "type": "scatter",
         "x": [
          8.264984130859375,
          8.282960891723633,
          9.286983489990234,
          8.26845645904541,
          7.4369707107543945,
          6.48496675491333,
          6.133683681488037,
          8.213882446289062,
          8.240219116210938,
          8.14561653137207,
          7.970462799072266,
          2.5858664512634277,
          0.9600805640220642,
          0.47888344526290894,
          -0.2780548632144928,
          -0.6981501579284668,
          1.2207529544830322,
          -0.5896141529083252,
          -3.217064619064331,
          -1.2097288370132446
         ],
         "xaxis": "x",
         "y": [
          1.0495325326919556,
          3.502551794052124,
          3.024851083755493,
          3.328950881958008,
          2.9701461791992188,
          1.1765787601470947,
          1.3579906225204468,
          1.2754371166229248,
          3.513068199157715,
          1.1222065687179565,
          2.704224109649658,
          -1.365617275238037,
          -0.00440567173063755,
          0.3467889130115509,
          -4.5864129066467285,
          -6.00620174407959,
          -0.6335352063179016,
          -5.527071952819824,
          -8.317514419555664,
          -8.328556060791016
         ],
         "yaxis": "y"
        },
        {
         "customdata": [
          [
           "Despicable Me 2",
           2013
          ],
          [
           "Shrek 2",
           2004
          ],
          [
           "Ice Age: Dawn of the Dinosaurs",
           2009
          ],
          [
           "Ice Age: Continental Drift",
           2012
          ],
          [
           "Shrek the Third",
           2007
          ],
          [
           "Shrek Forever After",
           2010
          ],
          [
           "Monsters University",
           2013
          ],
          [
           "Up",
           2009
          ],
          [
           "Star Wars: Episode II - Attack of the Clones",
           2002
          ],
          [
           "Kung Fu Panda",
           2008
          ],
          [
           "Alice in Wonderland",
           1951
          ],
          [
           "Kramer vs. Kramer",
           0
          ],
          [
           "Lady and the Tramp",
           1955
          ],
          [
           "Peter Pan",
           1953
          ],
          [
           "Cinderella",
           1950
          ],
          [
           "Pinocchio",
           1940
          ],
          [
           "Three Men and a Little Lady",
           0
          ],
          [
           "Howl's Moving Castle",
           2004
          ],
          [
           "The Cat Returns",
           2002
          ],
          [
           "Asterix and the Vikings",
           0
          ],
          [
           "A Christmas Tale",
           0
          ],
          [
           "Vitus",
           2006
          ]
         ],
         "hovertemplate": "Genres=Family<br>t-SNE Dimension 1=%{x}<br>t-SNE Dimension 2=%{y}<br>marker_size=%{marker.size}<br>Title=%{customdata[0]}<br>Year=%{customdata[1]}<extra></extra>",
         "legendgroup": "Family",
         "marker": {
          "color": "#EF553B",
          "line": {
           "color": "DarkSlateGrey",
           "width": 1
          },
          "size": [
           49.384341303609595,
           49.236759689551,
           49.136222777873655,
           49.07564744934601,
           48.850871467849416,
           48.687155515826085,
           48.65405246640977,
           48.60867729243818,
           48.283193231256405,
           48.20770499651061,
           47.935602232446264,
           43.32528743808383,
           42.97789804191704,
           42.79026244941918,
           42.71385368526377,
           42.689714813303524,
           42.24432875765936,
           45.4957951417534,
           28.769941744192565,
           39.073629207645936,
           36.011453157710534,
           5.81854584295634
          ],
          "sizemode": "area",
          "sizeref": 0.125,
          "symbol": "circle"
         },
         "mode": "markers",
         "name": "Family",
         "orientation": "v",
         "showlegend": true,
         "type": "scatter",
         "x": [
          6.470937252044678,
          2.919532537460327,
          4.260788917541504,
          7.114008903503418,
          1.067771077156067,
          3.0088584423065186,
          7.78499698638916,
          5.410658359527588,
          7.00943660736084,
          4.075875759124756,
          1.4021435976028442,
          1.7556015253067017,
          1.2239990234375,
          1.9546247720718384,
          1.0874789953231812,
          1.8364542722702026,
          4.275076866149902,
          2.926584243774414,
          -0.8606727719306946,
          3.5735063552856445,
          -4.267815113067627,
          -6.830446720123291
         ],
         "xaxis": "x",
         "y": [
          4.5098748207092285,
          -3.8325369358062744,
          -2.9019832611083984,
          3.7516562938690186,
          -4.97393274307251,
          -3.771918296813965,
          3.978748321533203,
          3.5017714500427246,
          2.302534580230713,
          -2.7492835521698,
          -3.2917418479919434,
          -5.743720531463623,
          -3.664494514465332,
          -2.3788154125213623,
          -2.3459432125091553,
          -2.613341808319092,
          2.8714759349823,
          -2.4624111652374268,
          -6.069141387939453,
          -4.070296287536621,
          -7.065891265869141,
          -6.855323791503906
         ],
         "yaxis": "y"
        },
        {
         "customdata": [
          [
           "Spider-Man 3",
           2007
          ],
          [
           "Transformers: Revenge of the Fallen",
           2009
          ],
          [
           "Fast & Furious 6",
           2013
          ],
          [
           "Spider-Man 2",
           2004
          ],
          [
           "2012",
           2009
          ],
          [
           "The Amazing Spider-Man",
           2012
          ],
          [
           "The Twilight Saga: New Moon",
           2009
          ],
          [
           "Transformers",
           2007
          ],
          [
           "The Twilight Saga: Eclipse",
           2010
          ],
          [
           "Gravity",
           0
          ],
          [
           "Ant-Man",
           0
          ],
          [
           "xXx: Return of Xander Cage",
           0
          ],
          [
           "Presumed Innocent",
           0
          ],
          [
           "The Pelican Brief",
           0
          ],
          [
           "Rambo III",
           0
          ],
          [
           "Airport",
           0
          ],
          [
           "Riddick",
           0
          ],
          [
           "Battle Royale",
           2000
          ],
          [
           "Crows Zero",
           2007
          ],
          [
           "Ace Attorney",
           2012
          ],
          [
           "Sukiyaki Western Django",
           2007
          ],
          [
           "Taken 2",
           2012
          ],
          [
           "Taxi 2",
           2000
          ],
          [
           "Femme Fatale",
           2002
          ],
          [
           "Empire of the Wolves",
           2005
          ],
          [
           "Only God Forgives",
           2013
          ],
          [
           "Anything for Her",
           2008
          ],
          [
           "Baise-moi",
           2000
          ],
          [
           "Farewell",
           2009
          ],
          [
           "In the House",
           0
          ],
          [
           "Crossed Tracks",
           0
          ],
          [
           "Don't Look Back",
           0
          ],
          [
           "Elevator to the Gallows",
           1958
          ],
          [
           "Cargo",
           2009
          ]
         ],
         "hovertemplate": "Genres=Thriller<br>t-SNE Dimension 1=%{x}<br>t-SNE Dimension 2=%{y}<br>marker_size=%{marker.size}<br>Title=%{customdata[0]}<br>Year=%{customdata[1]}<extra></extra>",
         "legendgroup": "Thriller",
         "marker": {
          "color": "#00cc96",
          "line": {
           "color": "DarkSlateGrey",
           "width": 1
          },
          "size": [
           49.14911905893305,
           48.97599494001421,
           48.81540741950602,
           48.79829035406136,
           48.748614862293955,
           48.685756541262656,
           48.52689185706904,
           48.526437732304885,
           48.48279734127274,
           48.552108033492,
           47.670927309509885,
           46.55990695117557,
           45.33469365763137,
           44.99188731115996,
           44.902752322043206,
           43.17234756180719,
           43.113059405128375,
           39.362010678248126,
           39.01643688906954,
           35.51863363500233,
           33.291671212555585,
           46.30169345939461,
           41.792813447050946,
           38.27962810417913,
           37.32323533844908,
           36.94323217569224,
           35.69293920717428,
           30.378991112608563,
           14.31358210713479,
           37.32396864511232,
           34.857266251473106,
           33.12469003357161,
           26.891792008341294,
           5.629578759738348
          ],
          "sizemode": "area",
          "sizeref": 0.125,
          "symbol": "circle"
         },
         "mode": "markers",
         "name": "Thriller",
         "orientation": "v",
         "showlegend": true,
         "type": "scatter",
         "x": [
          3.71026349067688,
          5.985177993774414,
          2.885481834411621,
          2.182316303253174,
          6.451380729675293,
          5.680873870849609,
          4.450695037841797,
          5.01650857925415,
          4.342191696166992,
          7.87589168548584,
          5.318037033081055,
          2.85250186920166,
          4.466410160064697,
          3.414318799972534,
          3.2955915927886963,
          3.543729782104492,
          4.348905563354492,
          1.651261568069458,
          0.3001610338687897,
          1.922307014465332,
          -0.00325796939432621,
          2.530024766921997,
          0.12007356435060501,
          0.45055916905403137,
          0.4889976680278778,
          1.6333227157592773,
          -0.7732366323471069,
          -1.1312105655670166,
          -2.902242422103882,
          3.2685389518737793,
          -1.5235118865966797,
          -1.9171479940414429,
          -0.9212872385978699,
          0.1362789273262024
         ],
         "xaxis": "x",
         "y": [
          -0.16552013158798218,
          2.2784345149993896,
          1.1312044858932495,
          -1.547701358795166,
          1.2779072523117065,
          0.8187646269798279,
          -0.5314012169837952,
          1.961822271347046,
          -0.4993712306022644,
          -0.7240425944328308,
          0.35996782779693604,
          1.1120179891586304,
          0.4683975875377655,
          -0.4875620901584625,
          0.5139936804771423,
          -0.013180947862565517,
          1.6746479272842407,
          -4.179867744445801,
          -3.6165683269500732,
          0.04313916340470314,
          -4.192238807678223,
          -0.6131129264831543,
          -5.462120532989502,
          -6.085615634918213,
          -4.929045677185059,
          1.339592456817627,
          -6.685171127319336,
          -6.579254627227783,
          -9.483449935913086,
          -5.722469329833984,
          -4.465198040008545,
          -6.444705486297607,
          -7.356021881103516,
          -9.346395492553711
         ],
         "yaxis": "y"
        },
        {
         "customdata": [
          [
           "The Twilight Saga: Breaking Dawn - Part 1",
           2011
          ],
          [
           "Born on the Fourth of July",
           0
          ],
          [
           "Philadelphia",
           0
          ],
          [
           "October Baby",
           0
          ],
          [
           "The Ten Commandments",
           1956
          ],
          [
           "The Giver",
           0
          ],
          [
           "The Danish Girl",
           0
          ],
          [
           "Departures",
           2008
          ],
          [
           "Tales from Earthsea",
           2006
          ],
          [
           "From Up on Poppy Hill",
           2011
          ],
          [
           "Hanamizuki",
           2010
          ],
          [
           "Villain",
           2010
          ],
          [
           "A Letter to Momo",
           2011
          ],
          [
           "Nobody Knows",
           2004
          ],
          [
           "Life Back Then",
           2011
          ],
          [
           "Bread of Happiness",
           2012
          ],
          [
           "Sarah's Key",
           2010
          ],
          [
           "Renoir",
           2012
          ],
          [
           "Mozart's Sister",
           2010
          ],
          [
           "My Little Princess",
           2011
          ],
          [
           "Cold Showers",
           2005
          ],
          [
           "Quai des Orfèvres",
           0
          ],
          [
           "La séparation",
           0
          ],
          [
           "Forbidden Games",
           0
          ],
          [
           "Mayerling",
           1936
          ],
          [
           "The Nun",
           0
          ]
         ],
         "hovertemplate": "Genres=Drama<br>t-SNE Dimension 1=%{x}<br>t-SNE Dimension 2=%{y}<br>marker_size=%{marker.size}<br>Title=%{customdata[0]}<br>Year=%{customdata[1]}<extra></extra>",
         "legendgroup": "Drama",
         "marker": {
          "color": "#ab63fa",
          "line": {
           "color": "DarkSlateGrey",
           "width": 1
          },
          "size": [
           48.50842888309853,
           45.468028047839105,
           45.14743395677564,
           43.140740107259774,
           42.547806705207115,
           42.06130105728585,
           41.94481487826289,
           42.1820727208336,
           42.12967438761339,
           41.761458741655034,
           40.12166994911262,
           39.05925393024093,
           35.77530738175088,
           32.78531913665107,
           31.03146061074794,
           29.63817637137347,
           38.89982704707466,
           32.81960418482025,
           28.220725424114143,
           14.31358210713479,
           14.31358210713479,
           25.403163703647785,
           24.016057330161686,
           17.983460659716364,
           14.31358210713479,
           14.31358210713479
          ],
          "sizemode": "area",
          "sizeref": 0.125,
          "symbol": "circle"
         },
         "mode": "markers",
         "name": "Drama",
         "orientation": "v",
         "showlegend": true,
         "type": "scatter",
         "x": [
          5.878222942352295,
          3.0218708515167236,
          6.179667949676514,
          0.23606522381305695,
          6.566308975219727,
          4.8371968269348145,
          -4.681247234344482,
          -2.0431301593780518,
          4.019354820251465,
          -0.2570657432079315,
          -4.711638927459717,
          -4.486958026885986,
          -5.244900703430176,
          -3.0213186740875244,
          -5.548456192016602,
          -5.592083930969238,
          -7.545037746429443,
          -7.686718940734863,
          -7.518500328063965,
          -7.976108074188232,
          1.2272478342056274,
          -1.6025340557098389,
          -6.17742919921875,
          -1.9091377258300781,
          -5.746616363525391,
          -7.839136123657227
         ],
         "xaxis": "x",
         "y": [
          -0.37724581360816956,
          -1.740977168083191,
          -2.2248380184173584,
          2.2178962230682373,
          0.17770440876483917,
          1.1380335092544556,
          -3.6880056858062744,
          -1.3035383224487305,
          -1.1896865367889404,
          0.6760091781616211,
          0.9539279937744141,
          1.0133721828460693,
          2.2306129932403564,
          -1.2844198942184448,
          0.6900871992111206,
          0.63191819190979,
          -3.805447816848755,
          -4.082530498504639,
          -4.203487873077393,
          -4.632081508636475,
          -7.8599324226379395,
          -7.250672817230225,
          -6.510983467102051,
          -9.566102027893066,
          -6.508981704711914,
          -5.1245927810668945
         ],
         "yaxis": "y"
        },
        {
         "customdata": [
          [
           "Bringing Down the House",
           0
          ],
          [
           "Moonstruck",
           0
          ],
          [
           "Made in America",
           0
          ],
          [
           "M*A*S*H",
           0
          ],
          [
           "August: Osage County",
           0
          ],
          [
           "Hail, Caesar!",
           0
          ],
          [
           "Memories of Matsuko",
           2006
          ],
          [
           "Welcome to the Sticks",
           2008
          ],
          [
           "HOUBA! On the Trail of the Marsupilami",
           2012
          ],
          [
           "Little White Lies",
           2010
          ],
          [
           "Hunting and Gathering",
           2007
          ],
          [
           "Paris",
           2008
          ],
          [
           "Camille Rewinds",
           2012
          ],
          [
           "Narco",
           2004
          ],
          [
           "The Girl from Monaco",
           2008
          ],
          [
           "The Art of Love",
           2011
          ],
          [
           "By the Pricking of My Thumbs",
           2005
          ],
          [
           "My Wife Is an Actress",
           0
          ],
          [
           "The French Kissers",
           0
          ],
          [
           "Three Men and a Cradle",
           0
          ],
          [
           "The Hairdresser's Husband",
           0
          ],
          [
           "After You",
           0
          ],
          [
           "Under the Bombs",
           0
          ],
          [
           "A Gorgeous Girl Like Me",
           0
          ],
          [
           "La Chinoise",
           0
          ],
          [
           "Picnic on the Grass",
           1959
          ],
          [
           "What a Drag",
           0
          ],
          [
           "Guess Who",
           2005
          ],
          [
           "Ready, Steady, Charlie!",
           2003
          ]
         ],
         "hovertemplate": "Genres=Comedy<br>t-SNE Dimension 1=%{x}<br>t-SNE Dimension 2=%{y}<br>marker_size=%{marker.size}<br>Title=%{customdata[0]}<br>Year=%{customdata[1]}<extra></extra>",
         "legendgroup": "Comedy",
         "marker": {
          "color": "#FFA15A",
          "line": {
           "color": "DarkSlateGrey",
           "width": 1
          },
          "size": [
           44.52608342027634,
           44.3811558497245,
           43.29112062663537,
           42.60204484082261,
           42.341259153306744,
           41.92151019042817,
           36.73438430762161,
           45.61491141577763,
           41.18271233015218,
           41.16864547589143,
           40.02991598796237,
           39.198359219604946,
           35.80046713872559,
           30.01303090513132,
           29.14474642066099,
           14.31358210713479,
           14.31358210713479,
           35.045140659575964,
           35.036069226524006,
           32.51512495233413,
           31.08380019466187,
           29.34463929740448,
           28.58196630826934,
           28.401907372064787,
           21.018621383388783,
           14.31358210713479,
           14.31358210713479,
           43.209621054063646,
           5.030602959094766
          ],
          "sizemode": "area",
          "sizeref": 0.125,
          "symbol": "circle"
         },
         "mode": "markers",
         "name": "Comedy",
         "orientation": "v",
         "showlegend": true,
         "type": "scatter",
         "x": [
          -0.14088518917560577,
          3.714810371398926,
          3.16879940032959,
          3.391055107116699,
          5.196160793304443,
          4.9081878662109375,
          -1.793444275856018,
          -1.4777175188064575,
          -1.539493203163147,
          -7.3181915283203125,
          -4.538225173950195,
          0.16251429915428162,
          -3.3544504642486572,
          -4.1924285888671875,
          -3.2700507640838623,
          -6.548933029174805,
          -5.910860061645508,
          -4.247620105743408,
          -3.2924644947052,
          -2.457324981689453,
          -3.4888648986816406,
          -3.762615442276001,
          -4.699008941650391,
          -3.3590309619903564,
          -1.445557713508606,
          -5.027024745941162,
          -5.846738338470459,
          2.5921835899353027,
          -6.687230110168457
         ],
         "xaxis": "x",
         "y": [
          -3.0080416202545166,
          4.237373352050781,
          3.701992988586426,
          2.437103033065796,
          -1.345234751701355,
          -5.115331172943115,
          -0.7685178518295288,
          2.0996248722076416,
          2.1347599029541016,
          -2.061302661895752,
          -3.917900800704956,
          -6.991508960723877,
          -3.7557010650634766,
          -2.125762701034546,
          -4.780124664306641,
          -8.976056098937988,
          -8.445000648498535,
          -5.87882137298584,
          -5.909836292266846,
          -6.300330638885498,
          -5.602814674377441,
          -5.977258205413818,
          -5.625343322753906,
          -7.24474573135376,
          -6.7031989097595215,
          -8.073165893554688,
          -8.492777824401855,
          2.2909884452819824,
          -9.089706420898438
         ],
         "yaxis": "y"
        },
        {
         "customdata": [
          [
           "The Living Sea",
           0
          ],
          [
           "The Infernal Caldron",
           0
          ],
          [
           "The Man with the Rubber Head",
           0
          ],
          [
           "Le grand Méliès",
           0
          ],
          [
           "Divers at Work on the Wreck of the \"Maine\"",
           0
          ]
         ],
         "hovertemplate": "Genres=Short Film<br>t-SNE Dimension 1=%{x}<br>t-SNE Dimension 2=%{y}<br>marker_size=%{marker.size}<br>Title=%{customdata[0]}<br>Year=%{customdata[1]}<extra></extra>",
         "legendgroup": "Short Film",
         "marker": {
          "color": "#19d3f3",
          "line": {
           "color": "DarkSlateGrey",
           "width": 1
          },
          "size": [
           42.79637712917318,
           14.31358210713479,
           14.31358210713479,
           14.31358210713479,
           14.31358210713479
          ],
          "sizemode": "area",
          "sizeref": 0.125,
          "symbol": "circle"
         },
         "mode": "markers",
         "name": "Short Film",
         "orientation": "v",
         "showlegend": true,
         "type": "scatter",
         "x": [
          -0.5164514183998108,
          -8.917243003845215,
          -8.994611740112305,
          -0.21876633167266846,
          -8.619189262390137
         ],
         "xaxis": "x",
         "y": [
          3.1041181087493896,
          -8.089251518249512,
          -8.17776107788086,
          -7.7548346519470215,
          -7.763761043548584
         ],
         "yaxis": "y"
        },
        {
         "customdata": [
          [
           "Norwegian Wood",
           2010
          ],
          [
           "Unforgivable",
           2011
          ],
          [
           "Grande école",
           2004
          ],
          [
           "The Singer",
           0
          ]
         ],
         "hovertemplate": "Genres=Romance Film<br>t-SNE Dimension 1=%{x}<br>t-SNE Dimension 2=%{y}<br>marker_size=%{marker.size}<br>Title=%{customdata[0]}<br>Year=%{customdata[1]}<extra></extra>",
         "legendgroup": "Romance Film",
         "marker": {
          "color": "#B6E880",
          "line": {
           "color": "DarkSlateGrey",
           "width": 1
          },
          "size": [
           38.40634441016067,
           14.31358210713479,
           14.31358210713479,
           36.9080834340413
          ],
          "sizemode": "area",
          "sizeref": 0.125,
          "symbol": "circle"
         },
         "mode": "markers",
         "name": "Romance Film",
         "orientation": "v",
         "showlegend": true,
         "type": "scatter",
         "x": [
          -4.070454120635986,
          -6.628072261810303,
          1.5554585456848145,
          -1.644653081893921
         ],
         "xaxis": "x",
         "y": [
          0.45824798941612244,
          -5.39711332321167,
          -8.065839767456055,
          -0.33283326029777527
         ],
         "yaxis": "y"
        },
        {
         "customdata": [
          [
           "Cyrano de Bergerac",
           0
          ],
          [
           "L'Âge d'Or",
           0
          ],
          [
           "Le Grand Jeu",
           1934
          ]
         ],
         "hovertemplate": "Genres=Black-and-white<br>t-SNE Dimension 1=%{x}<br>t-SNE Dimension 2=%{y}<br>marker_size=%{marker.size}<br>Title=%{customdata[0]}<br>Year=%{customdata[1]}<extra></extra>",
         "legendgroup": "Black-and-white",
         "marker": {
          "color": "#FF97FF",
          "line": {
           "color": "DarkSlateGrey",
           "width": 1
          },
          "size": [
           32.303711630117974,
           17.300651273882632,
           14.31358210713479
          ],
          "sizemode": "area",
          "sizeref": 0.125,
          "symbol": "circle"
         },
         "mode": "markers",
         "name": "Black-and-white",
         "orientation": "v",
         "showlegend": true,
         "type": "scatter",
         "x": [
          0.04169723764061928,
          -2.0277841091156006,
          -5.68459415435791
         ],
         "xaxis": "x",
         "y": [
          -1.9578534364700317,
          -7.993590354919434,
          -6.205746173858643
         ],
         "yaxis": "y"
        }
       ],
       "layout": {
        "height": 800,
        "hovermode": "closest",
        "legend": {
         "itemsizing": "constant",
         "title": {
          "text": "Country"
         },
         "tracegroupgap": 0
        },
        "plot_bgcolor": "white",
        "showlegend": true,
        "template": {
         "data": {
          "bar": [
           {
            "error_x": {
             "color": "#2a3f5f"
            },
            "error_y": {
             "color": "#2a3f5f"
            },
            "marker": {
             "line": {
              "color": "#E5ECF6",
              "width": 0.5
             },
             "pattern": {
              "fillmode": "overlay",
              "size": 10,
              "solidity": 0.2
             }
            },
            "type": "bar"
           }
          ],
          "barpolar": [
           {
            "marker": {
             "line": {
              "color": "#E5ECF6",
              "width": 0.5
             },
             "pattern": {
              "fillmode": "overlay",
              "size": 10,
              "solidity": 0.2
             }
            },
            "type": "barpolar"
           }
          ],
          "carpet": [
           {
            "aaxis": {
             "endlinecolor": "#2a3f5f",
             "gridcolor": "white",
             "linecolor": "white",
             "minorgridcolor": "white",
             "startlinecolor": "#2a3f5f"
            },
            "baxis": {
             "endlinecolor": "#2a3f5f",
             "gridcolor": "white",
             "linecolor": "white",
             "minorgridcolor": "white",
             "startlinecolor": "#2a3f5f"
            },
            "type": "carpet"
           }
          ],
          "choropleth": [
           {
            "colorbar": {
             "outlinewidth": 0,
             "ticks": ""
            },
            "type": "choropleth"
           }
          ],
          "contour": [
           {
            "colorbar": {
             "outlinewidth": 0,
             "ticks": ""
            },
            "colorscale": [
             [
              0,
              "#0d0887"
             ],
             [
              0.1111111111111111,
              "#46039f"
             ],
             [
              0.2222222222222222,
              "#7201a8"
             ],
             [
              0.3333333333333333,
              "#9c179e"
             ],
             [
              0.4444444444444444,
              "#bd3786"
             ],
             [
              0.5555555555555556,
              "#d8576b"
             ],
             [
              0.6666666666666666,
              "#ed7953"
             ],
             [
              0.7777777777777778,
              "#fb9f3a"
             ],
             [
              0.8888888888888888,
              "#fdca26"
             ],
             [
              1,
              "#f0f921"
             ]
            ],
            "type": "contour"
           }
          ],
          "contourcarpet": [
           {
            "colorbar": {
             "outlinewidth": 0,
             "ticks": ""
            },
            "type": "contourcarpet"
           }
          ],
          "heatmap": [
           {
            "colorbar": {
             "outlinewidth": 0,
             "ticks": ""
            },
            "colorscale": [
             [
              0,
              "#0d0887"
             ],
             [
              0.1111111111111111,
              "#46039f"
             ],
             [
              0.2222222222222222,
              "#7201a8"
             ],
             [
              0.3333333333333333,
              "#9c179e"
             ],
             [
              0.4444444444444444,
              "#bd3786"
             ],
             [
              0.5555555555555556,
              "#d8576b"
             ],
             [
              0.6666666666666666,
              "#ed7953"
             ],
             [
              0.7777777777777778,
              "#fb9f3a"
             ],
             [
              0.8888888888888888,
              "#fdca26"
             ],
             [
              1,
              "#f0f921"
             ]
            ],
            "type": "heatmap"
           }
          ],
          "heatmapgl": [
           {
            "colorbar": {
             "outlinewidth": 0,
             "ticks": ""
            },
            "colorscale": [
             [
              0,
              "#0d0887"
             ],
             [
              0.1111111111111111,
              "#46039f"
             ],
             [
              0.2222222222222222,
              "#7201a8"
             ],
             [
              0.3333333333333333,
              "#9c179e"
             ],
             [
              0.4444444444444444,
              "#bd3786"
             ],
             [
              0.5555555555555556,
              "#d8576b"
             ],
             [
              0.6666666666666666,
              "#ed7953"
             ],
             [
              0.7777777777777778,
              "#fb9f3a"
             ],
             [
              0.8888888888888888,
              "#fdca26"
             ],
             [
              1,
              "#f0f921"
             ]
            ],
            "type": "heatmapgl"
           }
          ],
          "histogram": [
           {
            "marker": {
             "pattern": {
              "fillmode": "overlay",
              "size": 10,
              "solidity": 0.2
             }
            },
            "type": "histogram"
           }
          ],
          "histogram2d": [
           {
            "colorbar": {
             "outlinewidth": 0,
             "ticks": ""
            },
            "colorscale": [
             [
              0,
              "#0d0887"
             ],
             [
              0.1111111111111111,
              "#46039f"
             ],
             [
              0.2222222222222222,
              "#7201a8"
             ],
             [
              0.3333333333333333,
              "#9c179e"
             ],
             [
              0.4444444444444444,
              "#bd3786"
             ],
             [
              0.5555555555555556,
              "#d8576b"
             ],
             [
              0.6666666666666666,
              "#ed7953"
             ],
             [
              0.7777777777777778,
              "#fb9f3a"
             ],
             [
              0.8888888888888888,
              "#fdca26"
             ],
             [
              1,
              "#f0f921"
             ]
            ],
            "type": "histogram2d"
           }
          ],
          "histogram2dcontour": [
           {
            "colorbar": {
             "outlinewidth": 0,
             "ticks": ""
            },
            "colorscale": [
             [
              0,
              "#0d0887"
             ],
             [
              0.1111111111111111,
              "#46039f"
             ],
             [
              0.2222222222222222,
              "#7201a8"
             ],
             [
              0.3333333333333333,
              "#9c179e"
             ],
             [
              0.4444444444444444,
              "#bd3786"
             ],
             [
              0.5555555555555556,
              "#d8576b"
             ],
             [
              0.6666666666666666,
              "#ed7953"
             ],
             [
              0.7777777777777778,
              "#fb9f3a"
             ],
             [
              0.8888888888888888,
              "#fdca26"
             ],
             [
              1,
              "#f0f921"
             ]
            ],
            "type": "histogram2dcontour"
           }
          ],
          "mesh3d": [
           {
            "colorbar": {
             "outlinewidth": 0,
             "ticks": ""
            },
            "type": "mesh3d"
           }
          ],
          "parcoords": [
           {
            "line": {
             "colorbar": {
              "outlinewidth": 0,
              "ticks": ""
             }
            },
            "type": "parcoords"
           }
          ],
          "pie": [
           {
            "automargin": true,
            "type": "pie"
           }
          ],
          "scatter": [
           {
            "fillpattern": {
             "fillmode": "overlay",
             "size": 10,
             "solidity": 0.2
            },
            "type": "scatter"
           }
          ],
          "scatter3d": [
           {
            "line": {
             "colorbar": {
              "outlinewidth": 0,
              "ticks": ""
             }
            },
            "marker": {
             "colorbar": {
              "outlinewidth": 0,
              "ticks": ""
             }
            },
            "type": "scatter3d"
           }
          ],
          "scattercarpet": [
           {
            "marker": {
             "colorbar": {
              "outlinewidth": 0,
              "ticks": ""
             }
            },
            "type": "scattercarpet"
           }
          ],
          "scattergeo": [
           {
            "marker": {
             "colorbar": {
              "outlinewidth": 0,
              "ticks": ""
             }
            },
            "type": "scattergeo"
           }
          ],
          "scattergl": [
           {
            "marker": {
             "colorbar": {
              "outlinewidth": 0,
              "ticks": ""
             }
            },
            "type": "scattergl"
           }
          ],
          "scattermapbox": [
           {
            "marker": {
             "colorbar": {
              "outlinewidth": 0,
              "ticks": ""
             }
            },
            "type": "scattermapbox"
           }
          ],
          "scatterpolar": [
           {
            "marker": {
             "colorbar": {
              "outlinewidth": 0,
              "ticks": ""
             }
            },
            "type": "scatterpolar"
           }
          ],
          "scatterpolargl": [
           {
            "marker": {
             "colorbar": {
              "outlinewidth": 0,
              "ticks": ""
             }
            },
            "type": "scatterpolargl"
           }
          ],
          "scatterternary": [
           {
            "marker": {
             "colorbar": {
              "outlinewidth": 0,
              "ticks": ""
             }
            },
            "type": "scatterternary"
           }
          ],
          "surface": [
           {
            "colorbar": {
             "outlinewidth": 0,
             "ticks": ""
            },
            "colorscale": [
             [
              0,
              "#0d0887"
             ],
             [
              0.1111111111111111,
              "#46039f"
             ],
             [
              0.2222222222222222,
              "#7201a8"
             ],
             [
              0.3333333333333333,
              "#9c179e"
             ],
             [
              0.4444444444444444,
              "#bd3786"
             ],
             [
              0.5555555555555556,
              "#d8576b"
             ],
             [
              0.6666666666666666,
              "#ed7953"
             ],
             [
              0.7777777777777778,
              "#fb9f3a"
             ],
             [
              0.8888888888888888,
              "#fdca26"
             ],
             [
              1,
              "#f0f921"
             ]
            ],
            "type": "surface"
           }
          ],
          "table": [
           {
            "cells": {
             "fill": {
              "color": "#EBF0F8"
             },
             "line": {
              "color": "white"
             }
            },
            "header": {
             "fill": {
              "color": "#C8D4E3"
             },
             "line": {
              "color": "white"
             }
            },
            "type": "table"
           }
          ]
         },
         "layout": {
          "annotationdefaults": {
           "arrowcolor": "#2a3f5f",
           "arrowhead": 0,
           "arrowwidth": 1
          },
          "autotypenumbers": "strict",
          "coloraxis": {
           "colorbar": {
            "outlinewidth": 0,
            "ticks": ""
           }
          },
          "colorscale": {
           "diverging": [
            [
             0,
             "#8e0152"
            ],
            [
             0.1,
             "#c51b7d"
            ],
            [
             0.2,
             "#de77ae"
            ],
            [
             0.3,
             "#f1b6da"
            ],
            [
             0.4,
             "#fde0ef"
            ],
            [
             0.5,
             "#f7f7f7"
            ],
            [
             0.6,
             "#e6f5d0"
            ],
            [
             0.7,
             "#b8e186"
            ],
            [
             0.8,
             "#7fbc41"
            ],
            [
             0.9,
             "#4d9221"
            ],
            [
             1,
             "#276419"
            ]
           ],
           "sequential": [
            [
             0,
             "#0d0887"
            ],
            [
             0.1111111111111111,
             "#46039f"
            ],
            [
             0.2222222222222222,
             "#7201a8"
            ],
            [
             0.3333333333333333,
             "#9c179e"
            ],
            [
             0.4444444444444444,
             "#bd3786"
            ],
            [
             0.5555555555555556,
             "#d8576b"
            ],
            [
             0.6666666666666666,
             "#ed7953"
            ],
            [
             0.7777777777777778,
             "#fb9f3a"
            ],
            [
             0.8888888888888888,
             "#fdca26"
            ],
            [
             1,
             "#f0f921"
            ]
           ],
           "sequentialminus": [
            [
             0,
             "#0d0887"
            ],
            [
             0.1111111111111111,
             "#46039f"
            ],
            [
             0.2222222222222222,
             "#7201a8"
            ],
            [
             0.3333333333333333,
             "#9c179e"
            ],
            [
             0.4444444444444444,
             "#bd3786"
            ],
            [
             0.5555555555555556,
             "#d8576b"
            ],
            [
             0.6666666666666666,
             "#ed7953"
            ],
            [
             0.7777777777777778,
             "#fb9f3a"
            ],
            [
             0.8888888888888888,
             "#fdca26"
            ],
            [
             1,
             "#f0f921"
            ]
           ]
          },
          "colorway": [
           "#636efa",
           "#EF553B",
           "#00cc96",
           "#ab63fa",
           "#FFA15A",
           "#19d3f3",
           "#FF6692",
           "#B6E880",
           "#FF97FF",
           "#FECB52"
          ],
          "font": {
           "color": "#2a3f5f"
          },
          "geo": {
           "bgcolor": "white",
           "lakecolor": "white",
           "landcolor": "#E5ECF6",
           "showlakes": true,
           "showland": true,
           "subunitcolor": "white"
          },
          "hoverlabel": {
           "align": "left"
          },
          "hovermode": "closest",
          "mapbox": {
           "style": "light"
          },
          "paper_bgcolor": "white",
          "plot_bgcolor": "#E5ECF6",
          "polar": {
           "angularaxis": {
            "gridcolor": "white",
            "linecolor": "white",
            "ticks": ""
           },
           "bgcolor": "#E5ECF6",
           "radialaxis": {
            "gridcolor": "white",
            "linecolor": "white",
            "ticks": ""
           }
          },
          "scene": {
           "xaxis": {
            "backgroundcolor": "#E5ECF6",
            "gridcolor": "white",
            "gridwidth": 2,
            "linecolor": "white",
            "showbackground": true,
            "ticks": "",
            "zerolinecolor": "white"
           },
           "yaxis": {
            "backgroundcolor": "#E5ECF6",
            "gridcolor": "white",
            "gridwidth": 2,
            "linecolor": "white",
            "showbackground": true,
            "ticks": "",
            "zerolinecolor": "white"
           },
           "zaxis": {
            "backgroundcolor": "#E5ECF6",
            "gridcolor": "white",
            "gridwidth": 2,
            "linecolor": "white",
            "showbackground": true,
            "ticks": "",
            "zerolinecolor": "white"
           }
          },
          "shapedefaults": {
           "line": {
            "color": "#2a3f5f"
           }
          },
          "ternary": {
           "aaxis": {
            "gridcolor": "white",
            "linecolor": "white",
            "ticks": ""
           },
           "baxis": {
            "gridcolor": "white",
            "linecolor": "white",
            "ticks": ""
           },
           "bgcolor": "#E5ECF6",
           "caxis": {
            "gridcolor": "white",
            "linecolor": "white",
            "ticks": ""
           }
          },
          "title": {
           "x": 0.05
          },
          "xaxis": {
           "automargin": true,
           "gridcolor": "white",
           "linecolor": "white",
           "ticks": "",
           "title": {
            "standoff": 15
           },
           "zerolinecolor": "white",
           "zerolinewidth": 2
          },
          "yaxis": {
           "automargin": true,
           "gridcolor": "white",
           "linecolor": "white",
           "ticks": "",
           "title": {
            "standoff": 15
           },
           "zerolinecolor": "white",
           "zerolinewidth": 2
          }
         }
        },
        "title": {
         "text": "Movie Embeddings Visualization"
        },
        "width": 1000,
        "xaxis": {
         "anchor": "y",
         "domain": [
          0,
          1
         ],
         "title": {
          "text": "t-SNE Dimension 1"
         }
        },
        "yaxis": {
         "anchor": "x",
         "domain": [
          0,
          1
         ],
         "title": {
          "text": "t-SNE Dimension 2"
         }
        }
       }
      }
     },
     "metadata": {},
     "output_type": "display_data"
    }
   ],
   "source": [
    "movies_interest = encodings[features.iloc[indices].index]\n",
    "import matplotlib.pyplot as plt\n",
    "from sklearn.manifold import TSNE\n",
    "import plotly.express as px\n",
    "\n",
    "tsne = TSNE()\n",
    "\n",
    "reduce = tsne.fit_transform(movies_interest)\n",
    "\n",
    "plot_df = pd.DataFrame({\n",
    "    'TSNE_1': reduce[:, 0],\n",
    "    'TSNE_2': reduce[:, 1],\n",
    "    'Country': features.iloc[indices]['countries'].apply(lambda x: '' if x == np.nan else (x.split(',')[-1].strip())),\n",
    "    'Year': features.iloc[indices]['year'],\n",
    "    'Title': features.iloc[indices]['title'],\n",
    "    'Box Office': X.iloc[indices]['box_office_normalized'],\n",
    "    'Genres' : features.iloc[indices]['genres_cmu'].apply(lambda x: get_genre(str(x)))\n",
    "})\n",
    "    \n",
    "min_year = plot_df['Box Office'].min()\n",
    "max_year = plot_df['Box Office'].max()\n",
    "plot_df['marker_size'] = ((plot_df['Box Office'] - min_year) / (max_year - min_year) * 45 + 5)\n",
    "    \n",
    "    # Create the scatter plot\n",
    "fig = px.scatter(\n",
    "    plot_df,\n",
    "    x='TSNE_1',\n",
    "    y='TSNE_2',\n",
    "    color='Genres',\n",
    "    size='marker_size',\n",
    "    hover_data=['Title', 'Year'],\n",
    "    title='Movie Embeddings Visualization',\n",
    "    labels={\n",
    "        'TSNE_1': 't-SNE Dimension 1',\n",
    "        'TSNE_2': 't-SNE Dimension 2'\n",
    "    }\n",
    ")\n",
    "\n",
    "# Update layout for better visualization\n",
    "fig.update_layout(\n",
    "    plot_bgcolor='white',\n",
    "    width=1000,\n",
    "    height=800,\n",
    "    legend_title_text='Country',\n",
    "    showlegend=True,\n",
    "    hovermode='closest'\n",
    ")\n",
    "    \n",
    "# Update traces\n",
    "fig.update_traces(\n",
    "    marker=dict(\n",
    "        line=dict(width=1, color='DarkSlateGrey')\n",
    "    ),\n",
    "    selector=dict(mode='markers')\n",
    ")\n"
   ]
  },
  {
   "cell_type": "code",
   "execution_count": 356,
   "metadata": {},
   "outputs": [],
   "source": [
    "# Convert the DataFrame to a JSON format\n",
    "plot_data = plot_df.to_dict('records')\n",
    "\n",
    "# Save to a JSON file\n",
    "import json\n",
    "with open('movie_data.json', 'w') as f:\n",
    "    json.dump(plot_data, f)"
   ]
  },
  {
   "cell_type": "code",
   "execution_count": 295,
   "metadata": {},
   "outputs": [
    {
     "name": "stdout",
     "output_type": "stream",
     "text": [
      "[858, 923, 1266, 1272, 1197, 2006, 1527, 1240, 4920, 4246, 4499, 4106, 2662, 1953, 1961, 1321, 1343, 1608, 1945, 1136, 1210, 4971, 4857, 4803, 4534, 4912, 2528, 2470, 2023, 3897, 3996, 3528, 4784, 4231, 3763, 3111, 2067, 928, 1222, 805, 920, 594, 2301, 2916, 3527, 4798, 2985, 4270, 4639, 4947, 4855, 4972, 2628]\n",
      "[5.0, 5.0, 5.0, 5.0, 5.0, 5.0, 5.0, 5.0, 5.0, 5.0, 5.0, 5.0, 5.0, 4.0, 4.0, 4.0, 4.0, 4.0, 4.0, 4.0, 4.0, 4.0, 4.0, 4.0, 4.0, 4.0, 4.0, 4.0, 4.0, 4.0, 4.0, 4.0, 4.0, 4.0, 4.0, 4.0, 4.0, 3.0, 3.0, 3.0, 3.0, 3.0, 3.0, 3.0, 3.0, 3.0, 3.0, 3.0, 3.0, 3.0, 3.0, 3.0, 2.0]\n"
     ]
    }
   ],
   "source": [
    "id = 7000\n",
    "\n",
    "choice = list(ratings[ratings.userId == id].sort_values(by='rating', ascending=False)['movieId'])\n",
    "values = list(ratings[ratings.userId == id].sort_values(by='rating', ascending=False)['rating'])\n",
    "print(choice)\n",
    "print(values)\n",
    "user_rating = {c:r for c,r in zip(choice, values)}"
   ]
  },
  {
   "cell_type": "code",
   "execution_count": 296,
   "metadata": {},
   "outputs": [
    {
     "name": "stdout",
     "output_type": "stream",
     "text": [
      "[923, 1266, 1272, 1197, 2006, 1527, 1240, 4920, 4246, 4499, 4106, 2662, 1953, 1961, 1321, 1343, 1608, 1945, 1136, 1210, 4971, 4857, 4803, 4534, 4912, 2528, 2470, 2023, 3897, 3996, 3528, 4784, 4231, 3763, 3111, 2067, 928, 1222, 805, 920, 594, 2301, 2916, 3527, 4798, 2985, 4270, 4639, 4947, 4855, 4972, 2628]\n"
     ]
    }
   ],
   "source": [
    "import torch.nn.functional as F\n",
    "\n",
    "movie_embedding = encodings[choice[0]]\n",
    "\n",
    "actual_order = list(choice[1:])\n",
    "\n",
    "print(actual_order)\n",
    "\n",
    "similarities = F.cosine_similarity(encodings, movie_embedding.unsqueeze(0))\n",
    "similarities[0] = float('-inf')\n",
    "similar_indices = similarities.argsort(descending=True)\n",
    "\n",
    "#similar_indices[np.sort(np.array([np.where(similar_indices == a)[0][0] for a in actual_order]))] \n"
   ]
  },
  {
   "cell_type": "code",
   "execution_count": 297,
   "metadata": {},
   "outputs": [
    {
     "data": {
      "text/plain": [
       "[<matplotlib.lines.Line2D at 0x7ab95b25c4d0>]"
      ]
     },
     "execution_count": 297,
     "metadata": {},
     "output_type": "execute_result"
    },
    {
     "data": {
      "image/png": "[encoded data removed]",
      "text/plain": [
       "<Figure size 640x480 with 1 Axes>"
      ]
     },
     "metadata": {},
     "output_type": "display_data"
    }
   ],
   "source": [
    "rec_order = []\n",
    "for a in actual_order:\n",
    "    idx = np.where(similar_indices == a)[0]\n",
    "    if len(idx) > 0:\n",
    "        rec_order.append(idx[0])\n",
    "\n",
    "rec_order = similar_indices[sorted(rec_order)].numpy()\n",
    "ratings_associated = []\n",
    "for el in rec_order:\n",
    "    ratings_associated.append(user_rating[el])\n",
    "ratings_associated = np.array(ratings_associated)\n",
    "plt.plot(ratings_associated)"
   ]
  },
  {
   "cell_type": "code",
   "execution_count": 197,
   "metadata": {},
   "outputs": [
    {
     "data": {
      "text/plain": [
       "{'spearman_correlation': np.float64(0.9515151515151514),\n",
       " 'kendall_tau': np.float64(0.8222222222222221),\n",
       " 'average_displacement': 0.8,\n",
       " 'maximum_displacement': 1,\n",
       " 'ndcg': np.float64(0.9929232641600197)}"
      ]
     },
     "execution_count": 197,
     "metadata": {},
     "output_type": "execute_result"
    }
   ],
   "source": [
    "import numpy as np\n",
    "from scipy.stats import kendalltau, spearmanr\n",
    "\n",
    "def evaluate_ranking(actual_ids, predicted_ids):\n",
    "    \"\"\"\n",
    "    Evaluate the similarity between two rankings of the same elements.\n",
    "    \n",
    "    Parameters:\n",
    "    actual_ids (list): Ground truth ordering of items\n",
    "    predicted_ids (list): Predicted ordering of the same items\n",
    "    \n",
    "    Returns:\n",
    "    dict: Dictionary containing various ranking correlation metrics\n",
    "    \"\"\"\n",
    "    # Verify that we have the same elements\n",
    "    if set(actual_ids) != set(predicted_ids):\n",
    "        raise ValueError(\"Both lists must contain the same elements\")\n",
    "    \n",
    "    # Create position mappings for each element\n",
    "    actual_positions = {id: pos for pos, id in enumerate(actual_ids)}\n",
    "    \n",
    "    # Calculate position-based distance metrics\n",
    "    def calculate_displacement():\n",
    "        total_displacement = 0\n",
    "        max_displacement = 0\n",
    "        \n",
    "        for pred_pos, id in enumerate(predicted_ids):\n",
    "            actual_pos = actual_positions[id]\n",
    "            displacement = abs(pred_pos - actual_pos)\n",
    "            total_displacement += displacement\n",
    "            max_displacement = max(max_displacement, displacement)\n",
    "            \n",
    "        avg_displacement = total_displacement / len(actual_ids)\n",
    "        return avg_displacement, max_displacement\n",
    "    \n",
    "    # Spearman's rank correlation\n",
    "    spearman_corr, _ = spearmanr(actual_ids, predicted_ids)\n",
    "    \n",
    "    # Kendall's Tau rank correlation\n",
    "    kendall_corr, _ = kendalltau(actual_ids, predicted_ids)\n",
    "    \n",
    "    # Calculate normalized discounted cumulative gain (NDCG)\n",
    "    def calculate_ndcg():\n",
    "        # Create relevance scores based on position (higher score for higher rank)\n",
    "        max_pos = len(actual_ids)\n",
    "        relevance_scores = {id: max_pos - pos for pos, id in enumerate(actual_ids)}\n",
    "        \n",
    "        # Calculate DCG\n",
    "        dcg = 0\n",
    "        idcg = 0\n",
    "        for pos, (pred_id, actual_id) in enumerate(zip(predicted_ids, actual_ids), 1):\n",
    "            # Add 1 to position to avoid log(1) = 0\n",
    "            dcg += relevance_scores[pred_id] / np.log2(pos + 1)\n",
    "            idcg += relevance_scores[actual_id] / np.log2(pos + 1)\n",
    "            \n",
    "        return dcg / idcg if idcg != 0 else 0\n",
    "    \n",
    "    avg_displacement, max_displacement = calculate_displacement()\n",
    "    ndcg = calculate_ndcg()\n",
    "    \n",
    "    return {\n",
    "        'spearman_correlation': spearman_corr,\n",
    "        'kendall_tau': kendall_corr,\n",
    "        'average_displacement': avg_displacement,\n",
    "        'maximum_displacement': max_displacement,\n",
    "        'ndcg': ndcg\n",
    "    }\n",
    "\n",
    "# Example usage\n",
    "actual = [1, 2, 3, 4, 5, 6, 7, 8, 9, 10]\n",
    "predicted = [1, 3, 2, 5, 4, 7, 6, 9, 8, 10]\n",
    "\n",
    "metrics = evaluate_ranking(actual, predicted)\n",
    "metrics"
   ]
  },
  {
   "cell_type": "code",
   "execution_count": 166,
   "metadata": {},
   "outputs": [
    {
     "data": {
      "text/html": [
       "<div>\n",
       "<style scoped>\n",
       "    .dataframe tbody tr th:only-of-type {\n",
       "        vertical-align: middle;\n",
       "    }\n",
       "\n",
       "    .dataframe tbody tr th {\n",
       "        vertical-align: top;\n",
       "    }\n",
       "\n",
       "    .dataframe thead th {\n",
       "        text-align: right;\n",
       "    }\n",
       "</style>\n",
       "<table border=\"1\" class=\"dataframe\">\n",
       "  <thead>\n",
       "    <tr style=\"text-align: right;\">\n",
       "      <th></th>\n",
       "      <th>genre_Drama</th>\n",
       "      <th>genre_Comedy</th>\n",
       "      <th>genre_Thriller</th>\n",
       "      <th>genre_Romance Film</th>\n",
       "      <th>genre_Action</th>\n",
       "      <th>genre_World cinema</th>\n",
       "      <th>genre_Crime Fiction</th>\n",
       "      <th>genre_Indie</th>\n",
       "      <th>genre_Action/Adventure</th>\n",
       "      <th>genre_Horror</th>\n",
       "      <th>...</th>\n",
       "      <th>keyword_space travel</th>\n",
       "      <th>keyword_virgin</th>\n",
       "      <th>keyword_outlaw</th>\n",
       "      <th>keyword_twins</th>\n",
       "      <th>keyword_india</th>\n",
       "      <th>keyword_astronaut</th>\n",
       "      <th>keyword_based on video game</th>\n",
       "      <th>runtime_normalized</th>\n",
       "      <th>box_office_normalized</th>\n",
       "      <th>year_normalized</th>\n",
       "    </tr>\n",
       "  </thead>\n",
       "  <tbody>\n",
       "    <tr>\n",
       "      <th>count</th>\n",
       "      <td>27329.000000</td>\n",
       "      <td>27329.000000</td>\n",
       "      <td>27329.000000</td>\n",
       "      <td>27329.000000</td>\n",
       "      <td>27329.000000</td>\n",
       "      <td>27329.000000</td>\n",
       "      <td>27329.000000</td>\n",
       "      <td>27329.000000</td>\n",
       "      <td>27329.000000</td>\n",
       "      <td>27329.000000</td>\n",
       "      <td>...</td>\n",
       "      <td>27329.000000</td>\n",
       "      <td>27329.000000</td>\n",
       "      <td>27329.000000</td>\n",
       "      <td>27329.000000</td>\n",
       "      <td>27329.000000</td>\n",
       "      <td>27329.000000</td>\n",
       "      <td>27329.000000</td>\n",
       "      <td>2.732900e+04</td>\n",
       "      <td>2.732900e+04</td>\n",
       "      <td>2.732900e+04</td>\n",
       "    </tr>\n",
       "    <tr>\n",
       "      <th>mean</th>\n",
       "      <td>0.497018</td>\n",
       "      <td>0.324161</td>\n",
       "      <td>0.197775</td>\n",
       "      <td>0.177065</td>\n",
       "      <td>0.178528</td>\n",
       "      <td>0.146072</td>\n",
       "      <td>0.130740</td>\n",
       "      <td>0.116872</td>\n",
       "      <td>0.115738</td>\n",
       "      <td>0.108749</td>\n",
       "      <td>...</td>\n",
       "      <td>0.002049</td>\n",
       "      <td>0.002049</td>\n",
       "      <td>0.002049</td>\n",
       "      <td>0.002049</td>\n",
       "      <td>0.002013</td>\n",
       "      <td>0.002013</td>\n",
       "      <td>0.002013</td>\n",
       "      <td>-1.091983e-17</td>\n",
       "      <td>3.769940e-18</td>\n",
       "      <td>-1.048303e-15</td>\n",
       "    </tr>\n",
       "    <tr>\n",
       "      <th>std</th>\n",
       "      <td>0.500000</td>\n",
       "      <td>0.468069</td>\n",
       "      <td>0.398329</td>\n",
       "      <td>0.381730</td>\n",
       "      <td>0.382964</td>\n",
       "      <td>0.353185</td>\n",
       "      <td>0.337122</td>\n",
       "      <td>0.321274</td>\n",
       "      <td>0.319916</td>\n",
       "      <td>0.311330</td>\n",
       "      <td>...</td>\n",
       "      <td>0.045221</td>\n",
       "      <td>0.045221</td>\n",
       "      <td>0.045221</td>\n",
       "      <td>0.045221</td>\n",
       "      <td>0.044817</td>\n",
       "      <td>0.044817</td>\n",
       "      <td>0.044817</td>\n",
       "      <td>7.268329e-01</td>\n",
       "      <td>7.771011e-01</td>\n",
       "      <td>7.762059e-01</td>\n",
       "    </tr>\n",
       "    <tr>\n",
       "      <th>min</th>\n",
       "      <td>0.000000</td>\n",
       "      <td>0.000000</td>\n",
       "      <td>0.000000</td>\n",
       "      <td>0.000000</td>\n",
       "      <td>0.000000</td>\n",
       "      <td>0.000000</td>\n",
       "      <td>0.000000</td>\n",
       "      <td>0.000000</td>\n",
       "      <td>0.000000</td>\n",
       "      <td>0.000000</td>\n",
       "      <td>...</td>\n",
       "      <td>0.000000</td>\n",
       "      <td>0.000000</td>\n",
       "      <td>0.000000</td>\n",
       "      <td>0.000000</td>\n",
       "      <td>0.000000</td>\n",
       "      <td>0.000000</td>\n",
       "      <td>0.000000</td>\n",
       "      <td>-3.814150e+00</td>\n",
       "      <td>-2.052177e+00</td>\n",
       "      <td>-3.979841e+00</td>\n",
       "    </tr>\n",
       "    <tr>\n",
       "      <th>25%</th>\n",
       "      <td>0.000000</td>\n",
       "      <td>0.000000</td>\n",
       "      <td>0.000000</td>\n",
       "      <td>0.000000</td>\n",
       "      <td>0.000000</td>\n",
       "      <td>0.000000</td>\n",
       "      <td>0.000000</td>\n",
       "      <td>0.000000</td>\n",
       "      <td>0.000000</td>\n",
       "      <td>0.000000</td>\n",
       "      <td>...</td>\n",
       "      <td>0.000000</td>\n",
       "      <td>0.000000</td>\n",
       "      <td>0.000000</td>\n",
       "      <td>0.000000</td>\n",
       "      <td>0.000000</td>\n",
       "      <td>0.000000</td>\n",
       "      <td>0.000000</td>\n",
       "      <td>-1.264711e-01</td>\n",
       "      <td>-6.154002e-01</td>\n",
       "      <td>0.000000e+00</td>\n",
       "    </tr>\n",
       "    <tr>\n",
       "      <th>50%</th>\n",
       "      <td>0.000000</td>\n",
       "      <td>0.000000</td>\n",
       "      <td>0.000000</td>\n",
       "      <td>0.000000</td>\n",
       "      <td>0.000000</td>\n",
       "      <td>0.000000</td>\n",
       "      <td>0.000000</td>\n",
       "      <td>0.000000</td>\n",
       "      <td>0.000000</td>\n",
       "      <td>0.000000</td>\n",
       "      <td>...</td>\n",
       "      <td>0.000000</td>\n",
       "      <td>0.000000</td>\n",
       "      <td>0.000000</td>\n",
       "      <td>0.000000</td>\n",
       "      <td>0.000000</td>\n",
       "      <td>0.000000</td>\n",
       "      <td>0.000000</td>\n",
       "      <td>0.000000e+00</td>\n",
       "      <td>0.000000e+00</td>\n",
       "      <td>0.000000e+00</td>\n",
       "    </tr>\n",
       "    <tr>\n",
       "      <th>75%</th>\n",
       "      <td>1.000000</td>\n",
       "      <td>1.000000</td>\n",
       "      <td>0.000000</td>\n",
       "      <td>0.000000</td>\n",
       "      <td>0.000000</td>\n",
       "      <td>0.000000</td>\n",
       "      <td>0.000000</td>\n",
       "      <td>0.000000</td>\n",
       "      <td>0.000000</td>\n",
       "      <td>0.000000</td>\n",
       "      <td>...</td>\n",
       "      <td>0.000000</td>\n",
       "      <td>0.000000</td>\n",
       "      <td>0.000000</td>\n",
       "      <td>0.000000</td>\n",
       "      <td>0.000000</td>\n",
       "      <td>0.000000</td>\n",
       "      <td>0.000000</td>\n",
       "      <td>0.000000e+00</td>\n",
       "      <td>0.000000e+00</td>\n",
       "      <td>5.383824e-01</td>\n",
       "    </tr>\n",
       "    <tr>\n",
       "      <th>max</th>\n",
       "      <td>1.000000</td>\n",
       "      <td>1.000000</td>\n",
       "      <td>1.000000</td>\n",
       "      <td>1.000000</td>\n",
       "      <td>1.000000</td>\n",
       "      <td>1.000000</td>\n",
       "      <td>1.000000</td>\n",
       "      <td>1.000000</td>\n",
       "      <td>1.000000</td>\n",
       "      <td>1.000000</td>\n",
       "      <td>...</td>\n",
       "      <td>1.000000</td>\n",
       "      <td>1.000000</td>\n",
       "      <td>1.000000</td>\n",
       "      <td>1.000000</td>\n",
       "      <td>1.000000</td>\n",
       "      <td>1.000000</td>\n",
       "      <td>1.000000</td>\n",
       "      <td>1.968500e+01</td>\n",
       "      <td>2.567100e+00</td>\n",
       "      <td>1.207749e+00</td>\n",
       "    </tr>\n",
       "  </tbody>\n",
       "</table>\n",
       "<p>8 rows × 480 columns</p>\n",
       "</div>"
      ],
      "text/plain": [
       "        genre_Drama  genre_Comedy  genre_Thriller  genre_Romance Film  \\\n",
       "count  27329.000000  27329.000000    27329.000000        27329.000000   \n",
       "mean       0.497018      0.324161        0.197775            0.177065   \n",
       "std        0.500000      0.468069        0.398329            0.381730   \n",
       "min        0.000000      0.000000        0.000000            0.000000   \n",
       "25%        0.000000      0.000000        0.000000            0.000000   \n",
       "50%        0.000000      0.000000        0.000000            0.000000   \n",
       "75%        1.000000      1.000000        0.000000            0.000000   \n",
       "max        1.000000      1.000000        1.000000            1.000000   \n",
       "\n",
       "       genre_Action  genre_World cinema  genre_Crime Fiction   genre_Indie  \\\n",
       "count  27329.000000        27329.000000         27329.000000  27329.000000   \n",
       "mean       0.178528            0.146072             0.130740      0.116872   \n",
       "std        0.382964            0.353185             0.337122      0.321274   \n",
       "min        0.000000            0.000000             0.000000      0.000000   \n",
       "25%        0.000000            0.000000             0.000000      0.000000   \n",
       "50%        0.000000            0.000000             0.000000      0.000000   \n",
       "75%        0.000000            0.000000             0.000000      0.000000   \n",
       "max        1.000000            1.000000             1.000000      1.000000   \n",
       "\n",
       "       genre_Action/Adventure  genre_Horror  ...  keyword_space travel  \\\n",
       "count            27329.000000  27329.000000  ...          27329.000000   \n",
       "mean                 0.115738      0.108749  ...              0.002049   \n",
       "std                  0.319916      0.311330  ...              0.045221   \n",
       "min                  0.000000      0.000000  ...              0.000000   \n",
       "25%                  0.000000      0.000000  ...              0.000000   \n",
       "50%                  0.000000      0.000000  ...              0.000000   \n",
       "75%                  0.000000      0.000000  ...              0.000000   \n",
       "max                  1.000000      1.000000  ...              1.000000   \n",
       "\n",
       "       keyword_virgin  keyword_outlaw  keyword_twins  keyword_india  \\\n",
       "count    27329.000000    27329.000000   27329.000000   27329.000000   \n",
       "mean         0.002049        0.002049       0.002049       0.002013   \n",
       "std          0.045221        0.045221       0.045221       0.044817   \n",
       "min          0.000000        0.000000       0.000000       0.000000   \n",
       "25%          0.000000        0.000000       0.000000       0.000000   \n",
       "50%          0.000000        0.000000       0.000000       0.000000   \n",
       "75%          0.000000        0.000000       0.000000       0.000000   \n",
       "max          1.000000        1.000000       1.000000       1.000000   \n",
       "\n",
       "       keyword_astronaut  keyword_based on video game  runtime_normalized  \\\n",
       "count       27329.000000                 27329.000000        2.732900e+04   \n",
       "mean            0.002013                     0.002013       -1.091983e-17   \n",
       "std             0.044817                     0.044817        7.268329e-01   \n",
       "min             0.000000                     0.000000       -3.814150e+00   \n",
       "25%             0.000000                     0.000000       -1.264711e-01   \n",
       "50%             0.000000                     0.000000        0.000000e+00   \n",
       "75%             0.000000                     0.000000        0.000000e+00   \n",
       "max             1.000000                     1.000000        1.968500e+01   \n",
       "\n",
       "       box_office_normalized  year_normalized  \n",
       "count           2.732900e+04     2.732900e+04  \n",
       "mean            3.769940e-18    -1.048303e-15  \n",
       "std             7.771011e-01     7.762059e-01  \n",
       "min            -2.052177e+00    -3.979841e+00  \n",
       "25%            -6.154002e-01     0.000000e+00  \n",
       "50%             0.000000e+00     0.000000e+00  \n",
       "75%             0.000000e+00     5.383824e-01  \n",
       "max             2.567100e+00     1.207749e+00  \n",
       "\n",
       "[8 rows x 480 columns]"
      ]
     },
     "execution_count": 166,
     "metadata": {},
     "output_type": "execute_result"
    }
   ],
   "source": [
    "X.describe()"
   ]
  },
  {
   "cell_type": "code",
   "execution_count": 199,
   "metadata": {},
   "outputs": [
    {
     "name": "stdout",
     "output_type": "stream",
     "text": [
      "                                              movie_name    year  \\\n",
      "65985                                       Tron: Legacy  2010.0   \n",
      "23381  The Adventures of Tintin: The Secret of the Un...  2011.0   \n",
      "62864                                         Happy Feet  2006.0   \n",
      "18345                                     Chicken Little  2005.0   \n",
      "34792                                          Planet 51  2009.0   \n",
      "\n",
      "                                                  genres  \n",
      "65985  [Thriller, Science Fiction, Adventure, Compute...  \n",
      "23381  [Adventure, Computer Animation, Animation, Mys...  \n",
      "62864  [Adventure, Children's/Family, Computer Animat...  \n",
      "18345  [Science Fiction, Adventure, Computer Animatio...  \n",
      "34792  [Science Fiction, Adventure, Computer Animatio...  \n"
     ]
    }
   ],
   "source": [
    "import torch.nn.functional as F\n",
    "\n",
    "def get_recommendations(movie_name, n=5):\n",
    "\n",
    "\n",
    "    # Get the index of the movie\n",
    "    if isinstance(movie_name, int):\n",
    "        movie_idx = features[features['wikipedia_movie_id'] == movie_name].index[0]\n",
    "    else:\n",
    "        movie_idx = features[features['movie_name'] == movie_name].index[0]\n",
    "    \n",
    "    # Get its embedding (as tensor)\n",
    "    movie_embedding = encodings[movie_idx]\n",
    "\n",
    "    # print(movie_embedding)\n",
    "    \n",
    "    # Calculate similarities with all other movies using PyTorch\n",
    "    similarities = F.cosine_similarity(encodings, movie_embedding.unsqueeze(0))\n",
    "    \n",
    "    # Get top similar movies (excluding itself)\n",
    "    # Set similarity with itself to negative infinity to exclude it\n",
    "    similarities[movie_idx] = float('-inf')\n",
    "    similar_indices = similarities.argsort(descending=True)[:n]\n",
    "    \n",
    "    return features.iloc[similar_indices.numpy()][['movie_name', 'year', 'genres']]\n",
    "\n",
    "# Example usage\n",
    "recommendations = get_recommendations(\"WALL-E\")\n",
    "print(recommendations)"
   ]
  },
  {
   "cell_type": "code",
   "execution_count": 501,
   "metadata": {},
   "outputs": [
    {
     "data": {
      "text/plain": [
       "array([0.890625  , 0.515625  , 0.07421875, ..., 0.42578125, 0.671875  ,\n",
       "       0.62109375])"
      ]
     },
     "execution_count": 501,
     "metadata": {},
     "output_type": "execute_result"
    }
   ],
   "source": [
    "np.mean(encodings.numpy() < 0.01, axis=1)"
   ]
  },
  {
   "cell_type": "code",
   "execution_count": 200,
   "metadata": {},
   "outputs": [
    {
     "name": "stdout",
     "output_type": "stream",
     "text": [
      "Total neurons: 512\n",
      "Average active neurons per movie: 0.04\n",
      "Neurons with significant average activation: 0\n"
     ]
    },
    {
     "data": {
      "image/png": "[encoded data removed]",
      "text/plain": [
       "<Figure size 1000x400 with 2 Axes>"
      ]
     },
     "metadata": {},
     "output_type": "display_data"
    }
   ],
   "source": [
    "import matplotlib.pyplot as plt\n",
    "\n",
    "def analyze_sparsity(model, X_tensor):\n",
    "    with torch.no_grad():\n",
    "        encodings, _ = model(X_tensor)\n",
    "        \n",
    "        # Calculate average activation of each neuron\n",
    "        avg_activation = encodings.mean(dim=0)\n",
    "        \n",
    "        # Calculate sparsity metrics\n",
    "        active_neurons = (avg_activation > 0.05).sum()  # neurons with significant activation\n",
    "        sparsity_per_sample = (encodings > 0.05).float().mean(dim=1)  # active neurons per movie\n",
    "        \n",
    "        print(f\"Total neurons: {encodings.shape[1]}\")\n",
    "        print(f\"Average active neurons per movie: {sparsity_per_sample.mean():.2f}\")\n",
    "        print(f\"Neurons with significant average activation: {active_neurons}\")\n",
    "        \n",
    "        # Visualize activation distribution\n",
    "        plt.figure(figsize=(10, 4))\n",
    "        plt.subplot(1, 2, 1)\n",
    "        plt.hist(avg_activation.numpy(), bins=30)\n",
    "        plt.title('Distribution of Average Neuron Activation')\n",
    "        plt.xlabel('Activation')\n",
    "        \n",
    "        plt.subplot(1, 2, 2)\n",
    "        plt.hist(sparsity_per_sample.numpy(), bins=30)\n",
    "        plt.title('Distribution of Active Neurons per Movie')\n",
    "        plt.xlabel('Number of Active Neurons')\n",
    "        plt.tight_layout()\n",
    "        plt.show()\n",
    "\n",
    "# Use it\n",
    "analyze_sparsity(sae, X_tensor)"
   ]
  },
  {
   "cell_type": "code",
   "execution_count": 299,
   "metadata": {},
   "outputs": [
    {
     "data": {
      "text/plain": [
       "Index(['language_Frisian, Western Language', 'language_Hariyani',\n",
       "       'language_Serbian language', 'language_Romanian Language',\n",
       "       'language_Swedish Language', 'language_Haryanvi Language',\n",
       "       'language_Egyptian Arabic', 'language_Napoletano-Calabrese Language',\n",
       "       'language_Bosnian language', 'language_Navajo Language',\n",
       "       'language_Cantonese', 'language_Chadian Arabic', 'language_Hainanese',\n",
       "       'language_Icelandic Language', 'language_Malay Language',\n",
       "       'language_Apache, Western Language', 'language_Lithuanian language',\n",
       "       'language_Cree language', 'language_Tamil Language',\n",
       "       'language_Picard Language', 'language_Classical Arabic',\n",
       "       'language_Italian Language', 'language_Turkish Language',\n",
       "       'language_Welsh Language', 'language_Friulian Language',\n",
       "       'language_Korean Language', 'language_Hawaiian language',\n",
       "       'language_Urdu Language', 'language_France',\n",
       "       'language_German Language'],\n",
       "      dtype='object')"
      ]
     },
     "execution_count": 299,
     "metadata": {},
     "output_type": "execute_result"
    }
   ],
   "source": [
    "features.columns[-30:]"
   ]
  },
  {
   "cell_type": "code",
   "execution_count": 302,
   "metadata": {},
   "outputs": [
    {
     "data": {
      "text/plain": [
       "Index(['country_Iceland', 'country_Greece', 'country_Austria',\n",
       "       'country_Turkmenistan', 'country_Belgium', 'country_Thailand',\n",
       "       'country_Azerbaijan', 'country_Burkina Faso',\n",
       "       'country_Kingdom of Great Britain', 'country_Georgian SSR',\n",
       "       ...\n",
       "       'country_Israel', 'country_Nigeria', 'country_Bhutan',\n",
       "       'country_Hong Kong', 'country_Egypt', 'country_Korea', 'country_Brazil',\n",
       "       'country_France', 'country_Costa Rica', 'country_German Language'],\n",
       "      dtype='object', length=147)"
      ]
     },
     "execution_count": 302,
     "metadata": {},
     "output_type": "execute_result"
    }
   ],
   "source": [
    "X.columns[list(map(lambda x: 'genre' in x, list(X.columns)))]"
   ]
  },
  {
   "cell_type": "code",
   "execution_count": 162,
   "metadata": {},
   "outputs": [
    {
     "data": {
      "text/plain": [
       "np.int64(76)"
      ]
     },
     "execution_count": 162,
     "metadata": {},
     "output_type": "execute_result"
    }
   ],
   "source": [
    "(df['runtime_normalized'] > (df['runtime_normalized']).std() * 5).sum()"
   ]
  },
  {
   "cell_type": "code",
   "execution_count": 157,
   "metadata": {},
   "outputs": [
    {
     "name": "stdout",
     "output_type": "stream",
     "text": [
      "\n",
      "Neuron 5:\n",
      "Top activating movies:\n",
      "- New York: A Documentary Film \n",
      "- The Immigrant \n",
      "- Hitler: A Film from Germany \n",
      "- Skyscraper Souls \n",
      "- The Bachelor Father \n",
      "- Seven Years Bad Luck \n",
      "- If I Had a Million \n",
      "- Movie Crazy \n",
      "- Tie Xi Qu: West of the Tracks \n",
      "- The Little Foxes \n",
      "- The Bohemian Girl \n",
      "- Captain January \n",
      "- Empire \n",
      "- Show Boat \n",
      "- The Cocoanuts \n",
      "- Forsaking All Others \n",
      "- A Farewell to Arms \n",
      "- Tales of Manhattan \n",
      "- Man on the Flying Trapeze \n",
      "- A Successful Calamity \n",
      "Top correlated features:\n",
      "- genre_Black-and-white: 0.627\n",
      "- year_normalized: -0.600\n",
      "- genre_Adventure: -0.381\n",
      "- genre_Action: -0.313\n",
      "- genre_Action/Adventure: -0.307\n",
      "- genre_Thriller: -0.248\n",
      "- genre_World cinema: -0.237\n",
      "- genre_Drama: 0.215\n",
      "- box_office_normalized: -0.206\n",
      "- genre_Indie: -0.202\n",
      "- keyword_independent film: -0.174\n",
      "- genre_Film noir: 0.173\n",
      "- genre_Science Fiction: -0.171\n",
      "- genre_Horror: -0.171\n",
      "- genre_Comedy: 0.158\n",
      "- genre_Fantasy: -0.157\n",
      "- genre_Silent film: 0.155\n",
      "- origin_lang_en: 0.149\n",
      "- genre_Martial Arts Film: -0.144\n",
      "- keyword_film noir: 0.127\n",
      "- genre_Animation: -0.122\n",
      "- genre_Action Thrillers: -0.119\n",
      "- genre_Children's: -0.116\n",
      "- genre_Chinese Movies: -0.115\n",
      "- genre_Children's/Family: -0.114\n",
      "- keyword_musical: 0.105\n",
      "- genre_Fantasy Adventure: -0.100\n",
      "- keyword_martial arts: -0.097\n",
      "- genre_Slasher: -0.096\n",
      "- keyword_violence: -0.096\n",
      "- genre_Children's Fantasy: -0.096\n",
      "- genre_Comedy-drama: 0.095\n",
      "- origin_lang_cn: -0.093\n",
      "- genre_Slapstick: 0.093\n",
      "- genre_Cult: -0.092\n",
      "- keyword_classic noir: 0.091\n",
      "- genre_Family-Oriented Adventure: -0.091\n",
      "- origin_lang_ko: -0.089\n",
      "- keyword_silent film: 0.087\n",
      "- genre_Supernatural: -0.085\n",
      "- genre_Superhero movie: -0.085\n",
      "- genre_Crime Fiction: -0.083\n",
      "- keyword_woman director: -0.081\n",
      "- keyword_duringcreditsstinger: -0.080\n",
      "- genre_Melodrama: 0.078\n",
      "- genre_Japanese Movies: -0.077\n",
      "- genre_Musical: 0.076\n",
      "- genre_Psychological thriller: -0.072\n",
      "- origin_lang_hi: -0.069\n",
      "- keyword_dystopia: -0.067\n",
      "- origin_lang_ja: -0.067\n",
      "- genre_Bollywood: -0.067\n",
      "- keyword_superhero: -0.066\n",
      "- genre_Culture & Society: -0.066\n",
      "- genre_Crime Thriller: -0.066\n",
      "- keyword_blood: -0.065\n",
      "- genre_Anime: -0.064\n",
      "- genre_Biopic [feature]: 0.064\n",
      "- keyword_3d: -0.063\n",
      "- genre_Family Film: -0.062\n",
      "- genre_Creature Film: -0.062\n",
      "- genre_Screwball comedy: 0.059\n",
      "- genre_Music: 0.059\n",
      "- genre_Computer Animation: -0.058\n",
      "- keyword_gore: -0.056\n",
      "- genre_Documentary: -0.056\n",
      "- origin_lang_es: -0.054\n",
      "- keyword_kung fu: -0.054\n",
      "- keyword_aftercreditsstinger: -0.054\n",
      "- keyword_sequel: -0.053\n",
      "- keyword_based on comic: -0.051\n",
      "- genre_Disaster: -0.051\n",
      "- origin_lang_zh: -0.051\n",
      "- genre_Romance Film: 0.051\n",
      "- genre_Satire: 0.050\n",
      "- keyword_suspense: -0.049\n",
      "- keyword_helicopter: -0.049\n",
      "- keyword_magic: -0.049\n",
      "- genre_Film adaptation: 0.049\n",
      "- keyword_revenge: -0.049\n",
      "- keyword_killer: -0.048\n",
      "- keyword_assassin: -0.048\n",
      "- keyword_robot: -0.048\n",
      "- genre_Suspense: -0.048\n",
      "- keyword_shootout: -0.047\n",
      "- keyword_rape: -0.047\n",
      "- genre_B-movie: -0.046\n",
      "- keyword_based on play or musical: 0.045\n",
      "- keyword_torture: -0.045\n",
      "- keyword_future: -0.045\n",
      "- genre_Crime Drama: 0.044\n",
      "- genre_War film: 0.044\n",
      "- keyword_investigation: -0.044\n",
      "- keyword_nudity: -0.044\n",
      "- keyword_based on video game: -0.044\n",
      "- keyword_supernatural: -0.043\n",
      "- keyword_hitman: -0.042\n",
      "- keyword_female nudity: -0.042\n",
      "- keyword_cia: -0.042\n",
      "- keyword_sword: -0.042\n",
      "- keyword_sadism: -0.042\n",
      "- runtime_normalized: 0.042\n",
      "- keyword_death: -0.041\n",
      "- keyword_time travel: -0.041\n",
      "- genre_Political thriller: -0.041\n",
      "- keyword_bollywood: -0.041\n",
      "- keyword_space travel: -0.041\n",
      "- keyword_dinosaur: -0.041\n",
      "- genre_Mystery: -0.041\n",
      "- keyword_psychopath: -0.040\n",
      "- keyword_alien: -0.040\n",
      "- keyword_monster: -0.040\n",
      "- keyword_slasher: -0.040\n",
      "- keyword_world war ii: 0.040\n",
      "- keyword_anime: -0.040\n",
      "- genre_Buddy film: -0.039\n",
      "- keyword_space: -0.039\n",
      "- origin_lang_it: 0.038\n",
      "- keyword_hollywood: 0.038\n",
      "- keyword_murder: -0.038\n",
      "- keyword_father son relationship: -0.038\n",
      "- keyword_fbi: -0.037\n",
      "- keyword_astronaut: -0.037\n",
      "- keyword_historical figure: 0.037\n",
      "- origin_lang_ta: -0.037\n",
      "- keyword_post-apocalyptic: -0.037\n",
      "- keyword_japan: -0.037\n",
      "- keyword_jungle: -0.037\n",
      "- keyword_animation: -0.037\n",
      "- keyword_fire: -0.036\n",
      "- origin_lang_fr: -0.036\n",
      "- keyword_survival: -0.036\n",
      "- keyword_chase: -0.036\n",
      "- keyword_forest: -0.036\n",
      "- keyword_car chase: -0.036\n",
      "- origin_lang_de: -0.036\n",
      "- keyword_hostage: -0.036\n",
      "- genre_Biographical film: 0.036\n",
      "- genre_Comedy film: 0.035\n",
      "- keyword_new love: -0.035\n",
      "- keyword_lesbian: -0.035\n",
      "- keyword_bomb: -0.034\n",
      "- keyword_wilderness: -0.034\n",
      "- keyword_escape: -0.034\n",
      "- keyword_rescue: -0.033\n",
      "- keyword_widow: 0.033\n",
      "- keyword_serial killer: -0.033\n",
      "- genre_Domestic Comedy: 0.033\n",
      "- keyword_fbi agent: -0.032\n",
      "- keyword_curse: -0.032\n",
      "- keyword_samurai: -0.032\n",
      "- keyword_scientist: -0.031\n",
      "- origin_lang_th: -0.031\n",
      "- keyword_homosexuality: -0.031\n",
      "- genre_Television movie: 0.031\n",
      "- keyword_explosion: -0.031\n",
      "- genre_Short Film: 0.030\n",
      "- keyword_secret agent: -0.030\n",
      "- keyword_horror: -0.030\n",
      "- keyword_motorcycle: -0.030\n",
      "- genre_History: -0.030\n",
      "- keyword_conspiracy: -0.030\n",
      "- keyword_gunfight: -0.030\n",
      "- keyword_australia: -0.029\n",
      "- keyword_criminal: -0.029\n",
      "- genre_Comedy of manners: 0.029\n",
      "- origin_lang_da: -0.029\n",
      "- keyword_witch: -0.029\n",
      "- keyword_vampire: -0.029\n",
      "- keyword_drug: -0.029\n",
      "- keyword_world war i: 0.029\n",
      "- keyword_sex: -0.029\n",
      "- keyword_desert: -0.028\n",
      "- keyword_police officer: -0.028\n",
      "- genre_Sex comedy: 0.028\n",
      "- genre_Courtroom Drama: 0.028\n",
      "- keyword_canuxploitation: -0.028\n",
      "- genre_Teen: -0.027\n",
      "- keyword_car crash: -0.027\n",
      "- keyword_fight: -0.027\n",
      "- keyword_marriage: 0.027\n",
      "- genre_Detective fiction: 0.027\n",
      "- keyword_disaster: -0.027\n",
      "- genre_Ensemble Film: 0.027\n",
      "- genre_LGBT: -0.027\n",
      "- keyword_italy: 0.027\n",
      "- keyword_nightmare: -0.026\n",
      "- keyword_reporter: 0.026\n",
      "- keyword_war: -0.026\n",
      "- keyword_castle: -0.026\n",
      "- keyword_battle: -0.026\n",
      "- keyword_terrorist: -0.025\n",
      "- genre_Historical fiction: -0.025\n",
      "- keyword_baseball: 0.025\n",
      "- keyword_ghost: -0.025\n",
      "- keyword_hero: -0.025\n",
      "- keyword_friends: -0.025\n",
      "- genre_Detective: 0.024\n",
      "- keyword_photographer: -0.024\n",
      "- keyword_coming of age: 0.024\n",
      "- keyword_lawyer: 0.024\n",
      "- keyword_airplane: -0.024\n",
      "- keyword_journalist: -0.023\n",
      "- keyword_robbery: 0.023\n",
      "- keyword_children: -0.023\n",
      "- genre_Family Drama: 0.023\n",
      "- genre_Romantic comedy: 0.023\n",
      "- keyword_los angeles: -0.023\n",
      "- keyword_mafia: -0.023\n",
      "- keyword_werewolf: -0.023\n",
      "- keyword_male nudity: -0.023\n",
      "- keyword_competition: -0.023\n",
      "- keyword_kidnapping: -0.022\n",
      "- keyword_family relationships: 0.022\n",
      "- keyword_dancing: 0.022\n",
      "- keyword_police: -0.022\n",
      "- keyword_rivalry: -0.022\n",
      "- keyword_restaurant: 0.022\n",
      "- keyword_gun: -0.022\n",
      "- origin_lang_cs: -0.022\n",
      "- keyword_crime: -0.022\n",
      "- keyword_insanity: -0.021\n",
      "- genre_Erotica: -0.021\n",
      "- genre_Docudrama: 0.021\n",
      "- keyword_horse: -0.021\n",
      "- keyword_wife husband relationship: -0.021\n",
      "- keyword_experiment: -0.021\n",
      "- keyword_soldier: -0.021\n",
      "- keyword_africa: -0.021\n",
      "- keyword_professor: 0.020\n",
      "- keyword_mother daughter relationship: 0.020\n",
      "- keyword_biography: 0.020\n",
      "- keyword_brother sister relationship: -0.020\n",
      "- keyword_prison: -0.020\n",
      "- keyword_hoodlum: -0.020\n",
      "- keyword_mountain: -0.020\n",
      "- keyword_suicide attempt: 0.020\n",
      "- keyword_china: -0.019\n",
      "- keyword_orphan: 0.019\n",
      "- origin_lang_te: -0.019\n",
      "- keyword_san francisco: 0.019\n",
      "- keyword_france: -0.019\n",
      "- keyword_infidelity: 0.018\n",
      "- keyword_father daughter relationship: 0.018\n",
      "- keyword_jealousy: -0.018\n",
      "- genre_Western: 0.018\n",
      "- keyword_detective: -0.018\n",
      "- keyword_satire: 0.018\n",
      "- keyword_love: 0.018\n",
      "- keyword_india: -0.017\n",
      "- keyword_dysfunctional family: -0.017\n",
      "- keyword_music: -0.017\n",
      "- keyword_zombie: -0.017\n",
      "- keyword_cult film: -0.017\n",
      "- keyword_nazis: 0.017\n",
      "- keyword_prostitution: -0.017\n",
      "- keyword_flashback: -0.017\n",
      "- keyword_mutant: -0.017\n",
      "- keyword_doctor: 0.016\n",
      "- keyword_assassination: -0.016\n",
      "- genre_Gay: -0.016\n",
      "- genre_Zombie Film: -0.016\n",
      "- keyword_teacher: -0.016\n",
      "- keyword_demon: -0.016\n",
      "- keyword_lgbt: -0.015\n",
      "- keyword_daughter: -0.015\n",
      "- genre_Gay Themed: -0.015\n",
      "- genre_Political cinema: 0.015\n",
      "- keyword_small town: 0.015\n",
      "- keyword_youth: -0.015\n",
      "- keyword_brother brother relationship: -0.015\n",
      "- keyword_best friend: -0.015\n",
      "- origin_lang_bn: 0.015\n",
      "- keyword_gold: -0.014\n",
      "- keyword_christmas: -0.014\n",
      "- keyword_family: -0.014\n",
      "- genre_Gangster Film: -0.014\n",
      "- keyword_outlaw: -0.014\n",
      "- keyword_summer: -0.014\n",
      "- keyword_secret: -0.014\n",
      "- origin_lang_sv: 0.014\n",
      "- keyword_suicide: 0.014\n",
      "- keyword_new york city: 0.014\n",
      "- keyword_spy: -0.014\n",
      "- genre_Parody: 0.014\n",
      "- keyword_church: -0.014\n",
      "- keyword_singer: 0.013\n",
      "- keyword_bank: 0.013\n",
      "- keyword_gang: -0.013\n",
      "- keyword_money: 0.013\n",
      "- keyword_thief: -0.013\n",
      "- genre_Experimental film: -0.013\n",
      "- keyword_extramarital affair: 0.013\n",
      "- keyword_priest: 0.013\n",
      "- keyword_friendship: -0.013\n",
      "- origin_lang_id: -0.013\n",
      "- keyword_rural setting: -0.013\n",
      "- keyword_neo-noir: -0.012\n",
      "- keyword_holiday: -0.012\n",
      "- keyword_based on true story: -0.012\n",
      "- keyword_millionaire: 0.012\n",
      "- genre_Gay Interest: -0.012\n",
      "- keyword_romantic comedy: -0.012\n",
      "- keyword_spaghetti western: -0.012\n",
      "- keyword_based on novel: -0.012\n",
      "- origin_lang_lt: 0.012\n",
      "- origin_lang_ru: -0.012\n",
      "- keyword_college: 0.012\n",
      "- keyword_california: -0.012\n",
      "- keyword_undercover: -0.012\n",
      "- keyword_drug dealer: -0.012\n",
      "- genre_Black comedy: 0.012\n",
      "- keyword_divorce: 0.012\n",
      "- genre_Epic: -0.012\n",
      "- keyword_eroticism: -0.011\n",
      "- keyword_love of one's life: -0.011\n",
      "- keyword_remake: -0.011\n",
      "- keyword_sister sister relationship: 0.011\n",
      "- keyword_adultery: 0.011\n",
      "- keyword_bar: -0.011\n",
      "- keyword_texas: -0.011\n",
      "- keyword_waitress: 0.011\n",
      "- keyword_depression: 0.010\n",
      "- origin_lang_vi: -0.010\n",
      "- keyword_relationship: -0.010\n",
      "- keyword_alcoholic: -0.010\n",
      "- keyword_writer: 0.010\n",
      "- origin_lang_no: -0.010\n",
      "- keyword_england: -0.010\n",
      "- origin_lang_ab: -0.010\n",
      "- keyword_gangster: 0.010\n",
      "- keyword_short: 0.009\n",
      "- origin_lang_fa: -0.009\n",
      "- keyword_army: -0.009\n",
      "- origin_lang_eo: 0.009\n",
      "- keyword_incest: -0.009\n",
      "- keyword_erotic movie: -0.009\n",
      "- keyword_village: -0.009\n",
      "- keyword_princess: -0.008\n",
      "- genre_Crime Comedy: -0.008\n",
      "- keyword_dying and death: -0.008\n",
      "- origin_lang_nb: -0.008\n",
      "- keyword_pilot: -0.008\n",
      "- keyword_party: 0.008\n",
      "- origin_lang_ur: -0.008\n",
      "- origin_lang_pt: -0.008\n",
      "- origin_lang_nl: -0.008\n",
      "- keyword_19th century: 0.008\n",
      "- origin_lang_zu: -0.008\n",
      "- origin_lang_pl: -0.008\n",
      "- keyword_1970s: -0.008\n",
      "- keyword_paranoia: -0.008\n",
      "- origin_lang_am: 0.008\n",
      "- keyword_comedy: -0.008\n",
      "- genre_Road movie: -0.008\n",
      "- keyword_bank robbery: -0.008\n",
      "- keyword_baby: 0.007\n",
      "- keyword_nurse: 0.007\n",
      "- origin_lang_af: -0.007\n",
      "- genre_Biography: -0.007\n",
      "- keyword_dance: 0.007\n",
      "- origin_lang_ky: -0.007\n",
      "- keyword_usa president: -0.007\n",
      "- keyword_dark comedy: -0.007\n",
      "- origin_lang_mn: -0.007\n",
      "- origin_lang_ar: -0.007\n",
      "- keyword_gay: -0.007\n",
      "- origin_lang_bo: -0.007\n",
      "- keyword_surrealism: 0.007\n",
      "- keyword_island: -0.007\n",
      "- origin_lang_bm: -0.006\n",
      "- genre_Political drama: -0.006\n",
      "- origin_lang_el: -0.006\n",
      "- origin_lang_sh: 0.006\n",
      "- keyword_nightclub: -0.006\n",
      "- keyword_blackmail: -0.006\n",
      "- keyword_prince: -0.006\n",
      "- keyword_gambling: 0.006\n",
      "- keyword_hotel: -0.006\n",
      "- origin_lang_he: -0.006\n",
      "- origin_lang_ml: 0.006\n",
      "- keyword_dream: -0.006\n",
      "- keyword_love triangle: 0.006\n",
      "- keyword_twins: 0.006\n",
      "- origin_lang_ro: 0.006\n",
      "- keyword_betrayal: -0.006\n",
      "- keyword_artist: 0.006\n",
      "- keyword_obsession: -0.006\n",
      "- genre_Sports: -0.006\n",
      "- origin_lang_et: 0.006\n",
      "- genre_Art film: 0.005\n",
      "- keyword_boat: -0.005\n",
      "- keyword_farm: -0.005\n",
      "- keyword_new york: 0.005\n",
      "- origin_lang_ca: -0.005\n",
      "- keyword_wedding: 0.005\n",
      "- keyword_funeral: -0.005\n",
      "- origin_lang_ps: -0.005\n",
      "- keyword_beach: 0.005\n",
      "- keyword_school: 0.005\n",
      "- origin_lang_sr: -0.005\n",
      "- keyword_parent child relationship: -0.005\n",
      "- keyword_religion: -0.005\n",
      "- keyword_author: 0.005\n",
      "- keyword_road trip: -0.005\n",
      "- keyword_hospital: -0.005\n",
      "- keyword_sport: 0.005\n",
      "- keyword_falling in love: -0.005\n",
      "- origin_lang_fi: -0.005\n",
      "- keyword_student: -0.004\n",
      "- keyword_native american: -0.004\n",
      "- genre_Romantic drama: -0.004\n",
      "- origin_lang_tl: -0.004\n",
      "- origin_lang_mk: -0.004\n",
      "- keyword_road movie: -0.004\n",
      "- keyword_romance: -0.004\n",
      "- origin_lang_is: 0.004\n",
      "- keyword_cold war: -0.004\n",
      "- keyword_politics: 0.004\n",
      "- origin_lang_rw: -0.004\n",
      "- keyword_sheriff: -0.004\n",
      "- keyword_paris: -0.004\n",
      "- keyword_train: 0.004\n",
      "- origin_lang_bg: -0.004\n",
      "- origin_lang_tr: 0.004\n",
      "- keyword_ship: -0.003\n",
      "- genre_Fantasy Comedy: -0.003\n",
      "- keyword_high school: -0.003\n",
      "- keyword_marijuana: 0.003\n",
      "- genre_Comedy of Errors: 0.003\n",
      "- keyword_virgin: 0.003\n",
      "- origin_lang_cy: 0.003\n",
      "- keyword_mexico: 0.003\n",
      "- keyword_corruption: -0.003\n",
      "- genre_Spy: -0.003\n",
      "- keyword_drama: 0.003\n",
      "- keyword_spoof: -0.003\n",
      "- origin_lang_ay: -0.003\n",
      "- genre_Horror Comedy: 0.003\n",
      "- origin_lang_eu: -0.003\n",
      "- origin_lang_hu: -0.002\n",
      "- keyword_racism: -0.002\n",
      "- origin_lang_fy: 0.002\n",
      "- origin_lang_uk: 0.002\n",
      "- keyword_prostitute: 0.002\n",
      "- keyword_tv movie: 0.002\n",
      "- origin_lang_xx: 0.002\n",
      "- origin_lang_sk: 0.002\n",
      "- keyword_london england: -0.002\n",
      "- keyword_psychiatrist: 0.002\n",
      "- origin_lang_ms: -0.002\n",
      "- origin_lang_bs: 0.002\n",
      "- genre_Coming of age: 0.001\n",
      "- origin_lang_mr: 0.001\n",
      "- origin_lang_sl: -0.001\n",
      "- origin_lang_tg: 0.001\n",
      "- keyword_cat: 0.001\n",
      "- keyword_mad scientist: -0.001\n",
      "- keyword_dog: -0.001\n",
      "- origin_lang_ku: -0.001\n",
      "- origin_lang_sq: -0.001\n",
      "- keyword_amnesia: -0.001\n",
      "- keyword_b movie: -0.001\n",
      "- keyword_neighbor: 0.001\n",
      "- origin_lang_lv: -0.001\n",
      "- origin_lang_si: -0.001\n",
      "- keyword_alcohol: -0.001\n",
      "- origin_lang_sm: 0.001\n",
      "- keyword_seduction: 0.001\n",
      "- origin_lang_hr: -0.001\n",
      "- origin_lang_ka: -0.001\n",
      "- genre_Period piece: 0.001\n",
      "- keyword_usa: -0.001\n",
      "- keyword_heist: -0.001\n",
      "- keyword_teenager: -0.001\n",
      "- origin_lang_la: 0.000\n",
      "- keyword_pregnancy: -0.000\n",
      "- origin_lang_wo: 0.000\n",
      "- origin_lang_jv: 0.000\n",
      "- genre_Costume drama: 0.000\n"
     ]
    }
   ],
   "source": [
    "\n",
    "neuron = 5\n",
    "\n",
    "activation = encodings[:, neuron]\n",
    "top_movies = activation.argsort(descending=True)[:20]\n",
    "\n",
    "print(f\"\\nNeuron {neuron}:\")\n",
    "print(\"Top activating movies:\")\n",
    "for idx in top_movies:\n",
    "    print(f\"- {df.iloc[int(idx)]['title']} \")\n",
    "# Find feature correlation\n",
    "correlations = []\n",
    "for i, feature in enumerate(X.columns[list(map(lambda x: True or 'genre' in x, list(X.columns)))]):\n",
    "    corr = torch.corrcoef(\n",
    "        torch.stack([activation, X_tensor[:, i]])\n",
    "    )[0,1].item()\n",
    "    correlations.append((feature, corr))\n",
    "\n",
    "# Print top correlated features\n",
    "print(\"Top correlated features:\")\n",
    "for feature, corr in sorted(correlations, \n",
    "                            key=lambda x: abs(x[1]), \n",
    "                            reverse=True):\n",
    "    print(f\"- {feature}: {corr:.3f}\")"
   ]
  }
 ],
 "metadata": {
  "kernelspec": {
   "display_name": ".venv",
   "language": "python",
   "name": "python3"
  },
  "language_info": {
   "codemirror_mode": {
    "name": "ipython",
    "version": 3
   },
   "file_extension": ".py",
   "mimetype": "text/x-python",
   "name": "python",
   "nbconvert_exporter": "python",
   "pygments_lexer": "ipython3",
   "version": "3.12.3"
  }
 },
 "nbformat": 4,
 "nbformat_minor": 2
}
