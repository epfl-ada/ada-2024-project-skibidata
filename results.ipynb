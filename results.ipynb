{
 "cells": [
  {
   "cell_type": "code",
   "execution_count": 1,
   "id": "542161fb-e843-4c4c-b165-09d6b41da4f6",
   "metadata": {},
   "outputs": [
    {
     "name": "stderr",
     "output_type": "stream",
     "text": [
      "/Users/alexanderaujesky/opt/anaconda3/lib/python3.9/site-packages/scipy/__init__.py:146: UserWarning: A NumPy version >=1.16.5 and <1.23.0 is required for this version of SciPy (detected version 1.26.2\n",
      "  warnings.warn(f\"A NumPy version >={np_minversion} and <{np_maxversion}\"\n",
      "2024-11-15 18:18:34.758738: I tensorflow/core/platform/cpu_feature_guard.cc:182] This TensorFlow binary is optimized to use available CPU instructions in performance-critical operations.\n",
      "To enable the following instructions: AVX2 FMA, in other operations, rebuild TensorFlow with the appropriate compiler flags.\n"
     ]
    }
   ],
   "source": [
    "%load_ext autoreload\n",
    "%autoreload 2\n",
    "import re\n",
    "import ast\n",
    "import time\n",
    "import pandas as pd\n",
    "import geopandas as gpd\n",
    "import numpy as np\n",
    "import matplotlib.pyplot as plt\n",
    "import seaborn as sns\n",
    "from helpers import *\n",
    "from sklearn.decomposition import PCA\n",
    "from sklearn.preprocessing import StandardScaler\n",
    "import tensorflow as tf\n",
    "from tensorflow.keras.models import Sequential\n",
    "from tensorflow.keras.layers import Dense\n",
    "from sklearn.metrics import mean_squared_error, r2_score\n",
    "sns.color_palette(\"rocket\")\n",
    "plt.style.use('ggplot')\n",
    "pd.set_option('display.max_columns', 50)\n",
    "sns.set_style('whitegrid')"
   ]
  },
  {
   "cell_type": "markdown",
   "id": "2f9b0c87-9b3c-4cc6-b06d-0bc8be138070",
   "metadata": {},
   "source": [
    "## Table of Contents\n",
    "1. [Data Overview](#section-1)\n",
    "    1. [Load the data](#section-1.1)\n",
    "    2. [Is there missing values ?](#section-1.2)\n",
    "    3. [General statistics](#section-1.3)\n",
    "    4. [Augmenting the CMU dataset](#section-1.4)\n",
    "    5. [Cleaning the data](#section-1.5)\n",
    "    6. [(Optional) Completing the data](#section-1.6)\n",
    "2. [Exploratory Data Analysis](#section-2)\n",
    "3. [Demographic Recommandation System](#section-3)\n",
    "4. [Collaborative filtering Recommandation System](#section-4)\n",
    "5. [Content-based filtering Recommandation System](#section-5)\n",
    "6. [Hybrid filtering Recommandation System](#section-6)"
   ]
  },
  {
   "cell_type": "markdown",
   "id": "a055c46f-e8c8-44bc-b941-045895c52e5e",
   "metadata": {},
   "source": [
    "## 1. Data Overview\n",
    "<a id='section-1'></a>"
   ]
  },
  {
   "cell_type": "markdown",
   "id": "aca1e57d-3637-4103-a86e-2610f2f57f4a",
   "metadata": {},
   "source": [
    "### 1.1 Load the data \n",
    "<a id='section-1.1'></a>"
   ]
  },
  {
   "cell_type": "markdown",
   "id": "fbcd4dc5-d1ef-41de-a564-b483b38895fd",
   "metadata": {},
   "source": [
    "We first load the data and inspect what information we have in the CMU dataset."
   ]
  },
  {
   "cell_type": "code",
   "execution_count": 2,
   "id": "dacfce82-feef-41eb-9687-d94b23eafbf8",
   "metadata": {},
   "outputs": [],
   "source": [
    "# CMU dataset \n",
    "data_folder = './MovieSummaries/MovieSummaries/'\n",
    "\n",
    "#paths to files\n",
    "plot_summaries_path = data_folder + 'plot_summaries.txt'\n",
    "movie_metadata_path = data_folder + 'movie.metadata.tsv'\n",
    "character_metadata_path = data_folder + 'character.metadata.tsv'\n",
    "\n",
    "# load the data\n",
    "# 1. Plot summaries data\n",
    "df_cmu_plot = pd.read_csv(plot_summaries_path, delimiter='\\t', names=['wikipedia_movie_id', 'plot_summary'], encoding='utf-8')\n",
    "\n",
    "# 2. Movie metadata\n",
    "df_cmu_movie = pd.read_csv(movie_metadata_path, delimiter='\\t', names=['wikipedia_movie_id', 'freebase_movie_id', \n",
    "                                                                            'movie_name', 'release_date', 'box_office_revenue',\n",
    "                                                                            'runtime', 'languages', 'countries', 'genres'], encoding='utf-8')\n",
    "\n",
    "# 3. Character metadata\n",
    "df_cmu_character = pd.read_csv(character_metadata_path, delimiter='\\t', names=['wikipedia_movie_id', 'freebase_movie_id', 'release_date', 'character_name', \n",
    "                                                                                    'actor_dob', 'actor_gender', 'actor_height', 'actor_ethnicity', 'actor_name', \n",
    "                                                                                    'actor_age_at_release', 'freebase_character_actor_map_id', 'freebase_character_id', \n",
    "                                                                                    'freebase_actor_id'], encoding='utf-8')"
   ]
  },
  {
   "cell_type": "code",
   "execution_count": 3,
   "id": "6c365ade-8aa2-40a9-a922-10e70f1bec72",
   "metadata": {},
   "outputs": [
    {
     "data": {
      "text/html": [
       "<div>\n",
       "<style scoped>\n",
       "    .dataframe tbody tr th:only-of-type {\n",
       "        vertical-align: middle;\n",
       "    }\n",
       "\n",
       "    .dataframe tbody tr th {\n",
       "        vertical-align: top;\n",
       "    }\n",
       "\n",
       "    .dataframe thead th {\n",
       "        text-align: right;\n",
       "    }\n",
       "</style>\n",
       "<table border=\"1\" class=\"dataframe\">\n",
       "  <thead>\n",
       "    <tr style=\"text-align: right;\">\n",
       "      <th></th>\n",
       "      <th>wikipedia_movie_id</th>\n",
       "      <th>freebase_movie_id</th>\n",
       "      <th>movie_name</th>\n",
       "      <th>release_date</th>\n",
       "      <th>box_office_revenue</th>\n",
       "      <th>runtime</th>\n",
       "      <th>languages</th>\n",
       "      <th>countries</th>\n",
       "      <th>genres</th>\n",
       "    </tr>\n",
       "  </thead>\n",
       "  <tbody>\n",
       "    <tr>\n",
       "      <th>0</th>\n",
       "      <td>975900</td>\n",
       "      <td>/m/03vyhn</td>\n",
       "      <td>Ghosts of Mars</td>\n",
       "      <td>2001-08-24</td>\n",
       "      <td>14010832.0</td>\n",
       "      <td>98.0</td>\n",
       "      <td>{\"/m/02h40lc\": \"English Language\"}</td>\n",
       "      <td>{\"/m/09c7w0\": \"United States of America\"}</td>\n",
       "      <td>{\"/m/01jfsb\": \"Thriller\", \"/m/06n90\": \"Science...</td>\n",
       "    </tr>\n",
       "    <tr>\n",
       "      <th>1</th>\n",
       "      <td>3196793</td>\n",
       "      <td>/m/08yl5d</td>\n",
       "      <td>Getting Away with Murder: The JonBenét Ramsey ...</td>\n",
       "      <td>2000-02-16</td>\n",
       "      <td>NaN</td>\n",
       "      <td>95.0</td>\n",
       "      <td>{\"/m/02h40lc\": \"English Language\"}</td>\n",
       "      <td>{\"/m/09c7w0\": \"United States of America\"}</td>\n",
       "      <td>{\"/m/02n4kr\": \"Mystery\", \"/m/03bxz7\": \"Biograp...</td>\n",
       "    </tr>\n",
       "  </tbody>\n",
       "</table>\n",
       "</div>"
      ],
      "text/plain": [
       "   wikipedia_movie_id freebase_movie_id  \\\n",
       "0              975900         /m/03vyhn   \n",
       "1             3196793         /m/08yl5d   \n",
       "\n",
       "                                          movie_name release_date  \\\n",
       "0                                     Ghosts of Mars   2001-08-24   \n",
       "1  Getting Away with Murder: The JonBenét Ramsey ...   2000-02-16   \n",
       "\n",
       "   box_office_revenue  runtime                           languages  \\\n",
       "0          14010832.0     98.0  {\"/m/02h40lc\": \"English Language\"}   \n",
       "1                 NaN     95.0  {\"/m/02h40lc\": \"English Language\"}   \n",
       "\n",
       "                                   countries  \\\n",
       "0  {\"/m/09c7w0\": \"United States of America\"}   \n",
       "1  {\"/m/09c7w0\": \"United States of America\"}   \n",
       "\n",
       "                                              genres  \n",
       "0  {\"/m/01jfsb\": \"Thriller\", \"/m/06n90\": \"Science...  \n",
       "1  {\"/m/02n4kr\": \"Mystery\", \"/m/03bxz7\": \"Biograp...  "
      ]
     },
     "execution_count": 3,
     "metadata": {},
     "output_type": "execute_result"
    }
   ],
   "source": [
    "df_cmu_movie.head(2)"
   ]
  },
  {
   "cell_type": "code",
   "execution_count": 4,
   "id": "cd1d859a-e975-4f77-83ad-70c469c003ea",
   "metadata": {},
   "outputs": [
    {
     "data": {
      "text/html": [
       "<div>\n",
       "<style scoped>\n",
       "    .dataframe tbody tr th:only-of-type {\n",
       "        vertical-align: middle;\n",
       "    }\n",
       "\n",
       "    .dataframe tbody tr th {\n",
       "        vertical-align: top;\n",
       "    }\n",
       "\n",
       "    .dataframe thead th {\n",
       "        text-align: right;\n",
       "    }\n",
       "</style>\n",
       "<table border=\"1\" class=\"dataframe\">\n",
       "  <thead>\n",
       "    <tr style=\"text-align: right;\">\n",
       "      <th></th>\n",
       "      <th>wikipedia_movie_id</th>\n",
       "      <th>plot_summary</th>\n",
       "    </tr>\n",
       "  </thead>\n",
       "  <tbody>\n",
       "    <tr>\n",
       "      <th>0</th>\n",
       "      <td>23890098</td>\n",
       "      <td>Shlykov, a hard-working taxi driver and Lyosha...</td>\n",
       "    </tr>\n",
       "    <tr>\n",
       "      <th>1</th>\n",
       "      <td>31186339</td>\n",
       "      <td>The nation of Panem consists of a wealthy Capi...</td>\n",
       "    </tr>\n",
       "  </tbody>\n",
       "</table>\n",
       "</div>"
      ],
      "text/plain": [
       "   wikipedia_movie_id                                       plot_summary\n",
       "0            23890098  Shlykov, a hard-working taxi driver and Lyosha...\n",
       "1            31186339  The nation of Panem consists of a wealthy Capi..."
      ]
     },
     "execution_count": 4,
     "metadata": {},
     "output_type": "execute_result"
    }
   ],
   "source": [
    "df_cmu_plot.head(2)"
   ]
  },
  {
   "cell_type": "code",
   "execution_count": 5,
   "id": "7002c33b-c736-46e6-a868-48db4a18d1ce",
   "metadata": {},
   "outputs": [
    {
     "data": {
      "text/html": [
       "<div>\n",
       "<style scoped>\n",
       "    .dataframe tbody tr th:only-of-type {\n",
       "        vertical-align: middle;\n",
       "    }\n",
       "\n",
       "    .dataframe tbody tr th {\n",
       "        vertical-align: top;\n",
       "    }\n",
       "\n",
       "    .dataframe thead th {\n",
       "        text-align: right;\n",
       "    }\n",
       "</style>\n",
       "<table border=\"1\" class=\"dataframe\">\n",
       "  <thead>\n",
       "    <tr style=\"text-align: right;\">\n",
       "      <th></th>\n",
       "      <th>wikipedia_movie_id</th>\n",
       "      <th>freebase_movie_id</th>\n",
       "      <th>release_date</th>\n",
       "      <th>character_name</th>\n",
       "      <th>actor_dob</th>\n",
       "      <th>actor_gender</th>\n",
       "      <th>actor_height</th>\n",
       "      <th>actor_ethnicity</th>\n",
       "      <th>actor_name</th>\n",
       "      <th>actor_age_at_release</th>\n",
       "      <th>freebase_character_actor_map_id</th>\n",
       "      <th>freebase_character_id</th>\n",
       "      <th>freebase_actor_id</th>\n",
       "    </tr>\n",
       "  </thead>\n",
       "  <tbody>\n",
       "    <tr>\n",
       "      <th>0</th>\n",
       "      <td>975900</td>\n",
       "      <td>/m/03vyhn</td>\n",
       "      <td>2001-08-24</td>\n",
       "      <td>Akooshay</td>\n",
       "      <td>1958-08-26</td>\n",
       "      <td>F</td>\n",
       "      <td>1.62</td>\n",
       "      <td>NaN</td>\n",
       "      <td>Wanda De Jesus</td>\n",
       "      <td>42.0</td>\n",
       "      <td>/m/0bgchxw</td>\n",
       "      <td>/m/0bgcj3x</td>\n",
       "      <td>/m/03wcfv7</td>\n",
       "    </tr>\n",
       "    <tr>\n",
       "      <th>1</th>\n",
       "      <td>975900</td>\n",
       "      <td>/m/03vyhn</td>\n",
       "      <td>2001-08-24</td>\n",
       "      <td>Lieutenant Melanie Ballard</td>\n",
       "      <td>1974-08-15</td>\n",
       "      <td>F</td>\n",
       "      <td>1.78</td>\n",
       "      <td>/m/044038p</td>\n",
       "      <td>Natasha Henstridge</td>\n",
       "      <td>27.0</td>\n",
       "      <td>/m/0jys3m</td>\n",
       "      <td>/m/0bgchn4</td>\n",
       "      <td>/m/0346l4</td>\n",
       "    </tr>\n",
       "  </tbody>\n",
       "</table>\n",
       "</div>"
      ],
      "text/plain": [
       "   wikipedia_movie_id freebase_movie_id release_date  \\\n",
       "0              975900         /m/03vyhn   2001-08-24   \n",
       "1              975900         /m/03vyhn   2001-08-24   \n",
       "\n",
       "               character_name   actor_dob actor_gender  actor_height  \\\n",
       "0                    Akooshay  1958-08-26            F          1.62   \n",
       "1  Lieutenant Melanie Ballard  1974-08-15            F          1.78   \n",
       "\n",
       "  actor_ethnicity          actor_name  actor_age_at_release  \\\n",
       "0             NaN      Wanda De Jesus                  42.0   \n",
       "1      /m/044038p  Natasha Henstridge                  27.0   \n",
       "\n",
       "  freebase_character_actor_map_id freebase_character_id freebase_actor_id  \n",
       "0                      /m/0bgchxw            /m/0bgcj3x        /m/03wcfv7  \n",
       "1                       /m/0jys3m            /m/0bgchn4         /m/0346l4  "
      ]
     },
     "execution_count": 5,
     "metadata": {},
     "output_type": "execute_result"
    }
   ],
   "source": [
    "df_cmu_character.head(2)"
   ]
  },
  {
   "cell_type": "code",
   "execution_count": 6,
   "id": "35ee3e13-50a4-437b-a871-309ea7ba4e2b",
   "metadata": {},
   "outputs": [
    {
     "data": {
      "text/plain": [
       "((81741, 9), (42303, 2), (450669, 13))"
      ]
     },
     "execution_count": 6,
     "metadata": {},
     "output_type": "execute_result"
    }
   ],
   "source": [
    "df_cmu_movie.shape, df_cmu_plot.shape, df_cmu_character.shape"
   ]
  },
  {
   "cell_type": "markdown",
   "id": "667a5aac-d9c0-40a4-8f9a-20128b0a7b5c",
   "metadata": {},
   "source": [
    "So for every movie in the dataset we have some information about the movie itself, such as the runtime or the release date (in _df_cmu_movie_), but we also have the plot summary of the film (in _df_cmu_plot_) and different character in the movie (in _df_cmu_character_) with different informations about the actor that played the character. We can directly see that the dataframes don't have the same shape, meaning that we don't have a plot summary for every movie that we have. We can not, for the moment, assess whether we have the characters for every movie based on the given shape as they are an undefined number of characters per movie. As we want to developp a movie recommendation system, we probably won't need all these features and maybe other additional ones, but we will address all of this a little bit later. For the moment, let's check our datasets in more depth."
   ]
  },
  {
   "cell_type": "markdown",
   "id": "2e4e1906-b058-4365-b325-5c624332a3a1",
   "metadata": {},
   "source": [
    "### 1.2 Is there missing values ?\n",
    "<a id='section-1.2'></a>"
   ]
  },
  {
   "cell_type": "markdown",
   "id": "7c75eda1-faac-4ff6-8aea-1e56d3c166e9",
   "metadata": {},
   "source": [
    "We start by checking if there is any missing values in our datasets."
   ]
  },
  {
   "cell_type": "code",
   "execution_count": 7,
   "id": "1c0d094d-63ea-4001-90e2-8940fe115ab9",
   "metadata": {},
   "outputs": [
    {
     "data": {
      "text/html": [
       "<div>\n",
       "<style scoped>\n",
       "    .dataframe tbody tr th:only-of-type {\n",
       "        vertical-align: middle;\n",
       "    }\n",
       "\n",
       "    .dataframe tbody tr th {\n",
       "        vertical-align: top;\n",
       "    }\n",
       "\n",
       "    .dataframe thead th {\n",
       "        text-align: right;\n",
       "    }\n",
       "</style>\n",
       "<table border=\"1\" class=\"dataframe\">\n",
       "  <thead>\n",
       "    <tr style=\"text-align: right;\">\n",
       "      <th></th>\n",
       "      <th>Missing Count</th>\n",
       "      <th>Missing Proportion</th>\n",
       "    </tr>\n",
       "  </thead>\n",
       "  <tbody>\n",
       "    <tr>\n",
       "      <th>wikipedia_movie_id</th>\n",
       "      <td>0</td>\n",
       "      <td>0.000000</td>\n",
       "    </tr>\n",
       "    <tr>\n",
       "      <th>freebase_movie_id</th>\n",
       "      <td>0</td>\n",
       "      <td>0.000000</td>\n",
       "    </tr>\n",
       "    <tr>\n",
       "      <th>movie_name</th>\n",
       "      <td>0</td>\n",
       "      <td>0.000000</td>\n",
       "    </tr>\n",
       "    <tr>\n",
       "      <th>release_date</th>\n",
       "      <td>6902</td>\n",
       "      <td>0.084437</td>\n",
       "    </tr>\n",
       "    <tr>\n",
       "      <th>box_office_revenue</th>\n",
       "      <td>73340</td>\n",
       "      <td>0.897224</td>\n",
       "    </tr>\n",
       "    <tr>\n",
       "      <th>runtime</th>\n",
       "      <td>20450</td>\n",
       "      <td>0.250180</td>\n",
       "    </tr>\n",
       "    <tr>\n",
       "      <th>languages</th>\n",
       "      <td>0</td>\n",
       "      <td>0.000000</td>\n",
       "    </tr>\n",
       "    <tr>\n",
       "      <th>countries</th>\n",
       "      <td>0</td>\n",
       "      <td>0.000000</td>\n",
       "    </tr>\n",
       "    <tr>\n",
       "      <th>genres</th>\n",
       "      <td>0</td>\n",
       "      <td>0.000000</td>\n",
       "    </tr>\n",
       "  </tbody>\n",
       "</table>\n",
       "</div>"
      ],
      "text/plain": [
       "                    Missing Count  Missing Proportion\n",
       "wikipedia_movie_id              0            0.000000\n",
       "freebase_movie_id               0            0.000000\n",
       "movie_name                      0            0.000000\n",
       "release_date                 6902            0.084437\n",
       "box_office_revenue          73340            0.897224\n",
       "runtime                     20450            0.250180\n",
       "languages                       0            0.000000\n",
       "countries                       0            0.000000\n",
       "genres                          0            0.000000"
      ]
     },
     "execution_count": 7,
     "metadata": {},
     "output_type": "execute_result"
    }
   ],
   "source": [
    "show_missing_values(df_cmu_movie)"
   ]
  },
  {
   "cell_type": "markdown",
   "id": "4f57c912-a203-4d10-841f-16003de12640",
   "metadata": {},
   "source": [
    "We can see that the missing proportion for the box office is very high. This might not be a big problem as this is not the most important feature when considering building a movie recommendation system. However, the release date and runtime features will probably be more important, so we will try to find a way to find the missing values."
   ]
  },
  {
   "cell_type": "code",
   "execution_count": 8,
   "id": "58b10b9c-4ceb-41cc-a66f-47f14c25b28a",
   "metadata": {},
   "outputs": [
    {
     "data": {
      "text/html": [
       "<div>\n",
       "<style scoped>\n",
       "    .dataframe tbody tr th:only-of-type {\n",
       "        vertical-align: middle;\n",
       "    }\n",
       "\n",
       "    .dataframe tbody tr th {\n",
       "        vertical-align: top;\n",
       "    }\n",
       "\n",
       "    .dataframe thead th {\n",
       "        text-align: right;\n",
       "    }\n",
       "</style>\n",
       "<table border=\"1\" class=\"dataframe\">\n",
       "  <thead>\n",
       "    <tr style=\"text-align: right;\">\n",
       "      <th></th>\n",
       "      <th>Missing Count</th>\n",
       "      <th>Missing Proportion</th>\n",
       "    </tr>\n",
       "  </thead>\n",
       "  <tbody>\n",
       "    <tr>\n",
       "      <th>wikipedia_movie_id</th>\n",
       "      <td>0</td>\n",
       "      <td>0.0</td>\n",
       "    </tr>\n",
       "    <tr>\n",
       "      <th>plot_summary</th>\n",
       "      <td>0</td>\n",
       "      <td>0.0</td>\n",
       "    </tr>\n",
       "  </tbody>\n",
       "</table>\n",
       "</div>"
      ],
      "text/plain": [
       "                    Missing Count  Missing Proportion\n",
       "wikipedia_movie_id              0                 0.0\n",
       "plot_summary                    0                 0.0"
      ]
     },
     "execution_count": 8,
     "metadata": {},
     "output_type": "execute_result"
    }
   ],
   "source": [
    "show_missing_values(df_cmu_plot)"
   ]
  },
  {
   "cell_type": "markdown",
   "id": "538d15ea-c962-4827-a0b4-20f6d61b29bf",
   "metadata": {},
   "source": [
    "No missing values for the plot summaries, this seems perfect !"
   ]
  },
  {
   "cell_type": "code",
   "execution_count": 9,
   "id": "02d02d1c-2b77-4140-8189-acb4ee714284",
   "metadata": {},
   "outputs": [
    {
     "data": {
      "text/html": [
       "<div>\n",
       "<style scoped>\n",
       "    .dataframe tbody tr th:only-of-type {\n",
       "        vertical-align: middle;\n",
       "    }\n",
       "\n",
       "    .dataframe tbody tr th {\n",
       "        vertical-align: top;\n",
       "    }\n",
       "\n",
       "    .dataframe thead th {\n",
       "        text-align: right;\n",
       "    }\n",
       "</style>\n",
       "<table border=\"1\" class=\"dataframe\">\n",
       "  <thead>\n",
       "    <tr style=\"text-align: right;\">\n",
       "      <th></th>\n",
       "      <th>Missing Count</th>\n",
       "      <th>Missing Proportion</th>\n",
       "    </tr>\n",
       "  </thead>\n",
       "  <tbody>\n",
       "    <tr>\n",
       "      <th>wikipedia_movie_id</th>\n",
       "      <td>0</td>\n",
       "      <td>0.000000</td>\n",
       "    </tr>\n",
       "    <tr>\n",
       "      <th>freebase_movie_id</th>\n",
       "      <td>0</td>\n",
       "      <td>0.000000</td>\n",
       "    </tr>\n",
       "    <tr>\n",
       "      <th>release_date</th>\n",
       "      <td>9995</td>\n",
       "      <td>0.022178</td>\n",
       "    </tr>\n",
       "    <tr>\n",
       "      <th>character_name</th>\n",
       "      <td>257875</td>\n",
       "      <td>0.572205</td>\n",
       "    </tr>\n",
       "    <tr>\n",
       "      <th>actor_dob</th>\n",
       "      <td>106145</td>\n",
       "      <td>0.235528</td>\n",
       "    </tr>\n",
       "    <tr>\n",
       "      <th>actor_gender</th>\n",
       "      <td>45609</td>\n",
       "      <td>0.101203</td>\n",
       "    </tr>\n",
       "    <tr>\n",
       "      <th>actor_height</th>\n",
       "      <td>295845</td>\n",
       "      <td>0.656457</td>\n",
       "    </tr>\n",
       "    <tr>\n",
       "      <th>actor_ethnicity</th>\n",
       "      <td>344611</td>\n",
       "      <td>0.764665</td>\n",
       "    </tr>\n",
       "    <tr>\n",
       "      <th>actor_name</th>\n",
       "      <td>1228</td>\n",
       "      <td>0.002725</td>\n",
       "    </tr>\n",
       "    <tr>\n",
       "      <th>actor_age_at_release</th>\n",
       "      <td>158113</td>\n",
       "      <td>0.350841</td>\n",
       "    </tr>\n",
       "    <tr>\n",
       "      <th>freebase_character_actor_map_id</th>\n",
       "      <td>0</td>\n",
       "      <td>0.000000</td>\n",
       "    </tr>\n",
       "    <tr>\n",
       "      <th>freebase_character_id</th>\n",
       "      <td>257865</td>\n",
       "      <td>0.572183</td>\n",
       "    </tr>\n",
       "    <tr>\n",
       "      <th>freebase_actor_id</th>\n",
       "      <td>815</td>\n",
       "      <td>0.001808</td>\n",
       "    </tr>\n",
       "  </tbody>\n",
       "</table>\n",
       "</div>"
      ],
      "text/plain": [
       "                                 Missing Count  Missing Proportion\n",
       "wikipedia_movie_id                           0            0.000000\n",
       "freebase_movie_id                            0            0.000000\n",
       "release_date                              9995            0.022178\n",
       "character_name                          257875            0.572205\n",
       "actor_dob                               106145            0.235528\n",
       "actor_gender                             45609            0.101203\n",
       "actor_height                            295845            0.656457\n",
       "actor_ethnicity                         344611            0.764665\n",
       "actor_name                                1228            0.002725\n",
       "actor_age_at_release                    158113            0.350841\n",
       "freebase_character_actor_map_id              0            0.000000\n",
       "freebase_character_id                   257865            0.572183\n",
       "freebase_actor_id                          815            0.001808"
      ]
     },
     "execution_count": 9,
     "metadata": {},
     "output_type": "execute_result"
    }
   ],
   "source": [
    "show_missing_values(df_cmu_character)"
   ]
  },
  {
   "cell_type": "markdown",
   "id": "995cb25e-c62f-4738-8bf3-0c3cf6d4c902",
   "metadata": {},
   "source": [
    "Once again a lot of missing values. However, this is again probably not the most important features to consider when building a recommendation system. For example, we will for sure be interested in knowing the cast of a given movie but not sure that the height of an actor influences whether a film is more liked by a given viewer."
   ]
  },
  {
   "cell_type": "markdown",
   "id": "8f585ce3-c998-4d57-83f8-b22299c5cccc",
   "metadata": {},
   "source": [
    "### 1.3 General statistics\n",
    "<a id='section-1.3'></a>"
   ]
  },
  {
   "cell_type": "markdown",
   "id": "b0ccb8c6-d07e-405d-8499-b922e784b0dc",
   "metadata": {},
   "source": [
    "We now check the type of each of the columns in the different datasets. This allows a quick check of whether a given column has the expected type given the information it has."
   ]
  },
  {
   "cell_type": "code",
   "execution_count": 10,
   "id": "b139db7a-b8ef-4544-b9ff-da129c2825e8",
   "metadata": {},
   "outputs": [
    {
     "name": "stdout",
     "output_type": "stream",
     "text": [
      "Dytpes of columns of the different dataframes:\n",
      "\n",
      "------- df_cmu_movie --------\n",
      "wikipedia_movie_id      int64\n",
      "freebase_movie_id      object\n",
      "movie_name             object\n",
      "release_date           object\n",
      "box_office_revenue    float64\n",
      "runtime               float64\n",
      "languages              object\n",
      "countries              object\n",
      "genres                 object\n",
      "dtype: object\n",
      "----------------------------- \n",
      "\n",
      "------- df_cmu_plot --------\n",
      "wikipedia_movie_id     int64\n",
      "plot_summary          object\n",
      "dtype: object\n",
      "---------------------------- \n",
      "\n",
      "------------ df_cmu_character ------------\n",
      "wikipedia_movie_id                   int64\n",
      "freebase_movie_id                   object\n",
      "release_date                        object\n",
      "character_name                      object\n",
      "actor_dob                           object\n",
      "actor_gender                        object\n",
      "actor_height                       float64\n",
      "actor_ethnicity                     object\n",
      "actor_name                          object\n",
      "actor_age_at_release               float64\n",
      "freebase_character_actor_map_id     object\n",
      "freebase_character_id               object\n",
      "freebase_actor_id                   object\n",
      "dtype: object\n",
      "------------------------------------------\n"
     ]
    }
   ],
   "source": [
    "print(\"Dytpes of columns of the different dataframes:\\n\")\n",
    "print(\"------- df_cmu_movie --------\")\n",
    "print(df_cmu_movie.dtypes)\n",
    "print(29*\"-\",\"\\n\")\n",
    "print(\"------- df_cmu_plot --------\")\n",
    "print(df_cmu_plot.dtypes)\n",
    "print(28*\"-\",\"\\n\")\n",
    "print(\"------------ df_cmu_character ------------\")\n",
    "print(df_cmu_character.dtypes)\n",
    "print(42*\"-\")"
   ]
  },
  {
   "cell_type": "markdown",
   "id": "4f4871ed-e092-4282-9fb1-1bc4a15a1e52",
   "metadata": {},
   "source": [
    "We can see that some of the type don't correspond to the expectation such as the release date being a object type. We will take care of this in the cleaning part. \n",
    "\n",
    "We now use the describe method as this allows to quickly see the ranges for the numerical columns."
   ]
  },
  {
   "cell_type": "code",
   "execution_count": 11,
   "id": "32fc74c7-45a8-4303-b62d-0bedae64feb2",
   "metadata": {},
   "outputs": [
    {
     "data": {
      "text/html": [
       "<div>\n",
       "<style scoped>\n",
       "    .dataframe tbody tr th:only-of-type {\n",
       "        vertical-align: middle;\n",
       "    }\n",
       "\n",
       "    .dataframe tbody tr th {\n",
       "        vertical-align: top;\n",
       "    }\n",
       "\n",
       "    .dataframe thead th {\n",
       "        text-align: right;\n",
       "    }\n",
       "</style>\n",
       "<table border=\"1\" class=\"dataframe\">\n",
       "  <thead>\n",
       "    <tr style=\"text-align: right;\">\n",
       "      <th></th>\n",
       "      <th>wikipedia_movie_id</th>\n",
       "      <th>box_office_revenue</th>\n",
       "      <th>runtime</th>\n",
       "    </tr>\n",
       "  </thead>\n",
       "  <tbody>\n",
       "    <tr>\n",
       "      <th>count</th>\n",
       "      <td>8.174100e+04</td>\n",
       "      <td>8.401000e+03</td>\n",
       "      <td>6.129100e+04</td>\n",
       "    </tr>\n",
       "    <tr>\n",
       "      <th>mean</th>\n",
       "      <td>1.740784e+07</td>\n",
       "      <td>4.799363e+07</td>\n",
       "      <td>1.118192e+02</td>\n",
       "    </tr>\n",
       "    <tr>\n",
       "      <th>std</th>\n",
       "      <td>1.098791e+07</td>\n",
       "      <td>1.121753e+08</td>\n",
       "      <td>4.360070e+03</td>\n",
       "    </tr>\n",
       "    <tr>\n",
       "      <th>min</th>\n",
       "      <td>3.300000e+02</td>\n",
       "      <td>1.000000e+04</td>\n",
       "      <td>0.000000e+00</td>\n",
       "    </tr>\n",
       "    <tr>\n",
       "      <th>25%</th>\n",
       "      <td>7.323695e+06</td>\n",
       "      <td>2.083193e+06</td>\n",
       "      <td>8.100000e+01</td>\n",
       "    </tr>\n",
       "    <tr>\n",
       "      <th>50%</th>\n",
       "      <td>1.777899e+07</td>\n",
       "      <td>1.063969e+07</td>\n",
       "      <td>9.300000e+01</td>\n",
       "    </tr>\n",
       "    <tr>\n",
       "      <th>75%</th>\n",
       "      <td>2.715573e+07</td>\n",
       "      <td>4.071696e+07</td>\n",
       "      <td>1.060000e+02</td>\n",
       "    </tr>\n",
       "    <tr>\n",
       "      <th>max</th>\n",
       "      <td>3.750192e+07</td>\n",
       "      <td>2.782275e+09</td>\n",
       "      <td>1.079281e+06</td>\n",
       "    </tr>\n",
       "  </tbody>\n",
       "</table>\n",
       "</div>"
      ],
      "text/plain": [
       "       wikipedia_movie_id  box_office_revenue       runtime\n",
       "count        8.174100e+04        8.401000e+03  6.129100e+04\n",
       "mean         1.740784e+07        4.799363e+07  1.118192e+02\n",
       "std          1.098791e+07        1.121753e+08  4.360070e+03\n",
       "min          3.300000e+02        1.000000e+04  0.000000e+00\n",
       "25%          7.323695e+06        2.083193e+06  8.100000e+01\n",
       "50%          1.777899e+07        1.063969e+07  9.300000e+01\n",
       "75%          2.715573e+07        4.071696e+07  1.060000e+02\n",
       "max          3.750192e+07        2.782275e+09  1.079281e+06"
      ]
     },
     "execution_count": 11,
     "metadata": {},
     "output_type": "execute_result"
    }
   ],
   "source": [
    "df_cmu_movie.describe()"
   ]
  },
  {
   "cell_type": "code",
   "execution_count": 12,
   "id": "d0730b73-999f-45d7-b7fa-e2df58f310e6",
   "metadata": {},
   "outputs": [
    {
     "data": {
      "text/html": [
       "<div>\n",
       "<style scoped>\n",
       "    .dataframe tbody tr th:only-of-type {\n",
       "        vertical-align: middle;\n",
       "    }\n",
       "\n",
       "    .dataframe tbody tr th {\n",
       "        vertical-align: top;\n",
       "    }\n",
       "\n",
       "    .dataframe thead th {\n",
       "        text-align: right;\n",
       "    }\n",
       "</style>\n",
       "<table border=\"1\" class=\"dataframe\">\n",
       "  <thead>\n",
       "    <tr style=\"text-align: right;\">\n",
       "      <th></th>\n",
       "      <th>wikipedia_movie_id</th>\n",
       "      <th>actor_height</th>\n",
       "      <th>actor_age_at_release</th>\n",
       "    </tr>\n",
       "  </thead>\n",
       "  <tbody>\n",
       "    <tr>\n",
       "      <th>count</th>\n",
       "      <td>4.506690e+05</td>\n",
       "      <td>154824.000000</td>\n",
       "      <td>292556.000000</td>\n",
       "    </tr>\n",
       "    <tr>\n",
       "      <th>mean</th>\n",
       "      <td>1.396975e+07</td>\n",
       "      <td>1.788893</td>\n",
       "      <td>37.788523</td>\n",
       "    </tr>\n",
       "    <tr>\n",
       "      <th>std</th>\n",
       "      <td>1.079662e+07</td>\n",
       "      <td>4.379940</td>\n",
       "      <td>20.587870</td>\n",
       "    </tr>\n",
       "    <tr>\n",
       "      <th>min</th>\n",
       "      <td>3.300000e+02</td>\n",
       "      <td>0.610000</td>\n",
       "      <td>-7896.000000</td>\n",
       "    </tr>\n",
       "    <tr>\n",
       "      <th>25%</th>\n",
       "      <td>3.759292e+06</td>\n",
       "      <td>1.676400</td>\n",
       "      <td>28.000000</td>\n",
       "    </tr>\n",
       "    <tr>\n",
       "      <th>50%</th>\n",
       "      <td>1.189065e+07</td>\n",
       "      <td>1.750000</td>\n",
       "      <td>36.000000</td>\n",
       "    </tr>\n",
       "    <tr>\n",
       "      <th>75%</th>\n",
       "      <td>2.366501e+07</td>\n",
       "      <td>1.830000</td>\n",
       "      <td>47.000000</td>\n",
       "    </tr>\n",
       "    <tr>\n",
       "      <th>max</th>\n",
       "      <td>3.750192e+07</td>\n",
       "      <td>510.000000</td>\n",
       "      <td>103.000000</td>\n",
       "    </tr>\n",
       "  </tbody>\n",
       "</table>\n",
       "</div>"
      ],
      "text/plain": [
       "       wikipedia_movie_id   actor_height  actor_age_at_release\n",
       "count        4.506690e+05  154824.000000         292556.000000\n",
       "mean         1.396975e+07       1.788893             37.788523\n",
       "std          1.079662e+07       4.379940             20.587870\n",
       "min          3.300000e+02       0.610000          -7896.000000\n",
       "25%          3.759292e+06       1.676400             28.000000\n",
       "50%          1.189065e+07       1.750000             36.000000\n",
       "75%          2.366501e+07       1.830000             47.000000\n",
       "max          3.750192e+07     510.000000            103.000000"
      ]
     },
     "execution_count": 12,
     "metadata": {},
     "output_type": "execute_result"
    }
   ],
   "source": [
    "df_cmu_character.describe()"
   ]
  },
  {
   "cell_type": "markdown",
   "id": "455c5e88-f9c7-4d8a-ace1-4be04dd13dd2",
   "metadata": {},
   "source": [
    "There seems to have some outliers and false informations. Indeed, an height of 510m, an age at release of -7896 or a running time of more than 1e6 minutes are some values that are not possible. Let's have a quick look at an example. "
   ]
  },
  {
   "cell_type": "code",
   "execution_count": 13,
   "id": "1f809d3b-131f-4f92-930f-48eb65fda601",
   "metadata": {},
   "outputs": [
    {
     "data": {
      "text/html": [
       "<div>\n",
       "<style scoped>\n",
       "    .dataframe tbody tr th:only-of-type {\n",
       "        vertical-align: middle;\n",
       "    }\n",
       "\n",
       "    .dataframe tbody tr th {\n",
       "        vertical-align: top;\n",
       "    }\n",
       "\n",
       "    .dataframe thead th {\n",
       "        text-align: right;\n",
       "    }\n",
       "</style>\n",
       "<table border=\"1\" class=\"dataframe\">\n",
       "  <thead>\n",
       "    <tr style=\"text-align: right;\">\n",
       "      <th></th>\n",
       "      <th>wikipedia_movie_id</th>\n",
       "      <th>freebase_movie_id</th>\n",
       "      <th>release_date</th>\n",
       "      <th>character_name</th>\n",
       "      <th>actor_dob</th>\n",
       "      <th>actor_gender</th>\n",
       "      <th>actor_height</th>\n",
       "      <th>actor_ethnicity</th>\n",
       "      <th>actor_name</th>\n",
       "      <th>actor_age_at_release</th>\n",
       "      <th>freebase_character_actor_map_id</th>\n",
       "      <th>freebase_character_id</th>\n",
       "      <th>freebase_actor_id</th>\n",
       "    </tr>\n",
       "  </thead>\n",
       "  <tbody>\n",
       "    <tr>\n",
       "      <th>49659</th>\n",
       "      <td>30865068</td>\n",
       "      <td>/m/02ml14</td>\n",
       "      <td>1998-10-15</td>\n",
       "      <td>NaN</td>\n",
       "      <td>1972-12-06</td>\n",
       "      <td>M</td>\n",
       "      <td>510.0</td>\n",
       "      <td>NaN</td>\n",
       "      <td>Vince Corazza</td>\n",
       "      <td>25.0</td>\n",
       "      <td>/m/0n9ld0y</td>\n",
       "      <td>NaN</td>\n",
       "      <td>/m/08hqh0</td>\n",
       "    </tr>\n",
       "    <tr>\n",
       "      <th>104140</th>\n",
       "      <td>17999628</td>\n",
       "      <td>/m/047n_2q</td>\n",
       "      <td>1998</td>\n",
       "      <td>NaN</td>\n",
       "      <td>1972-12-06</td>\n",
       "      <td>M</td>\n",
       "      <td>510.0</td>\n",
       "      <td>NaN</td>\n",
       "      <td>Vince Corazza</td>\n",
       "      <td>25.0</td>\n",
       "      <td>/m/0cg31bd</td>\n",
       "      <td>NaN</td>\n",
       "      <td>/m/08hqh0</td>\n",
       "    </tr>\n",
       "    <tr>\n",
       "      <th>205679</th>\n",
       "      <td>1373475</td>\n",
       "      <td>/m/04xmx8</td>\n",
       "      <td>2003-08-15</td>\n",
       "      <td>Jackal Johnson</td>\n",
       "      <td>1972-12-06</td>\n",
       "      <td>M</td>\n",
       "      <td>510.0</td>\n",
       "      <td>NaN</td>\n",
       "      <td>Vince Corazza</td>\n",
       "      <td>30.0</td>\n",
       "      <td>/m/02vbm0k</td>\n",
       "      <td>/m/0h60xk7</td>\n",
       "      <td>/m/08hqh0</td>\n",
       "    </tr>\n",
       "  </tbody>\n",
       "</table>\n",
       "</div>"
      ],
      "text/plain": [
       "        wikipedia_movie_id freebase_movie_id release_date  character_name  \\\n",
       "49659             30865068         /m/02ml14   1998-10-15             NaN   \n",
       "104140            17999628        /m/047n_2q         1998             NaN   \n",
       "205679             1373475         /m/04xmx8   2003-08-15  Jackal Johnson   \n",
       "\n",
       "         actor_dob actor_gender  actor_height actor_ethnicity     actor_name  \\\n",
       "49659   1972-12-06            M         510.0             NaN  Vince Corazza   \n",
       "104140  1972-12-06            M         510.0             NaN  Vince Corazza   \n",
       "205679  1972-12-06            M         510.0             NaN  Vince Corazza   \n",
       "\n",
       "        actor_age_at_release freebase_character_actor_map_id  \\\n",
       "49659                   25.0                      /m/0n9ld0y   \n",
       "104140                  25.0                      /m/0cg31bd   \n",
       "205679                  30.0                      /m/02vbm0k   \n",
       "\n",
       "       freebase_character_id freebase_actor_id  \n",
       "49659                    NaN         /m/08hqh0  \n",
       "104140                   NaN         /m/08hqh0  \n",
       "205679            /m/0h60xk7         /m/08hqh0  "
      ]
     },
     "execution_count": 13,
     "metadata": {},
     "output_type": "execute_result"
    }
   ],
   "source": [
    "df_cmu_character[df_cmu_character['actor_height'] == 510].head(3)"
   ]
  },
  {
   "cell_type": "code",
   "execution_count": 14,
   "id": "fcca193b-a864-4da6-8595-5f7c7a8b2b95",
   "metadata": {},
   "outputs": [
    {
     "data": {
      "text/html": [
       "<div>\n",
       "<style scoped>\n",
       "    .dataframe tbody tr th:only-of-type {\n",
       "        vertical-align: middle;\n",
       "    }\n",
       "\n",
       "    .dataframe tbody tr th {\n",
       "        vertical-align: top;\n",
       "    }\n",
       "\n",
       "    .dataframe thead th {\n",
       "        text-align: right;\n",
       "    }\n",
       "</style>\n",
       "<table border=\"1\" class=\"dataframe\">\n",
       "  <thead>\n",
       "    <tr style=\"text-align: right;\">\n",
       "      <th></th>\n",
       "      <th>wikipedia_movie_id</th>\n",
       "      <th>freebase_movie_id</th>\n",
       "      <th>movie_name</th>\n",
       "      <th>release_date</th>\n",
       "      <th>box_office_revenue</th>\n",
       "      <th>runtime</th>\n",
       "      <th>languages</th>\n",
       "      <th>countries</th>\n",
       "      <th>genres</th>\n",
       "    </tr>\n",
       "  </thead>\n",
       "  <tbody>\n",
       "    <tr>\n",
       "      <th>12804</th>\n",
       "      <td>10815585</td>\n",
       "      <td>/m/02qqy23</td>\n",
       "      <td>Zero Tolerance</td>\n",
       "      <td>1995</td>\n",
       "      <td>NaN</td>\n",
       "      <td>1079281.0</td>\n",
       "      <td>{\"/m/02h40lc\": \"English Language\"}</td>\n",
       "      <td>{\"/m/09c7w0\": \"United States of America\"}</td>\n",
       "      <td>{\"/m/01jfsb\": \"Thriller\", \"/m/0lsxr\": \"Crime F...</td>\n",
       "    </tr>\n",
       "  </tbody>\n",
       "</table>\n",
       "</div>"
      ],
      "text/plain": [
       "       wikipedia_movie_id freebase_movie_id      movie_name release_date  \\\n",
       "12804            10815585        /m/02qqy23  Zero Tolerance         1995   \n",
       "\n",
       "       box_office_revenue    runtime                           languages  \\\n",
       "12804                 NaN  1079281.0  {\"/m/02h40lc\": \"English Language\"}   \n",
       "\n",
       "                                       countries  \\\n",
       "12804  {\"/m/09c7w0\": \"United States of America\"}   \n",
       "\n",
       "                                                  genres  \n",
       "12804  {\"/m/01jfsb\": \"Thriller\", \"/m/0lsxr\": \"Crime F...  "
      ]
     },
     "execution_count": 14,
     "metadata": {},
     "output_type": "execute_result"
    }
   ],
   "source": [
    "df_cmu_movie[df_cmu_movie['runtime'] == 1.079281e+06]"
   ]
  },
  {
   "cell_type": "markdown",
   "id": "ece0f547-3fac-4ab4-a3dc-1eb5b015b6cb",
   "metadata": {},
   "source": [
    "A quick look on [IMdB](https://www.imdb.com/name/nm0004138/) shows that the actor named _Vince Corazza_ is just 5'10 which is 1.78m. Once again a quick look on [IMdB](https://www.imdb.com/title/tt0111825/) shows that the film _Zero Tolerance_ was released in 1994 (not a big difference but not quite right) and that the runtime is 88 minutes, which probably makes the film much more enjoyable to watch. We will also take care of all of this in the cleaning part."
   ]
  },
  {
   "cell_type": "markdown",
   "id": "dd7512cd-fa30-4218-a3d1-de16d61b025d",
   "metadata": {},
   "source": [
    "As we have seen above, there is a lot of cleaning to do between handling NaNs and outliers as well as keeping only necessary columns. Some columns need their data type to be changed and some columns need a bit of cleaning in the way they store the information such as the languages, genres and countries columns in _df_cmu_movie_. Furthermore, it could be interesting to add some other features that could be useful for a recommendation system such as the director of films as well as completing the lot of missing values that we have. To do that we will use another dataset that will be described just below. Thus, as of now, we will not start cleaning the CMU dataset alone and we will clean only the final merged dataset. This make even more sense considering that we will probably won't be able to keep the same number of movies."
   ]
  },
  {
   "cell_type": "markdown",
   "id": "ed7cef9c-4311-433c-b6e5-642e6643c8ae",
   "metadata": {},
   "source": [
    "### 1.4 Augmenting the CMU dataset\n",
    "<a id='section-1.4'></a>"
   ]
  },
  {
   "cell_type": "markdown",
   "id": "3bf52d0b-4bf2-4ded-9dca-50ed4db2d944",
   "metadata": {},
   "source": [
    "We now import the dataset that we will use to obtain more features as well as completing and correcting the CMU dataset. We quickly perform the same step as above. The dataset has merged information from both a TMdB dataset as well as a Movielens dataset (more information on this in the [Github](https://github.com/epfl-ada/ada-2024-project-skibidata)). The features of the TMdB dataset are going to be used to correct and complete our CMU dataset and the corresponding ratings from multiple users for the different movies will be used a bit later to build one of the recommendation system. For themoment, let's perform the same step as above for the new dataset."
   ]
  },
  {
   "cell_type": "markdown",
   "id": "dece1958-813e-487e-bbb5-8be9b2154fa4",
   "metadata": {},
   "source": [
    "We start by loading the data and checking the first rows."
   ]
  },
  {
   "cell_type": "code",
   "execution_count": 15,
   "id": "baf485be-76f9-4c33-8c2c-693b190570cd",
   "metadata": {},
   "outputs": [],
   "source": [
    "df_tmdb_movie = pd.read_csv('TMdB_Movielens_combined/movies_metadata.csv', low_memory=False)\n",
    "df_tmdb_credits = pd.read_csv('TMdB_Movielens_combined/credits.csv')\n",
    "df_tmdb_keywords = pd.read_csv('TMdB_Movielens_combined/keywords.csv')"
   ]
  },
  {
   "cell_type": "code",
   "execution_count": 16,
   "id": "72bb7a3a-1d3f-47cc-9dd6-2c0b5d8357b0",
   "metadata": {},
   "outputs": [
    {
     "data": {
      "text/html": [
       "<div>\n",
       "<style scoped>\n",
       "    .dataframe tbody tr th:only-of-type {\n",
       "        vertical-align: middle;\n",
       "    }\n",
       "\n",
       "    .dataframe tbody tr th {\n",
       "        vertical-align: top;\n",
       "    }\n",
       "\n",
       "    .dataframe thead th {\n",
       "        text-align: right;\n",
       "    }\n",
       "</style>\n",
       "<table border=\"1\" class=\"dataframe\">\n",
       "  <thead>\n",
       "    <tr style=\"text-align: right;\">\n",
       "      <th></th>\n",
       "      <th>adult</th>\n",
       "      <th>belongs_to_collection</th>\n",
       "      <th>budget</th>\n",
       "      <th>genres</th>\n",
       "      <th>homepage</th>\n",
       "      <th>id</th>\n",
       "      <th>imdb_id</th>\n",
       "      <th>original_language</th>\n",
       "      <th>original_title</th>\n",
       "      <th>overview</th>\n",
       "      <th>popularity</th>\n",
       "      <th>poster_path</th>\n",
       "      <th>production_companies</th>\n",
       "      <th>production_countries</th>\n",
       "      <th>release_date</th>\n",
       "      <th>revenue</th>\n",
       "      <th>runtime</th>\n",
       "      <th>spoken_languages</th>\n",
       "      <th>status</th>\n",
       "      <th>tagline</th>\n",
       "      <th>title</th>\n",
       "      <th>video</th>\n",
       "      <th>vote_average</th>\n",
       "      <th>vote_count</th>\n",
       "    </tr>\n",
       "  </thead>\n",
       "  <tbody>\n",
       "    <tr>\n",
       "      <th>0</th>\n",
       "      <td>False</td>\n",
       "      <td>{'id': 10194, 'name': 'Toy Story Collection', ...</td>\n",
       "      <td>30000000</td>\n",
       "      <td>[{'id': 16, 'name': 'Animation'}, {'id': 35, '...</td>\n",
       "      <td>http://toystory.disney.com/toy-story</td>\n",
       "      <td>862</td>\n",
       "      <td>tt0114709</td>\n",
       "      <td>en</td>\n",
       "      <td>Toy Story</td>\n",
       "      <td>Led by Woody, Andy's toys live happily in his ...</td>\n",
       "      <td>21.946943</td>\n",
       "      <td>/rhIRbceoE9lR4veEXuwCC2wARtG.jpg</td>\n",
       "      <td>[{'name': 'Pixar Animation Studios', 'id': 3}]</td>\n",
       "      <td>[{'iso_3166_1': 'US', 'name': 'United States o...</td>\n",
       "      <td>1995-10-30</td>\n",
       "      <td>373554033.0</td>\n",
       "      <td>81.0</td>\n",
       "      <td>[{'iso_639_1': 'en', 'name': 'English'}]</td>\n",
       "      <td>Released</td>\n",
       "      <td>NaN</td>\n",
       "      <td>Toy Story</td>\n",
       "      <td>False</td>\n",
       "      <td>7.7</td>\n",
       "      <td>5415.0</td>\n",
       "    </tr>\n",
       "    <tr>\n",
       "      <th>1</th>\n",
       "      <td>False</td>\n",
       "      <td>NaN</td>\n",
       "      <td>65000000</td>\n",
       "      <td>[{'id': 12, 'name': 'Adventure'}, {'id': 14, '...</td>\n",
       "      <td>NaN</td>\n",
       "      <td>8844</td>\n",
       "      <td>tt0113497</td>\n",
       "      <td>en</td>\n",
       "      <td>Jumanji</td>\n",
       "      <td>When siblings Judy and Peter discover an encha...</td>\n",
       "      <td>17.015539</td>\n",
       "      <td>/vzmL6fP7aPKNKPRTFnZmiUfciyV.jpg</td>\n",
       "      <td>[{'name': 'TriStar Pictures', 'id': 559}, {'na...</td>\n",
       "      <td>[{'iso_3166_1': 'US', 'name': 'United States o...</td>\n",
       "      <td>1995-12-15</td>\n",
       "      <td>262797249.0</td>\n",
       "      <td>104.0</td>\n",
       "      <td>[{'iso_639_1': 'en', 'name': 'English'}, {'iso...</td>\n",
       "      <td>Released</td>\n",
       "      <td>Roll the dice and unleash the excitement!</td>\n",
       "      <td>Jumanji</td>\n",
       "      <td>False</td>\n",
       "      <td>6.9</td>\n",
       "      <td>2413.0</td>\n",
       "    </tr>\n",
       "  </tbody>\n",
       "</table>\n",
       "</div>"
      ],
      "text/plain": [
       "   adult                              belongs_to_collection    budget  \\\n",
       "0  False  {'id': 10194, 'name': 'Toy Story Collection', ...  30000000   \n",
       "1  False                                                NaN  65000000   \n",
       "\n",
       "                                              genres  \\\n",
       "0  [{'id': 16, 'name': 'Animation'}, {'id': 35, '...   \n",
       "1  [{'id': 12, 'name': 'Adventure'}, {'id': 14, '...   \n",
       "\n",
       "                               homepage    id    imdb_id original_language  \\\n",
       "0  http://toystory.disney.com/toy-story   862  tt0114709                en   \n",
       "1                                   NaN  8844  tt0113497                en   \n",
       "\n",
       "  original_title                                           overview  \\\n",
       "0      Toy Story  Led by Woody, Andy's toys live happily in his ...   \n",
       "1        Jumanji  When siblings Judy and Peter discover an encha...   \n",
       "\n",
       "  popularity                       poster_path  \\\n",
       "0  21.946943  /rhIRbceoE9lR4veEXuwCC2wARtG.jpg   \n",
       "1  17.015539  /vzmL6fP7aPKNKPRTFnZmiUfciyV.jpg   \n",
       "\n",
       "                                production_companies  \\\n",
       "0     [{'name': 'Pixar Animation Studios', 'id': 3}]   \n",
       "1  [{'name': 'TriStar Pictures', 'id': 559}, {'na...   \n",
       "\n",
       "                                production_countries release_date  \\\n",
       "0  [{'iso_3166_1': 'US', 'name': 'United States o...   1995-10-30   \n",
       "1  [{'iso_3166_1': 'US', 'name': 'United States o...   1995-12-15   \n",
       "\n",
       "       revenue  runtime                                   spoken_languages  \\\n",
       "0  373554033.0     81.0           [{'iso_639_1': 'en', 'name': 'English'}]   \n",
       "1  262797249.0    104.0  [{'iso_639_1': 'en', 'name': 'English'}, {'iso...   \n",
       "\n",
       "     status                                    tagline      title  video  \\\n",
       "0  Released                                        NaN  Toy Story  False   \n",
       "1  Released  Roll the dice and unleash the excitement!    Jumanji  False   \n",
       "\n",
       "   vote_average  vote_count  \n",
       "0           7.7      5415.0  \n",
       "1           6.9      2413.0  "
      ]
     },
     "execution_count": 16,
     "metadata": {},
     "output_type": "execute_result"
    }
   ],
   "source": [
    "df_tmdb_movie.head(2)"
   ]
  },
  {
   "cell_type": "code",
   "execution_count": 17,
   "id": "24a16786-96ac-4145-9941-543eb9a469d1",
   "metadata": {},
   "outputs": [
    {
     "data": {
      "text/html": [
       "<div>\n",
       "<style scoped>\n",
       "    .dataframe tbody tr th:only-of-type {\n",
       "        vertical-align: middle;\n",
       "    }\n",
       "\n",
       "    .dataframe tbody tr th {\n",
       "        vertical-align: top;\n",
       "    }\n",
       "\n",
       "    .dataframe thead th {\n",
       "        text-align: right;\n",
       "    }\n",
       "</style>\n",
       "<table border=\"1\" class=\"dataframe\">\n",
       "  <thead>\n",
       "    <tr style=\"text-align: right;\">\n",
       "      <th></th>\n",
       "      <th>cast</th>\n",
       "      <th>crew</th>\n",
       "      <th>id</th>\n",
       "    </tr>\n",
       "  </thead>\n",
       "  <tbody>\n",
       "    <tr>\n",
       "      <th>0</th>\n",
       "      <td>[{'cast_id': 14, 'character': 'Woody (voice)',...</td>\n",
       "      <td>[{'credit_id': '52fe4284c3a36847f8024f49', 'de...</td>\n",
       "      <td>862</td>\n",
       "    </tr>\n",
       "    <tr>\n",
       "      <th>1</th>\n",
       "      <td>[{'cast_id': 1, 'character': 'Alan Parrish', '...</td>\n",
       "      <td>[{'credit_id': '52fe44bfc3a36847f80a7cd1', 'de...</td>\n",
       "      <td>8844</td>\n",
       "    </tr>\n",
       "  </tbody>\n",
       "</table>\n",
       "</div>"
      ],
      "text/plain": [
       "                                                cast  \\\n",
       "0  [{'cast_id': 14, 'character': 'Woody (voice)',...   \n",
       "1  [{'cast_id': 1, 'character': 'Alan Parrish', '...   \n",
       "\n",
       "                                                crew    id  \n",
       "0  [{'credit_id': '52fe4284c3a36847f8024f49', 'de...   862  \n",
       "1  [{'credit_id': '52fe44bfc3a36847f80a7cd1', 'de...  8844  "
      ]
     },
     "execution_count": 17,
     "metadata": {},
     "output_type": "execute_result"
    }
   ],
   "source": [
    "df_tmdb_credits.head(2)"
   ]
  },
  {
   "cell_type": "code",
   "execution_count": 18,
   "id": "7541c42d-3207-4dfe-a485-f4a5edde64b8",
   "metadata": {},
   "outputs": [
    {
     "data": {
      "text/html": [
       "<div>\n",
       "<style scoped>\n",
       "    .dataframe tbody tr th:only-of-type {\n",
       "        vertical-align: middle;\n",
       "    }\n",
       "\n",
       "    .dataframe tbody tr th {\n",
       "        vertical-align: top;\n",
       "    }\n",
       "\n",
       "    .dataframe thead th {\n",
       "        text-align: right;\n",
       "    }\n",
       "</style>\n",
       "<table border=\"1\" class=\"dataframe\">\n",
       "  <thead>\n",
       "    <tr style=\"text-align: right;\">\n",
       "      <th></th>\n",
       "      <th>id</th>\n",
       "      <th>keywords</th>\n",
       "    </tr>\n",
       "  </thead>\n",
       "  <tbody>\n",
       "    <tr>\n",
       "      <th>0</th>\n",
       "      <td>862</td>\n",
       "      <td>[{'id': 931, 'name': 'jealousy'}, {'id': 4290,...</td>\n",
       "    </tr>\n",
       "    <tr>\n",
       "      <th>1</th>\n",
       "      <td>8844</td>\n",
       "      <td>[{'id': 10090, 'name': 'board game'}, {'id': 1...</td>\n",
       "    </tr>\n",
       "  </tbody>\n",
       "</table>\n",
       "</div>"
      ],
      "text/plain": [
       "     id                                           keywords\n",
       "0   862  [{'id': 931, 'name': 'jealousy'}, {'id': 4290,...\n",
       "1  8844  [{'id': 10090, 'name': 'board game'}, {'id': 1..."
      ]
     },
     "execution_count": 18,
     "metadata": {},
     "output_type": "execute_result"
    }
   ],
   "source": [
    "df_tmdb_keywords.head(2)"
   ]
  },
  {
   "cell_type": "code",
   "execution_count": 19,
   "id": "7202edd6-6894-4cb5-844d-063370c730c6",
   "metadata": {},
   "outputs": [
    {
     "data": {
      "text/plain": [
       "((45466, 24), (45476, 3), (46419, 2))"
      ]
     },
     "execution_count": 19,
     "metadata": {},
     "output_type": "execute_result"
    }
   ],
   "source": [
    "df_tmdb_movie.shape, df_tmdb_credits.shape, df_tmdb_keywords.shape"
   ]
  },
  {
   "cell_type": "markdown",
   "id": "66c8b2f3-975a-470d-a8d1-a5c75b2d56b6",
   "metadata": {},
   "source": [
    "All three dataframes have almost the same number of rows. _df_tmdb_movie_ contains some features about the movies themselves, _df_tmdb_credits_ has the informations about the cast and the crew of each movie. This will be useful to get the director for example as well as having the actors and actresses of each movie more easily. Finally, _df_tmdb_keywords_ describing what's happening in the film. This will also be esaier to work with than extracting this from the plot summary feature for example. We start by merging all these dataframes together based on the movies in _df_cmu_movie_ as we want to at least the features present in this dataset."
   ]
  },
  {
   "cell_type": "code",
   "execution_count": 20,
   "id": "73c74b50-ccb5-467c-bacf-e3557c59f68e",
   "metadata": {},
   "outputs": [
    {
     "data": {
      "text/plain": [
       "((45436, 24), (45432, 3), (45432, 2))"
      ]
     },
     "execution_count": 20,
     "metadata": {},
     "output_type": "execute_result"
    }
   ],
   "source": [
    "# Drop the duplicates to avoid problems when merging\n",
    "df_tmdb_movie.drop_duplicates(subset=['id'], keep='first', inplace=True, ignore_index=True)\n",
    "df_tmdb_credits.drop_duplicates(subset=['id'], keep='first', inplace=True, ignore_index=True)\n",
    "df_tmdb_keywords.drop_duplicates(subset=['id'], keep='first', inplace=True, ignore_index=True)\n",
    "df_tmdb_movie.shape, df_tmdb_credits.shape, df_tmdb_keywords.shape"
   ]
  },
  {
   "cell_type": "code",
   "execution_count": 21,
   "id": "07308818-e272-4b38-8e6b-06615cfa5854",
   "metadata": {},
   "outputs": [],
   "source": [
    "# To merge we need to have a common type \n",
    "df_tmdb_movie['id'] = pd.to_numeric(df_tmdb_movie['id'], errors='coerce')\n",
    "df_tmdb_credits['id'] = pd.to_numeric(df_tmdb_credits['id'], errors='coerce')\n",
    "df_tmdb_keywords['id'] = pd.to_numeric(df_tmdb_keywords['id'], errors='coerce')"
   ]
  },
  {
   "cell_type": "code",
   "execution_count": 22,
   "id": "fb40c859-e8ed-4aeb-93af-2bc100fb05eb",
   "metadata": {},
   "outputs": [],
   "source": [
    "df_tmdb_movie.dropna(subset=['id'], inplace=True)\n",
    "df_tmdb_credits.dropna(subset=['id'], inplace=True)\n",
    "df_tmdb_keywords.dropna(subset=['id'], inplace=True)"
   ]
  },
  {
   "cell_type": "code",
   "execution_count": 23,
   "id": "de8d1a0b-309c-4c16-8372-5e4fd4af4dea",
   "metadata": {},
   "outputs": [
    {
     "data": {
      "text/plain": [
       "((45433, 24), (45432, 3), (45432, 2))"
      ]
     },
     "execution_count": 23,
     "metadata": {},
     "output_type": "execute_result"
    }
   ],
   "source": [
    "# We have only lost a few movies\n",
    "df_tmdb_movie.shape, df_tmdb_credits.shape, df_tmdb_keywords.shape"
   ]
  },
  {
   "cell_type": "code",
   "execution_count": 24,
   "id": "a2713f5f-7421-4d2f-980f-720078f5b6e0",
   "metadata": {},
   "outputs": [
    {
     "data": {
      "text/plain": [
       "(45432, 26)"
      ]
     },
     "execution_count": 24,
     "metadata": {},
     "output_type": "execute_result"
    }
   ],
   "source": [
    "# We start by merging the first two datasets\n",
    "df_tmp = pd.merge(df_tmdb_movie, df_tmdb_credits, on='id', how='inner')\n",
    "df_tmp.shape"
   ]
  },
  {
   "cell_type": "code",
   "execution_count": 25,
   "id": "9b604033-6cd4-4c27-abbb-f903b622be4f",
   "metadata": {},
   "outputs": [
    {
     "data": {
      "text/plain": [
       "(45432, 27)"
      ]
     },
     "execution_count": 25,
     "metadata": {},
     "output_type": "execute_result"
    }
   ],
   "source": [
    "# And then we add the last one\n",
    "df_tmdb = pd.merge(df_tmp, df_tmdb_keywords, on='id', how='inner')\n",
    "df_tmdb.shape"
   ]
  },
  {
   "cell_type": "code",
   "execution_count": 26,
   "id": "afb75d3e-ea67-4af9-8650-4946040edff0",
   "metadata": {},
   "outputs": [
    {
     "data": {
      "text/html": [
       "<div>\n",
       "<style scoped>\n",
       "    .dataframe tbody tr th:only-of-type {\n",
       "        vertical-align: middle;\n",
       "    }\n",
       "\n",
       "    .dataframe tbody tr th {\n",
       "        vertical-align: top;\n",
       "    }\n",
       "\n",
       "    .dataframe thead th {\n",
       "        text-align: right;\n",
       "    }\n",
       "</style>\n",
       "<table border=\"1\" class=\"dataframe\">\n",
       "  <thead>\n",
       "    <tr style=\"text-align: right;\">\n",
       "      <th></th>\n",
       "      <th>adult</th>\n",
       "      <th>belongs_to_collection</th>\n",
       "      <th>budget</th>\n",
       "      <th>genres</th>\n",
       "      <th>homepage</th>\n",
       "      <th>id</th>\n",
       "      <th>imdb_id</th>\n",
       "      <th>original_language</th>\n",
       "      <th>original_title</th>\n",
       "      <th>overview</th>\n",
       "      <th>popularity</th>\n",
       "      <th>poster_path</th>\n",
       "      <th>production_companies</th>\n",
       "      <th>production_countries</th>\n",
       "      <th>release_date</th>\n",
       "      <th>revenue</th>\n",
       "      <th>runtime</th>\n",
       "      <th>spoken_languages</th>\n",
       "      <th>status</th>\n",
       "      <th>tagline</th>\n",
       "      <th>title</th>\n",
       "      <th>video</th>\n",
       "      <th>vote_average</th>\n",
       "      <th>vote_count</th>\n",
       "      <th>cast</th>\n",
       "      <th>crew</th>\n",
       "      <th>keywords</th>\n",
       "    </tr>\n",
       "  </thead>\n",
       "  <tbody>\n",
       "    <tr>\n",
       "      <th>0</th>\n",
       "      <td>False</td>\n",
       "      <td>{'id': 10194, 'name': 'Toy Story Collection', ...</td>\n",
       "      <td>30000000</td>\n",
       "      <td>[{'id': 16, 'name': 'Animation'}, {'id': 35, '...</td>\n",
       "      <td>http://toystory.disney.com/toy-story</td>\n",
       "      <td>862.0</td>\n",
       "      <td>tt0114709</td>\n",
       "      <td>en</td>\n",
       "      <td>Toy Story</td>\n",
       "      <td>Led by Woody, Andy's toys live happily in his ...</td>\n",
       "      <td>21.946943</td>\n",
       "      <td>/rhIRbceoE9lR4veEXuwCC2wARtG.jpg</td>\n",
       "      <td>[{'name': 'Pixar Animation Studios', 'id': 3}]</td>\n",
       "      <td>[{'iso_3166_1': 'US', 'name': 'United States o...</td>\n",
       "      <td>1995-10-30</td>\n",
       "      <td>373554033.0</td>\n",
       "      <td>81.0</td>\n",
       "      <td>[{'iso_639_1': 'en', 'name': 'English'}]</td>\n",
       "      <td>Released</td>\n",
       "      <td>NaN</td>\n",
       "      <td>Toy Story</td>\n",
       "      <td>False</td>\n",
       "      <td>7.7</td>\n",
       "      <td>5415.0</td>\n",
       "      <td>[{'cast_id': 14, 'character': 'Woody (voice)',...</td>\n",
       "      <td>[{'credit_id': '52fe4284c3a36847f8024f49', 'de...</td>\n",
       "      <td>[{'id': 931, 'name': 'jealousy'}, {'id': 4290,...</td>\n",
       "    </tr>\n",
       "    <tr>\n",
       "      <th>1</th>\n",
       "      <td>False</td>\n",
       "      <td>NaN</td>\n",
       "      <td>65000000</td>\n",
       "      <td>[{'id': 12, 'name': 'Adventure'}, {'id': 14, '...</td>\n",
       "      <td>NaN</td>\n",
       "      <td>8844.0</td>\n",
       "      <td>tt0113497</td>\n",
       "      <td>en</td>\n",
       "      <td>Jumanji</td>\n",
       "      <td>When siblings Judy and Peter discover an encha...</td>\n",
       "      <td>17.015539</td>\n",
       "      <td>/vzmL6fP7aPKNKPRTFnZmiUfciyV.jpg</td>\n",
       "      <td>[{'name': 'TriStar Pictures', 'id': 559}, {'na...</td>\n",
       "      <td>[{'iso_3166_1': 'US', 'name': 'United States o...</td>\n",
       "      <td>1995-12-15</td>\n",
       "      <td>262797249.0</td>\n",
       "      <td>104.0</td>\n",
       "      <td>[{'iso_639_1': 'en', 'name': 'English'}, {'iso...</td>\n",
       "      <td>Released</td>\n",
       "      <td>Roll the dice and unleash the excitement!</td>\n",
       "      <td>Jumanji</td>\n",
       "      <td>False</td>\n",
       "      <td>6.9</td>\n",
       "      <td>2413.0</td>\n",
       "      <td>[{'cast_id': 1, 'character': 'Alan Parrish', '...</td>\n",
       "      <td>[{'credit_id': '52fe44bfc3a36847f80a7cd1', 'de...</td>\n",
       "      <td>[{'id': 10090, 'name': 'board game'}, {'id': 1...</td>\n",
       "    </tr>\n",
       "  </tbody>\n",
       "</table>\n",
       "</div>"
      ],
      "text/plain": [
       "   adult                              belongs_to_collection    budget  \\\n",
       "0  False  {'id': 10194, 'name': 'Toy Story Collection', ...  30000000   \n",
       "1  False                                                NaN  65000000   \n",
       "\n",
       "                                              genres  \\\n",
       "0  [{'id': 16, 'name': 'Animation'}, {'id': 35, '...   \n",
       "1  [{'id': 12, 'name': 'Adventure'}, {'id': 14, '...   \n",
       "\n",
       "                               homepage      id    imdb_id original_language  \\\n",
       "0  http://toystory.disney.com/toy-story   862.0  tt0114709                en   \n",
       "1                                   NaN  8844.0  tt0113497                en   \n",
       "\n",
       "  original_title                                           overview  \\\n",
       "0      Toy Story  Led by Woody, Andy's toys live happily in his ...   \n",
       "1        Jumanji  When siblings Judy and Peter discover an encha...   \n",
       "\n",
       "  popularity                       poster_path  \\\n",
       "0  21.946943  /rhIRbceoE9lR4veEXuwCC2wARtG.jpg   \n",
       "1  17.015539  /vzmL6fP7aPKNKPRTFnZmiUfciyV.jpg   \n",
       "\n",
       "                                production_companies  \\\n",
       "0     [{'name': 'Pixar Animation Studios', 'id': 3}]   \n",
       "1  [{'name': 'TriStar Pictures', 'id': 559}, {'na...   \n",
       "\n",
       "                                production_countries release_date  \\\n",
       "0  [{'iso_3166_1': 'US', 'name': 'United States o...   1995-10-30   \n",
       "1  [{'iso_3166_1': 'US', 'name': 'United States o...   1995-12-15   \n",
       "\n",
       "       revenue  runtime                                   spoken_languages  \\\n",
       "0  373554033.0     81.0           [{'iso_639_1': 'en', 'name': 'English'}]   \n",
       "1  262797249.0    104.0  [{'iso_639_1': 'en', 'name': 'English'}, {'iso...   \n",
       "\n",
       "     status                                    tagline      title  video  \\\n",
       "0  Released                                        NaN  Toy Story  False   \n",
       "1  Released  Roll the dice and unleash the excitement!    Jumanji  False   \n",
       "\n",
       "   vote_average  vote_count  \\\n",
       "0           7.7      5415.0   \n",
       "1           6.9      2413.0   \n",
       "\n",
       "                                                cast  \\\n",
       "0  [{'cast_id': 14, 'character': 'Woody (voice)',...   \n",
       "1  [{'cast_id': 1, 'character': 'Alan Parrish', '...   \n",
       "\n",
       "                                                crew  \\\n",
       "0  [{'credit_id': '52fe4284c3a36847f8024f49', 'de...   \n",
       "1  [{'credit_id': '52fe44bfc3a36847f80a7cd1', 'de...   \n",
       "\n",
       "                                            keywords  \n",
       "0  [{'id': 931, 'name': 'jealousy'}, {'id': 4290,...  \n",
       "1  [{'id': 10090, 'name': 'board game'}, {'id': 1...  "
      ]
     },
     "execution_count": 26,
     "metadata": {},
     "output_type": "execute_result"
    }
   ],
   "source": [
    "df_tmdb.head(2)"
   ]
  },
  {
   "cell_type": "markdown",
   "id": "2189d6ae-d653-4d2c-aa86-92319c11873b",
   "metadata": {},
   "source": [
    "We now check if there is somme missing values as before."
   ]
  },
  {
   "cell_type": "code",
   "execution_count": 27,
   "id": "6a8f397d-dcad-46eb-9d5e-d4e9b9534742",
   "metadata": {},
   "outputs": [
    {
     "data": {
      "text/html": [
       "<div>\n",
       "<style scoped>\n",
       "    .dataframe tbody tr th:only-of-type {\n",
       "        vertical-align: middle;\n",
       "    }\n",
       "\n",
       "    .dataframe tbody tr th {\n",
       "        vertical-align: top;\n",
       "    }\n",
       "\n",
       "    .dataframe thead th {\n",
       "        text-align: right;\n",
       "    }\n",
       "</style>\n",
       "<table border=\"1\" class=\"dataframe\">\n",
       "  <thead>\n",
       "    <tr style=\"text-align: right;\">\n",
       "      <th></th>\n",
       "      <th>Missing Count</th>\n",
       "      <th>Missing Proportion</th>\n",
       "    </tr>\n",
       "  </thead>\n",
       "  <tbody>\n",
       "    <tr>\n",
       "      <th>adult</th>\n",
       "      <td>0</td>\n",
       "      <td>0.000000</td>\n",
       "    </tr>\n",
       "    <tr>\n",
       "      <th>belongs_to_collection</th>\n",
       "      <td>40944</td>\n",
       "      <td>0.901215</td>\n",
       "    </tr>\n",
       "    <tr>\n",
       "      <th>budget</th>\n",
       "      <td>0</td>\n",
       "      <td>0.000000</td>\n",
       "    </tr>\n",
       "    <tr>\n",
       "      <th>genres</th>\n",
       "      <td>0</td>\n",
       "      <td>0.000000</td>\n",
       "    </tr>\n",
       "    <tr>\n",
       "      <th>homepage</th>\n",
       "      <td>37658</td>\n",
       "      <td>0.828887</td>\n",
       "    </tr>\n",
       "    <tr>\n",
       "      <th>id</th>\n",
       "      <td>0</td>\n",
       "      <td>0.000000</td>\n",
       "    </tr>\n",
       "    <tr>\n",
       "      <th>imdb_id</th>\n",
       "      <td>17</td>\n",
       "      <td>0.000374</td>\n",
       "    </tr>\n",
       "    <tr>\n",
       "      <th>original_language</th>\n",
       "      <td>11</td>\n",
       "      <td>0.000242</td>\n",
       "    </tr>\n",
       "    <tr>\n",
       "      <th>original_title</th>\n",
       "      <td>0</td>\n",
       "      <td>0.000000</td>\n",
       "    </tr>\n",
       "    <tr>\n",
       "      <th>overview</th>\n",
       "      <td>954</td>\n",
       "      <td>0.020998</td>\n",
       "    </tr>\n",
       "    <tr>\n",
       "      <th>popularity</th>\n",
       "      <td>3</td>\n",
       "      <td>0.000066</td>\n",
       "    </tr>\n",
       "    <tr>\n",
       "      <th>poster_path</th>\n",
       "      <td>386</td>\n",
       "      <td>0.008496</td>\n",
       "    </tr>\n",
       "    <tr>\n",
       "      <th>production_companies</th>\n",
       "      <td>3</td>\n",
       "      <td>0.000066</td>\n",
       "    </tr>\n",
       "    <tr>\n",
       "      <th>production_countries</th>\n",
       "      <td>3</td>\n",
       "      <td>0.000066</td>\n",
       "    </tr>\n",
       "    <tr>\n",
       "      <th>release_date</th>\n",
       "      <td>87</td>\n",
       "      <td>0.001915</td>\n",
       "    </tr>\n",
       "    <tr>\n",
       "      <th>revenue</th>\n",
       "      <td>3</td>\n",
       "      <td>0.000066</td>\n",
       "    </tr>\n",
       "    <tr>\n",
       "      <th>runtime</th>\n",
       "      <td>260</td>\n",
       "      <td>0.005723</td>\n",
       "    </tr>\n",
       "    <tr>\n",
       "      <th>spoken_languages</th>\n",
       "      <td>3</td>\n",
       "      <td>0.000066</td>\n",
       "    </tr>\n",
       "    <tr>\n",
       "      <th>status</th>\n",
       "      <td>84</td>\n",
       "      <td>0.001849</td>\n",
       "    </tr>\n",
       "    <tr>\n",
       "      <th>tagline</th>\n",
       "      <td>25031</td>\n",
       "      <td>0.550955</td>\n",
       "    </tr>\n",
       "    <tr>\n",
       "      <th>title</th>\n",
       "      <td>3</td>\n",
       "      <td>0.000066</td>\n",
       "    </tr>\n",
       "    <tr>\n",
       "      <th>video</th>\n",
       "      <td>3</td>\n",
       "      <td>0.000066</td>\n",
       "    </tr>\n",
       "    <tr>\n",
       "      <th>vote_average</th>\n",
       "      <td>3</td>\n",
       "      <td>0.000066</td>\n",
       "    </tr>\n",
       "    <tr>\n",
       "      <th>vote_count</th>\n",
       "      <td>3</td>\n",
       "      <td>0.000066</td>\n",
       "    </tr>\n",
       "    <tr>\n",
       "      <th>cast</th>\n",
       "      <td>0</td>\n",
       "      <td>0.000000</td>\n",
       "    </tr>\n",
       "    <tr>\n",
       "      <th>crew</th>\n",
       "      <td>0</td>\n",
       "      <td>0.000000</td>\n",
       "    </tr>\n",
       "    <tr>\n",
       "      <th>keywords</th>\n",
       "      <td>0</td>\n",
       "      <td>0.000000</td>\n",
       "    </tr>\n",
       "  </tbody>\n",
       "</table>\n",
       "</div>"
      ],
      "text/plain": [
       "                       Missing Count  Missing Proportion\n",
       "adult                              0            0.000000\n",
       "belongs_to_collection          40944            0.901215\n",
       "budget                             0            0.000000\n",
       "genres                             0            0.000000\n",
       "homepage                       37658            0.828887\n",
       "id                                 0            0.000000\n",
       "imdb_id                           17            0.000374\n",
       "original_language                 11            0.000242\n",
       "original_title                     0            0.000000\n",
       "overview                         954            0.020998\n",
       "popularity                         3            0.000066\n",
       "poster_path                      386            0.008496\n",
       "production_companies               3            0.000066\n",
       "production_countries               3            0.000066\n",
       "release_date                      87            0.001915\n",
       "revenue                            3            0.000066\n",
       "runtime                          260            0.005723\n",
       "spoken_languages                   3            0.000066\n",
       "status                            84            0.001849\n",
       "tagline                        25031            0.550955\n",
       "title                              3            0.000066\n",
       "video                              3            0.000066\n",
       "vote_average                       3            0.000066\n",
       "vote_count                         3            0.000066\n",
       "cast                               0            0.000000\n",
       "crew                               0            0.000000\n",
       "keywords                           0            0.000000"
      ]
     },
     "execution_count": 27,
     "metadata": {},
     "output_type": "execute_result"
    }
   ],
   "source": [
    "show_missing_values(df_tmdb)"
   ]
  },
  {
   "cell_type": "markdown",
   "id": "f8302539-6bc7-4122-8900-9446739a9286",
   "metadata": {},
   "source": [
    "There seems to have a very few number of missing values except for homepage and belongs to collection features. We won't need the homepage feature so that's not a problem. And the belongs to collection feature is built such that a movie that is not part of a franchise is encoded as NaN, so the huge proportion of missing values is probably not a problem. We will need to check the dataset in more depth but for the moment this seems pretty good. Let's now check the type of the columns."
   ]
  },
  {
   "cell_type": "code",
   "execution_count": 28,
   "id": "ea06b74e-41a7-458f-827b-f9995462a9f7",
   "metadata": {},
   "outputs": [
    {
     "name": "stdout",
     "output_type": "stream",
     "text": [
      "Dytpes of columns of the df_tmdb dataframe:\n",
      "\n",
      "-------- df_tmdb_movie ---------\n",
      "adult                     object\n",
      "belongs_to_collection     object\n",
      "budget                    object\n",
      "genres                    object\n",
      "homepage                  object\n",
      "id                       float64\n",
      "imdb_id                   object\n",
      "original_language         object\n",
      "original_title            object\n",
      "overview                  object\n",
      "popularity                object\n",
      "poster_path               object\n",
      "production_companies      object\n",
      "production_countries      object\n",
      "release_date              object\n",
      "revenue                  float64\n",
      "runtime                  float64\n",
      "spoken_languages          object\n",
      "status                    object\n",
      "tagline                   object\n",
      "title                     object\n",
      "video                     object\n",
      "vote_average             float64\n",
      "vote_count               float64\n",
      "dtype: object\n",
      "-------------------------------- \n",
      "\n"
     ]
    }
   ],
   "source": [
    "print(\"Dytpes of columns of the df_tmdb dataframe:\\n\")\n",
    "print(\"-------- df_tmdb_movie ---------\")\n",
    "print(df_tmdb_movie.dtypes)\n",
    "print(32*\"-\",\"\\n\")"
   ]
  },
  {
   "cell_type": "markdown",
   "id": "fad042df-27cd-4d65-97d1-414174432fc1",
   "metadata": {},
   "source": [
    "As before some wrong type to we will need to handle. And now let's check the statistics of numerical columns."
   ]
  },
  {
   "cell_type": "code",
   "execution_count": 29,
   "id": "1450b8c6-4e9e-427a-a335-4ca3e31252d7",
   "metadata": {},
   "outputs": [
    {
     "data": {
      "text/html": [
       "<div>\n",
       "<style scoped>\n",
       "    .dataframe tbody tr th:only-of-type {\n",
       "        vertical-align: middle;\n",
       "    }\n",
       "\n",
       "    .dataframe tbody tr th {\n",
       "        vertical-align: top;\n",
       "    }\n",
       "\n",
       "    .dataframe thead th {\n",
       "        text-align: right;\n",
       "    }\n",
       "</style>\n",
       "<table border=\"1\" class=\"dataframe\">\n",
       "  <thead>\n",
       "    <tr style=\"text-align: right;\">\n",
       "      <th></th>\n",
       "      <th>id</th>\n",
       "      <th>revenue</th>\n",
       "      <th>runtime</th>\n",
       "      <th>vote_average</th>\n",
       "      <th>vote_count</th>\n",
       "    </tr>\n",
       "  </thead>\n",
       "  <tbody>\n",
       "    <tr>\n",
       "      <th>count</th>\n",
       "      <td>45432.000000</td>\n",
       "      <td>4.542900e+04</td>\n",
       "      <td>45172.000000</td>\n",
       "      <td>45429.000000</td>\n",
       "      <td>45429.000000</td>\n",
       "    </tr>\n",
       "    <tr>\n",
       "      <th>mean</th>\n",
       "      <td>108368.766750</td>\n",
       "      <td>1.121313e+07</td>\n",
       "      <td>94.126384</td>\n",
       "      <td>5.618453</td>\n",
       "      <td>109.938409</td>\n",
       "    </tr>\n",
       "    <tr>\n",
       "      <th>std</th>\n",
       "      <td>112472.571213</td>\n",
       "      <td>6.435282e+07</td>\n",
       "      <td>38.413412</td>\n",
       "      <td>1.923980</td>\n",
       "      <td>491.471473</td>\n",
       "    </tr>\n",
       "    <tr>\n",
       "      <th>min</th>\n",
       "      <td>2.000000</td>\n",
       "      <td>0.000000e+00</td>\n",
       "      <td>0.000000</td>\n",
       "      <td>0.000000</td>\n",
       "      <td>0.000000</td>\n",
       "    </tr>\n",
       "    <tr>\n",
       "      <th>25%</th>\n",
       "      <td>26459.250000</td>\n",
       "      <td>0.000000e+00</td>\n",
       "      <td>85.000000</td>\n",
       "      <td>5.000000</td>\n",
       "      <td>3.000000</td>\n",
       "    </tr>\n",
       "    <tr>\n",
       "      <th>50%</th>\n",
       "      <td>59995.500000</td>\n",
       "      <td>0.000000e+00</td>\n",
       "      <td>95.000000</td>\n",
       "      <td>6.000000</td>\n",
       "      <td>10.000000</td>\n",
       "    </tr>\n",
       "    <tr>\n",
       "      <th>75%</th>\n",
       "      <td>157350.250000</td>\n",
       "      <td>0.000000e+00</td>\n",
       "      <td>107.000000</td>\n",
       "      <td>6.800000</td>\n",
       "      <td>34.000000</td>\n",
       "    </tr>\n",
       "    <tr>\n",
       "      <th>max</th>\n",
       "      <td>469172.000000</td>\n",
       "      <td>2.787965e+09</td>\n",
       "      <td>1256.000000</td>\n",
       "      <td>10.000000</td>\n",
       "      <td>14075.000000</td>\n",
       "    </tr>\n",
       "  </tbody>\n",
       "</table>\n",
       "</div>"
      ],
      "text/plain": [
       "                  id       revenue       runtime  vote_average    vote_count\n",
       "count   45432.000000  4.542900e+04  45172.000000  45429.000000  45429.000000\n",
       "mean   108368.766750  1.121313e+07     94.126384      5.618453    109.938409\n",
       "std    112472.571213  6.435282e+07     38.413412      1.923980    491.471473\n",
       "min         2.000000  0.000000e+00      0.000000      0.000000      0.000000\n",
       "25%     26459.250000  0.000000e+00     85.000000      5.000000      3.000000\n",
       "50%     59995.500000  0.000000e+00     95.000000      6.000000     10.000000\n",
       "75%    157350.250000  0.000000e+00    107.000000      6.800000     34.000000\n",
       "max    469172.000000  2.787965e+09   1256.000000     10.000000  14075.000000"
      ]
     },
     "execution_count": 29,
     "metadata": {},
     "output_type": "execute_result"
    }
   ],
   "source": [
    "df_tmdb.describe()"
   ]
  },
  {
   "cell_type": "markdown",
   "id": "0b7b672a-f815-4649-9737-912d6cc3383e",
   "metadata": {},
   "source": [
    "There seems to have less outliers or false information. However, we can typically see that for the revenur we have almost all statistic at 0, meaning that we probably have a revenue of 0 instead of NaN values when the information is either missing or doesn't exist."
   ]
  },
  {
   "cell_type": "markdown",
   "id": "8331fc14-8e3e-4d61-bbec-9ba28fb6becd",
   "metadata": {},
   "source": [
    "We now want to merge the CMU and TMdB datasets. However, in the CMU dataset we have two IDs per film, the wikipedia IDs and the freebase IDs. We also have two IDs in the tmdb dataset but this time it is the TMdB IDs and the IMdB IDs, which is unfortunate. We retrieved IMdB IDs from the movies in our original dataset on [wikipedia](https://www.wikipedia.org/). This allows to have a common ID in both datasets to perform the merges more easily."
   ]
  },
  {
   "cell_type": "markdown",
   "id": "a76173e8-0729-4cbc-989d-8c8499ec4d37",
   "metadata": {},
   "source": [
    "### Getting IMdB id for CMU dataset"
   ]
  },
  {
   "cell_type": "markdown",
   "id": "95dd918b-14bd-46a4-a876-95f4c7e5633e",
   "metadata": {},
   "source": [
    "We queried wikidata using SPARQL to retrieve IMdB IDs and freebase IDs of all movies on wikidata. The freebase IDs will be used to map our movies to the correct IMdB IDs and these will be used to perform the merge. We could retrieve a lot more information on [Wikidata](https://www.wikidata.org/wiki/Wikidata:WikiProject_Movies/Properties) about each movie and correct our dataset. However, this would take us away from having the CMU dataset as our main dataset. So we just retrieve the IDs and then merge the queried datafram with _df_cmu_movie_ before merging again the new dataset with _df_tmdb_."
   ]
  },
  {
   "cell_type": "code",
   "execution_count": 30,
   "id": "1dca6d21-da8b-4a70-a62a-90796f588879",
   "metadata": {},
   "outputs": [
    {
     "name": "stdout",
     "output_type": "stream",
     "text": [
      "Wikipedia query successful\n",
      "file wiki.csv saved\n"
     ]
    }
   ],
   "source": [
    "# This line is commented as the query sometimes crashes (if connection to server fails). We made necessary numbers of query such that the data was \n",
    "# obtain once and we saved everything in a csv file to use it more easily.\n",
    "\n",
    "wiki_df = wikipedia_query()"
   ]
  },
  {
   "cell_type": "code",
   "execution_count": 31,
   "id": "09dbdfe4-4259-4861-b862-d133930d413e",
   "metadata": {},
   "outputs": [
    {
     "data": {
      "text/html": [
       "<div>\n",
       "<style scoped>\n",
       "    .dataframe tbody tr th:only-of-type {\n",
       "        vertical-align: middle;\n",
       "    }\n",
       "\n",
       "    .dataframe tbody tr th {\n",
       "        vertical-align: top;\n",
       "    }\n",
       "\n",
       "    .dataframe thead th {\n",
       "        text-align: right;\n",
       "    }\n",
       "</style>\n",
       "<table border=\"1\" class=\"dataframe\">\n",
       "  <thead>\n",
       "    <tr style=\"text-align: right;\">\n",
       "      <th></th>\n",
       "      <th>imdb_id</th>\n",
       "      <th>freebase_ID</th>\n",
       "    </tr>\n",
       "  </thead>\n",
       "  <tbody>\n",
       "    <tr>\n",
       "      <th>0</th>\n",
       "      <td>tt0498329</td>\n",
       "      <td>/m/05c02tm</td>\n",
       "    </tr>\n",
       "    <tr>\n",
       "      <th>1</th>\n",
       "      <td>tt1741542</td>\n",
       "      <td>/m/0h_37h3</td>\n",
       "    </tr>\n",
       "    <tr>\n",
       "      <th>2</th>\n",
       "      <td>tt1675434</td>\n",
       "      <td>/m/0hgqwpj</td>\n",
       "    </tr>\n",
       "  </tbody>\n",
       "</table>\n",
       "</div>"
      ],
      "text/plain": [
       "     imdb_id freebase_ID\n",
       "0  tt0498329  /m/05c02tm\n",
       "1  tt1741542  /m/0h_37h3\n",
       "2  tt1675434  /m/0hgqwpj"
      ]
     },
     "execution_count": 31,
     "metadata": {},
     "output_type": "execute_result"
    }
   ],
   "source": [
    "wiki_df = pd.read_csv('wiki.csv')\n",
    "wiki_df.head(3)"
   ]
  },
  {
   "cell_type": "code",
   "execution_count": 32,
   "id": "de8918d0-207c-48c6-8495-efec7ba65d8b",
   "metadata": {},
   "outputs": [
    {
     "data": {
      "text/plain": [
       "(121493, 2)"
      ]
     },
     "execution_count": 32,
     "metadata": {},
     "output_type": "execute_result"
    }
   ],
   "source": [
    "wiki_df.shape"
   ]
  },
  {
   "cell_type": "code",
   "execution_count": 33,
   "id": "3ed8755d-a4fe-4dbe-ba50-78dd4f1a7866",
   "metadata": {},
   "outputs": [],
   "source": [
    "df_cmu_movie_with_id = pd.merge(df_cmu_movie, wiki_df, left_on='freebase_movie_id', right_on='freebase_ID', how='inner')"
   ]
  },
  {
   "cell_type": "code",
   "execution_count": 34,
   "id": "63339c6f-3de8-49b6-b55e-9aa59b89a670",
   "metadata": {},
   "outputs": [
    {
     "data": {
      "text/plain": [
       "(73367, 11)"
      ]
     },
     "execution_count": 34,
     "metadata": {},
     "output_type": "execute_result"
    }
   ],
   "source": [
    "df_cmu_movie_with_id.shape"
   ]
  },
  {
   "cell_type": "code",
   "execution_count": 35,
   "id": "a5725f49-ac94-44fd-814b-800e0e086fc7",
   "metadata": {},
   "outputs": [
    {
     "data": {
      "text/html": [
       "<div>\n",
       "<style scoped>\n",
       "    .dataframe tbody tr th:only-of-type {\n",
       "        vertical-align: middle;\n",
       "    }\n",
       "\n",
       "    .dataframe tbody tr th {\n",
       "        vertical-align: top;\n",
       "    }\n",
       "\n",
       "    .dataframe thead th {\n",
       "        text-align: right;\n",
       "    }\n",
       "</style>\n",
       "<table border=\"1\" class=\"dataframe\">\n",
       "  <thead>\n",
       "    <tr style=\"text-align: right;\">\n",
       "      <th></th>\n",
       "      <th>wikipedia_movie_id</th>\n",
       "      <th>freebase_movie_id</th>\n",
       "      <th>imdb_id</th>\n",
       "    </tr>\n",
       "  </thead>\n",
       "  <tbody>\n",
       "    <tr>\n",
       "      <th>0</th>\n",
       "      <td>975900</td>\n",
       "      <td>/m/03vyhn</td>\n",
       "      <td>tt0228333</td>\n",
       "    </tr>\n",
       "    <tr>\n",
       "      <th>1</th>\n",
       "      <td>3196793</td>\n",
       "      <td>/m/08yl5d</td>\n",
       "      <td>tt0245916</td>\n",
       "    </tr>\n",
       "  </tbody>\n",
       "</table>\n",
       "</div>"
      ],
      "text/plain": [
       "   wikipedia_movie_id freebase_movie_id    imdb_id\n",
       "0              975900         /m/03vyhn  tt0228333\n",
       "1             3196793         /m/08yl5d  tt0245916"
      ]
     },
     "execution_count": 35,
     "metadata": {},
     "output_type": "execute_result"
    }
   ],
   "source": [
    "df_cmu_movie_with_id[['wikipedia_movie_id', 'freebase_movie_id', 'imdb_id']].head(2)"
   ]
  },
  {
   "cell_type": "code",
   "execution_count": 36,
   "id": "5570077f-841d-4fa4-a741-6a730f539ca5",
   "metadata": {},
   "outputs": [],
   "source": [
    "df_final_dataset = pd.merge(df_cmu_movie_with_id, df_tmdb, on ='imdb_id', how='inner', suffixes=['_cmu', '_tmdb'])"
   ]
  },
  {
   "cell_type": "code",
   "execution_count": 37,
   "id": "d4b998f3-8a0e-419e-8d09-56aa7e45580b",
   "metadata": {},
   "outputs": [],
   "source": [
    "df_final_dataset = pd.merge(df_final_dataset, df_cmu_plot, on ='wikipedia_movie_id', how='left')"
   ]
  },
  {
   "cell_type": "code",
   "execution_count": 38,
   "id": "9443de98-12bc-493f-b6f6-0feba320b678",
   "metadata": {},
   "outputs": [
    {
     "data": {
      "text/html": [
       "<div>\n",
       "<style scoped>\n",
       "    .dataframe tbody tr th:only-of-type {\n",
       "        vertical-align: middle;\n",
       "    }\n",
       "\n",
       "    .dataframe tbody tr th {\n",
       "        vertical-align: top;\n",
       "    }\n",
       "\n",
       "    .dataframe thead th {\n",
       "        text-align: right;\n",
       "    }\n",
       "</style>\n",
       "<table border=\"1\" class=\"dataframe\">\n",
       "  <thead>\n",
       "    <tr style=\"text-align: right;\">\n",
       "      <th></th>\n",
       "      <th>wikipedia_movie_id</th>\n",
       "      <th>freebase_movie_id</th>\n",
       "      <th>movie_name</th>\n",
       "      <th>release_date_cmu</th>\n",
       "      <th>box_office_revenue</th>\n",
       "      <th>runtime_cmu</th>\n",
       "      <th>languages</th>\n",
       "      <th>countries</th>\n",
       "      <th>genres_cmu</th>\n",
       "      <th>imdb_id</th>\n",
       "      <th>freebase_ID</th>\n",
       "      <th>adult</th>\n",
       "      <th>belongs_to_collection</th>\n",
       "      <th>budget</th>\n",
       "      <th>genres_tmdb</th>\n",
       "      <th>homepage</th>\n",
       "      <th>id</th>\n",
       "      <th>original_language</th>\n",
       "      <th>original_title</th>\n",
       "      <th>overview</th>\n",
       "      <th>popularity</th>\n",
       "      <th>poster_path</th>\n",
       "      <th>production_companies</th>\n",
       "      <th>production_countries</th>\n",
       "      <th>release_date_tmdb</th>\n",
       "      <th>revenue</th>\n",
       "      <th>runtime_tmdb</th>\n",
       "      <th>spoken_languages</th>\n",
       "      <th>status</th>\n",
       "      <th>tagline</th>\n",
       "      <th>title</th>\n",
       "      <th>video</th>\n",
       "      <th>vote_average</th>\n",
       "      <th>vote_count</th>\n",
       "      <th>cast</th>\n",
       "      <th>crew</th>\n",
       "      <th>keywords</th>\n",
       "      <th>plot_summary</th>\n",
       "    </tr>\n",
       "  </thead>\n",
       "  <tbody>\n",
       "    <tr>\n",
       "      <th>0</th>\n",
       "      <td>975900</td>\n",
       "      <td>/m/03vyhn</td>\n",
       "      <td>Ghosts of Mars</td>\n",
       "      <td>2001-08-24</td>\n",
       "      <td>14010832.0</td>\n",
       "      <td>98.0</td>\n",
       "      <td>{\"/m/02h40lc\": \"English Language\"}</td>\n",
       "      <td>{\"/m/09c7w0\": \"United States of America\"}</td>\n",
       "      <td>{\"/m/01jfsb\": \"Thriller\", \"/m/06n90\": \"Science...</td>\n",
       "      <td>tt0228333</td>\n",
       "      <td>/m/03vyhn</td>\n",
       "      <td>False</td>\n",
       "      <td>NaN</td>\n",
       "      <td>28000000</td>\n",
       "      <td>[{'id': 28, 'name': 'Action'}, {'id': 27, 'nam...</td>\n",
       "      <td>http://www.theofficialjohncarpenter.com/ghost-...</td>\n",
       "      <td>10016.0</td>\n",
       "      <td>en</td>\n",
       "      <td>Ghosts of Mars</td>\n",
       "      <td>Melanie Ballard (Natasha Henstridge) is a hard...</td>\n",
       "      <td>7.058599</td>\n",
       "      <td>/rBmkaKxRg55zBZr11EGbedFJM0.jpg</td>\n",
       "      <td>[{'name': 'Screen Gems', 'id': 3287}, {'name':...</td>\n",
       "      <td>[{'iso_3166_1': 'US', 'name': 'United States o...</td>\n",
       "      <td>2001-08-24</td>\n",
       "      <td>14010832.0</td>\n",
       "      <td>98.0</td>\n",
       "      <td>[{'iso_639_1': 'en', 'name': 'English'}]</td>\n",
       "      <td>Released</td>\n",
       "      <td>Terror is the same on any planet.</td>\n",
       "      <td>Ghosts of Mars</td>\n",
       "      <td>False</td>\n",
       "      <td>4.8</td>\n",
       "      <td>299.0</td>\n",
       "      <td>[{'cast_id': 10, 'character': 'Lt. Melanie Bal...</td>\n",
       "      <td>[{'credit_id': '52fe43089251416c75000d3d', 'de...</td>\n",
       "      <td>[{'id': 166686, 'name': 'climbing up a wall'},...</td>\n",
       "      <td>Set in the second half of the 22nd century, th...</td>\n",
       "    </tr>\n",
       "    <tr>\n",
       "      <th>1</th>\n",
       "      <td>9363483</td>\n",
       "      <td>/m/0285_cd</td>\n",
       "      <td>White Of The Eye</td>\n",
       "      <td>1987</td>\n",
       "      <td>NaN</td>\n",
       "      <td>110.0</td>\n",
       "      <td>{\"/m/02h40lc\": \"English Language\"}</td>\n",
       "      <td>{\"/m/07ssc\": \"United Kingdom\"}</td>\n",
       "      <td>{\"/m/01jfsb\": \"Thriller\", \"/m/0glj9q\": \"Erotic...</td>\n",
       "      <td>tt0094320</td>\n",
       "      <td>/m/0285_cd</td>\n",
       "      <td>False</td>\n",
       "      <td>NaN</td>\n",
       "      <td>0</td>\n",
       "      <td>[{'id': 27, 'name': 'Horror'}, {'id': 53, 'nam...</td>\n",
       "      <td>NaN</td>\n",
       "      <td>33592.0</td>\n",
       "      <td>en</td>\n",
       "      <td>White of the Eye</td>\n",
       "      <td>Evidence of mutilated housewives points to a s...</td>\n",
       "      <td>3.121105</td>\n",
       "      <td>/4KAEbWStG4lfUpKtyiRHgIuljf3.jpg</td>\n",
       "      <td>[{'name': \"Mrs. White's Productions\", 'id': 26...</td>\n",
       "      <td>[{'iso_3166_1': 'GB', 'name': 'United Kingdom'}]</td>\n",
       "      <td>1988-05-20</td>\n",
       "      <td>0.0</td>\n",
       "      <td>110.0</td>\n",
       "      <td>[{'iso_639_1': 'en', 'name': 'English'}]</td>\n",
       "      <td>Released</td>\n",
       "      <td>NaN</td>\n",
       "      <td>White of the Eye</td>\n",
       "      <td>False</td>\n",
       "      <td>5.7</td>\n",
       "      <td>15.0</td>\n",
       "      <td>[{'cast_id': 4, 'character': 'Paul White', 'cr...</td>\n",
       "      <td>[{'credit_id': '57e46946c3a3682cb3006760', 'de...</td>\n",
       "      <td>[{'id': 1859, 'name': 'arizona'}, {'id': 9937,...</td>\n",
       "      <td>A series of murders of rich young women throug...</td>\n",
       "    </tr>\n",
       "    <tr>\n",
       "      <th>2</th>\n",
       "      <td>10408933</td>\n",
       "      <td>/m/02qc0j7</td>\n",
       "      <td>Alexander's Ragtime Band</td>\n",
       "      <td>1938-08-16</td>\n",
       "      <td>3600000.0</td>\n",
       "      <td>106.0</td>\n",
       "      <td>{\"/m/02h40lc\": \"English Language\"}</td>\n",
       "      <td>{\"/m/09c7w0\": \"United States of America\"}</td>\n",
       "      <td>{\"/m/04t36\": \"Musical\", \"/m/01z4y\": \"Comedy\", ...</td>\n",
       "      <td>tt0029852</td>\n",
       "      <td>/m/02qc0j7</td>\n",
       "      <td>False</td>\n",
       "      <td>NaN</td>\n",
       "      <td>2000000</td>\n",
       "      <td>[{'id': 18, 'name': 'Drama'}, {'id': 10402, 'n...</td>\n",
       "      <td>NaN</td>\n",
       "      <td>43839.0</td>\n",
       "      <td>en</td>\n",
       "      <td>Alexander's Ragtime Band</td>\n",
       "      <td>Roger Grant, a classical violinist, disappoint...</td>\n",
       "      <td>0.632261</td>\n",
       "      <td>/3vDOpV1D2IfuNYCmcBBIXlV9nUc.jpg</td>\n",
       "      <td>[{'name': 'Twentieth Century Fox Film Corporat...</td>\n",
       "      <td>[{'iso_3166_1': 'US', 'name': 'United States o...</td>\n",
       "      <td>1938-05-24</td>\n",
       "      <td>4000000.0</td>\n",
       "      <td>106.0</td>\n",
       "      <td>[{'iso_639_1': 'en', 'name': 'English'}]</td>\n",
       "      <td>Released</td>\n",
       "      <td>An American Cavalcade!</td>\n",
       "      <td>Alexander's Ragtime Band</td>\n",
       "      <td>False</td>\n",
       "      <td>4.8</td>\n",
       "      <td>6.0</td>\n",
       "      <td>[{'cast_id': 15, 'character': 'Alexander - Rog...</td>\n",
       "      <td>[{'credit_id': '571952cfc3a3683e6b000122', 'de...</td>\n",
       "      <td>[{'id': 1691, 'name': 'dance'}, {'id': 167411,...</td>\n",
       "      <td>NaN</td>\n",
       "    </tr>\n",
       "  </tbody>\n",
       "</table>\n",
       "</div>"
      ],
      "text/plain": [
       "   wikipedia_movie_id freebase_movie_id                movie_name  \\\n",
       "0              975900         /m/03vyhn            Ghosts of Mars   \n",
       "1             9363483        /m/0285_cd          White Of The Eye   \n",
       "2            10408933        /m/02qc0j7  Alexander's Ragtime Band   \n",
       "\n",
       "  release_date_cmu  box_office_revenue  runtime_cmu  \\\n",
       "0       2001-08-24          14010832.0         98.0   \n",
       "1             1987                 NaN        110.0   \n",
       "2       1938-08-16           3600000.0        106.0   \n",
       "\n",
       "                            languages  \\\n",
       "0  {\"/m/02h40lc\": \"English Language\"}   \n",
       "1  {\"/m/02h40lc\": \"English Language\"}   \n",
       "2  {\"/m/02h40lc\": \"English Language\"}   \n",
       "\n",
       "                                   countries  \\\n",
       "0  {\"/m/09c7w0\": \"United States of America\"}   \n",
       "1             {\"/m/07ssc\": \"United Kingdom\"}   \n",
       "2  {\"/m/09c7w0\": \"United States of America\"}   \n",
       "\n",
       "                                          genres_cmu    imdb_id freebase_ID  \\\n",
       "0  {\"/m/01jfsb\": \"Thriller\", \"/m/06n90\": \"Science...  tt0228333   /m/03vyhn   \n",
       "1  {\"/m/01jfsb\": \"Thriller\", \"/m/0glj9q\": \"Erotic...  tt0094320  /m/0285_cd   \n",
       "2  {\"/m/04t36\": \"Musical\", \"/m/01z4y\": \"Comedy\", ...  tt0029852  /m/02qc0j7   \n",
       "\n",
       "   adult belongs_to_collection    budget  \\\n",
       "0  False                   NaN  28000000   \n",
       "1  False                   NaN         0   \n",
       "2  False                   NaN   2000000   \n",
       "\n",
       "                                         genres_tmdb  \\\n",
       "0  [{'id': 28, 'name': 'Action'}, {'id': 27, 'nam...   \n",
       "1  [{'id': 27, 'name': 'Horror'}, {'id': 53, 'nam...   \n",
       "2  [{'id': 18, 'name': 'Drama'}, {'id': 10402, 'n...   \n",
       "\n",
       "                                            homepage       id  \\\n",
       "0  http://www.theofficialjohncarpenter.com/ghost-...  10016.0   \n",
       "1                                                NaN  33592.0   \n",
       "2                                                NaN  43839.0   \n",
       "\n",
       "  original_language            original_title  \\\n",
       "0                en            Ghosts of Mars   \n",
       "1                en          White of the Eye   \n",
       "2                en  Alexander's Ragtime Band   \n",
       "\n",
       "                                            overview popularity  \\\n",
       "0  Melanie Ballard (Natasha Henstridge) is a hard...   7.058599   \n",
       "1  Evidence of mutilated housewives points to a s...   3.121105   \n",
       "2  Roger Grant, a classical violinist, disappoint...   0.632261   \n",
       "\n",
       "                        poster_path  \\\n",
       "0   /rBmkaKxRg55zBZr11EGbedFJM0.jpg   \n",
       "1  /4KAEbWStG4lfUpKtyiRHgIuljf3.jpg   \n",
       "2  /3vDOpV1D2IfuNYCmcBBIXlV9nUc.jpg   \n",
       "\n",
       "                                production_companies  \\\n",
       "0  [{'name': 'Screen Gems', 'id': 3287}, {'name':...   \n",
       "1  [{'name': \"Mrs. White's Productions\", 'id': 26...   \n",
       "2  [{'name': 'Twentieth Century Fox Film Corporat...   \n",
       "\n",
       "                                production_countries release_date_tmdb  \\\n",
       "0  [{'iso_3166_1': 'US', 'name': 'United States o...        2001-08-24   \n",
       "1   [{'iso_3166_1': 'GB', 'name': 'United Kingdom'}]        1988-05-20   \n",
       "2  [{'iso_3166_1': 'US', 'name': 'United States o...        1938-05-24   \n",
       "\n",
       "      revenue  runtime_tmdb                          spoken_languages  \\\n",
       "0  14010832.0          98.0  [{'iso_639_1': 'en', 'name': 'English'}]   \n",
       "1         0.0         110.0  [{'iso_639_1': 'en', 'name': 'English'}]   \n",
       "2   4000000.0         106.0  [{'iso_639_1': 'en', 'name': 'English'}]   \n",
       "\n",
       "     status                            tagline                     title  \\\n",
       "0  Released  Terror is the same on any planet.            Ghosts of Mars   \n",
       "1  Released                                NaN          White of the Eye   \n",
       "2  Released             An American Cavalcade!  Alexander's Ragtime Band   \n",
       "\n",
       "   video  vote_average  vote_count  \\\n",
       "0  False           4.8       299.0   \n",
       "1  False           5.7        15.0   \n",
       "2  False           4.8         6.0   \n",
       "\n",
       "                                                cast  \\\n",
       "0  [{'cast_id': 10, 'character': 'Lt. Melanie Bal...   \n",
       "1  [{'cast_id': 4, 'character': 'Paul White', 'cr...   \n",
       "2  [{'cast_id': 15, 'character': 'Alexander - Rog...   \n",
       "\n",
       "                                                crew  \\\n",
       "0  [{'credit_id': '52fe43089251416c75000d3d', 'de...   \n",
       "1  [{'credit_id': '57e46946c3a3682cb3006760', 'de...   \n",
       "2  [{'credit_id': '571952cfc3a3683e6b000122', 'de...   \n",
       "\n",
       "                                            keywords  \\\n",
       "0  [{'id': 166686, 'name': 'climbing up a wall'},...   \n",
       "1  [{'id': 1859, 'name': 'arizona'}, {'id': 9937,...   \n",
       "2  [{'id': 1691, 'name': 'dance'}, {'id': 167411,...   \n",
       "\n",
       "                                        plot_summary  \n",
       "0  Set in the second half of the 22nd century, th...  \n",
       "1  A series of murders of rich young women throug...  \n",
       "2                                                NaN  "
      ]
     },
     "execution_count": 38,
     "metadata": {},
     "output_type": "execute_result"
    }
   ],
   "source": [
    "df_final_dataset.head(3)"
   ]
  },
  {
   "cell_type": "code",
   "execution_count": 39,
   "id": "f6a9c85a-3887-49d4-a01d-6bb871983a52",
   "metadata": {},
   "outputs": [
    {
     "data": {
      "text/plain": [
       "(27329, 38)"
      ]
     },
     "execution_count": 39,
     "metadata": {},
     "output_type": "execute_result"
    }
   ],
   "source": [
    "df_final_dataset.shape"
   ]
  },
  {
   "cell_type": "markdown",
   "id": "1b8a6069-5b16-4b23-bb6d-36c228e80aed",
   "metadata": {},
   "source": [
    "### 1.5 Cleaning the full dataset\n",
    "<a id='section-1.4'></a>"
   ]
  },
  {
   "cell_type": "markdown",
   "id": "e24041e4-4b62-4757-b8ad-3dbc16fd0e3b",
   "metadata": {},
   "source": [
    "We now have a lot of new features, but some are duplicates and sometimes we have not the same information depending of the source dataset. We will need to take care of all of these to have a nice complete and clean dataset to work with afterwards."
   ]
  },
  {
   "cell_type": "markdown",
   "id": "a228075c-8dae-40c3-9955-19215d38e7c4",
   "metadata": {},
   "source": [
    "We start by dropping non useful columns as well as organizing the columns such that duplictates columns are side by side."
   ]
  },
  {
   "cell_type": "code",
   "execution_count": 40,
   "id": "d3b93974-1fe8-437f-a500-7c3931a752f9",
   "metadata": {},
   "outputs": [
    {
     "data": {
      "text/plain": [
       "(27329, 30)"
      ]
     },
     "execution_count": 40,
     "metadata": {},
     "output_type": "execute_result"
    }
   ],
   "source": [
    "# Dropping non-necessary ids : we have wikipedia_movie_id, imdb_id, tmdb ids called id. We will only keep imdb_id to work with reviews later \n",
    "# and drop the rest of them. We also drop some non useful columns such as homepage or status. \n",
    "\n",
    "df_final_dataset.drop(columns=['poster_path', 'wikipedia_movie_id', 'freebase_movie_id', 'freebase_ID', 'homepage', 'id', 'status', 'video'], inplace=True)\n",
    "df_final_dataset = df_final_dataset[['imdb_id', 'movie_name', 'title', 'original_title', 'box_office_revenue', 'revenue', 'budget',\n",
    "                                     'release_date_cmu', 'release_date_tmdb', 'runtime_cmu', 'runtime_tmdb', 'genres_cmu', 'genres_tmdb',\n",
    "                                     'languages', 'original_language', 'spoken_languages', 'countries', 'production_countries', 'production_companies', \n",
    "                                     'plot_summary', 'overview', 'tagline', 'keywords', 'popularity', 'vote_average', 'vote_count', 'cast', 'crew',\n",
    "                                     'adult', 'belongs_to_collection']]\n",
    "df_final_dataset.shape                      "
   ]
  },
  {
   "cell_type": "code",
   "execution_count": 41,
   "id": "d52d43c5-181f-4318-8118-f495d6b8a053",
   "metadata": {},
   "outputs": [
    {
     "data": {
      "text/html": [
       "<div>\n",
       "<style scoped>\n",
       "    .dataframe tbody tr th:only-of-type {\n",
       "        vertical-align: middle;\n",
       "    }\n",
       "\n",
       "    .dataframe tbody tr th {\n",
       "        vertical-align: top;\n",
       "    }\n",
       "\n",
       "    .dataframe thead th {\n",
       "        text-align: right;\n",
       "    }\n",
       "</style>\n",
       "<table border=\"1\" class=\"dataframe\">\n",
       "  <thead>\n",
       "    <tr style=\"text-align: right;\">\n",
       "      <th></th>\n",
       "      <th>imdb_id</th>\n",
       "      <th>movie_name</th>\n",
       "      <th>title</th>\n",
       "      <th>original_title</th>\n",
       "      <th>box_office_revenue</th>\n",
       "      <th>revenue</th>\n",
       "      <th>budget</th>\n",
       "      <th>release_date_cmu</th>\n",
       "      <th>release_date_tmdb</th>\n",
       "      <th>runtime_cmu</th>\n",
       "      <th>runtime_tmdb</th>\n",
       "      <th>genres_cmu</th>\n",
       "      <th>genres_tmdb</th>\n",
       "      <th>languages</th>\n",
       "      <th>original_language</th>\n",
       "      <th>spoken_languages</th>\n",
       "      <th>countries</th>\n",
       "      <th>production_countries</th>\n",
       "      <th>production_companies</th>\n",
       "      <th>plot_summary</th>\n",
       "      <th>overview</th>\n",
       "      <th>tagline</th>\n",
       "      <th>keywords</th>\n",
       "      <th>popularity</th>\n",
       "      <th>vote_average</th>\n",
       "      <th>vote_count</th>\n",
       "      <th>cast</th>\n",
       "      <th>crew</th>\n",
       "      <th>adult</th>\n",
       "      <th>belongs_to_collection</th>\n",
       "    </tr>\n",
       "  </thead>\n",
       "  <tbody>\n",
       "    <tr>\n",
       "      <th>0</th>\n",
       "      <td>tt0228333</td>\n",
       "      <td>Ghosts of Mars</td>\n",
       "      <td>Ghosts of Mars</td>\n",
       "      <td>Ghosts of Mars</td>\n",
       "      <td>14010832.0</td>\n",
       "      <td>14010832.0</td>\n",
       "      <td>28000000</td>\n",
       "      <td>2001-08-24</td>\n",
       "      <td>2001-08-24</td>\n",
       "      <td>98.0</td>\n",
       "      <td>98.0</td>\n",
       "      <td>{\"/m/01jfsb\": \"Thriller\", \"/m/06n90\": \"Science...</td>\n",
       "      <td>[{'id': 28, 'name': 'Action'}, {'id': 27, 'nam...</td>\n",
       "      <td>{\"/m/02h40lc\": \"English Language\"}</td>\n",
       "      <td>en</td>\n",
       "      <td>[{'iso_639_1': 'en', 'name': 'English'}]</td>\n",
       "      <td>{\"/m/09c7w0\": \"United States of America\"}</td>\n",
       "      <td>[{'iso_3166_1': 'US', 'name': 'United States o...</td>\n",
       "      <td>[{'name': 'Screen Gems', 'id': 3287}, {'name':...</td>\n",
       "      <td>Set in the second half of the 22nd century, th...</td>\n",
       "      <td>Melanie Ballard (Natasha Henstridge) is a hard...</td>\n",
       "      <td>Terror is the same on any planet.</td>\n",
       "      <td>[{'id': 166686, 'name': 'climbing up a wall'},...</td>\n",
       "      <td>7.058599</td>\n",
       "      <td>4.8</td>\n",
       "      <td>299.0</td>\n",
       "      <td>[{'cast_id': 10, 'character': 'Lt. Melanie Bal...</td>\n",
       "      <td>[{'credit_id': '52fe43089251416c75000d3d', 'de...</td>\n",
       "      <td>False</td>\n",
       "      <td>NaN</td>\n",
       "    </tr>\n",
       "    <tr>\n",
       "      <th>1</th>\n",
       "      <td>tt0094320</td>\n",
       "      <td>White Of The Eye</td>\n",
       "      <td>White of the Eye</td>\n",
       "      <td>White of the Eye</td>\n",
       "      <td>NaN</td>\n",
       "      <td>0.0</td>\n",
       "      <td>0</td>\n",
       "      <td>1987</td>\n",
       "      <td>1988-05-20</td>\n",
       "      <td>110.0</td>\n",
       "      <td>110.0</td>\n",
       "      <td>{\"/m/01jfsb\": \"Thriller\", \"/m/0glj9q\": \"Erotic...</td>\n",
       "      <td>[{'id': 27, 'name': 'Horror'}, {'id': 53, 'nam...</td>\n",
       "      <td>{\"/m/02h40lc\": \"English Language\"}</td>\n",
       "      <td>en</td>\n",
       "      <td>[{'iso_639_1': 'en', 'name': 'English'}]</td>\n",
       "      <td>{\"/m/07ssc\": \"United Kingdom\"}</td>\n",
       "      <td>[{'iso_3166_1': 'GB', 'name': 'United Kingdom'}]</td>\n",
       "      <td>[{'name': \"Mrs. White's Productions\", 'id': 26...</td>\n",
       "      <td>A series of murders of rich young women throug...</td>\n",
       "      <td>Evidence of mutilated housewives points to a s...</td>\n",
       "      <td>NaN</td>\n",
       "      <td>[{'id': 1859, 'name': 'arizona'}, {'id': 9937,...</td>\n",
       "      <td>3.121105</td>\n",
       "      <td>5.7</td>\n",
       "      <td>15.0</td>\n",
       "      <td>[{'cast_id': 4, 'character': 'Paul White', 'cr...</td>\n",
       "      <td>[{'credit_id': '57e46946c3a3682cb3006760', 'de...</td>\n",
       "      <td>False</td>\n",
       "      <td>NaN</td>\n",
       "    </tr>\n",
       "  </tbody>\n",
       "</table>\n",
       "</div>"
      ],
      "text/plain": [
       "     imdb_id        movie_name             title    original_title  \\\n",
       "0  tt0228333    Ghosts of Mars    Ghosts of Mars    Ghosts of Mars   \n",
       "1  tt0094320  White Of The Eye  White of the Eye  White of the Eye   \n",
       "\n",
       "   box_office_revenue     revenue    budget release_date_cmu  \\\n",
       "0          14010832.0  14010832.0  28000000       2001-08-24   \n",
       "1                 NaN         0.0         0             1987   \n",
       "\n",
       "  release_date_tmdb  runtime_cmu  runtime_tmdb  \\\n",
       "0        2001-08-24         98.0          98.0   \n",
       "1        1988-05-20        110.0         110.0   \n",
       "\n",
       "                                          genres_cmu  \\\n",
       "0  {\"/m/01jfsb\": \"Thriller\", \"/m/06n90\": \"Science...   \n",
       "1  {\"/m/01jfsb\": \"Thriller\", \"/m/0glj9q\": \"Erotic...   \n",
       "\n",
       "                                         genres_tmdb  \\\n",
       "0  [{'id': 28, 'name': 'Action'}, {'id': 27, 'nam...   \n",
       "1  [{'id': 27, 'name': 'Horror'}, {'id': 53, 'nam...   \n",
       "\n",
       "                            languages original_language  \\\n",
       "0  {\"/m/02h40lc\": \"English Language\"}                en   \n",
       "1  {\"/m/02h40lc\": \"English Language\"}                en   \n",
       "\n",
       "                           spoken_languages  \\\n",
       "0  [{'iso_639_1': 'en', 'name': 'English'}]   \n",
       "1  [{'iso_639_1': 'en', 'name': 'English'}]   \n",
       "\n",
       "                                   countries  \\\n",
       "0  {\"/m/09c7w0\": \"United States of America\"}   \n",
       "1             {\"/m/07ssc\": \"United Kingdom\"}   \n",
       "\n",
       "                                production_countries  \\\n",
       "0  [{'iso_3166_1': 'US', 'name': 'United States o...   \n",
       "1   [{'iso_3166_1': 'GB', 'name': 'United Kingdom'}]   \n",
       "\n",
       "                                production_companies  \\\n",
       "0  [{'name': 'Screen Gems', 'id': 3287}, {'name':...   \n",
       "1  [{'name': \"Mrs. White's Productions\", 'id': 26...   \n",
       "\n",
       "                                        plot_summary  \\\n",
       "0  Set in the second half of the 22nd century, th...   \n",
       "1  A series of murders of rich young women throug...   \n",
       "\n",
       "                                            overview  \\\n",
       "0  Melanie Ballard (Natasha Henstridge) is a hard...   \n",
       "1  Evidence of mutilated housewives points to a s...   \n",
       "\n",
       "                             tagline  \\\n",
       "0  Terror is the same on any planet.   \n",
       "1                                NaN   \n",
       "\n",
       "                                            keywords popularity  vote_average  \\\n",
       "0  [{'id': 166686, 'name': 'climbing up a wall'},...   7.058599           4.8   \n",
       "1  [{'id': 1859, 'name': 'arizona'}, {'id': 9937,...   3.121105           5.7   \n",
       "\n",
       "   vote_count                                               cast  \\\n",
       "0       299.0  [{'cast_id': 10, 'character': 'Lt. Melanie Bal...   \n",
       "1        15.0  [{'cast_id': 4, 'character': 'Paul White', 'cr...   \n",
       "\n",
       "                                                crew  adult  \\\n",
       "0  [{'credit_id': '52fe43089251416c75000d3d', 'de...  False   \n",
       "1  [{'credit_id': '57e46946c3a3682cb3006760', 'de...  False   \n",
       "\n",
       "  belongs_to_collection  \n",
       "0                   NaN  \n",
       "1                   NaN  "
      ]
     },
     "execution_count": 41,
     "metadata": {},
     "output_type": "execute_result"
    }
   ],
   "source": [
    "df_final_dataset.head(2)"
   ]
  },
  {
   "cell_type": "markdown",
   "id": "3b6a1c24-4306-4d9a-accd-dedb222d41d2",
   "metadata": {},
   "source": [
    "We have the followings duplicates: title/movie_name (and original_title in a sense), box_office_revenue/revenue, release_date_cmu/release_date_tmdb, genres_cmu/genres_tmdb, languages/original_language and countries/production_countries. They are other columns that have similar information such as plot_summary/overview but we will keep for now and concentrate our efforts in cleaning the duplicates. We do that in the order presented above."
   ]
  },
  {
   "cell_type": "markdown",
   "id": "e85b6d15-2db2-4157-a4c2-b07ff94a39b6",
   "metadata": {},
   "source": [
    "#### _Cleaning title_"
   ]
  },
  {
   "cell_type": "markdown",
   "id": "7f773c56-0b62-4713-bf94-84a33103b808",
   "metadata": {},
   "source": [
    "We start by checking if the three columns have missing values. Here they are none. We then show the first elements of each of these columns and we can clearly see that the title column has all the titles in english, the original title column has, as expected, the title in the original language. For the moviename we can see a combination of the two in the sense that the chosen language for the title is not consistent. Thus, in this case, we decide to only keep the title column."
   ]
  },
  {
   "cell_type": "code",
   "execution_count": 42,
   "id": "21984f13-ba17-4bd8-a399-9066f9f532cd",
   "metadata": {},
   "outputs": [
    {
     "data": {
      "text/html": [
       "<div>\n",
       "<style scoped>\n",
       "    .dataframe tbody tr th:only-of-type {\n",
       "        vertical-align: middle;\n",
       "    }\n",
       "\n",
       "    .dataframe tbody tr th {\n",
       "        vertical-align: top;\n",
       "    }\n",
       "\n",
       "    .dataframe thead th {\n",
       "        text-align: right;\n",
       "    }\n",
       "</style>\n",
       "<table border=\"1\" class=\"dataframe\">\n",
       "  <thead>\n",
       "    <tr style=\"text-align: right;\">\n",
       "      <th></th>\n",
       "      <th>Missing Count</th>\n",
       "      <th>Missing Proportion</th>\n",
       "    </tr>\n",
       "  </thead>\n",
       "  <tbody>\n",
       "    <tr>\n",
       "      <th>movie_name</th>\n",
       "      <td>0</td>\n",
       "      <td>0.0</td>\n",
       "    </tr>\n",
       "    <tr>\n",
       "      <th>title</th>\n",
       "      <td>0</td>\n",
       "      <td>0.0</td>\n",
       "    </tr>\n",
       "    <tr>\n",
       "      <th>original_title</th>\n",
       "      <td>0</td>\n",
       "      <td>0.0</td>\n",
       "    </tr>\n",
       "  </tbody>\n",
       "</table>\n",
       "</div>"
      ],
      "text/plain": [
       "                Missing Count  Missing Proportion\n",
       "movie_name                  0                 0.0\n",
       "title                       0                 0.0\n",
       "original_title              0                 0.0"
      ]
     },
     "execution_count": 42,
     "metadata": {},
     "output_type": "execute_result"
    }
   ],
   "source": [
    "show_missing_values(df_final_dataset[['movie_name', 'title', 'original_title']])"
   ]
  },
  {
   "cell_type": "code",
   "execution_count": 43,
   "id": "b414b4c9-808b-4c8e-9e6c-960042ed35b9",
   "metadata": {},
   "outputs": [
    {
     "data": {
      "text/html": [
       "<div>\n",
       "<style scoped>\n",
       "    .dataframe tbody tr th:only-of-type {\n",
       "        vertical-align: middle;\n",
       "    }\n",
       "\n",
       "    .dataframe tbody tr th {\n",
       "        vertical-align: top;\n",
       "    }\n",
       "\n",
       "    .dataframe thead th {\n",
       "        text-align: right;\n",
       "    }\n",
       "</style>\n",
       "<table border=\"1\" class=\"dataframe\">\n",
       "  <thead>\n",
       "    <tr style=\"text-align: right;\">\n",
       "      <th></th>\n",
       "      <th>title</th>\n",
       "      <th>original_title</th>\n",
       "      <th>movie_name</th>\n",
       "    </tr>\n",
       "  </thead>\n",
       "  <tbody>\n",
       "    <tr>\n",
       "      <th>16</th>\n",
       "      <td>Rudo &amp; Cursi</td>\n",
       "      <td>Rudo y Cursi</td>\n",
       "      <td>Rudo y Cursi</td>\n",
       "    </tr>\n",
       "    <tr>\n",
       "      <th>18</th>\n",
       "      <td>Innocence</td>\n",
       "      <td>Masumiyet</td>\n",
       "      <td>Innocence</td>\n",
       "    </tr>\n",
       "    <tr>\n",
       "      <th>21</th>\n",
       "      <td>The Fiances</td>\n",
       "      <td>I fidanzati</td>\n",
       "      <td>I Fidanzati</td>\n",
       "    </tr>\n",
       "    <tr>\n",
       "      <th>24</th>\n",
       "      <td>Chasing Ghosts: Beyond the Arcade</td>\n",
       "      <td>Chasing Ghosts</td>\n",
       "      <td>Chasing Ghosts: Beyond the Arcade</td>\n",
       "    </tr>\n",
       "    <tr>\n",
       "      <th>30</th>\n",
       "      <td>Twelve Plus One</td>\n",
       "      <td>12 + 1</td>\n",
       "      <td>The Thirteen Chairs</td>\n",
       "    </tr>\n",
       "  </tbody>\n",
       "</table>\n",
       "</div>"
      ],
      "text/plain": [
       "                                title  original_title  \\\n",
       "16                       Rudo & Cursi    Rudo y Cursi   \n",
       "18                          Innocence       Masumiyet   \n",
       "21                        The Fiances     I fidanzati   \n",
       "24  Chasing Ghosts: Beyond the Arcade  Chasing Ghosts   \n",
       "30                    Twelve Plus One          12 + 1   \n",
       "\n",
       "                           movie_name  \n",
       "16                       Rudo y Cursi  \n",
       "18                          Innocence  \n",
       "21                        I Fidanzati  \n",
       "24  Chasing Ghosts: Beyond the Arcade  \n",
       "30                The Thirteen Chairs  "
      ]
     },
     "execution_count": 43,
     "metadata": {},
     "output_type": "execute_result"
    }
   ],
   "source": [
    "df_final_dataset[df_final_dataset['original_title'] != df_final_dataset['title']][['title', 'original_title', 'movie_name']].head(5)"
   ]
  },
  {
   "cell_type": "code",
   "execution_count": 44,
   "id": "ce62950a-a6ca-46cc-a5ef-e65fc4e7a076",
   "metadata": {},
   "outputs": [],
   "source": [
    "df_final_dataset.drop(columns=['original_title', 'movie_name'], inplace=True)"
   ]
  },
  {
   "cell_type": "markdown",
   "id": "09dee651-eb59-4238-bcfe-fa81f957c684",
   "metadata": {},
   "source": [
    "#### _Cleaning other duplicates_"
   ]
  },
  {
   "cell_type": "markdown",
   "id": "42700825-1b4b-4479-9c7a-537c10890ec7",
   "metadata": {},
   "source": [
    "For the box office, the runtime and the release date we proceed as follows: if there is two NaNs in the two columns we just don't have the information. If the values in the two columns are equal this is perfect. If we have only one value and thus one NaN, we will obviously keep the only value we have. When the values are different we start to check if the difference is of 5% or less for the runtime and the box office. In this case, we keep the value from the CMU dataset. For the release date, we check if the year is the same and in this case we also choose the value from the CMU dataset. For all the remaining different values, we decide to choose the one from the CMU dataset. One could argue that we could just choose the values of the CMU dataset in all case where the values are different, as this is actually what we do. However, we proceed this way such that we have a better comprehension of our data and this also could be useful if we decide to retrieve informations somewhere, typically on IMdB or Wikipedia for the the remaining cases where the values are not the same."
   ]
  },
  {
   "cell_type": "code",
   "execution_count": 45,
   "id": "c9e29703-688d-4604-94d1-e67bfde9f579",
   "metadata": {},
   "outputs": [],
   "source": [
    "df_final_dataset['release_date_cmu'] = pd.to_datetime(df_final_dataset['release_date_cmu'], errors='coerce')\n",
    "df_final_dataset['release_date_tmdb'] = pd.to_datetime(df_final_dataset['release_date_tmdb'], errors='coerce')\n",
    "df_final_dataset['revenue'] = df_final_dataset['revenue'].replace(0, np.nan)"
   ]
  },
  {
   "cell_type": "code",
   "execution_count": 46,
   "id": "d55fcb17-03f3-48f9-9346-29cbb0dae4ae",
   "metadata": {},
   "outputs": [
    {
     "data": {
      "text/html": [
       "<div>\n",
       "<style scoped>\n",
       "    .dataframe tbody tr th:only-of-type {\n",
       "        vertical-align: middle;\n",
       "    }\n",
       "\n",
       "    .dataframe tbody tr th {\n",
       "        vertical-align: top;\n",
       "    }\n",
       "\n",
       "    .dataframe thead th {\n",
       "        text-align: right;\n",
       "    }\n",
       "</style>\n",
       "<table border=\"1\" class=\"dataframe\">\n",
       "  <thead>\n",
       "    <tr style=\"text-align: right;\">\n",
       "      <th></th>\n",
       "      <th>Missing Count</th>\n",
       "      <th>Missing Proportion</th>\n",
       "    </tr>\n",
       "  </thead>\n",
       "  <tbody>\n",
       "    <tr>\n",
       "      <th>box_office_revenue</th>\n",
       "      <td>19768</td>\n",
       "      <td>0.723334</td>\n",
       "    </tr>\n",
       "    <tr>\n",
       "      <th>revenue</th>\n",
       "      <td>21429</td>\n",
       "      <td>0.784112</td>\n",
       "    </tr>\n",
       "  </tbody>\n",
       "</table>\n",
       "</div>"
      ],
      "text/plain": [
       "                    Missing Count  Missing Proportion\n",
       "box_office_revenue          19768            0.723334\n",
       "revenue                     21429            0.784112"
      ]
     },
     "execution_count": 46,
     "metadata": {},
     "output_type": "execute_result"
    }
   ],
   "source": [
    "# As we have seen above, the revenue column contains 0 when the value is not known or don't exists so we replace them with NaNs\n",
    "show_missing_values(df_final_dataset[['box_office_revenue', 'revenue']])"
   ]
  },
  {
   "cell_type": "code",
   "execution_count": 47,
   "id": "435c7c39-6470-48e5-881f-82f03bb61aa8",
   "metadata": {},
   "outputs": [
    {
     "data": {
      "text/html": [
       "<div>\n",
       "<style scoped>\n",
       "    .dataframe tbody tr th:only-of-type {\n",
       "        vertical-align: middle;\n",
       "    }\n",
       "\n",
       "    .dataframe tbody tr th {\n",
       "        vertical-align: top;\n",
       "    }\n",
       "\n",
       "    .dataframe thead th {\n",
       "        text-align: right;\n",
       "    }\n",
       "</style>\n",
       "<table border=\"1\" class=\"dataframe\">\n",
       "  <thead>\n",
       "    <tr style=\"text-align: right;\">\n",
       "      <th></th>\n",
       "      <th>Missing Count</th>\n",
       "      <th>Missing Proportion</th>\n",
       "    </tr>\n",
       "  </thead>\n",
       "  <tbody>\n",
       "    <tr>\n",
       "      <th>release_date_cmu</th>\n",
       "      <td>645</td>\n",
       "      <td>0.023601</td>\n",
       "    </tr>\n",
       "    <tr>\n",
       "      <th>release_date_tmdb</th>\n",
       "      <td>7</td>\n",
       "      <td>0.000256</td>\n",
       "    </tr>\n",
       "  </tbody>\n",
       "</table>\n",
       "</div>"
      ],
      "text/plain": [
       "                   Missing Count  Missing Proportion\n",
       "release_date_cmu             645            0.023601\n",
       "release_date_tmdb              7            0.000256"
      ]
     },
     "execution_count": 47,
     "metadata": {},
     "output_type": "execute_result"
    }
   ],
   "source": [
    "show_missing_values(df_final_dataset[['release_date_cmu', 'release_date_tmdb']])"
   ]
  },
  {
   "cell_type": "code",
   "execution_count": 48,
   "id": "a9e33687-ba07-44ce-aafd-d3d8f7f6d724",
   "metadata": {},
   "outputs": [
    {
     "data": {
      "text/html": [
       "<div>\n",
       "<style scoped>\n",
       "    .dataframe tbody tr th:only-of-type {\n",
       "        vertical-align: middle;\n",
       "    }\n",
       "\n",
       "    .dataframe tbody tr th {\n",
       "        vertical-align: top;\n",
       "    }\n",
       "\n",
       "    .dataframe thead th {\n",
       "        text-align: right;\n",
       "    }\n",
       "</style>\n",
       "<table border=\"1\" class=\"dataframe\">\n",
       "  <thead>\n",
       "    <tr style=\"text-align: right;\">\n",
       "      <th></th>\n",
       "      <th>Missing Count</th>\n",
       "      <th>Missing Proportion</th>\n",
       "    </tr>\n",
       "  </thead>\n",
       "  <tbody>\n",
       "    <tr>\n",
       "      <th>runtime_cmu</th>\n",
       "      <td>1242</td>\n",
       "      <td>0.045446</td>\n",
       "    </tr>\n",
       "    <tr>\n",
       "      <th>runtime_tmdb</th>\n",
       "      <td>22</td>\n",
       "      <td>0.000805</td>\n",
       "    </tr>\n",
       "  </tbody>\n",
       "</table>\n",
       "</div>"
      ],
      "text/plain": [
       "              Missing Count  Missing Proportion\n",
       "runtime_cmu            1242            0.045446\n",
       "runtime_tmdb             22            0.000805"
      ]
     },
     "execution_count": 48,
     "metadata": {},
     "output_type": "execute_result"
    }
   ],
   "source": [
    "show_missing_values(df_final_dataset[['runtime_cmu', 'runtime_tmdb']])"
   ]
  },
  {
   "cell_type": "code",
   "execution_count": 49,
   "id": "ecf4e17a-5aaa-4ef0-b578-1cb961353678",
   "metadata": {
    "scrolled": true
   },
   "outputs": [
    {
     "name": "stdout",
     "output_type": "stream",
     "text": [
      "Creating new columns 'box_office_clean', 'release_date_clean and 'runtime_clean' with NaNs or NaTs\n",
      "Each of them has respectively 27329, 27329 and 27329 NaN/Nat values\n",
      "Number of rows where the two columns are NaNs: 18185, 0, 2 respectively\n",
      "\n",
      "Some examples:\n",
      "box_office_revenue    NaN\n",
      "revenue               NaN \n",
      "\n"
     ]
    },
    {
     "ename": "IndexError",
     "evalue": "index 0 is out of bounds for axis 0 with size 0",
     "output_type": "error",
     "traceback": [
      "\u001b[0;31m---------------------------------------------------------------------------\u001b[0m",
      "\u001b[0;31mIndexError\u001b[0m                                Traceback (most recent call last)",
      "\u001b[1;32m/Users/alexanderaujesky/Desktop/ADA/ada-2024-project-skibidata/results.ipynb Cellule 84\u001b[0m in \u001b[0;36m<cell line: 1>\u001b[0;34m()\u001b[0m\n\u001b[0;32m----> <a href='vscode-notebook-cell:/Users/alexanderaujesky/Desktop/ADA/ada-2024-project-skibidata/results.ipynb#Y146sZmlsZQ%3D%3D?line=0'>1</a>\u001b[0m df_final_dataset \u001b[39m=\u001b[39m clean_duplicates(df_final_dataset)\n",
      "File \u001b[0;32m~/Desktop/ADA/ada-2024-project-skibidata/helpers.py:144\u001b[0m, in \u001b[0;36mclean_duplicates\u001b[0;34m(df)\u001b[0m\n\u001b[1;32m    142\u001b[0m \u001b[39mprint\u001b[39m(\u001b[39m\"\u001b[39m\u001b[39mSome examples:\u001b[39m\u001b[39m\"\u001b[39m)\n\u001b[1;32m    143\u001b[0m \u001b[39mprint\u001b[39m(df\u001b[39m.\u001b[39mloc[indices_all_nans_box[\u001b[39m0\u001b[39m]][[\u001b[39m'\u001b[39m\u001b[39mbox_office_revenue\u001b[39m\u001b[39m'\u001b[39m, \u001b[39m'\u001b[39m\u001b[39mrevenue\u001b[39m\u001b[39m'\u001b[39m]]\u001b[39m.\u001b[39mhead(\u001b[39m2\u001b[39m)\u001b[39m.\u001b[39mto_string(), \u001b[39m\"\u001b[39m\u001b[39m\\n\u001b[39;00m\u001b[39m\"\u001b[39m)\n\u001b[0;32m--> 144\u001b[0m \u001b[39mprint\u001b[39m(df\u001b[39m.\u001b[39mloc[indices_all_nans_date[\u001b[39m0\u001b[39;49m], [\u001b[39m'\u001b[39m\u001b[39mrelease_date_cmu\u001b[39m\u001b[39m'\u001b[39m, \u001b[39m'\u001b[39m\u001b[39mrelease_date_tmdb\u001b[39m\u001b[39m'\u001b[39m]], \u001b[39m\"\u001b[39m\u001b[39m\\n\u001b[39;00m\u001b[39m\"\u001b[39m)\n\u001b[1;32m    145\u001b[0m \u001b[39mprint\u001b[39m(df\u001b[39m.\u001b[39mloc[indices_all_nans_time[\u001b[39m0\u001b[39m], [\u001b[39m'\u001b[39m\u001b[39mruntime_cmu\u001b[39m\u001b[39m'\u001b[39m, \u001b[39m'\u001b[39m\u001b[39mruntime_tmdb\u001b[39m\u001b[39m'\u001b[39m]], \u001b[39m\"\u001b[39m\u001b[39m\\n\u001b[39;00m\u001b[39m\"\u001b[39m)\n\u001b[1;32m    147\u001b[0m \u001b[39m# Same values\u001b[39;00m\n",
      "File \u001b[0;32m~/opt/anaconda3/lib/python3.9/site-packages/pandas/core/indexes/base.py:5039\u001b[0m, in \u001b[0;36mIndex.__getitem__\u001b[0;34m(self, key)\u001b[0m\n\u001b[1;32m   5036\u001b[0m \u001b[39mif\u001b[39;00m is_integer(key) \u001b[39mor\u001b[39;00m is_float(key):\n\u001b[1;32m   5037\u001b[0m     \u001b[39m# GH#44051 exclude bool, which would return a 2d ndarray\u001b[39;00m\n\u001b[1;32m   5038\u001b[0m     key \u001b[39m=\u001b[39m com\u001b[39m.\u001b[39mcast_scalar_indexer(key, warn_float\u001b[39m=\u001b[39m\u001b[39mTrue\u001b[39;00m)\n\u001b[0;32m-> 5039\u001b[0m     \u001b[39mreturn\u001b[39;00m getitem(key)\n\u001b[1;32m   5041\u001b[0m \u001b[39mif\u001b[39;00m \u001b[39misinstance\u001b[39m(key, \u001b[39mslice\u001b[39m):\n\u001b[1;32m   5042\u001b[0m     \u001b[39m# This case is separated from the conditional above to avoid\u001b[39;00m\n\u001b[1;32m   5043\u001b[0m     \u001b[39m# pessimization com.is_bool_indexer and ndim checks.\u001b[39;00m\n\u001b[1;32m   5044\u001b[0m     result \u001b[39m=\u001b[39m getitem(key)\n",
      "\u001b[0;31mIndexError\u001b[0m: index 0 is out of bounds for axis 0 with size 0"
     ]
    }
   ],
   "source": [
    "df_final_dataset = clean_duplicates(df_final_dataset)"
   ]
  },
  {
   "cell_type": "code",
   "execution_count": 50,
   "id": "297bb5e9-f195-4742-ba86-86ba51c9e578",
   "metadata": {},
   "outputs": [
    {
     "data": {
      "text/html": [
       "<div>\n",
       "<style scoped>\n",
       "    .dataframe tbody tr th:only-of-type {\n",
       "        vertical-align: middle;\n",
       "    }\n",
       "\n",
       "    .dataframe tbody tr th {\n",
       "        vertical-align: top;\n",
       "    }\n",
       "\n",
       "    .dataframe thead th {\n",
       "        text-align: right;\n",
       "    }\n",
       "</style>\n",
       "<table border=\"1\" class=\"dataframe\">\n",
       "  <thead>\n",
       "    <tr style=\"text-align: right;\">\n",
       "      <th></th>\n",
       "      <th>Missing Count</th>\n",
       "      <th>Missing Proportion</th>\n",
       "    </tr>\n",
       "  </thead>\n",
       "  <tbody>\n",
       "    <tr>\n",
       "      <th>box_office_clean</th>\n",
       "      <td>27329</td>\n",
       "      <td>1.0</td>\n",
       "    </tr>\n",
       "    <tr>\n",
       "      <th>release_date_clean</th>\n",
       "      <td>27329</td>\n",
       "      <td>1.0</td>\n",
       "    </tr>\n",
       "    <tr>\n",
       "      <th>runtime_clean</th>\n",
       "      <td>27329</td>\n",
       "      <td>1.0</td>\n",
       "    </tr>\n",
       "  </tbody>\n",
       "</table>\n",
       "</div>"
      ],
      "text/plain": [
       "                    Missing Count  Missing Proportion\n",
       "box_office_clean            27329                 1.0\n",
       "release_date_clean          27329                 1.0\n",
       "runtime_clean               27329                 1.0"
      ]
     },
     "execution_count": 50,
     "metadata": {},
     "output_type": "execute_result"
    }
   ],
   "source": [
    "show_missing_values(df_final_dataset[['box_office_clean', 'release_date_clean', 'runtime_clean']])"
   ]
  },
  {
   "cell_type": "code",
   "execution_count": 51,
   "id": "45501ea1-6571-4ea7-828c-125e00c20960",
   "metadata": {},
   "outputs": [
    {
     "data": {
      "text/plain": [
       "(27329, 25)"
      ]
     },
     "execution_count": 51,
     "metadata": {},
     "output_type": "execute_result"
    }
   ],
   "source": [
    "df_final_dataset.drop(columns=['box_office_revenue', 'revenue', 'release_date_cmu', 'release_date_tmdb', 'runtime_cmu', 'runtime_tmdb'], inplace=True)\n",
    "df_final_dataset.shape"
   ]
  },
  {
   "cell_type": "markdown",
   "id": "d25d227e-d376-4cdc-abaa-bf493078bf9f",
   "metadata": {},
   "source": [
    "We still have some duplicates. However, this is for columns of the CMU dataset that don't have any missing values as shown below, thus we will keep the original column and drop the one from the TMdB dataset. "
   ]
  },
  {
   "cell_type": "code",
   "execution_count": 52,
   "id": "4bff9ee1-3615-4287-a6e6-088a28971cd4",
   "metadata": {},
   "outputs": [
    {
     "data": {
      "text/html": [
       "<div>\n",
       "<style scoped>\n",
       "    .dataframe tbody tr th:only-of-type {\n",
       "        vertical-align: middle;\n",
       "    }\n",
       "\n",
       "    .dataframe tbody tr th {\n",
       "        vertical-align: top;\n",
       "    }\n",
       "\n",
       "    .dataframe thead th {\n",
       "        text-align: right;\n",
       "    }\n",
       "</style>\n",
       "<table border=\"1\" class=\"dataframe\">\n",
       "  <thead>\n",
       "    <tr style=\"text-align: right;\">\n",
       "      <th></th>\n",
       "      <th>Missing Count</th>\n",
       "      <th>Missing Proportion</th>\n",
       "    </tr>\n",
       "  </thead>\n",
       "  <tbody>\n",
       "    <tr>\n",
       "      <th>genres_cmu</th>\n",
       "      <td>0</td>\n",
       "      <td>0.0</td>\n",
       "    </tr>\n",
       "    <tr>\n",
       "      <th>languages</th>\n",
       "      <td>0</td>\n",
       "      <td>0.0</td>\n",
       "    </tr>\n",
       "    <tr>\n",
       "      <th>countries</th>\n",
       "      <td>0</td>\n",
       "      <td>0.0</td>\n",
       "    </tr>\n",
       "  </tbody>\n",
       "</table>\n",
       "</div>"
      ],
      "text/plain": [
       "            Missing Count  Missing Proportion\n",
       "genres_cmu              0                 0.0\n",
       "languages               0                 0.0\n",
       "countries               0                 0.0"
      ]
     },
     "execution_count": 52,
     "metadata": {},
     "output_type": "execute_result"
    }
   ],
   "source": [
    "show_missing_values(df_final_dataset[['genres_cmu', 'languages', 'countries']])"
   ]
  },
  {
   "cell_type": "code",
   "execution_count": 53,
   "id": "c55cde7c-5903-4ce2-9e68-09ea2f9f1997",
   "metadata": {},
   "outputs": [],
   "source": [
    "df_final_dataset.drop(columns=['genres_tmdb', 'production_countries'], inplace=True)"
   ]
  },
  {
   "cell_type": "markdown",
   "id": "12c793dc-f04d-4ca6-91c2-570e21513f7b",
   "metadata": {},
   "source": [
    "#### _Cleaning everything else_"
   ]
  },
  {
   "cell_type": "code",
   "execution_count": 54,
   "id": "8235ab61-f115-4d5e-b0c9-b61809026017",
   "metadata": {},
   "outputs": [
    {
     "data": {
      "text/html": [
       "<div>\n",
       "<style scoped>\n",
       "    .dataframe tbody tr th:only-of-type {\n",
       "        vertical-align: middle;\n",
       "    }\n",
       "\n",
       "    .dataframe tbody tr th {\n",
       "        vertical-align: top;\n",
       "    }\n",
       "\n",
       "    .dataframe thead th {\n",
       "        text-align: right;\n",
       "    }\n",
       "</style>\n",
       "<table border=\"1\" class=\"dataframe\">\n",
       "  <thead>\n",
       "    <tr style=\"text-align: right;\">\n",
       "      <th></th>\n",
       "      <th>imdb_id</th>\n",
       "      <th>title</th>\n",
       "      <th>budget</th>\n",
       "      <th>genres_cmu</th>\n",
       "      <th>languages</th>\n",
       "      <th>original_language</th>\n",
       "      <th>spoken_languages</th>\n",
       "      <th>countries</th>\n",
       "      <th>production_companies</th>\n",
       "      <th>plot_summary</th>\n",
       "      <th>overview</th>\n",
       "      <th>tagline</th>\n",
       "      <th>keywords</th>\n",
       "      <th>popularity</th>\n",
       "      <th>vote_average</th>\n",
       "      <th>vote_count</th>\n",
       "      <th>cast</th>\n",
       "      <th>crew</th>\n",
       "      <th>adult</th>\n",
       "      <th>belongs_to_collection</th>\n",
       "      <th>box_office_clean</th>\n",
       "      <th>release_date_clean</th>\n",
       "      <th>runtime_clean</th>\n",
       "    </tr>\n",
       "  </thead>\n",
       "  <tbody>\n",
       "    <tr>\n",
       "      <th>0</th>\n",
       "      <td>tt0228333</td>\n",
       "      <td>Ghosts of Mars</td>\n",
       "      <td>28000000</td>\n",
       "      <td>{\"/m/01jfsb\": \"Thriller\", \"/m/06n90\": \"Science...</td>\n",
       "      <td>{\"/m/02h40lc\": \"English Language\"}</td>\n",
       "      <td>en</td>\n",
       "      <td>[{'iso_639_1': 'en', 'name': 'English'}]</td>\n",
       "      <td>{\"/m/09c7w0\": \"United States of America\"}</td>\n",
       "      <td>[{'name': 'Screen Gems', 'id': 3287}, {'name':...</td>\n",
       "      <td>Set in the second half of the 22nd century, th...</td>\n",
       "      <td>Melanie Ballard (Natasha Henstridge) is a hard...</td>\n",
       "      <td>Terror is the same on any planet.</td>\n",
       "      <td>[{'id': 166686, 'name': 'climbing up a wall'},...</td>\n",
       "      <td>7.058599</td>\n",
       "      <td>4.8</td>\n",
       "      <td>299.0</td>\n",
       "      <td>[{'cast_id': 10, 'character': 'Lt. Melanie Bal...</td>\n",
       "      <td>[{'credit_id': '52fe43089251416c75000d3d', 'de...</td>\n",
       "      <td>False</td>\n",
       "      <td>NaN</td>\n",
       "      <td>NaN</td>\n",
       "      <td>NaT</td>\n",
       "      <td>NaN</td>\n",
       "    </tr>\n",
       "    <tr>\n",
       "      <th>1</th>\n",
       "      <td>tt0094320</td>\n",
       "      <td>White of the Eye</td>\n",
       "      <td>0</td>\n",
       "      <td>{\"/m/01jfsb\": \"Thriller\", \"/m/0glj9q\": \"Erotic...</td>\n",
       "      <td>{\"/m/02h40lc\": \"English Language\"}</td>\n",
       "      <td>en</td>\n",
       "      <td>[{'iso_639_1': 'en', 'name': 'English'}]</td>\n",
       "      <td>{\"/m/07ssc\": \"United Kingdom\"}</td>\n",
       "      <td>[{'name': \"Mrs. White's Productions\", 'id': 26...</td>\n",
       "      <td>A series of murders of rich young women throug...</td>\n",
       "      <td>Evidence of mutilated housewives points to a s...</td>\n",
       "      <td>NaN</td>\n",
       "      <td>[{'id': 1859, 'name': 'arizona'}, {'id': 9937,...</td>\n",
       "      <td>3.121105</td>\n",
       "      <td>5.7</td>\n",
       "      <td>15.0</td>\n",
       "      <td>[{'cast_id': 4, 'character': 'Paul White', 'cr...</td>\n",
       "      <td>[{'credit_id': '57e46946c3a3682cb3006760', 'de...</td>\n",
       "      <td>False</td>\n",
       "      <td>NaN</td>\n",
       "      <td>NaN</td>\n",
       "      <td>NaT</td>\n",
       "      <td>NaN</td>\n",
       "    </tr>\n",
       "  </tbody>\n",
       "</table>\n",
       "</div>"
      ],
      "text/plain": [
       "     imdb_id             title    budget  \\\n",
       "0  tt0228333    Ghosts of Mars  28000000   \n",
       "1  tt0094320  White of the Eye         0   \n",
       "\n",
       "                                          genres_cmu  \\\n",
       "0  {\"/m/01jfsb\": \"Thriller\", \"/m/06n90\": \"Science...   \n",
       "1  {\"/m/01jfsb\": \"Thriller\", \"/m/0glj9q\": \"Erotic...   \n",
       "\n",
       "                            languages original_language  \\\n",
       "0  {\"/m/02h40lc\": \"English Language\"}                en   \n",
       "1  {\"/m/02h40lc\": \"English Language\"}                en   \n",
       "\n",
       "                           spoken_languages  \\\n",
       "0  [{'iso_639_1': 'en', 'name': 'English'}]   \n",
       "1  [{'iso_639_1': 'en', 'name': 'English'}]   \n",
       "\n",
       "                                   countries  \\\n",
       "0  {\"/m/09c7w0\": \"United States of America\"}   \n",
       "1             {\"/m/07ssc\": \"United Kingdom\"}   \n",
       "\n",
       "                                production_companies  \\\n",
       "0  [{'name': 'Screen Gems', 'id': 3287}, {'name':...   \n",
       "1  [{'name': \"Mrs. White's Productions\", 'id': 26...   \n",
       "\n",
       "                                        plot_summary  \\\n",
       "0  Set in the second half of the 22nd century, th...   \n",
       "1  A series of murders of rich young women throug...   \n",
       "\n",
       "                                            overview  \\\n",
       "0  Melanie Ballard (Natasha Henstridge) is a hard...   \n",
       "1  Evidence of mutilated housewives points to a s...   \n",
       "\n",
       "                             tagline  \\\n",
       "0  Terror is the same on any planet.   \n",
       "1                                NaN   \n",
       "\n",
       "                                            keywords popularity  vote_average  \\\n",
       "0  [{'id': 166686, 'name': 'climbing up a wall'},...   7.058599           4.8   \n",
       "1  [{'id': 1859, 'name': 'arizona'}, {'id': 9937,...   3.121105           5.7   \n",
       "\n",
       "   vote_count                                               cast  \\\n",
       "0       299.0  [{'cast_id': 10, 'character': 'Lt. Melanie Bal...   \n",
       "1        15.0  [{'cast_id': 4, 'character': 'Paul White', 'cr...   \n",
       "\n",
       "                                                crew  adult  \\\n",
       "0  [{'credit_id': '52fe43089251416c75000d3d', 'de...  False   \n",
       "1  [{'credit_id': '57e46946c3a3682cb3006760', 'de...  False   \n",
       "\n",
       "  belongs_to_collection  box_office_clean release_date_clean  runtime_clean  \n",
       "0                   NaN               NaN                NaT            NaN  \n",
       "1                   NaN               NaN                NaT            NaN  "
      ]
     },
     "execution_count": 54,
     "metadata": {},
     "output_type": "execute_result"
    }
   ],
   "source": [
    "df_final_dataset.head(2)"
   ]
  },
  {
   "cell_type": "code",
   "execution_count": 55,
   "id": "d7ae74d7-acbd-4c8a-a36f-415dad2f3713",
   "metadata": {},
   "outputs": [
    {
     "data": {
      "text/plain": [
       "(27329, 23)"
      ]
     },
     "execution_count": 55,
     "metadata": {},
     "output_type": "execute_result"
    }
   ],
   "source": [
    "df_final_dataset.shape"
   ]
  },
  {
   "cell_type": "markdown",
   "id": "57e0086c-a751-4208-b1f3-bb8bc6646159",
   "metadata": {},
   "source": [
    "We now clean the remaining columns such as extracting the information from the dictionnary in each row"
   ]
  },
  {
   "cell_type": "code",
   "execution_count": 56,
   "id": "e0c3abc2-35d3-415d-a313-bd9f2c795f66",
   "metadata": {},
   "outputs": [],
   "source": [
    "df_final_dataset['countries'] = df_final_dataset['countries'].apply(extract_from_dict)\n",
    "df_final_dataset['languages'] = df_final_dataset['languages'].apply(extract_from_dict)\n",
    "df_final_dataset['genres_cmu'] = df_final_dataset['genres_cmu'].apply(extract_from_dict)\n",
    "df_final_dataset['spoken_languages'] = df_final_dataset['spoken_languages'].fillna('[]')# Apply literal_eval only to entries that are strings\n",
    "df_final_dataset['spoken_languages'] = df_final_dataset['spoken_languages'].apply(\n",
    "    lambda x: ast.literal_eval(x) if isinstance(x, str) else np.nan\n",
    ")\n",
    "\n",
    "# Count the number of languages if the entry is a list; otherwise, assign NaN\n",
    "df_final_dataset['spoken_languages'] = df_final_dataset['spoken_languages'].apply(\n",
    "    lambda x: len(x) if isinstance(x, list) else np.nan\n",
    ")\n",
    "\n",
    "df_final_dataset['cast'] = df_final_dataset['cast'].apply(lambda x: ast.literal_eval(x) if isinstance(x, str) else x)\n",
    "df_final_dataset['cast'] = df_final_dataset['cast'].apply(lambda x: [i['name'] for i in x] if isinstance(x, list) and all(isinstance(i, dict) and 'name' in i for i in x) else [])\n",
    "\n",
    "df_final_dataset['crew'] = df_final_dataset['crew'].apply(lambda x: ast.literal_eval(x) if isinstance(x, str) else x)\n",
    "df_final_dataset['crew'] = df_final_dataset['crew'].apply(lambda x: [i['name'] for i in x] if isinstance(x, list) and all(isinstance(i, dict) and 'name' in i for i in x) else [])\n",
    "\n",
    "df_final_dataset['keywords'] = df_final_dataset['keywords'].apply(ast.literal_eval)\n",
    "df_final_dataset['keywords'] = df_final_dataset['keywords'].apply(lambda x: [i['name'] for i in x] if isinstance(x, list) else [])\n",
    "\n",
    "df_final_dataset['production_companies'] = df_final_dataset['production_companies'].fillna('[]').apply(ast.literal_eval)\n",
    "df_final_dataset['production_companies'] = df_final_dataset['production_companies'].apply(lambda x: [i['name'] for i in x] if isinstance(x, list) else [])"
   ]
  },
  {
   "cell_type": "markdown",
   "id": "229d2a60-0111-40a0-ba0a-d4285c694e32",
   "metadata": {},
   "source": [
    "We then extract some features from the crew and the cast columns."
   ]
  },
  {
   "cell_type": "code",
   "execution_count": 57,
   "id": "aebe9c1d-5ddc-4212-ac40-6e3472a47c7f",
   "metadata": {},
   "outputs": [],
   "source": [
    "df_final_dataset['director'] = df_final_dataset['crew'].apply(get_director)"
   ]
  },
  {
   "cell_type": "code",
   "execution_count": 58,
   "id": "ace41602-662b-4185-b5fb-c7e0007bf9cb",
   "metadata": {},
   "outputs": [],
   "source": [
    "df_final_dataset.drop(columns=['crew'], inplace=True)"
   ]
  },
  {
   "cell_type": "code",
   "execution_count": 59,
   "id": "e4b5ff52-97c2-4348-bcf4-5adde0229373",
   "metadata": {},
   "outputs": [
    {
     "data": {
      "text/html": [
       "<div>\n",
       "<style scoped>\n",
       "    .dataframe tbody tr th:only-of-type {\n",
       "        vertical-align: middle;\n",
       "    }\n",
       "\n",
       "    .dataframe tbody tr th {\n",
       "        vertical-align: top;\n",
       "    }\n",
       "\n",
       "    .dataframe thead th {\n",
       "        text-align: right;\n",
       "    }\n",
       "</style>\n",
       "<table border=\"1\" class=\"dataframe\">\n",
       "  <thead>\n",
       "    <tr style=\"text-align: right;\">\n",
       "      <th></th>\n",
       "      <th>imdb_id</th>\n",
       "      <th>title</th>\n",
       "      <th>budget</th>\n",
       "      <th>genres_cmu</th>\n",
       "      <th>languages</th>\n",
       "      <th>original_language</th>\n",
       "      <th>spoken_languages</th>\n",
       "      <th>countries</th>\n",
       "      <th>production_companies</th>\n",
       "      <th>plot_summary</th>\n",
       "      <th>overview</th>\n",
       "      <th>tagline</th>\n",
       "      <th>keywords</th>\n",
       "      <th>popularity</th>\n",
       "      <th>vote_average</th>\n",
       "      <th>vote_count</th>\n",
       "      <th>cast</th>\n",
       "      <th>adult</th>\n",
       "      <th>belongs_to_collection</th>\n",
       "      <th>box_office_clean</th>\n",
       "      <th>release_date_clean</th>\n",
       "      <th>runtime_clean</th>\n",
       "      <th>director</th>\n",
       "    </tr>\n",
       "  </thead>\n",
       "  <tbody>\n",
       "    <tr>\n",
       "      <th>0</th>\n",
       "      <td>tt0228333</td>\n",
       "      <td>Ghosts of Mars</td>\n",
       "      <td>28000000</td>\n",
       "      <td>Thriller, Science Fiction, Horror, Adventure, ...</td>\n",
       "      <td>English Language</td>\n",
       "      <td>en</td>\n",
       "      <td>1</td>\n",
       "      <td>United States of America</td>\n",
       "      <td>[Screen Gems, Storm King Productions, Animatio...</td>\n",
       "      <td>Set in the second half of the 22nd century, th...</td>\n",
       "      <td>Melanie Ballard (Natasha Henstridge) is a hard...</td>\n",
       "      <td>Terror is the same on any planet.</td>\n",
       "      <td>[climbing up a wall, hung upside down, flashba...</td>\n",
       "      <td>7.058599</td>\n",
       "      <td>4.8</td>\n",
       "      <td>299.0</td>\n",
       "      <td>[Natasha Henstridge, Ice Cube, Jason Statham, ...</td>\n",
       "      <td>False</td>\n",
       "      <td>NaN</td>\n",
       "      <td>NaN</td>\n",
       "      <td>NaT</td>\n",
       "      <td>NaN</td>\n",
       "      <td>NaN</td>\n",
       "    </tr>\n",
       "    <tr>\n",
       "      <th>1</th>\n",
       "      <td>tt0094320</td>\n",
       "      <td>White of the Eye</td>\n",
       "      <td>0</td>\n",
       "      <td>Thriller, Erotic thriller, Psychological thriller</td>\n",
       "      <td>English Language</td>\n",
       "      <td>en</td>\n",
       "      <td>1</td>\n",
       "      <td>United Kingdom</td>\n",
       "      <td>[Mrs. White's Productions]</td>\n",
       "      <td>A series of murders of rich young women throug...</td>\n",
       "      <td>Evidence of mutilated housewives points to a s...</td>\n",
       "      <td>NaN</td>\n",
       "      <td>[arizona, suspense, series of murders]</td>\n",
       "      <td>3.121105</td>\n",
       "      <td>5.7</td>\n",
       "      <td>15.0</td>\n",
       "      <td>[David Keith, Cathy Moriarty, Alan Rosenberg, ...</td>\n",
       "      <td>False</td>\n",
       "      <td>NaN</td>\n",
       "      <td>NaN</td>\n",
       "      <td>NaT</td>\n",
       "      <td>NaN</td>\n",
       "      <td>NaN</td>\n",
       "    </tr>\n",
       "  </tbody>\n",
       "</table>\n",
       "</div>"
      ],
      "text/plain": [
       "     imdb_id             title    budget  \\\n",
       "0  tt0228333    Ghosts of Mars  28000000   \n",
       "1  tt0094320  White of the Eye         0   \n",
       "\n",
       "                                          genres_cmu         languages  \\\n",
       "0  Thriller, Science Fiction, Horror, Adventure, ...  English Language   \n",
       "1  Thriller, Erotic thriller, Psychological thriller  English Language   \n",
       "\n",
       "  original_language  spoken_languages                 countries  \\\n",
       "0                en                 1  United States of America   \n",
       "1                en                 1            United Kingdom   \n",
       "\n",
       "                                production_companies  \\\n",
       "0  [Screen Gems, Storm King Productions, Animatio...   \n",
       "1                         [Mrs. White's Productions]   \n",
       "\n",
       "                                        plot_summary  \\\n",
       "0  Set in the second half of the 22nd century, th...   \n",
       "1  A series of murders of rich young women throug...   \n",
       "\n",
       "                                            overview  \\\n",
       "0  Melanie Ballard (Natasha Henstridge) is a hard...   \n",
       "1  Evidence of mutilated housewives points to a s...   \n",
       "\n",
       "                             tagline  \\\n",
       "0  Terror is the same on any planet.   \n",
       "1                                NaN   \n",
       "\n",
       "                                            keywords popularity  vote_average  \\\n",
       "0  [climbing up a wall, hung upside down, flashba...   7.058599           4.8   \n",
       "1             [arizona, suspense, series of murders]   3.121105           5.7   \n",
       "\n",
       "   vote_count                                               cast  adult  \\\n",
       "0       299.0  [Natasha Henstridge, Ice Cube, Jason Statham, ...  False   \n",
       "1        15.0  [David Keith, Cathy Moriarty, Alan Rosenberg, ...  False   \n",
       "\n",
       "  belongs_to_collection  box_office_clean release_date_clean  runtime_clean  \\\n",
       "0                   NaN               NaN                NaT            NaN   \n",
       "1                   NaN               NaN                NaT            NaN   \n",
       "\n",
       "   director  \n",
       "0       NaN  \n",
       "1       NaN  "
      ]
     },
     "execution_count": 59,
     "metadata": {},
     "output_type": "execute_result"
    }
   ],
   "source": [
    "df_final_dataset.head(2)"
   ]
  },
  {
   "cell_type": "markdown",
   "id": "1fc350da-91ba-40f0-9a96-12a866c82b19",
   "metadata": {},
   "source": [
    "### 1.6 (Optional) Completing the data\n",
    "<a id='section-1.6'></a>"
   ]
  },
  {
   "cell_type": "code",
   "execution_count": 60,
   "id": "99df16aa-0a47-4202-9e7a-f16c5f2ef533",
   "metadata": {},
   "outputs": [],
   "source": [
    "# use cinemagoer to complete even more the dataset"
   ]
  },
  {
   "cell_type": "markdown",
   "id": "db03f500-6ff1-4a0c-874d-50f2aa93400d",
   "metadata": {},
   "source": [
    "## 2. Exploratory Data Analysis\n",
    "<a id='section-2'></a>"
   ]
  },
  {
   "cell_type": "markdown",
   "id": "64c04082-dd86-410d-b2e5-c9d911c39d87",
   "metadata": {},
   "source": [
    "We can finally proceed to some exploratory data analysis. We start by exploring some columns by themselves before exploring some links between them."
   ]
  },
  {
   "cell_type": "markdown",
   "id": "374ac7ea-e3d8-4814-93c4-e8107e06bb59",
   "metadata": {},
   "source": [
    "#### _Countries of production_"
   ]
  },
  {
   "cell_type": "markdown",
   "id": "c1972fc3-3a1e-4845-b65b-fbda868a21b1",
   "metadata": {},
   "source": [
    "We start by having a look at the number of movies produced in each country."
   ]
  },
  {
   "cell_type": "code",
   "execution_count": 61,
   "id": "6855718f-ced0-462c-bf08-bfaf01813554",
   "metadata": {},
   "outputs": [
    {
     "data": {
      "text/plain": [
       "0        United States of America\n",
       "1                  United Kingdom\n",
       "2        United States of America\n",
       "3                  United Kingdom\n",
       "4        United States of America\n",
       "                   ...           \n",
       "27325              United Kingdom\n",
       "27326                      Russia\n",
       "27327                      Russia\n",
       "27328                     Ireland\n",
       "27328              United Kingdom\n",
       "Length: 35016, dtype: object"
      ]
     },
     "execution_count": 61,
     "metadata": {},
     "output_type": "execute_result"
    }
   ],
   "source": [
    "df_countries = df_final_dataset['countries'].str.split(', ', expand=True).stack().reset_index(level=1, drop=True)\n",
    "df_countries"
   ]
  },
  {
   "cell_type": "code",
   "execution_count": 62,
   "id": "1c705251-40f3-44d8-bc7f-f4f4187815ee",
   "metadata": {},
   "outputs": [
    {
     "data": {
      "text/html": [
       "<div>\n",
       "<style scoped>\n",
       "    .dataframe tbody tr th:only-of-type {\n",
       "        vertical-align: middle;\n",
       "    }\n",
       "\n",
       "    .dataframe tbody tr th {\n",
       "        vertical-align: top;\n",
       "    }\n",
       "\n",
       "    .dataframe thead th {\n",
       "        text-align: right;\n",
       "    }\n",
       "</style>\n",
       "<table border=\"1\" class=\"dataframe\">\n",
       "  <thead>\n",
       "    <tr style=\"text-align: right;\">\n",
       "      <th></th>\n",
       "      <th>country</th>\n",
       "      <th>count</th>\n",
       "    </tr>\n",
       "  </thead>\n",
       "  <tbody>\n",
       "    <tr>\n",
       "      <th>0</th>\n",
       "      <td>United States of America</td>\n",
       "      <td>16570</td>\n",
       "    </tr>\n",
       "    <tr>\n",
       "      <th>1</th>\n",
       "      <td>United Kingdom</td>\n",
       "      <td>3337</td>\n",
       "    </tr>\n",
       "    <tr>\n",
       "      <th>2</th>\n",
       "      <td>France</td>\n",
       "      <td>2508</td>\n",
       "    </tr>\n",
       "  </tbody>\n",
       "</table>\n",
       "</div>"
      ],
      "text/plain": [
       "                    country  count\n",
       "0  United States of America  16570\n",
       "1            United Kingdom   3337\n",
       "2                    France   2508"
      ]
     },
     "execution_count": 62,
     "metadata": {},
     "output_type": "execute_result"
    }
   ],
   "source": [
    "country_counts_df = df_countries.value_counts().reset_index(name='count').rename(columns={'index': 'country'})\n",
    "country_counts_df.head(3)"
   ]
  },
  {
   "cell_type": "markdown",
   "id": "238f5e28-4667-4af6-8dbc-937de59f126d",
   "metadata": {},
   "source": [
    "[Natural Earth Data](https://www.naturalearthdata.com/downloads/110m-cultural-vectors/). Some country won't be merged such as 'German Democratic Republic', 'Ukrainian SSR' or 'Palestinian Territories'"
   ]
  },
  {
   "cell_type": "code",
   "execution_count": null,
   "id": "e2ca6d1b-0399-43a3-90a7-143b0c042103",
   "metadata": {},
   "outputs": [
    {
     "data": {
      "text/plain": [
       "0    False\n",
       "1    False\n",
       "2    False\n",
       "dtype: bool"
      ]
     },
     "execution_count": 137,
     "metadata": {},
     "output_type": "execute_result"
    }
   ],
   "source": [
    "world = gpd.read_file(f\"ne_110m_admin_0_countries.shp\")\n",
    "names = ['German Democratic Republic', 'Ukrainian SSR', 'Palestinian Territories']\n",
    "result = pd.Series(names).isin(world['NAME'])\n",
    "result"
   ]
  },
  {
   "cell_type": "code",
   "execution_count": null,
   "id": "dba1fc6d-d3b2-49b0-9353-1b67984f427d",
   "metadata": {},
   "outputs": [],
   "source": [
    "merged = world.merge(country_counts_df, left_on='NAME', right_on='country', how='left')"
   ]
  },
  {
   "cell_type": "code",
   "execution_count": null,
   "id": "61ef1d15-6591-4c7e-ad6a-f0d079991e10",
   "metadata": {},
   "outputs": [
    {
     "data": {
      "image/png": "[encoded data removed]",
      "text/plain": [
       "<Figure size 1080x720 with 2 Axes>"
      ]
     },
     "metadata": {},
     "output_type": "display_data"
    }
   ],
   "source": [
    "create_world_map(merged, 'count', world)"
   ]
  },
  {
   "cell_type": "code",
   "execution_count": null,
   "id": "7a4b849f-e7a7-4fcd-8954-d75160a9da4b",
   "metadata": {},
   "outputs": [
    {
     "data": {
      "image/png": "[encoded data removed]",
      "text/plain": [
       "<Figure size 1080x720 with 2 Axes>"
      ]
     },
     "metadata": {},
     "output_type": "display_data"
    }
   ],
   "source": [
    "merged['log_count'] = np.log(merged['count'])\n",
    "create_world_map(merged, 'log_count', world, log=True)"
   ]
  },
  {
   "cell_type": "markdown",
   "id": "d0f953c4-b7ba-49dd-9153-4a6c7f77edd0",
   "metadata": {},
   "source": [
    "TO DO: write something about the results"
   ]
  },
  {
   "cell_type": "markdown",
   "id": "4e1a7239-ecf4-4b6b-92a2-0e5f7eaa654a",
   "metadata": {},
   "source": [
    "#### _Runtime_"
   ]
  },
  {
   "cell_type": "code",
   "execution_count": null,
   "id": "95ef5d8a-88ed-4483-97a7-79ea5fa4516b",
   "metadata": {},
   "outputs": [],
   "source": [
    "df_runtime = pd.DataFrame(df_final_dataset['runtime_clean'])"
   ]
  },
  {
   "cell_type": "code",
   "execution_count": null,
   "id": "8c7e8f65-87bc-4611-b822-3b348f7c0ea0",
   "metadata": {},
   "outputs": [
    {
     "data": {
      "image/png": "[encoded data removed]",
      "text/plain": [
       "<Figure size 720x360 with 1 Axes>"
      ]
     },
     "metadata": {},
     "output_type": "display_data"
    }
   ],
   "source": [
    "plt.figure(figsize=(10, 5))\n",
    "sns.histplot(df_runtime.dropna(), bins=30, kde=True)\n",
    "plt.title('Runtime Distribution')\n",
    "plt.xlabel('Runtime (minutes)')\n",
    "plt.ylabel('Frequency')\n",
    "plt.show()"
   ]
  },
  {
   "cell_type": "code",
   "execution_count": null,
   "id": "d54ad514-c2df-4639-b6de-e3d1291d9aff",
   "metadata": {},
   "outputs": [
    {
     "data": {
      "text/html": [
       "<div>\n",
       "<style scoped>\n",
       "    .dataframe tbody tr th:only-of-type {\n",
       "        vertical-align: middle;\n",
       "    }\n",
       "\n",
       "    .dataframe tbody tr th {\n",
       "        vertical-align: top;\n",
       "    }\n",
       "\n",
       "    .dataframe thead th {\n",
       "        text-align: right;\n",
       "    }\n",
       "</style>\n",
       "<table border=\"1\" class=\"dataframe\">\n",
       "  <thead>\n",
       "    <tr style=\"text-align: right;\">\n",
       "      <th></th>\n",
       "      <th>runtime_clean</th>\n",
       "    </tr>\n",
       "  </thead>\n",
       "  <tbody>\n",
       "    <tr>\n",
       "      <th>count</th>\n",
       "      <td>0.0</td>\n",
       "    </tr>\n",
       "    <tr>\n",
       "      <th>mean</th>\n",
       "      <td>NaN</td>\n",
       "    </tr>\n",
       "    <tr>\n",
       "      <th>std</th>\n",
       "      <td>NaN</td>\n",
       "    </tr>\n",
       "    <tr>\n",
       "      <th>min</th>\n",
       "      <td>NaN</td>\n",
       "    </tr>\n",
       "    <tr>\n",
       "      <th>25%</th>\n",
       "      <td>NaN</td>\n",
       "    </tr>\n",
       "    <tr>\n",
       "      <th>50%</th>\n",
       "      <td>NaN</td>\n",
       "    </tr>\n",
       "    <tr>\n",
       "      <th>75%</th>\n",
       "      <td>NaN</td>\n",
       "    </tr>\n",
       "    <tr>\n",
       "      <th>max</th>\n",
       "      <td>NaN</td>\n",
       "    </tr>\n",
       "  </tbody>\n",
       "</table>\n",
       "</div>"
      ],
      "text/plain": [
       "       runtime_clean\n",
       "count            0.0\n",
       "mean             NaN\n",
       "std              NaN\n",
       "min              NaN\n",
       "25%              NaN\n",
       "50%              NaN\n",
       "75%              NaN\n",
       "max              NaN"
      ]
     },
     "execution_count": 143,
     "metadata": {},
     "output_type": "execute_result"
    }
   ],
   "source": [
    "df_runtime.describe()"
   ]
  },
  {
   "cell_type": "code",
   "execution_count": null,
   "id": "21de2f36-de66-49f4-90d5-c710e2874657",
   "metadata": {},
   "outputs": [
    {
     "data": {
      "text/html": [
       "<div>\n",
       "<style scoped>\n",
       "    .dataframe tbody tr th:only-of-type {\n",
       "        vertical-align: middle;\n",
       "    }\n",
       "\n",
       "    .dataframe tbody tr th {\n",
       "        vertical-align: top;\n",
       "    }\n",
       "\n",
       "    .dataframe thead th {\n",
       "        text-align: right;\n",
       "    }\n",
       "</style>\n",
       "<table border=\"1\" class=\"dataframe\">\n",
       "  <thead>\n",
       "    <tr style=\"text-align: right;\">\n",
       "      <th></th>\n",
       "      <th>imdb_id</th>\n",
       "      <th>title</th>\n",
       "      <th>budget</th>\n",
       "      <th>genres_cmu</th>\n",
       "      <th>languages</th>\n",
       "      <th>original_language</th>\n",
       "      <th>spoken_languages</th>\n",
       "      <th>countries</th>\n",
       "      <th>production_companies</th>\n",
       "      <th>plot_summary</th>\n",
       "      <th>overview</th>\n",
       "      <th>tagline</th>\n",
       "      <th>keywords</th>\n",
       "      <th>popularity</th>\n",
       "      <th>vote_average</th>\n",
       "      <th>vote_count</th>\n",
       "      <th>cast</th>\n",
       "      <th>adult</th>\n",
       "      <th>belongs_to_collection</th>\n",
       "      <th>box_office_clean</th>\n",
       "      <th>release_date_clean</th>\n",
       "      <th>runtime_clean</th>\n",
       "      <th>director</th>\n",
       "    </tr>\n",
       "  </thead>\n",
       "  <tbody>\n",
       "  </tbody>\n",
       "</table>\n",
       "</div>"
      ],
      "text/plain": [
       "Empty DataFrame\n",
       "Columns: [imdb_id, title, budget, genres_cmu, languages, original_language, spoken_languages, countries, production_companies, plot_summary, overview, tagline, keywords, popularity, vote_average, vote_count, cast, adult, belongs_to_collection, box_office_clean, release_date_clean, runtime_clean, director]\n",
       "Index: []"
      ]
     },
     "execution_count": 144,
     "metadata": {},
     "output_type": "execute_result"
    }
   ],
   "source": [
    "df_final_dataset[df_runtime['runtime_clean'] == 600]"
   ]
  },
  {
   "cell_type": "markdown",
   "id": "de19ca5d-18ce-49a8-8773-b4d95e2d3e7c",
   "metadata": {},
   "source": [
    "[Wikipedia](https://en.wikipedia.org/wiki/New_York:_A_Documentary_Film)"
   ]
  },
  {
   "cell_type": "code",
   "execution_count": null,
   "id": "dcf8dbe5-2968-474d-89bf-3669fa32a4bf",
   "metadata": {},
   "outputs": [
    {
     "data": {
      "image/png": "[encoded data removed]",
      "text/plain": [
       "<Figure size 864x432 with 1 Axes>"
      ]
     },
     "metadata": {},
     "output_type": "display_data"
    }
   ],
   "source": [
    "runtime_over_time = df_final_dataset.groupby(df_final_dataset['release_date_clean'].dt.year)['runtime_clean'].mean()\n",
    "plt.figure(figsize=(12, 6))\n",
    "sns.lineplot(x=runtime_over_time.index, y=runtime_over_time.values)\n",
    "plt.title('Average Runtime of Movies Over Time')\n",
    "plt.xlabel('Year')\n",
    "plt.ylabel('Average Runtime (minutes)')\n",
    "plt.show()"
   ]
  },
  {
   "cell_type": "markdown",
   "id": "025af9ae-7745-44ff-b084-87fc31994861",
   "metadata": {},
   "source": [
    "#### _Box office_"
   ]
  },
  {
   "cell_type": "code",
   "execution_count": null,
   "id": "6c1177d2-13c4-4148-8ca5-c5d96e1d63ae",
   "metadata": {},
   "outputs": [],
   "source": [
    "df_box_office = pd.DataFrame(df_final_dataset['box_office_clean'])"
   ]
  },
  {
   "cell_type": "code",
   "execution_count": null,
   "id": "0c800382-124c-47ea-a216-72a3285b78fd",
   "metadata": {},
   "outputs": [
    {
     "data": {
      "image/png": "[encoded data removed]",
      "text/plain": [
       "<Figure size 720x360 with 1 Axes>"
      ]
     },
     "metadata": {},
     "output_type": "display_data"
    }
   ],
   "source": [
    "plt.figure(figsize=(10, 5))\n",
    "sns.histplot(df_box_office.dropna(), bins=40, kde=True)\n",
    "plt.title('Box office Distribution')\n",
    "plt.xlabel('Box office in dollars')\n",
    "plt.ylabel('Frequency')\n",
    "plt.show()"
   ]
  },
  {
   "cell_type": "code",
   "execution_count": null,
   "id": "8d2fa77f-e602-40e6-b5f4-16b70e74fbc8",
   "metadata": {},
   "outputs": [
    {
     "data": {
      "text/html": [
       "<div>\n",
       "<style scoped>\n",
       "    .dataframe tbody tr th:only-of-type {\n",
       "        vertical-align: middle;\n",
       "    }\n",
       "\n",
       "    .dataframe tbody tr th {\n",
       "        vertical-align: top;\n",
       "    }\n",
       "\n",
       "    .dataframe thead th {\n",
       "        text-align: right;\n",
       "    }\n",
       "</style>\n",
       "<table border=\"1\" class=\"dataframe\">\n",
       "  <thead>\n",
       "    <tr style=\"text-align: right;\">\n",
       "      <th></th>\n",
       "      <th>box_office_clean</th>\n",
       "    </tr>\n",
       "  </thead>\n",
       "  <tbody>\n",
       "    <tr>\n",
       "      <th>count</th>\n",
       "      <td>0.0</td>\n",
       "    </tr>\n",
       "    <tr>\n",
       "      <th>mean</th>\n",
       "      <td>NaN</td>\n",
       "    </tr>\n",
       "    <tr>\n",
       "      <th>std</th>\n",
       "      <td>NaN</td>\n",
       "    </tr>\n",
       "    <tr>\n",
       "      <th>min</th>\n",
       "      <td>NaN</td>\n",
       "    </tr>\n",
       "    <tr>\n",
       "      <th>25%</th>\n",
       "      <td>NaN</td>\n",
       "    </tr>\n",
       "    <tr>\n",
       "      <th>50%</th>\n",
       "      <td>NaN</td>\n",
       "    </tr>\n",
       "    <tr>\n",
       "      <th>75%</th>\n",
       "      <td>NaN</td>\n",
       "    </tr>\n",
       "    <tr>\n",
       "      <th>max</th>\n",
       "      <td>NaN</td>\n",
       "    </tr>\n",
       "  </tbody>\n",
       "</table>\n",
       "</div>"
      ],
      "text/plain": [
       "       box_office_clean\n",
       "count               0.0\n",
       "mean                NaN\n",
       "std                 NaN\n",
       "min                 NaN\n",
       "25%                 NaN\n",
       "50%                 NaN\n",
       "75%                 NaN\n",
       "max                 NaN"
      ]
     },
     "execution_count": 148,
     "metadata": {},
     "output_type": "execute_result"
    }
   ],
   "source": [
    "df_box_office.describe()"
   ]
  },
  {
   "cell_type": "markdown",
   "id": "c0d9d83f-792a-4cc3-8dad-7c76b4258ca2",
   "metadata": {},
   "source": [
    "#### _Language of the movies_"
   ]
  },
  {
   "cell_type": "code",
   "execution_count": null,
   "id": "831664cc-fe94-402e-8449-907e29c55e92",
   "metadata": {},
   "outputs": [
    {
     "data": {
      "text/plain": [
       "0        English Language\n",
       "1        English Language\n",
       "2        English Language\n",
       "3        English Language\n",
       "4        English Language\n",
       "               ...       \n",
       "27325    English Language\n",
       "27326    Russian Language\n",
       "27327    Russian Language\n",
       "27327    English Language\n",
       "27328    English Language\n",
       "Length: 32446, dtype: object"
      ]
     },
     "execution_count": 149,
     "metadata": {},
     "output_type": "execute_result"
    }
   ],
   "source": [
    "df_languages = df_final_dataset['languages'].str.split(', ', expand=True).stack().reset_index(level=1, drop=True)\n",
    "df_languages"
   ]
  },
  {
   "cell_type": "code",
   "execution_count": null,
   "id": "b2c6f9d8-01dc-41e7-854a-edb486ec3288",
   "metadata": {},
   "outputs": [
    {
     "data": {
      "text/html": [
       "<div>\n",
       "<style scoped>\n",
       "    .dataframe tbody tr th:only-of-type {\n",
       "        vertical-align: middle;\n",
       "    }\n",
       "\n",
       "    .dataframe tbody tr th {\n",
       "        vertical-align: top;\n",
       "    }\n",
       "\n",
       "    .dataframe thead th {\n",
       "        text-align: right;\n",
       "    }\n",
       "</style>\n",
       "<table border=\"1\" class=\"dataframe\">\n",
       "  <thead>\n",
       "    <tr style=\"text-align: right;\">\n",
       "      <th></th>\n",
       "      <th>language</th>\n",
       "      <th>count</th>\n",
       "    </tr>\n",
       "  </thead>\n",
       "  <tbody>\n",
       "    <tr>\n",
       "      <th>0</th>\n",
       "      <td>English Language</td>\n",
       "      <td>19414</td>\n",
       "    </tr>\n",
       "    <tr>\n",
       "      <th>1</th>\n",
       "      <td>French Language</td>\n",
       "      <td>2020</td>\n",
       "    </tr>\n",
       "    <tr>\n",
       "      <th>2</th>\n",
       "      <td>Italian Language</td>\n",
       "      <td>1164</td>\n",
       "    </tr>\n",
       "    <tr>\n",
       "      <th>3</th>\n",
       "      <td>Spanish Language</td>\n",
       "      <td>1099</td>\n",
       "    </tr>\n",
       "    <tr>\n",
       "      <th>4</th>\n",
       "      <td>Japanese Language</td>\n",
       "      <td>973</td>\n",
       "    </tr>\n",
       "    <tr>\n",
       "      <th>...</th>\n",
       "      <td>...</td>\n",
       "      <td>...</td>\n",
       "    </tr>\n",
       "    <tr>\n",
       "      <th>190</th>\n",
       "      <td>Australian Aboriginal Pidgin English</td>\n",
       "      <td>1</td>\n",
       "    </tr>\n",
       "    <tr>\n",
       "      <th>191</th>\n",
       "      <td>Krio Language</td>\n",
       "      <td>1</td>\n",
       "    </tr>\n",
       "    <tr>\n",
       "      <th>192</th>\n",
       "      <td>Cebuano language</td>\n",
       "      <td>1</td>\n",
       "    </tr>\n",
       "    <tr>\n",
       "      <th>193</th>\n",
       "      <td>Chadian Arabic</td>\n",
       "      <td>1</td>\n",
       "    </tr>\n",
       "    <tr>\n",
       "      <th>194</th>\n",
       "      <td>Kuna language</td>\n",
       "      <td>1</td>\n",
       "    </tr>\n",
       "  </tbody>\n",
       "</table>\n",
       "<p>195 rows × 2 columns</p>\n",
       "</div>"
      ],
      "text/plain": [
       "                                 language  count\n",
       "0                        English Language  19414\n",
       "1                         French Language   2020\n",
       "2                        Italian Language   1164\n",
       "3                        Spanish Language   1099\n",
       "4                       Japanese Language    973\n",
       "..                                    ...    ...\n",
       "190  Australian Aboriginal Pidgin English      1\n",
       "191                         Krio Language      1\n",
       "192                      Cebuano language      1\n",
       "193                        Chadian Arabic      1\n",
       "194                         Kuna language      1\n",
       "\n",
       "[195 rows x 2 columns]"
      ]
     },
     "execution_count": 150,
     "metadata": {},
     "output_type": "execute_result"
    }
   ],
   "source": [
    "language_counts_df = df_languages.value_counts().reset_index(name='count').rename(columns={'index': 'language'})\n",
    "language_counts_df"
   ]
  },
  {
   "cell_type": "code",
   "execution_count": null,
   "id": "de48c6b3-6187-41f4-bbe4-cc78f811e2ec",
   "metadata": {},
   "outputs": [
    {
     "ename": "AttributeError",
     "evalue": "'Rectangle' object has no property 'legend'",
     "output_type": "error",
     "traceback": [
      "\u001b[0;31m---------------------------------------------------------------------------\u001b[0m",
      "\u001b[0;31mAttributeError\u001b[0m                            Traceback (most recent call last)",
      "\u001b[1;32m/Users/alexanderaujesky/Desktop/ADA/ada-2024-project-skibidata/results.ipynb Cellule 127\u001b[0m in \u001b[0;36m<cell line: 5>\u001b[0;34m()\u001b[0m\n\u001b[1;32m      <a href='vscode-notebook-cell:/Users/alexanderaujesky/Desktop/ADA/ada-2024-project-skibidata/results.ipynb#Y240sZmlsZQ%3D%3D?line=1'>2</a>\u001b[0m colors \u001b[39m=\u001b[39m sns\u001b[39m.\u001b[39mcolor_palette(\u001b[39m\"\u001b[39m\u001b[39mhls\u001b[39m\u001b[39m\"\u001b[39m, \u001b[39mlen\u001b[39m(language_counts_df\u001b[39m.\u001b[39mloc[:\u001b[39m10\u001b[39m]))\n\u001b[1;32m      <a href='vscode-notebook-cell:/Users/alexanderaujesky/Desktop/ADA/ada-2024-project-skibidata/results.ipynb#Y240sZmlsZQ%3D%3D?line=3'>4</a>\u001b[0m plt\u001b[39m.\u001b[39mfigure(figsize\u001b[39m=\u001b[39m(\u001b[39m12\u001b[39m, \u001b[39m6\u001b[39m))\n\u001b[0;32m----> <a href='vscode-notebook-cell:/Users/alexanderaujesky/Desktop/ADA/ada-2024-project-skibidata/results.ipynb#Y240sZmlsZQ%3D%3D?line=4'>5</a>\u001b[0m sns\u001b[39m.\u001b[39;49mbarplot(x\u001b[39m=\u001b[39;49m\u001b[39m'\u001b[39;49m\u001b[39mlanguage\u001b[39;49m\u001b[39m'\u001b[39;49m, y\u001b[39m=\u001b[39;49m\u001b[39m'\u001b[39;49m\u001b[39mcount\u001b[39;49m\u001b[39m'\u001b[39;49m, data\u001b[39m=\u001b[39;49mlanguage_counts_df\u001b[39m.\u001b[39;49mloc[:\u001b[39m10\u001b[39;49m], \n\u001b[1;32m      <a href='vscode-notebook-cell:/Users/alexanderaujesky/Desktop/ADA/ada-2024-project-skibidata/results.ipynb#Y240sZmlsZQ%3D%3D?line=5'>6</a>\u001b[0m            palette\u001b[39m=\u001b[39;49mcolors, hue\u001b[39m=\u001b[39;49m\u001b[39m'\u001b[39;49m\u001b[39mlanguage\u001b[39;49m\u001b[39m'\u001b[39;49m, legend\u001b[39m=\u001b[39;49m\u001b[39mFalse\u001b[39;49;00m)\n\u001b[1;32m      <a href='vscode-notebook-cell:/Users/alexanderaujesky/Desktop/ADA/ada-2024-project-skibidata/results.ipynb#Y240sZmlsZQ%3D%3D?line=6'>7</a>\u001b[0m plt\u001b[39m.\u001b[39mtitle(\u001b[39m'\u001b[39m\u001b[39mNumber of Films per Language\u001b[39m\u001b[39m'\u001b[39m)\n\u001b[1;32m      <a href='vscode-notebook-cell:/Users/alexanderaujesky/Desktop/ADA/ada-2024-project-skibidata/results.ipynb#Y240sZmlsZQ%3D%3D?line=7'>8</a>\u001b[0m plt\u001b[39m.\u001b[39mxticks(rotation\u001b[39m=\u001b[39m\u001b[39m30\u001b[39m, fontsize\u001b[39m=\u001b[39m\u001b[39m12\u001b[39m)\n",
      "File \u001b[0;32m~/opt/anaconda3/lib/python3.9/site-packages/seaborn/_decorators.py:46\u001b[0m, in \u001b[0;36m_deprecate_positional_args.<locals>.inner_f\u001b[0;34m(*args, **kwargs)\u001b[0m\n\u001b[1;32m     36\u001b[0m     warnings\u001b[39m.\u001b[39mwarn(\n\u001b[1;32m     37\u001b[0m         \u001b[39m\"\u001b[39m\u001b[39mPass the following variable\u001b[39m\u001b[39m{}\u001b[39;00m\u001b[39m as \u001b[39m\u001b[39m{}\u001b[39;00m\u001b[39mkeyword arg\u001b[39m\u001b[39m{}\u001b[39;00m\u001b[39m: \u001b[39m\u001b[39m{}\u001b[39;00m\u001b[39m. \u001b[39m\u001b[39m\"\u001b[39m\n\u001b[1;32m     38\u001b[0m         \u001b[39m\"\u001b[39m\u001b[39mFrom version 0.12, the only valid positional argument \u001b[39m\u001b[39m\"\u001b[39m\n\u001b[0;32m   (...)\u001b[0m\n\u001b[1;32m     43\u001b[0m         \u001b[39mFutureWarning\u001b[39;00m\n\u001b[1;32m     44\u001b[0m     )\n\u001b[1;32m     45\u001b[0m kwargs\u001b[39m.\u001b[39mupdate({k: arg \u001b[39mfor\u001b[39;00m k, arg \u001b[39min\u001b[39;00m \u001b[39mzip\u001b[39m(sig\u001b[39m.\u001b[39mparameters, args)})\n\u001b[0;32m---> 46\u001b[0m \u001b[39mreturn\u001b[39;00m f(\u001b[39m*\u001b[39;49m\u001b[39m*\u001b[39;49mkwargs)\n",
      "File \u001b[0;32m~/opt/anaconda3/lib/python3.9/site-packages/seaborn/categorical.py:3190\u001b[0m, in \u001b[0;36mbarplot\u001b[0;34m(x, y, hue, data, order, hue_order, estimator, ci, n_boot, units, seed, orient, color, palette, saturation, errcolor, errwidth, capsize, dodge, ax, **kwargs)\u001b[0m\n\u001b[1;32m   3187\u001b[0m \u001b[39mif\u001b[39;00m ax \u001b[39mis\u001b[39;00m \u001b[39mNone\u001b[39;00m:\n\u001b[1;32m   3188\u001b[0m     ax \u001b[39m=\u001b[39m plt\u001b[39m.\u001b[39mgca()\n\u001b[0;32m-> 3190\u001b[0m plotter\u001b[39m.\u001b[39;49mplot(ax, kwargs)\n\u001b[1;32m   3191\u001b[0m \u001b[39mreturn\u001b[39;00m ax\n",
      "File \u001b[0;32m~/opt/anaconda3/lib/python3.9/site-packages/seaborn/categorical.py:1639\u001b[0m, in \u001b[0;36m_BarPlotter.plot\u001b[0;34m(self, ax, bar_kws)\u001b[0m\n\u001b[1;32m   1637\u001b[0m \u001b[39mdef\u001b[39;00m \u001b[39mplot\u001b[39m(\u001b[39mself\u001b[39m, ax, bar_kws):\n\u001b[1;32m   1638\u001b[0m     \u001b[39m\"\"\"Make the plot.\"\"\"\u001b[39;00m\n\u001b[0;32m-> 1639\u001b[0m     \u001b[39mself\u001b[39;49m\u001b[39m.\u001b[39;49mdraw_bars(ax, bar_kws)\n\u001b[1;32m   1640\u001b[0m     \u001b[39mself\u001b[39m\u001b[39m.\u001b[39mannotate_axes(ax)\n\u001b[1;32m   1641\u001b[0m     \u001b[39mif\u001b[39;00m \u001b[39mself\u001b[39m\u001b[39m.\u001b[39morient \u001b[39m==\u001b[39m \u001b[39m\"\u001b[39m\u001b[39mh\u001b[39m\u001b[39m\"\u001b[39m:\n",
      "File \u001b[0;32m~/opt/anaconda3/lib/python3.9/site-packages/seaborn/categorical.py:1622\u001b[0m, in \u001b[0;36m_BarPlotter.draw_bars\u001b[0;34m(self, ax, kws)\u001b[0m\n\u001b[1;32m   1618\u001b[0m \u001b[39mfor\u001b[39;00m j, hue_level \u001b[39min\u001b[39;00m \u001b[39menumerate\u001b[39m(\u001b[39mself\u001b[39m\u001b[39m.\u001b[39mhue_names):\n\u001b[1;32m   1619\u001b[0m \n\u001b[1;32m   1620\u001b[0m     \u001b[39m# Draw the bars\u001b[39;00m\n\u001b[1;32m   1621\u001b[0m     offpos \u001b[39m=\u001b[39m barpos \u001b[39m+\u001b[39m \u001b[39mself\u001b[39m\u001b[39m.\u001b[39mhue_offsets[j]\n\u001b[0;32m-> 1622\u001b[0m     barfunc(offpos, \u001b[39mself\u001b[39;49m\u001b[39m.\u001b[39;49mstatistic[:, j], \u001b[39mself\u001b[39;49m\u001b[39m.\u001b[39;49mnested_width,\n\u001b[1;32m   1623\u001b[0m             color\u001b[39m=\u001b[39;49m\u001b[39mself\u001b[39;49m\u001b[39m.\u001b[39;49mcolors[j], align\u001b[39m=\u001b[39;49m\u001b[39m\"\u001b[39;49m\u001b[39mcenter\u001b[39;49m\u001b[39m\"\u001b[39;49m,\n\u001b[1;32m   1624\u001b[0m             label\u001b[39m=\u001b[39;49mhue_level, \u001b[39m*\u001b[39;49m\u001b[39m*\u001b[39;49mkws)\n\u001b[1;32m   1626\u001b[0m     \u001b[39m# Draw the confidence intervals\u001b[39;00m\n\u001b[1;32m   1627\u001b[0m     \u001b[39mif\u001b[39;00m \u001b[39mself\u001b[39m\u001b[39m.\u001b[39mconfint\u001b[39m.\u001b[39msize:\n",
      "File \u001b[0;32m~/opt/anaconda3/lib/python3.9/site-packages/matplotlib/__init__.py:1412\u001b[0m, in \u001b[0;36m_preprocess_data.<locals>.inner\u001b[0;34m(ax, data, *args, **kwargs)\u001b[0m\n\u001b[1;32m   1409\u001b[0m \u001b[39m@functools\u001b[39m\u001b[39m.\u001b[39mwraps(func)\n\u001b[1;32m   1410\u001b[0m \u001b[39mdef\u001b[39;00m \u001b[39minner\u001b[39m(ax, \u001b[39m*\u001b[39margs, data\u001b[39m=\u001b[39m\u001b[39mNone\u001b[39;00m, \u001b[39m*\u001b[39m\u001b[39m*\u001b[39mkwargs):\n\u001b[1;32m   1411\u001b[0m     \u001b[39mif\u001b[39;00m data \u001b[39mis\u001b[39;00m \u001b[39mNone\u001b[39;00m:\n\u001b[0;32m-> 1412\u001b[0m         \u001b[39mreturn\u001b[39;00m func(ax, \u001b[39m*\u001b[39;49m\u001b[39mmap\u001b[39;49m(sanitize_sequence, args), \u001b[39m*\u001b[39;49m\u001b[39m*\u001b[39;49mkwargs)\n\u001b[1;32m   1414\u001b[0m     bound \u001b[39m=\u001b[39m new_sig\u001b[39m.\u001b[39mbind(ax, \u001b[39m*\u001b[39margs, \u001b[39m*\u001b[39m\u001b[39m*\u001b[39mkwargs)\n\u001b[1;32m   1415\u001b[0m     auto_label \u001b[39m=\u001b[39m (bound\u001b[39m.\u001b[39marguments\u001b[39m.\u001b[39mget(label_namer)\n\u001b[1;32m   1416\u001b[0m                   \u001b[39mor\u001b[39;00m bound\u001b[39m.\u001b[39mkwargs\u001b[39m.\u001b[39mget(label_namer))\n",
      "File \u001b[0;32m~/opt/anaconda3/lib/python3.9/site-packages/matplotlib/axes/_axes.py:2403\u001b[0m, in \u001b[0;36mAxes.bar\u001b[0;34m(self, x, height, width, bottom, align, **kwargs)\u001b[0m\n\u001b[1;32m   2394\u001b[0m \u001b[39mfor\u001b[39;00m l, b, w, h, c, e, lw, htch \u001b[39min\u001b[39;00m args:\n\u001b[1;32m   2395\u001b[0m     r \u001b[39m=\u001b[39m mpatches\u001b[39m.\u001b[39mRectangle(\n\u001b[1;32m   2396\u001b[0m         xy\u001b[39m=\u001b[39m(l, b), width\u001b[39m=\u001b[39mw, height\u001b[39m=\u001b[39mh,\n\u001b[1;32m   2397\u001b[0m         facecolor\u001b[39m=\u001b[39mc,\n\u001b[0;32m   (...)\u001b[0m\n\u001b[1;32m   2401\u001b[0m         hatch\u001b[39m=\u001b[39mhtch,\n\u001b[1;32m   2402\u001b[0m         )\n\u001b[0;32m-> 2403\u001b[0m     r\u001b[39m.\u001b[39;49mupdate(kwargs)\n\u001b[1;32m   2404\u001b[0m     r\u001b[39m.\u001b[39mget_path()\u001b[39m.\u001b[39m_interpolation_steps \u001b[39m=\u001b[39m \u001b[39m100\u001b[39m\n\u001b[1;32m   2405\u001b[0m     \u001b[39mif\u001b[39;00m orientation \u001b[39m==\u001b[39m \u001b[39m'\u001b[39m\u001b[39mvertical\u001b[39m\u001b[39m'\u001b[39m:\n",
      "File \u001b[0;32m~/opt/anaconda3/lib/python3.9/site-packages/matplotlib/artist.py:1064\u001b[0m, in \u001b[0;36mArtist.update\u001b[0;34m(self, props)\u001b[0m\n\u001b[1;32m   1062\u001b[0m             func \u001b[39m=\u001b[39m \u001b[39mgetattr\u001b[39m(\u001b[39mself\u001b[39m, \u001b[39mf\u001b[39m\u001b[39m\"\u001b[39m\u001b[39mset_\u001b[39m\u001b[39m{\u001b[39;00mk\u001b[39m}\u001b[39;00m\u001b[39m\"\u001b[39m, \u001b[39mNone\u001b[39;00m)\n\u001b[1;32m   1063\u001b[0m             \u001b[39mif\u001b[39;00m \u001b[39mnot\u001b[39;00m callable(func):\n\u001b[0;32m-> 1064\u001b[0m                 \u001b[39mraise\u001b[39;00m \u001b[39mAttributeError\u001b[39;00m(\u001b[39mf\u001b[39m\u001b[39m\"\u001b[39m\u001b[39m{\u001b[39;00m\u001b[39mtype\u001b[39m(\u001b[39mself\u001b[39m)\u001b[39m.\u001b[39m\u001b[39m__name__\u001b[39m\u001b[39m!r}\u001b[39;00m\u001b[39m object \u001b[39m\u001b[39m\"\u001b[39m\n\u001b[1;32m   1065\u001b[0m                                      \u001b[39mf\u001b[39m\u001b[39m\"\u001b[39m\u001b[39mhas no property \u001b[39m\u001b[39m{\u001b[39;00mk\u001b[39m!r}\u001b[39;00m\u001b[39m\"\u001b[39m)\n\u001b[1;32m   1066\u001b[0m             ret\u001b[39m.\u001b[39mappend(func(v))\n\u001b[1;32m   1067\u001b[0m \u001b[39mif\u001b[39;00m ret:\n",
      "\u001b[0;31mAttributeError\u001b[0m: 'Rectangle' object has no property 'legend'"
     ]
    },
    {
     "data": {
      "image/png": "[encoded data removed]",
      "text/plain": [
       "<Figure size 864x432 with 1 Axes>"
      ]
     },
     "metadata": {},
     "output_type": "display_data"
    }
   ],
   "source": [
    "# Assuming you have the 'language_counts_df' DataFrame\n",
    "colors = sns.color_palette(\"hls\", len(language_counts_df.loc[:10]))\n",
    "\n",
    "plt.figure(figsize=(12, 6))\n",
    "sns.barplot(x='language', y='count', data=language_counts_df.loc[:10], \n",
    "           palette=colors, hue='language', legend=False)\n",
    "plt.title('Number of Films per Language')\n",
    "plt.xticks(rotation=30, fontsize=12)\n",
    "plt.yscale('log')\n",
    "plt.show()"
   ]
  },
  {
   "cell_type": "markdown",
   "id": "ac64f08a-36b7-45fc-bb52-f7b30642aaff",
   "metadata": {},
   "source": [
    "#### _Release Date_"
   ]
  },
  {
   "cell_type": "code",
   "execution_count": null,
   "id": "7df690e0-4480-4cf0-911b-e90630c04666",
   "metadata": {},
   "outputs": [],
   "source": [
    "month_order = ['Jan', 'Feb', 'Mar', 'Apr', 'May', 'Jun', 'Jul', 'Aug', 'Sep', 'Oct', 'Nov', 'Dec']\n",
    "day_order = ['Mon', 'Tue', 'Wed', 'Thu', 'Fri', 'Sat', 'Sun']"
   ]
  },
  {
   "cell_type": "code",
   "execution_count": null,
   "id": "ca06ff12-afc8-42e9-80ef-92edf0a3eac5",
   "metadata": {},
   "outputs": [],
   "source": [
    "df_final_dataset['release_date_clean'] = pd.to_datetime(df_final_dataset['release_date_clean'], errors='coerce')\n",
    "df_final_dataset['day'] = df_final_dataset['release_date_clean'].dt.day\n",
    "df_final_dataset['day'] = df_final_dataset['day'].fillna(0).astype(int)\n",
    "df_final_dataset['month'] = df_final_dataset['release_date_clean'].dt.month\n",
    "df_final_dataset['month'] = df_final_dataset['month'].fillna(0).astype(int)\n",
    "df_final_dataset['year'] = df_final_dataset['release_date_clean'].dt.year\n",
    "df_final_dataset['year'] = df_final_dataset['year'].fillna(0).astype(int)"
   ]
  },
  {
   "cell_type": "code",
   "execution_count": null,
   "id": "d195a1c0-f08b-4755-b028-461e5b4e2c64",
   "metadata": {},
   "outputs": [
    {
     "data": {
      "image/png": "[encoded data removed]",
      "text/plain": [
       "<Figure size 864x432 with 1 Axes>"
      ]
     },
     "metadata": {},
     "output_type": "display_data"
    }
   ],
   "source": [
    "year_occurrences = df_final_dataset['release_date_clean'].dt.year.value_counts().sort_index()\n",
    "\n",
    "# Plot the histogram\n",
    "plt.figure(figsize=(12, 6))\n",
    "plt.bar(year_occurrences.index, year_occurrences.values)\n",
    "plt.xlabel('Year')\n",
    "plt.ylabel('Number of movies in total')\n",
    "plt.title('Number of movies by Year')\n",
    "plt.xticks(rotation=0)  # Rotate x-axis labels if needed\n",
    "plt.show()"
   ]
  },
  {
   "cell_type": "code",
   "execution_count": null,
   "id": "d4c34323-ca42-4c6f-a517-0b43d940f515",
   "metadata": {},
   "outputs": [],
   "source": [
    "month_counts = df_final_dataset[df_final_dataset['month'].between(1, 12)]['month'].value_counts().sort_index()\n",
    "month_mean = df_final_dataset[(df_final_dataset['box_office_clean'] > 1e8) & (df_final_dataset['month'].between(1, 12))] \\\n",
    "                               .groupby('month')['box_office_clean'].mean()\n",
    "df_months_and_counts = pd.DataFrame({'month': month_counts.index, 'count': month_counts.values, 'box_office': month_mean.values})"
   ]
  },
  {
   "cell_type": "code",
   "execution_count": null,
   "id": "a871174b-b626-4e49-bec8-985fa992a46f",
   "metadata": {},
   "outputs": [
    {
     "ename": "ValueError",
     "evalue": "min() arg is an empty sequence",
     "output_type": "error",
     "traceback": [
      "\u001b[0;31m---------------------------------------------------------------------------\u001b[0m",
      "\u001b[0;31mValueError\u001b[0m                                Traceback (most recent call last)",
      "\u001b[1;32m/Users/alexanderaujesky/Desktop/ADA/ada-2024-project-skibidata/results.ipynb Cellule 133\u001b[0m in \u001b[0;36m<cell line: 4>\u001b[0;34m()\u001b[0m\n\u001b[1;32m      <a href='vscode-notebook-cell:/Users/alexanderaujesky/Desktop/ADA/ada-2024-project-skibidata/results.ipynb#Y246sZmlsZQ%3D%3D?line=0'>1</a>\u001b[0m colors \u001b[39m=\u001b[39m sns\u001b[39m.\u001b[39mcolor_palette(\u001b[39m\"\u001b[39m\u001b[39mhusl\u001b[39m\u001b[39m\"\u001b[39m, \u001b[39mlen\u001b[39m(df_months_and_counts))\n\u001b[1;32m      <a href='vscode-notebook-cell:/Users/alexanderaujesky/Desktop/ADA/ada-2024-project-skibidata/results.ipynb#Y246sZmlsZQ%3D%3D?line=2'>3</a>\u001b[0m plt\u001b[39m.\u001b[39mfigure(figsize\u001b[39m=\u001b[39m(\u001b[39m12\u001b[39m, \u001b[39m6\u001b[39m))\n\u001b[0;32m----> <a href='vscode-notebook-cell:/Users/alexanderaujesky/Desktop/ADA/ada-2024-project-skibidata/results.ipynb#Y246sZmlsZQ%3D%3D?line=3'>4</a>\u001b[0m ax \u001b[39m=\u001b[39m sns\u001b[39m.\u001b[39;49mbarplot(\n\u001b[1;32m      <a href='vscode-notebook-cell:/Users/alexanderaujesky/Desktop/ADA/ada-2024-project-skibidata/results.ipynb#Y246sZmlsZQ%3D%3D?line=4'>5</a>\u001b[0m     data\u001b[39m=\u001b[39;49mdf_months_and_counts,\n\u001b[1;32m      <a href='vscode-notebook-cell:/Users/alexanderaujesky/Desktop/ADA/ada-2024-project-skibidata/results.ipynb#Y246sZmlsZQ%3D%3D?line=5'>6</a>\u001b[0m     x\u001b[39m=\u001b[39;49m\u001b[39m'\u001b[39;49m\u001b[39mmonth\u001b[39;49m\u001b[39m'\u001b[39;49m, \n\u001b[1;32m      <a href='vscode-notebook-cell:/Users/alexanderaujesky/Desktop/ADA/ada-2024-project-skibidata/results.ipynb#Y246sZmlsZQ%3D%3D?line=6'>7</a>\u001b[0m     y\u001b[39m=\u001b[39;49m\u001b[39m'\u001b[39;49m\u001b[39mcount\u001b[39;49m\u001b[39m'\u001b[39;49m,  \u001b[39m# Use the colors list here\u001b[39;49;00m\n\u001b[1;32m      <a href='vscode-notebook-cell:/Users/alexanderaujesky/Desktop/ADA/ada-2024-project-skibidata/results.ipynb#Y246sZmlsZQ%3D%3D?line=7'>8</a>\u001b[0m )\n\u001b[1;32m     <a href='vscode-notebook-cell:/Users/alexanderaujesky/Desktop/ADA/ada-2024-project-skibidata/results.ipynb#Y246sZmlsZQ%3D%3D?line=9'>10</a>\u001b[0m ax\u001b[39m.\u001b[39mbar_label(ax\u001b[39m.\u001b[39mcontainers[\u001b[39m0\u001b[39m], fontsize\u001b[39m=\u001b[39m\u001b[39m10\u001b[39m)\n\u001b[1;32m     <a href='vscode-notebook-cell:/Users/alexanderaujesky/Desktop/ADA/ada-2024-project-skibidata/results.ipynb#Y246sZmlsZQ%3D%3D?line=11'>12</a>\u001b[0m \u001b[39m# Set plot title and labels\u001b[39;00m\n",
      "File \u001b[0;32m~/opt/anaconda3/lib/python3.9/site-packages/seaborn/_decorators.py:46\u001b[0m, in \u001b[0;36m_deprecate_positional_args.<locals>.inner_f\u001b[0;34m(*args, **kwargs)\u001b[0m\n\u001b[1;32m     36\u001b[0m     warnings\u001b[39m.\u001b[39mwarn(\n\u001b[1;32m     37\u001b[0m         \u001b[39m\"\u001b[39m\u001b[39mPass the following variable\u001b[39m\u001b[39m{}\u001b[39;00m\u001b[39m as \u001b[39m\u001b[39m{}\u001b[39;00m\u001b[39mkeyword arg\u001b[39m\u001b[39m{}\u001b[39;00m\u001b[39m: \u001b[39m\u001b[39m{}\u001b[39;00m\u001b[39m. \u001b[39m\u001b[39m\"\u001b[39m\n\u001b[1;32m     38\u001b[0m         \u001b[39m\"\u001b[39m\u001b[39mFrom version 0.12, the only valid positional argument \u001b[39m\u001b[39m\"\u001b[39m\n\u001b[0;32m   (...)\u001b[0m\n\u001b[1;32m     43\u001b[0m         \u001b[39mFutureWarning\u001b[39;00m\n\u001b[1;32m     44\u001b[0m     )\n\u001b[1;32m     45\u001b[0m kwargs\u001b[39m.\u001b[39mupdate({k: arg \u001b[39mfor\u001b[39;00m k, arg \u001b[39min\u001b[39;00m \u001b[39mzip\u001b[39m(sig\u001b[39m.\u001b[39mparameters, args)})\n\u001b[0;32m---> 46\u001b[0m \u001b[39mreturn\u001b[39;00m f(\u001b[39m*\u001b[39;49m\u001b[39m*\u001b[39;49mkwargs)\n",
      "File \u001b[0;32m~/opt/anaconda3/lib/python3.9/site-packages/seaborn/categorical.py:3182\u001b[0m, in \u001b[0;36mbarplot\u001b[0;34m(x, y, hue, data, order, hue_order, estimator, ci, n_boot, units, seed, orient, color, palette, saturation, errcolor, errwidth, capsize, dodge, ax, **kwargs)\u001b[0m\n\u001b[1;32m   3169\u001b[0m \u001b[39m@_deprecate_positional_args\u001b[39m\n\u001b[1;32m   3170\u001b[0m \u001b[39mdef\u001b[39;00m \u001b[39mbarplot\u001b[39m(\n\u001b[1;32m   3171\u001b[0m     \u001b[39m*\u001b[39m,\n\u001b[0;32m   (...)\u001b[0m\n\u001b[1;32m   3179\u001b[0m     \u001b[39m*\u001b[39m\u001b[39m*\u001b[39mkwargs,\n\u001b[1;32m   3180\u001b[0m ):\n\u001b[0;32m-> 3182\u001b[0m     plotter \u001b[39m=\u001b[39m _BarPlotter(x, y, hue, data, order, hue_order,\n\u001b[1;32m   3183\u001b[0m                           estimator, ci, n_boot, units, seed,\n\u001b[1;32m   3184\u001b[0m                           orient, color, palette, saturation,\n\u001b[1;32m   3185\u001b[0m                           errcolor, errwidth, capsize, dodge)\n\u001b[1;32m   3187\u001b[0m     \u001b[39mif\u001b[39;00m ax \u001b[39mis\u001b[39;00m \u001b[39mNone\u001b[39;00m:\n\u001b[1;32m   3188\u001b[0m         ax \u001b[39m=\u001b[39m plt\u001b[39m.\u001b[39mgca()\n",
      "File \u001b[0;32m~/opt/anaconda3/lib/python3.9/site-packages/seaborn/categorical.py:1586\u001b[0m, in \u001b[0;36m_BarPlotter.__init__\u001b[0;34m(self, x, y, hue, data, order, hue_order, estimator, ci, n_boot, units, seed, orient, color, palette, saturation, errcolor, errwidth, capsize, dodge)\u001b[0m\n\u001b[1;32m   1583\u001b[0m \u001b[39m\"\"\"Initialize the plotter.\"\"\"\u001b[39;00m\n\u001b[1;32m   1584\u001b[0m \u001b[39mself\u001b[39m\u001b[39m.\u001b[39mestablish_variables(x, y, hue, data, orient,\n\u001b[1;32m   1585\u001b[0m                          order, hue_order, units)\n\u001b[0;32m-> 1586\u001b[0m \u001b[39mself\u001b[39;49m\u001b[39m.\u001b[39;49mestablish_colors(color, palette, saturation)\n\u001b[1;32m   1587\u001b[0m \u001b[39mself\u001b[39m\u001b[39m.\u001b[39mestimate_statistic(estimator, ci, n_boot, seed)\n\u001b[1;32m   1589\u001b[0m \u001b[39mself\u001b[39m\u001b[39m.\u001b[39mdodge \u001b[39m=\u001b[39m dodge\n",
      "File \u001b[0;32m~/opt/anaconda3/lib/python3.9/site-packages/seaborn/categorical.py:319\u001b[0m, in \u001b[0;36m_CategoricalPlotter.establish_colors\u001b[0;34m(self, color, palette, saturation)\u001b[0m\n\u001b[1;32m    317\u001b[0m \u001b[39m# Determine the gray color to use for the lines framing the plot\u001b[39;00m\n\u001b[1;32m    318\u001b[0m light_vals \u001b[39m=\u001b[39m [colorsys\u001b[39m.\u001b[39mrgb_to_hls(\u001b[39m*\u001b[39mc)[\u001b[39m1\u001b[39m] \u001b[39mfor\u001b[39;00m c \u001b[39min\u001b[39;00m rgb_colors]\n\u001b[0;32m--> 319\u001b[0m lum \u001b[39m=\u001b[39m \u001b[39mmin\u001b[39;49m(light_vals) \u001b[39m*\u001b[39m \u001b[39m.6\u001b[39m\n\u001b[1;32m    320\u001b[0m gray \u001b[39m=\u001b[39m mpl\u001b[39m.\u001b[39mcolors\u001b[39m.\u001b[39mrgb2hex((lum, lum, lum))\n\u001b[1;32m    322\u001b[0m \u001b[39m# Assign object attributes\u001b[39;00m\n",
      "\u001b[0;31mValueError\u001b[0m: min() arg is an empty sequence"
     ]
    },
    {
     "data": {
      "text/plain": [
       "<Figure size 864x432 with 0 Axes>"
      ]
     },
     "metadata": {},
     "output_type": "display_data"
    }
   ],
   "source": [
    "colors = sns.color_palette(\"husl\", len(df_months_and_counts))\n",
    "\n",
    "plt.figure(figsize=(12, 6))\n",
    "ax = sns.barplot(\n",
    "    data=df_months_and_counts,\n",
    "    x='month', \n",
    "    y='count',  # Use the colors list here\n",
    ")\n",
    "\n",
    "ax.bar_label(ax.containers[0], fontsize=10)\n",
    "\n",
    "# Set plot title and labels\n",
    "plt.xlabel(\"Month\")\n",
    "plt.ylabel(\"Count of Movies\")\n",
    "plt.xticks(ticks=range(12), labels=[\"Jan\", \"Feb\", \"Mar\", \"Apr\", \"May\", \"Jun\", \"Jul\", \"Aug\", \"Sep\", \"Oct\", \"Nov\", \"Dec\"])\n",
    "\n",
    "# Show the plot\n",
    "plt.show()"
   ]
  },
  {
   "cell_type": "code",
   "execution_count": null,
   "id": "fe92ce86-f1cc-4ce6-9a23-f8e176219bd5",
   "metadata": {},
   "outputs": [
    {
     "data": {
      "image/png": "[encoded data removed]",
      "text/plain": [
       "<Figure size 1200x600 with 1 Axes>"
      ]
     },
     "metadata": {},
     "output_type": "display_data"
    }
   ],
   "source": [
    "plt.figure(figsize=(12, 6))\n",
    "ax = sns.barplot(\n",
    "    data=df_months_and_counts,\n",
    "    x='month', \n",
    "    y='box_office',  # Use the colors list here\n",
    ")\n",
    "\n",
    "ax.bar_label(ax.containers[0], fontsize=10)\n",
    "\n",
    "# Set plot title and labels\n",
    "plt.xlabel(\"Month\")\n",
    "plt.ylabel(\"Box office of Movies\")\n",
    "plt.xticks(ticks=range(12), labels=[\"Jan\", \"Feb\", \"Mar\", \"Apr\", \"May\", \"Jun\", \"Jul\", \"Aug\", \"Sep\", \"Oct\", \"Nov\", \"Dec\"])\n",
    "\n",
    "# Show the plot\n",
    "plt.show()"
   ]
  },
  {
   "cell_type": "code",
   "execution_count": null,
   "id": "fac954ef-adc8-4cb8-988d-c48e7531dad6",
   "metadata": {},
   "outputs": [],
   "source": [
    "months = {'Jan': 1, 'Feb': 2, 'Mar': 3, 'Apr': 4, 'May': 5, 'Jun': 6, 'Jul': 7, 'Aug': 8, 'Sep': 9, 'Oct': 10, 'Nov': 11, 'Dec': 12}"
   ]
  },
  {
   "cell_type": "code",
   "execution_count": null,
   "id": "105d2605-350d-407e-9296-4b6145c304c9",
   "metadata": {},
   "outputs": [
    {
     "ename": "ValueError",
     "evalue": "zero-size array to reduction operation fmin which has no identity",
     "output_type": "error",
     "traceback": [
      "\u001b[0;31m---------------------------------------------------------------------------\u001b[0m",
      "\u001b[0;31mValueError\u001b[0m                                Traceback (most recent call last)",
      "\u001b[1;32m/Users/alexanderaujesky/Desktop/ADA/ada-2024-project-skibidata/results.ipynb Cellule 136\u001b[0m in \u001b[0;36m<cell line: 11>\u001b[0;34m()\u001b[0m\n\u001b[1;32m      <a href='vscode-notebook-cell:/Users/alexanderaujesky/Desktop/ADA/ada-2024-project-skibidata/results.ipynb#Y252sZmlsZQ%3D%3D?line=8'>9</a>\u001b[0m \u001b[39m# Create the plot\u001b[39;00m\n\u001b[1;32m     <a href='vscode-notebook-cell:/Users/alexanderaujesky/Desktop/ADA/ada-2024-project-skibidata/results.ipynb#Y252sZmlsZQ%3D%3D?line=9'>10</a>\u001b[0m f, ax \u001b[39m=\u001b[39m plt\u001b[39m.\u001b[39msubplots(figsize\u001b[39m=\u001b[39m(\u001b[39m20\u001b[39m, \u001b[39m20\u001b[39m))\n\u001b[0;32m---> <a href='vscode-notebook-cell:/Users/alexanderaujesky/Desktop/ADA/ada-2024-project-skibidata/results.ipynb#Y252sZmlsZQ%3D%3D?line=10'>11</a>\u001b[0m sns\u001b[39m.\u001b[39;49mheatmap(hmap_21, annot\u001b[39m=\u001b[39;49m\u001b[39mTrue\u001b[39;49;00m, linewidths\u001b[39m=\u001b[39;49m\u001b[39m.5\u001b[39;49m, ax\u001b[39m=\u001b[39;49max, fmt\u001b[39m=\u001b[39;49m\u001b[39m'\u001b[39;49m\u001b[39mg\u001b[39;49m\u001b[39m'\u001b[39;49m, xticklabels\u001b[39m=\u001b[39;49m[\u001b[39m\"\u001b[39;49m\u001b[39mJan\u001b[39;49m\u001b[39m\"\u001b[39;49m, \u001b[39m\"\u001b[39;49m\u001b[39mFeb\u001b[39;49m\u001b[39m\"\u001b[39;49m, \u001b[39m\"\u001b[39;49m\u001b[39mMar\u001b[39;49m\u001b[39m\"\u001b[39;49m, \u001b[39m\"\u001b[39;49m\u001b[39mApr\u001b[39;49m\u001b[39m\"\u001b[39;49m, \u001b[39m\"\u001b[39;49m\u001b[39mMay\u001b[39;49m\u001b[39m\"\u001b[39;49m, \u001b[39m\"\u001b[39;49m\u001b[39mJun\u001b[39;49m\u001b[39m\"\u001b[39;49m, \u001b[39m\"\u001b[39;49m\u001b[39mJul\u001b[39;49m\u001b[39m\"\u001b[39;49m, \u001b[39m\"\u001b[39;49m\u001b[39mAug\u001b[39;49m\u001b[39m\"\u001b[39;49m, \u001b[39m\"\u001b[39;49m\u001b[39mSep\u001b[39;49m\u001b[39m\"\u001b[39;49m, \u001b[39m\"\u001b[39;49m\u001b[39mOct\u001b[39;49m\u001b[39m\"\u001b[39;49m, \u001b[39m\"\u001b[39;49m\u001b[39mNov\u001b[39;49m\u001b[39m\"\u001b[39;49m, \u001b[39m\"\u001b[39;49m\u001b[39mDec\u001b[39;49m\u001b[39m\"\u001b[39;49m])\n\u001b[1;32m     <a href='vscode-notebook-cell:/Users/alexanderaujesky/Desktop/ADA/ada-2024-project-skibidata/results.ipynb#Y252sZmlsZQ%3D%3D?line=11'>12</a>\u001b[0m plt\u001b[39m.\u001b[39myticks(rotation\u001b[39m=\u001b[39m\u001b[39m0\u001b[39m)\n\u001b[1;32m     <a href='vscode-notebook-cell:/Users/alexanderaujesky/Desktop/ADA/ada-2024-project-skibidata/results.ipynb#Y252sZmlsZQ%3D%3D?line=12'>13</a>\u001b[0m \u001b[39m# Display the plot\u001b[39;00m\n",
      "File \u001b[0;32m~/opt/anaconda3/lib/python3.9/site-packages/seaborn/_decorators.py:46\u001b[0m, in \u001b[0;36m_deprecate_positional_args.<locals>.inner_f\u001b[0;34m(*args, **kwargs)\u001b[0m\n\u001b[1;32m     36\u001b[0m     warnings\u001b[39m.\u001b[39mwarn(\n\u001b[1;32m     37\u001b[0m         \u001b[39m\"\u001b[39m\u001b[39mPass the following variable\u001b[39m\u001b[39m{}\u001b[39;00m\u001b[39m as \u001b[39m\u001b[39m{}\u001b[39;00m\u001b[39mkeyword arg\u001b[39m\u001b[39m{}\u001b[39;00m\u001b[39m: \u001b[39m\u001b[39m{}\u001b[39;00m\u001b[39m. \u001b[39m\u001b[39m\"\u001b[39m\n\u001b[1;32m     38\u001b[0m         \u001b[39m\"\u001b[39m\u001b[39mFrom version 0.12, the only valid positional argument \u001b[39m\u001b[39m\"\u001b[39m\n\u001b[0;32m   (...)\u001b[0m\n\u001b[1;32m     43\u001b[0m         \u001b[39mFutureWarning\u001b[39;00m\n\u001b[1;32m     44\u001b[0m     )\n\u001b[1;32m     45\u001b[0m kwargs\u001b[39m.\u001b[39mupdate({k: arg \u001b[39mfor\u001b[39;00m k, arg \u001b[39min\u001b[39;00m \u001b[39mzip\u001b[39m(sig\u001b[39m.\u001b[39mparameters, args)})\n\u001b[0;32m---> 46\u001b[0m \u001b[39mreturn\u001b[39;00m f(\u001b[39m*\u001b[39;49m\u001b[39m*\u001b[39;49mkwargs)\n",
      "File \u001b[0;32m~/opt/anaconda3/lib/python3.9/site-packages/seaborn/matrix.py:540\u001b[0m, in \u001b[0;36mheatmap\u001b[0;34m(data, vmin, vmax, cmap, center, robust, annot, fmt, annot_kws, linewidths, linecolor, cbar, cbar_kws, cbar_ax, square, xticklabels, yticklabels, mask, ax, **kwargs)\u001b[0m\n\u001b[1;32m    362\u001b[0m \u001b[39m\"\"\"Plot rectangular data as a color-encoded matrix.\u001b[39;00m\n\u001b[1;32m    363\u001b[0m \n\u001b[1;32m    364\u001b[0m \u001b[39mThis is an Axes-level function and will draw the heatmap into the\u001b[39;00m\n\u001b[0;32m   (...)\u001b[0m\n\u001b[1;32m    537\u001b[0m \u001b[39m    ...     ax = sns.heatmap(corr, mask=mask, vmax=.3, square=True)\u001b[39;00m\n\u001b[1;32m    538\u001b[0m \u001b[39m\"\"\"\u001b[39;00m\n\u001b[1;32m    539\u001b[0m \u001b[39m# Initialize the plotter object\u001b[39;00m\n\u001b[0;32m--> 540\u001b[0m plotter \u001b[39m=\u001b[39m _HeatMapper(data, vmin, vmax, cmap, center, robust, annot, fmt,\n\u001b[1;32m    541\u001b[0m                       annot_kws, cbar, cbar_kws, xticklabels,\n\u001b[1;32m    542\u001b[0m                       yticklabels, mask)\n\u001b[1;32m    544\u001b[0m \u001b[39m# Add the pcolormesh kwargs here\u001b[39;00m\n\u001b[1;32m    545\u001b[0m kwargs[\u001b[39m\"\u001b[39m\u001b[39mlinewidths\u001b[39m\u001b[39m\"\u001b[39m] \u001b[39m=\u001b[39m linewidths\n",
      "File \u001b[0;32m~/opt/anaconda3/lib/python3.9/site-packages/seaborn/matrix.py:159\u001b[0m, in \u001b[0;36m_HeatMapper.__init__\u001b[0;34m(self, data, vmin, vmax, cmap, center, robust, annot, fmt, annot_kws, cbar, cbar_kws, xticklabels, yticklabels, mask)\u001b[0m\n\u001b[1;32m    156\u001b[0m \u001b[39mself\u001b[39m\u001b[39m.\u001b[39mylabel \u001b[39m=\u001b[39m ylabel \u001b[39mif\u001b[39;00m ylabel \u001b[39mis\u001b[39;00m \u001b[39mnot\u001b[39;00m \u001b[39mNone\u001b[39;00m \u001b[39melse\u001b[39;00m \u001b[39m\"\u001b[39m\u001b[39m\"\u001b[39m\n\u001b[1;32m    158\u001b[0m \u001b[39m# Determine good default values for the colormapping\u001b[39;00m\n\u001b[0;32m--> 159\u001b[0m \u001b[39mself\u001b[39;49m\u001b[39m.\u001b[39;49m_determine_cmap_params(plot_data, vmin, vmax,\n\u001b[1;32m    160\u001b[0m                             cmap, center, robust)\n\u001b[1;32m    162\u001b[0m \u001b[39m# Sort out the annotations\u001b[39;00m\n\u001b[1;32m    163\u001b[0m \u001b[39mif\u001b[39;00m annot \u001b[39mis\u001b[39;00m \u001b[39mNone\u001b[39;00m \u001b[39mor\u001b[39;00m annot \u001b[39mis\u001b[39;00m \u001b[39mFalse\u001b[39;00m:\n",
      "File \u001b[0;32m~/opt/anaconda3/lib/python3.9/site-packages/seaborn/matrix.py:198\u001b[0m, in \u001b[0;36m_HeatMapper._determine_cmap_params\u001b[0;34m(self, plot_data, vmin, vmax, cmap, center, robust)\u001b[0m\n\u001b[1;32m    196\u001b[0m         vmin \u001b[39m=\u001b[39m np\u001b[39m.\u001b[39mnanpercentile(calc_data, \u001b[39m2\u001b[39m)\n\u001b[1;32m    197\u001b[0m     \u001b[39melse\u001b[39;00m:\n\u001b[0;32m--> 198\u001b[0m         vmin \u001b[39m=\u001b[39m np\u001b[39m.\u001b[39;49mnanmin(calc_data)\n\u001b[1;32m    199\u001b[0m \u001b[39mif\u001b[39;00m vmax \u001b[39mis\u001b[39;00m \u001b[39mNone\u001b[39;00m:\n\u001b[1;32m    200\u001b[0m     \u001b[39mif\u001b[39;00m robust:\n",
      "File \u001b[0;32m~/opt/anaconda3/lib/python3.9/site-packages/numpy/lib/nanfunctions.py:343\u001b[0m, in \u001b[0;36mnanmin\u001b[0;34m(a, axis, out, keepdims, initial, where)\u001b[0m\n\u001b[1;32m    338\u001b[0m     kwargs[\u001b[39m'\u001b[39m\u001b[39mwhere\u001b[39m\u001b[39m'\u001b[39m] \u001b[39m=\u001b[39m where\n\u001b[1;32m    340\u001b[0m \u001b[39mif\u001b[39;00m \u001b[39mtype\u001b[39m(a) \u001b[39mis\u001b[39;00m np\u001b[39m.\u001b[39mndarray \u001b[39mand\u001b[39;00m a\u001b[39m.\u001b[39mdtype \u001b[39m!=\u001b[39m np\u001b[39m.\u001b[39mobject_:\n\u001b[1;32m    341\u001b[0m     \u001b[39m# Fast, but not safe for subclasses of ndarray, or object arrays,\u001b[39;00m\n\u001b[1;32m    342\u001b[0m     \u001b[39m# which do not implement isnan (gh-9009), or fmin correctly (gh-8975)\u001b[39;00m\n\u001b[0;32m--> 343\u001b[0m     res \u001b[39m=\u001b[39m np\u001b[39m.\u001b[39;49mfmin\u001b[39m.\u001b[39;49mreduce(a, axis\u001b[39m=\u001b[39;49maxis, out\u001b[39m=\u001b[39;49mout, \u001b[39m*\u001b[39;49m\u001b[39m*\u001b[39;49mkwargs)\n\u001b[1;32m    344\u001b[0m     \u001b[39mif\u001b[39;00m np\u001b[39m.\u001b[39misnan(res)\u001b[39m.\u001b[39many():\n\u001b[1;32m    345\u001b[0m         warnings\u001b[39m.\u001b[39mwarn(\u001b[39m\"\u001b[39m\u001b[39mAll-NaN slice encountered\u001b[39m\u001b[39m\"\u001b[39m, \u001b[39mRuntimeWarning\u001b[39;00m,\n\u001b[1;32m    346\u001b[0m                       stacklevel\u001b[39m=\u001b[39m\u001b[39m2\u001b[39m)\n",
      "\u001b[0;31mValueError\u001b[0m: zero-size array to reduction operation fmin which has no identity"
     ]
    },
    {
     "data": {
      "image/png": "[encoded data removed]",
      "text/plain": [
       "<Figure size 1440x1440 with 1 Axes>"
      ]
     },
     "metadata": {},
     "output_type": "display_data"
    }
   ],
   "source": [
    "# Create the pivot table with months as columns and years as rows\n",
    "df_tmp = df_final_dataset[(df_final_dataset['year'] >=1970) & (df_final_dataset['year'] <=2014) ]\n",
    "hmap_21 = pd.pivot_table(data=df_tmp, index='year', columns='month', aggfunc='count', values='title')\n",
    "hmap_21 = hmap_21.fillna(0)\n",
    "\n",
    "# Set the font scale for better readability\n",
    "sns.set(font_scale=1)\n",
    "\n",
    "# Create the plot\n",
    "f, ax = plt.subplots(figsize=(20, 20))\n",
    "sns.heatmap(hmap_21, annot=True, linewidths=.5, ax=ax, fmt='g', xticklabels=[\"Jan\", \"Feb\", \"Mar\", \"Apr\", \"May\", \"Jun\", \"Jul\", \"Aug\", \"Sep\", \"Oct\", \"Nov\", \"Dec\"])\n",
    "plt.yticks(rotation=0)\n",
    "# Display the plot\n",
    "plt.show()"
   ]
  },
  {
   "cell_type": "code",
   "execution_count": null,
   "id": "7d07a064-c217-45fe-84f0-4459b1f4597d",
   "metadata": {},
   "outputs": [
    {
     "name": "stdout",
     "output_type": "stream",
     "text": [
      "Correlation coefficient: 0.57\n"
     ]
    },
    {
     "data": {
      "image/png": "[encoded data removed]",
      "text/plain": [
       "<Figure size 800x600 with 1 Axes>"
      ]
     },
     "metadata": {},
     "output_type": "display_data"
    }
   ],
   "source": [
    "# Assuming you have a DataFrame 'df' with columns 'var1' and 'var2'\n",
    "plt.figure(figsize=(8, 6))\n",
    "plt.scatter(df_final_dataset['budget'], df_final_dataset['box_office_clean'])\n",
    "\n",
    "# Calculate the correlation coefficient\n",
    "correlation = df_final_dataset['budget'].corr(df_final_dataset['box_office_clean'])\n",
    "print(f'Correlation coefficient: {correlation:.2f}')\n",
    "\n",
    "# Add a line of best fit\n",
    "z = np.polyfit(df_final_dataset['budget'], df_final_dataset['box_office_clean'], 1)\n",
    "p = np.poly1d(z)\n",
    "plt.plot(df_final_dataset['budget'], p(df_final_dataset['budget']), color='red', label=f'Line of best fit (r={correlation:.2f})')\n",
    "\n",
    "plt.xlabel('Variable 1')\n",
    "plt.ylabel('Variable 2')\n",
    "plt.title('Correlation Plot')\n",
    "plt.legend()\n",
    "plt.show()"
   ]
  },
  {
   "cell_type": "markdown",
   "id": "ff58bc98-fba4-4071-a91e-e9d783c1f3eb",
   "metadata": {},
   "source": [
    "#### _Correlation between the features_"
   ]
  },
  {
   "cell_type": "code",
   "execution_count": null,
   "id": "949cef8f-a82b-4330-a0f4-783e13f2ddfa",
   "metadata": {},
   "outputs": [
    {
     "data": {
      "text/html": [
       "<div>\n",
       "<style scoped>\n",
       "    .dataframe tbody tr th:only-of-type {\n",
       "        vertical-align: middle;\n",
       "    }\n",
       "\n",
       "    .dataframe tbody tr th {\n",
       "        vertical-align: top;\n",
       "    }\n",
       "\n",
       "    .dataframe thead th {\n",
       "        text-align: right;\n",
       "    }\n",
       "</style>\n",
       "<table border=\"1\" class=\"dataframe\">\n",
       "  <thead>\n",
       "    <tr style=\"text-align: right;\">\n",
       "      <th></th>\n",
       "      <th>day</th>\n",
       "      <th>month</th>\n",
       "      <th>year</th>\n",
       "      <th>box_office_clean</th>\n",
       "      <th>runtime_clean</th>\n",
       "      <th>popularity</th>\n",
       "      <th>vote_average</th>\n",
       "      <th>vote_count</th>\n",
       "    </tr>\n",
       "  </thead>\n",
       "  <tbody>\n",
       "    <tr>\n",
       "      <th>0</th>\n",
       "      <td>0</td>\n",
       "      <td>0</td>\n",
       "      <td>0</td>\n",
       "      <td>NaN</td>\n",
       "      <td>NaN</td>\n",
       "      <td>7.058599</td>\n",
       "      <td>4.8</td>\n",
       "      <td>299.0</td>\n",
       "    </tr>\n",
       "    <tr>\n",
       "      <th>1</th>\n",
       "      <td>0</td>\n",
       "      <td>0</td>\n",
       "      <td>0</td>\n",
       "      <td>NaN</td>\n",
       "      <td>NaN</td>\n",
       "      <td>3.121105</td>\n",
       "      <td>5.7</td>\n",
       "      <td>15.0</td>\n",
       "    </tr>\n",
       "    <tr>\n",
       "      <th>2</th>\n",
       "      <td>0</td>\n",
       "      <td>0</td>\n",
       "      <td>0</td>\n",
       "      <td>NaN</td>\n",
       "      <td>NaN</td>\n",
       "      <td>0.632261</td>\n",
       "      <td>4.8</td>\n",
       "      <td>6.0</td>\n",
       "    </tr>\n",
       "    <tr>\n",
       "      <th>3</th>\n",
       "      <td>0</td>\n",
       "      <td>0</td>\n",
       "      <td>0</td>\n",
       "      <td>NaN</td>\n",
       "      <td>NaN</td>\n",
       "      <td>1.514972</td>\n",
       "      <td>6.5</td>\n",
       "      <td>34.0</td>\n",
       "    </tr>\n",
       "    <tr>\n",
       "      <th>4</th>\n",
       "      <td>0</td>\n",
       "      <td>0</td>\n",
       "      <td>0</td>\n",
       "      <td>NaN</td>\n",
       "      <td>NaN</td>\n",
       "      <td>0.036814</td>\n",
       "      <td>6.0</td>\n",
       "      <td>1.0</td>\n",
       "    </tr>\n",
       "    <tr>\n",
       "      <th>...</th>\n",
       "      <td>...</td>\n",
       "      <td>...</td>\n",
       "      <td>...</td>\n",
       "      <td>...</td>\n",
       "      <td>...</td>\n",
       "      <td>...</td>\n",
       "      <td>...</td>\n",
       "      <td>...</td>\n",
       "    </tr>\n",
       "    <tr>\n",
       "      <th>27324</th>\n",
       "      <td>0</td>\n",
       "      <td>0</td>\n",
       "      <td>0</td>\n",
       "      <td>NaN</td>\n",
       "      <td>NaN</td>\n",
       "      <td>0.036471</td>\n",
       "      <td>5.0</td>\n",
       "      <td>1.0</td>\n",
       "    </tr>\n",
       "    <tr>\n",
       "      <th>27325</th>\n",
       "      <td>0</td>\n",
       "      <td>0</td>\n",
       "      <td>0</td>\n",
       "      <td>NaN</td>\n",
       "      <td>NaN</td>\n",
       "      <td>0.431908</td>\n",
       "      <td>6.0</td>\n",
       "      <td>9.0</td>\n",
       "    </tr>\n",
       "    <tr>\n",
       "      <th>27326</th>\n",
       "      <td>0</td>\n",
       "      <td>0</td>\n",
       "      <td>0</td>\n",
       "      <td>NaN</td>\n",
       "      <td>NaN</td>\n",
       "      <td>0.921068</td>\n",
       "      <td>6.6</td>\n",
       "      <td>8.0</td>\n",
       "    </tr>\n",
       "    <tr>\n",
       "      <th>27327</th>\n",
       "      <td>0</td>\n",
       "      <td>0</td>\n",
       "      <td>0</td>\n",
       "      <td>NaN</td>\n",
       "      <td>NaN</td>\n",
       "      <td>0.471086</td>\n",
       "      <td>5.6</td>\n",
       "      <td>5.0</td>\n",
       "    </tr>\n",
       "    <tr>\n",
       "      <th>27328</th>\n",
       "      <td>0</td>\n",
       "      <td>0</td>\n",
       "      <td>0</td>\n",
       "      <td>NaN</td>\n",
       "      <td>NaN</td>\n",
       "      <td>1.213981</td>\n",
       "      <td>5.1</td>\n",
       "      <td>11.0</td>\n",
       "    </tr>\n",
       "  </tbody>\n",
       "</table>\n",
       "<p>27329 rows × 8 columns</p>\n",
       "</div>"
      ],
      "text/plain": [
       "       day  month  year  box_office_clean  runtime_clean popularity  \\\n",
       "0        0      0     0               NaN            NaN   7.058599   \n",
       "1        0      0     0               NaN            NaN   3.121105   \n",
       "2        0      0     0               NaN            NaN   0.632261   \n",
       "3        0      0     0               NaN            NaN   1.514972   \n",
       "4        0      0     0               NaN            NaN   0.036814   \n",
       "...    ...    ...   ...               ...            ...        ...   \n",
       "27324    0      0     0               NaN            NaN   0.036471   \n",
       "27325    0      0     0               NaN            NaN   0.431908   \n",
       "27326    0      0     0               NaN            NaN   0.921068   \n",
       "27327    0      0     0               NaN            NaN   0.471086   \n",
       "27328    0      0     0               NaN            NaN   1.213981   \n",
       "\n",
       "       vote_average  vote_count  \n",
       "0               4.8       299.0  \n",
       "1               5.7        15.0  \n",
       "2               4.8         6.0  \n",
       "3               6.5        34.0  \n",
       "4               6.0         1.0  \n",
       "...             ...         ...  \n",
       "27324           5.0         1.0  \n",
       "27325           6.0         9.0  \n",
       "27326           6.6         8.0  \n",
       "27327           5.6         5.0  \n",
       "27328           5.1        11.0  \n",
       "\n",
       "[27329 rows x 8 columns]"
      ]
     },
     "execution_count": 163,
     "metadata": {},
     "output_type": "execute_result"
    }
   ],
   "source": [
    "df_corr = df_final_dataset[['day', 'month', 'year', 'box_office_clean', 'runtime_clean', 'popularity', 'vote_average', 'vote_count']]\n",
    "df_corr"
   ]
  },
  {
   "cell_type": "code",
   "execution_count": null,
   "id": "b87ee3ea-780d-4724-b8d7-69a00bd60091",
   "metadata": {},
   "outputs": [
    {
     "data": {
      "image/png": "[encoded data removed]",
      "text/plain": [
       "<Figure size 576x432 with 2 Axes>"
      ]
     },
     "metadata": {},
     "output_type": "display_data"
    }
   ],
   "source": [
    "correlation_matrix = df_corr.corr()\n",
    "\n",
    "# Create a mask for the upper triangle\n",
    "mask = np.triu(np.ones_like(correlation_matrix), k=1)\n",
    "\n",
    "# Set up the matplotlib figure\n",
    "plt.figure(figsize=(8, 6))\n",
    "\n",
    "# Create a heatmap\n",
    "sns.heatmap(correlation_matrix, \n",
    "            annot=True,  # Show correlation values\n",
    "            cmap='coolwarm',  # Color scheme\n",
    "            center=0,  # Center the colorbar at 0\n",
    "            vmin=-1, vmax=1,  # Set the range of correlations\n",
    "            mask=mask,  # Apply the mask to show only lower triangle\n",
    "            fmt='.2f',  # Format correlation values to 2 decimal places\n",
    "            square=True,  # Make cells square\n",
    "            linewidths=0.5,  # Add grid lines\n",
    "            cbar_kws={'shrink': .5})  # Adjust colorbar size\n",
    "\n",
    "plt.title('Correlation Matrix')\n",
    "plt.tight_layout()"
   ]
  },
  {
   "cell_type": "markdown",
   "id": "8eb37046-42a8-4e67-abb8-9239d5b2b29d",
   "metadata": {},
   "source": [
    "## 3. Demographic Recommandation System\n",
    "<a id='section-3'></a>"
   ]
  },
  {
   "cell_type": "code",
   "execution_count": null,
   "id": "d2559986-1a6b-4341-b0ff-c22aff5a77a2",
   "metadata": {},
   "outputs": [],
   "source": [
    "df_ratings = pd.read_csv('TMdB_Movielens_combined/ratings.csv')\n",
    "df_links = pd.read_csv('TMdB_Movielens_combined/links.csv')"
   ]
  },
  {
   "cell_type": "code",
   "execution_count": null,
   "id": "19981be3-60e8-4e41-a292-7e330faa61f9",
   "metadata": {},
   "outputs": [
    {
     "data": {
      "text/plain": [
       "(45843, 3)"
      ]
     },
     "execution_count": 166,
     "metadata": {},
     "output_type": "execute_result"
    }
   ],
   "source": [
    "df_links.shape"
   ]
  },
  {
   "cell_type": "code",
   "execution_count": null,
   "id": "3f0c4684-0e4c-4add-8bc5-18aaeff3ff9a",
   "metadata": {},
   "outputs": [
    {
     "data": {
      "text/plain": [
       "(26024289, 4)"
      ]
     },
     "execution_count": 167,
     "metadata": {},
     "output_type": "execute_result"
    }
   ],
   "source": [
    "df_ratings.shape"
   ]
  },
  {
   "cell_type": "code",
   "execution_count": 168,
   "id": "c2751b46-b730-4769-9742-7c31ab50e338",
   "metadata": {},
   "outputs": [
    {
     "data": {
      "text/html": [
       "<div>\n",
       "<style scoped>\n",
       "    .dataframe tbody tr th:only-of-type {\n",
       "        vertical-align: middle;\n",
       "    }\n",
       "\n",
       "    .dataframe tbody tr th {\n",
       "        vertical-align: top;\n",
       "    }\n",
       "\n",
       "    .dataframe thead th {\n",
       "        text-align: right;\n",
       "    }\n",
       "</style>\n",
       "<table border=\"1\" class=\"dataframe\">\n",
       "  <thead>\n",
       "    <tr style=\"text-align: right;\">\n",
       "      <th></th>\n",
       "      <th>userId</th>\n",
       "      <th>movieId</th>\n",
       "      <th>rating</th>\n",
       "      <th>timestamp</th>\n",
       "    </tr>\n",
       "  </thead>\n",
       "  <tbody>\n",
       "    <tr>\n",
       "      <th>0</th>\n",
       "      <td>1</td>\n",
       "      <td>110</td>\n",
       "      <td>1.0</td>\n",
       "      <td>1425941529</td>\n",
       "    </tr>\n",
       "    <tr>\n",
       "      <th>1</th>\n",
       "      <td>1</td>\n",
       "      <td>147</td>\n",
       "      <td>4.5</td>\n",
       "      <td>1425942435</td>\n",
       "    </tr>\n",
       "    <tr>\n",
       "      <th>2</th>\n",
       "      <td>1</td>\n",
       "      <td>858</td>\n",
       "      <td>5.0</td>\n",
       "      <td>1425941523</td>\n",
       "    </tr>\n",
       "    <tr>\n",
       "      <th>3</th>\n",
       "      <td>1</td>\n",
       "      <td>1221</td>\n",
       "      <td>5.0</td>\n",
       "      <td>1425941546</td>\n",
       "    </tr>\n",
       "    <tr>\n",
       "      <th>4</th>\n",
       "      <td>1</td>\n",
       "      <td>1246</td>\n",
       "      <td>5.0</td>\n",
       "      <td>1425941556</td>\n",
       "    </tr>\n",
       "    <tr>\n",
       "      <th>...</th>\n",
       "      <td>...</td>\n",
       "      <td>...</td>\n",
       "      <td>...</td>\n",
       "      <td>...</td>\n",
       "    </tr>\n",
       "    <tr>\n",
       "      <th>26024284</th>\n",
       "      <td>270896</td>\n",
       "      <td>58559</td>\n",
       "      <td>5.0</td>\n",
       "      <td>1257031564</td>\n",
       "    </tr>\n",
       "    <tr>\n",
       "      <th>26024285</th>\n",
       "      <td>270896</td>\n",
       "      <td>60069</td>\n",
       "      <td>5.0</td>\n",
       "      <td>1257032032</td>\n",
       "    </tr>\n",
       "    <tr>\n",
       "      <th>26024286</th>\n",
       "      <td>270896</td>\n",
       "      <td>63082</td>\n",
       "      <td>4.5</td>\n",
       "      <td>1257031764</td>\n",
       "    </tr>\n",
       "    <tr>\n",
       "      <th>26024287</th>\n",
       "      <td>270896</td>\n",
       "      <td>64957</td>\n",
       "      <td>4.5</td>\n",
       "      <td>1257033990</td>\n",
       "    </tr>\n",
       "    <tr>\n",
       "      <th>26024288</th>\n",
       "      <td>270896</td>\n",
       "      <td>71878</td>\n",
       "      <td>2.0</td>\n",
       "      <td>1257031858</td>\n",
       "    </tr>\n",
       "  </tbody>\n",
       "</table>\n",
       "<p>26024289 rows × 4 columns</p>\n",
       "</div>"
      ],
      "text/plain": [
       "          userId  movieId  rating   timestamp\n",
       "0              1      110     1.0  1425941529\n",
       "1              1      147     4.5  1425942435\n",
       "2              1      858     5.0  1425941523\n",
       "3              1     1221     5.0  1425941546\n",
       "4              1     1246     5.0  1425941556\n",
       "...          ...      ...     ...         ...\n",
       "26024284  270896    58559     5.0  1257031564\n",
       "26024285  270896    60069     5.0  1257032032\n",
       "26024286  270896    63082     4.5  1257031764\n",
       "26024287  270896    64957     4.5  1257033990\n",
       "26024288  270896    71878     2.0  1257031858\n",
       "\n",
       "[26024289 rows x 4 columns]"
      ]
     },
     "execution_count": 168,
     "metadata": {},
     "output_type": "execute_result"
    }
   ],
   "source": [
    "df_ratings"
   ]
  },
  {
   "cell_type": "code",
   "execution_count": 169,
   "id": "58b461e5-e873-4946-99b6-f878a555d197",
   "metadata": {},
   "outputs": [
    {
     "data": {
      "text/plain": [
       "(27329, 26)"
      ]
     },
     "execution_count": 169,
     "metadata": {},
     "output_type": "execute_result"
    }
   ],
   "source": [
    "df_final_dataset.shape"
   ]
  },
  {
   "cell_type": "code",
   "execution_count": 170,
   "id": "90c78e68-caca-4fa4-a870-5aae784cbade",
   "metadata": {},
   "outputs": [
    {
     "data": {
      "text/plain": [
       "(45843, 3)"
      ]
     },
     "execution_count": 170,
     "metadata": {},
     "output_type": "execute_result"
    }
   ],
   "source": [
    "df_links.shape"
   ]
  },
  {
   "cell_type": "code",
   "execution_count": 171,
   "id": "e84db62f-1fde-4427-bc53-79f81d082594",
   "metadata": {},
   "outputs": [],
   "source": [
    "df_final_dataset['imdb_id'] = df_final_dataset['imdb_id'].str.replace(\"tt\", \"\").astype(int)"
   ]
  },
  {
   "cell_type": "code",
   "execution_count": 172,
   "id": "5cf7ca31-df6f-417c-918a-6451d63511f3",
   "metadata": {},
   "outputs": [],
   "source": [
    "df_ratings_with_imdb_id = pd.merge(df_ratings, df_links, on='movieId', how='left')"
   ]
  },
  {
   "cell_type": "code",
   "execution_count": 173,
   "id": "52c22726-e352-4804-9823-0b65d5aec729",
   "metadata": {},
   "outputs": [
    {
     "data": {
      "text/plain": [
       "(26024289, 6)"
      ]
     },
     "execution_count": 173,
     "metadata": {},
     "output_type": "execute_result"
    }
   ],
   "source": [
    "df_ratings_with_imdb_id.shape"
   ]
  },
  {
   "cell_type": "code",
   "execution_count": 174,
   "id": "ff031e0a-ce14-4f76-991b-c56c48b78b39",
   "metadata": {},
   "outputs": [
    {
     "data": {
      "text/html": [
       "<div>\n",
       "<style scoped>\n",
       "    .dataframe tbody tr th:only-of-type {\n",
       "        vertical-align: middle;\n",
       "    }\n",
       "\n",
       "    .dataframe tbody tr th {\n",
       "        vertical-align: top;\n",
       "    }\n",
       "\n",
       "    .dataframe thead th {\n",
       "        text-align: right;\n",
       "    }\n",
       "</style>\n",
       "<table border=\"1\" class=\"dataframe\">\n",
       "  <thead>\n",
       "    <tr style=\"text-align: right;\">\n",
       "      <th></th>\n",
       "      <th>userId</th>\n",
       "      <th>movieId</th>\n",
       "      <th>rating</th>\n",
       "      <th>timestamp</th>\n",
       "      <th>imdbId</th>\n",
       "      <th>tmdbId</th>\n",
       "    </tr>\n",
       "  </thead>\n",
       "  <tbody>\n",
       "    <tr>\n",
       "      <th>0</th>\n",
       "      <td>1</td>\n",
       "      <td>110</td>\n",
       "      <td>1.0</td>\n",
       "      <td>1425941529</td>\n",
       "      <td>112573</td>\n",
       "      <td>197.0</td>\n",
       "    </tr>\n",
       "    <tr>\n",
       "      <th>1</th>\n",
       "      <td>1</td>\n",
       "      <td>147</td>\n",
       "      <td>4.5</td>\n",
       "      <td>1425942435</td>\n",
       "      <td>112461</td>\n",
       "      <td>10474.0</td>\n",
       "    </tr>\n",
       "  </tbody>\n",
       "</table>\n",
       "</div>"
      ],
      "text/plain": [
       "   userId  movieId  rating   timestamp  imdbId   tmdbId\n",
       "0       1      110     1.0  1425941529  112573    197.0\n",
       "1       1      147     4.5  1425942435  112461  10474.0"
      ]
     },
     "execution_count": 174,
     "metadata": {},
     "output_type": "execute_result"
    }
   ],
   "source": [
    "df_ratings_with_imdb_id.head(2)"
   ]
  },
  {
   "cell_type": "code",
   "execution_count": 175,
   "id": "7af7f367-f6eb-4306-a009-f5369b030fd9",
   "metadata": {},
   "outputs": [],
   "source": [
    "df_ratings_with_imdb_id = df_ratings_with_imdb_id[df_ratings_with_imdb_id['imdbId'].isin(df_final_dataset['imdb_id'].unique())]"
   ]
  },
  {
   "cell_type": "code",
   "execution_count": 176,
   "id": "e6c22efa-d762-4a9d-ad5b-fd8da57ad8e1",
   "metadata": {},
   "outputs": [
    {
     "data": {
      "text/html": [
       "<div>\n",
       "<style scoped>\n",
       "    .dataframe tbody tr th:only-of-type {\n",
       "        vertical-align: middle;\n",
       "    }\n",
       "\n",
       "    .dataframe tbody tr th {\n",
       "        vertical-align: top;\n",
       "    }\n",
       "\n",
       "    .dataframe thead th {\n",
       "        text-align: right;\n",
       "    }\n",
       "</style>\n",
       "<table border=\"1\" class=\"dataframe\">\n",
       "  <thead>\n",
       "    <tr style=\"text-align: right;\">\n",
       "      <th></th>\n",
       "      <th>userId</th>\n",
       "      <th>movieId</th>\n",
       "      <th>rating</th>\n",
       "      <th>timestamp</th>\n",
       "      <th>imdbId</th>\n",
       "      <th>tmdbId</th>\n",
       "    </tr>\n",
       "  </thead>\n",
       "  <tbody>\n",
       "    <tr>\n",
       "      <th>0</th>\n",
       "      <td>1</td>\n",
       "      <td>110</td>\n",
       "      <td>1.0</td>\n",
       "      <td>1425941529</td>\n",
       "      <td>112573</td>\n",
       "      <td>197.0</td>\n",
       "    </tr>\n",
       "    <tr>\n",
       "      <th>1</th>\n",
       "      <td>1</td>\n",
       "      <td>147</td>\n",
       "      <td>4.5</td>\n",
       "      <td>1425942435</td>\n",
       "      <td>112461</td>\n",
       "      <td>10474.0</td>\n",
       "    </tr>\n",
       "  </tbody>\n",
       "</table>\n",
       "</div>"
      ],
      "text/plain": [
       "   userId  movieId  rating   timestamp  imdbId   tmdbId\n",
       "0       1      110     1.0  1425941529  112573    197.0\n",
       "1       1      147     4.5  1425942435  112461  10474.0"
      ]
     },
     "execution_count": 176,
     "metadata": {},
     "output_type": "execute_result"
    }
   ],
   "source": [
    "df_ratings_with_imdb_id.head(2)"
   ]
  },
  {
   "cell_type": "code",
   "execution_count": null,
   "id": "1cd035af-5a00-4e8e-aa09-e6ff8afcb1c0",
   "metadata": {},
   "outputs": [],
   "source": []
  },
  {
   "cell_type": "code",
   "execution_count": null,
   "id": "4cb64714-8f23-4672-a97c-59550c49398e",
   "metadata": {},
   "outputs": [],
   "source": []
  },
  {
   "cell_type": "code",
   "execution_count": null,
   "id": "37d9a009-5b06-4ba9-853d-a19388f0b3b0",
   "metadata": {},
   "outputs": [],
   "source": []
  },
  {
   "cell_type": "code",
   "execution_count": null,
   "id": "fa212fac-ba9b-4cab-ac64-0992c98f98ee",
   "metadata": {},
   "outputs": [],
   "source": []
  },
  {
   "cell_type": "code",
   "execution_count": null,
   "id": "39a8fd0f-6d58-4b33-8d4b-8f684d83448b",
   "metadata": {},
   "outputs": [],
   "source": []
  },
  {
   "cell_type": "markdown",
   "id": "185c377f-7376-4473-bb7c-b946468cb7a7",
   "metadata": {},
   "source": [
    "## 4. Collaborative filtering Recommandation System\n",
    "<a id='section-4'></a>"
   ]
  },
  {
   "cell_type": "code",
   "execution_count": null,
   "id": "7c100307-1380-4469-8f45-3b15ad6cfdb6",
   "metadata": {},
   "outputs": [],
   "source": []
  },
  {
   "cell_type": "code",
   "execution_count": null,
   "id": "806d50e8-4a00-4eb6-9c8f-a2a9216c7eab",
   "metadata": {},
   "outputs": [],
   "source": []
  },
  {
   "cell_type": "code",
   "execution_count": null,
   "id": "32ad3bc0-b220-4823-bd0d-1623f1e40e8d",
   "metadata": {},
   "outputs": [],
   "source": []
  },
  {
   "cell_type": "code",
   "execution_count": null,
   "id": "fd3737d1-8230-4a9e-8ff7-434844214ba5",
   "metadata": {},
   "outputs": [],
   "source": []
  },
  {
   "cell_type": "markdown",
   "id": "3b580c40-846b-4dc4-8981-4090291e13cd",
   "metadata": {},
   "source": [
    "## 5. Content-based filtering Recommandation System\n",
    "<a id='section-5'></a>"
   ]
  },
  {
   "cell_type": "code",
   "execution_count": null,
   "id": "d6afa291-5532-49fc-b6e9-f1b22568a778",
   "metadata": {},
   "outputs": [],
   "source": [
    "#Reloading data set (model was not yet adapted for the preprocessed dataset)\n",
    "df = pd.read_csv('ml-32m/ratings.csv')\n",
    "df = df[df['userId'] != 175325]\n",
    "movies = pd.read_csv('ml-32m/movies.csv')\n",
    "movies['title_format'] = movies['title'].str[:-6].str.strip().str.lower()"
   ]
  },
  {
   "cell_type": "code",
   "execution_count": null,
   "id": "7624bc0c-aa73-48eb-9606-3ac156f1519b",
   "metadata": {},
   "outputs": [],
   "source": [
    "ratings_model_df=one_hot_encoding_genre(df,movies)\n",
    "evaluate_model_for_user(100,ratings_model_df)"
   ]
  },
  {
   "cell_type": "code",
   "execution_count": null,
   "id": "63ae0fd9-14f1-41c2-9645-9eeddf7d2dbc",
   "metadata": {},
   "outputs": [],
   "source": []
  },
  {
   "cell_type": "markdown",
   "id": "0df22351-0d81-4675-ab90-5cb8d8a3ba02",
   "metadata": {},
   "source": [
    "## 6. Hybrid filtering Recommandation System\n",
    "<a id='section-6'></a>"
   ]
  }
 ],
 "metadata": {
  "kernelspec": {
   "display_name": "Python 3.9.12 ('base')",
   "language": "python",
   "name": "python3"
  },
  "language_info": {
   "codemirror_mode": {
    "name": "ipython",
    "version": 3
   },
   "file_extension": ".py",
   "mimetype": "text/x-python",
   "name": "python",
   "nbconvert_exporter": "python",
   "pygments_lexer": "ipython3",
   "version": "3.9.12"
  },
  "vscode": {
   "interpreter": {
    "hash": "9e060fb6a235d6702d70df6454c98d2cb490f8716e1a8dc9eca7c491f2c17490"
   }
  }
 },
 "nbformat": 4,
 "nbformat_minor": 5
}
