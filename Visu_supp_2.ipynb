{
 "cells": [
  {
   "cell_type": "code",
   "execution_count": 1,
   "metadata": {},
   "outputs": [],
   "source": [
    "import pandas as pd\n",
    "import numpy as np\n",
    "import matplotlib.pyplot as plt\n",
    "from helpers import *\n",
    "pd.set_option('display.max_columns', 50)"
   ]
  },
  {
   "cell_type": "code",
   "execution_count": 2,
   "metadata": {},
   "outputs": [],
   "source": [
    "# Load the dataset\n",
    "df_final_dataset_copy = pd.read_csv('Data/final_dataset.csv', index_col= 0)\n",
    "df_final_dataset = df_final_dataset_copy.copy()\n",
    "\n",
    "# load the data again\n",
    "df_copy = pd.read_csv(\"Data/df_filtered.csv\", index_col=0)\n",
    "df = df_copy.copy()\n",
    "\n"
   ]
  },
  {
   "cell_type": "code",
   "execution_count": 3,
   "metadata": {},
   "outputs": [],
   "source": [
    "df_final_dataset = df_final_dataset_copy.copy()\n",
    "df = df_copy.copy()\n",
    "\n",
    "# run only this cell if you want to reset the dataset\n"
   ]
  },
  {
   "cell_type": "code",
   "execution_count": null,
   "metadata": {},
   "outputs": [],
   "source": [
    "print( df.columns )\n",
    "print( df_final_dataset.columns )\n",
    "\n",
    "# drop the nan values\n",
    "df = df.dropna(subset = ['userId', 'movieId', 'rating', 'imdbId'])\n",
    "print( df.head() )\n",
    "print( df_final_dataset.head() )\n"
   ]
  },
  {
   "cell_type": "code",
   "execution_count": null,
   "metadata": {},
   "outputs": [],
   "source": [
    "# Diagnostic print to help understand the data\n",
    "def print_dataframe_info(df):\n",
    "    print(\"\\nDataFrame Information:\")\n",
    "    print(df.info())\n",
    "    print(\"\\nFirst few rows:\")\n",
    "    print(df.head())\n",
    "    print(\"\\nColumn names:\")\n",
    "    print(df.columns.tolist())\n",
    "\n",
    "# Uncomment and use these diagnostic functions before creating visualizations\n",
    "print_dataframe_info(df)\n",
    "print_dataframe_info(df_final_dataset)"
   ]
  },
  {
   "cell_type": "code",
   "execution_count": null,
   "metadata": {},
   "outputs": [],
   "source": [
    "df_final_dataset = df_final_dataset_copy.copy()\n",
    "df = df_copy.copy()\n",
    "import pandas as pd\n",
    "# import numpy as np\n",
    "import plotly.express as px\n",
    "# import plotly.graph_objs as go\n",
    "# from sklearn.preprocessing import StandardScaler\n",
    "from sklearn.cluster import KMeans\n",
    "# from sklearn.decomposition import PCA\n",
    "df_final_dataset = df_final_dataset.dropna(subset = ['genres_cmu', 'countries'])\n",
    "\n",
    "df_final_dataset['genres_cmu'] = df_final_dataset['genres_cmu'].str.split(',').apply(lambda x: [genre.strip() for genre in x]).explode().reset_index(drop=True)\n",
    "df_final_dataset['countries'] = df_final_dataset['countries'].str.split(',').apply(lambda x: [country.strip() for country in x]).explode().reset_index(drop=True)\n",
    "df_final_dataset['imdbId'] = df_final_dataset.index.astype(str)\n",
    "# suppress the first two tokens in the imdbId column \n",
    "df_final_dataset['imdbId'] = df_final_dataset['imdbId'].apply(lambda x: x[2:])\n",
    "df_final_dataset['imdbId'] = df_final_dataset['imdbId'].astype(int)\n",
    "\n",
    "\n",
    "# Merge the dataframes\n",
    "df_merged = df.merge(df_final_dataset, on='imdbId', how='left')   \n",
    "print(\"DataFrame shapes:\")\n",
    "print(\"df shape:\", df.shape)\n",
    "print(\"df_final_dataset shape:\", df_final_dataset.shape)\n",
    "\n",
    "# Merge the dataframes\n",
    "print(\"Merged dataframe shape:\", df_merged.shape)\n",
    "\n",
    "# Diagnostic: Check columns and data types\n",
    "print(\"\\nColumns in merged dataframe:\")\n",
    "print(df_merged.columns)\n"
   ]
  },
  {
   "cell_type": "code",
   "execution_count": null,
   "metadata": {},
   "outputs": [],
   "source": [
    "df.dropna(subset=['rating'], inplace=True)\n",
    "print(\"ratings column:\", df_merged['rating'].unique())\n",
    "\n",
    "# 1. Distribution of Ratings\n",
    "fig1 = px.histogram(df, x='rating', \n",
    "                    title='Distribution of Movie Ratings',\n",
    "                    labels={'rating': 'Rating', 'count': 'Number of Ratings'},\n",
    "                    color_discrete_sequence=['#636EFA'])\n",
    "fig1.show()\n",
    "fig1.write_html('rating_distribution.html')\n"
   ]
  },
  {
   "cell_type": "code",
   "execution_count": null,
   "metadata": {},
   "outputs": [],
   "source": [
    "\n",
    "# Calculate mean rating for each user\n",
    "user_mean_ratings = df.groupby('userId')['rating'].mean().reset_index()\n",
    "\n",
    "# Create a violin plot for the distribution of mean ratings per user\n",
    "fig_violin = px.violin(user_mean_ratings, y='rating', \n",
    "                       title='Distribution of Mean Ratings per User',\n",
    "                       labels={'rating': 'Mean Rating'},\n",
    "                       box=True, points='all')\n",
    "fig_violin.show()\n",
    "fig_violin.write_html('mean_rating_violin.html')\n"
   ]
  },
  {
   "cell_type": "code",
   "execution_count": 6,
   "metadata": {},
   "outputs": [],
   "source": [
    "df_final_dataset = df_final_dataset_copy.copy()\n",
    "df = df_copy.copy()\n",
    "df_final_dataset['imdbId'] = df_final_dataset.index.astype(str)\n",
    "df_final_dataset['imdbId'] = df_final_dataset['imdbId'].apply(lambda x: x[2:])\n",
    "df_final_dataset['imdbId'] = df_final_dataset['imdbId'].astype(int)\n",
    "df['imdbId'] = df['imdbId'].astype(int)  # Ensure same type\n",
    "\n",
    "# makes index go from 0 to n-1\n",
    "df_final_dataset = df_final_dataset.reset_index(drop=True)\n",
    "df_final_dataset = df_final_dataset.dropna(subset=['genres_cmu'])\n",
    "df_final_dataset['genres_cmu'] = df_final_dataset['genres_cmu'].str.split(',').apply(lambda x: [genre.strip() for genre in x]).explode().reset_index(drop=True)\n",
    "# Merge the dataframes\n",
    "df_merged = df.merge(df_final_dataset, on='imdbId', how='left') \n",
    "df_merged = df_merged.dropna(subset=['rating', 'genres_cmu'])\n"
   ]
  },
  {
   "cell_type": "code",
   "execution_count": null,
   "metadata": {},
   "outputs": [],
   "source": [
    "print(\"columns in merged dataframe:\", df_merged.columns)"
   ]
  },
  {
   "cell_type": "code",
   "execution_count": null,
   "metadata": {},
   "outputs": [],
   "source": [
    "\n",
    "# print(df_merged.head())\n",
    "# 2. Ratings by Genre\n",
    "try:\n",
    "    genre_ratings = df_merged.groupby('genres_cmu')['rating'].agg(['mean', 'count']).reset_index()\n",
    "    genre_ratings = genre_ratings.sort_values('count', ascending=False).head(15)\n",
    "\n",
    "    fig2 = px.bar(genre_ratings, x='genres_cmu', y='mean', \n",
    "                    title='Average Rating by Genre',\n",
    "                    labels={'mean': 'Average Rating', 'genres_cmu': 'Genre'},\n",
    "                    color='count', \n",
    "                    color_continuous_scale='Viridis')\n",
    "    fig2.show()\n",
    "    fig2.write_html('genre_ratings.html')\n",
    "except Exception as e:\n",
    "    print(\"Error in genre ratings visualization:\", e)\n",
    "    fig2 = None\n"
   ]
  },
  {
   "cell_type": "code",
   "execution_count": null,
   "metadata": {},
   "outputs": [],
   "source": [
    "from sklearn.decomposition import PCA\n",
    "from sklearn.preprocessing import StandardScaler\n",
    "import plotly.express as px\n",
    "\n",
    "user_genre_ratings = df_merged.groupby(['userId', 'genres_cmu'])['rating'].mean().unstack().fillna(0)\n",
    "\n",
    "# Standardize the data\n",
    "scaler = StandardScaler()\n",
    "user_genre_scaled = scaler.fit_transform(user_genre_ratings)\n",
    "\n",
    "# Perform PCA\n",
    "pca = PCA(n_components=2)  # Reduce to 2 dimensions for visualization\n",
    "user_pca = pca.fit_transform(user_genre_scaled)\n",
    "\n",
    "# Visualization of PCA\n",
    "fig_pca = px.scatter(\n",
    "    x=user_pca[:, 0], \n",
    "    y=user_pca[:, 1], \n",
    "    title='PCA Visualization of User Ratings by Genre',\n",
    "    labels={'x': 'First Principal Component', 'y': 'Second Principal Component'},\n",
    "    color=user_genre_ratings.index,  # Use index as labels\n",
    "    color_discrete_sequence=px.colors.qualitative.T10\n",
    ")\n",
    "fig_pca.show()\n"
   ]
  },
  {
   "cell_type": "code",
   "execution_count": null,
   "metadata": {},
   "outputs": [],
   "source": [
    "from sklearn.decomposition import PCA\n",
    "from sklearn.manifold import TSNE\n",
    "from sklearn.preprocessing import StandardScaler\n",
    "import plotly.express as px\n",
    "import pandas as pd\n",
    "\n",
    "# Step 1: Prepare data for similarity visualization\n",
    "selected_features = ['userId', 'genres_cmu', 'rating', 'budget']\n",
    "# Group data by userId and genres_cmu, calculating the mean of ratings and filling NaNs\n",
    "df_merged.dropna(subset=selected_features, inplace=True)\n",
    "user_genre_ratings = df_merged.groupby(['userId', 'genres_cmu'])['rating'].mean().unstack().fillna(0)\n",
    "\n",
    "# Include additional features if available (e.g., budget, etc.)\n",
    "if 'budget' in df_merged.columns:\n",
    "    user_genre_ratings['budget'] = df_merged.groupby('userId')['budget'].mean()\n",
    "\n",
    "subsample_size = 1000  # Adjust to an acceptable size\n",
    "user_genre_ratings = user_genre_ratings.sample(n=subsample_size, random_state=42)\n",
    "# Step 2: Standardize the data\n",
    "scaler = StandardScaler()\n",
    "user_genre_scaled = scaler.fit_transform(user_genre_ratings)\n",
    "\n",
    "# Step 3: Dimensionality reduction for visualization\n",
    "# Use PCA for initial dimensionality reduction\n",
    "pca = PCA(n_components=20)\n",
    "user_genre_pca = pca.fit_transform(user_genre_scaled)\n",
    "\n",
    "# Use t-SNE for a more detailed 2D visualization\n",
    "tsne = TSNE(n_components=2, random_state=42, perplexity=30, n_iter=300)\n",
    "user_genre_tsne = tsne.fit_transform(user_genre_pca)\n",
    "\n",
    "# Convert the result to a DataFrame for plotting\n",
    "user_tsne_df = pd.DataFrame(user_genre_tsne, columns=['Component 1', 'Component 2'])\n",
    "user_tsne_df['userId'] = user_genre_ratings.index\n",
    "\n",
    "# Step 5: Appliquer KMeans pour créer des clusters\n",
    "kmeans = KMeans(n_clusters=5, random_state=42)  # Ajustez n_clusters selon vos besoins\n",
    "user_tsne_df['Cluster'] = kmeans.fit_predict(user_tsne_df[['Component 1', 'Component 2']])\n",
    "\n",
    "# Step 6: Visualiser les clusters avec des couleurs différentes\n",
    "fig_similarity = px.scatter(\n",
    "    user_tsne_df,\n",
    "    x='Component 1',\n",
    "    y='Component 2',\n",
    "    hover_data=['userId'],\n",
    "    title='User Similarity Visualization Based on Ratings and Genres',\n",
    "    labels={'Component 1': 't-SNE Component 1', 'Component 2': 't-SNE Component 2'},\n",
    "    color='Cluster',  # Utiliser la colonne 'Cluster' pour colorier les clusters\n",
    "    color_continuous_scale='Viridis',  # Vous pouvez changer cette palette si nécessaire\n",
    "    category_orders={'Cluster': [0, 1]}  # Assurez-vous que les clusters sont ordonnés de manière correcte\n",
    ")\n",
    "fig_similarity.show()\n",
    "\n"
   ]
  },
  {
   "cell_type": "code",
   "execution_count": 7,
   "metadata": {},
   "outputs": [
    {
     "name": "stderr",
     "output_type": "stream",
     "text": [
      "c:\\Users\\Mayeul\\anaconda3\\envs\\ADA\\lib\\site-packages\\sklearn\\manifold\\_t_sne.py:1162: FutureWarning: 'n_iter' was renamed to 'max_iter' in version 1.5 and will be removed in 1.7.\n",
      "  warnings.warn(\n"
     ]
    },
    {
     "name": "stdout",
     "output_type": "stream",
     "text": [
      "Optimal Epsilon value: 1.0397999999999956\n",
      "Eps: 1.0397999999999956\n"
     ]
    },
    {
     "data": {
      "application/vnd.plotly.v1+json": {
       "config": {
        "plotlyServerURL": "https://plot.ly"
       },
       "data": [
        {
         "customdata": [
          [
           219156
          ],
          [
           14310
          ],
          [
           113515
          ],
          [
           225991
          ],
          [
           255209
          ],
          [
           11546
          ],
          [
           31281
          ],
          [
           105781
          ],
          [
           160753
          ],
          [
           154016
          ],
          [
           248379
          ],
          [
           264665
          ],
          [
           75037
          ],
          [
           238336
          ],
          [
           22594
          ],
          [
           3331
          ],
          [
           32499
          ],
          [
           12690
          ],
          [
           101609
          ],
          [
           226511
          ],
          [
           202629
          ],
          [
           14367
          ],
          [
           63784
          ],
          [
           21966
          ],
          [
           268864
          ],
          [
           71106
          ],
          [
           202805
          ],
          [
           129192
          ],
          [
           88218
          ],
          [
           176648
          ],
          [
           12990
          ],
          [
           41609
          ],
          [
           127398
          ],
          [
           127169
          ],
          [
           117820
          ],
          [
           214079
          ],
          [
           208611
          ],
          [
           172274
          ],
          [
           113118
          ],
          [
           20375
          ],
          [
           116883
          ],
          [
           104620
          ],
          [
           147461
          ],
          [
           206870
          ],
          [
           77622
          ],
          [
           151565
          ],
          [
           147508
          ],
          [
           29067
          ],
          [
           110802
          ],
          [
           235194
          ],
          [
           117244
          ],
          [
           230101
          ],
          [
           256980
          ],
          [
           82743
          ],
          [
           258979
          ],
          [
           101159
          ],
          [
           200847
          ],
          [
           213539
          ],
          [
           66031
          ],
          [
           242829
          ],
          [
           24992
          ],
          [
           263118
          ],
          [
           11328
          ],
          [
           203261
          ],
          [
           115043
          ],
          [
           147638
          ],
          [
           35670
          ],
          [
           1030
          ],
          [
           60155
          ],
          [
           15163
          ],
          [
           264959
          ],
          [
           144014
          ],
          [
           195966
          ],
          [
           200009
          ],
          [
           22245
          ],
          [
           263586
          ],
          [
           56107
          ],
          [
           201187
          ],
          [
           183864
          ],
          [
           262995
          ],
          [
           221361
          ],
          [
           37751
          ],
          [
           160365
          ],
          [
           153149
          ],
          [
           67706
          ],
          [
           238301
          ],
          [
           128474
          ],
          [
           118239
          ],
          [
           60119
          ],
          [
           179144
          ],
          [
           248565
          ],
          [
           144424
          ],
          [
           127786
          ],
          [
           225444
          ],
          [
           143625
          ],
          [
           7980
          ],
          [
           241025
          ],
          [
           40734
          ],
          [
           248109
          ],
          [
           7700
          ],
          [
           160734
          ],
          [
           37410
          ],
          [
           51173
          ],
          [
           252933
          ],
          [
           195072
          ],
          [
           114512
          ],
          [
           74834
          ],
          [
           268159
          ],
          [
           62714
          ],
          [
           105128
          ],
          [
           129754
          ],
          [
           226146
          ],
          [
           170832
          ],
          [
           48788
          ],
          [
           167035
          ],
          [
           37055
          ],
          [
           94357
          ],
          [
           155985
          ],
          [
           222335
          ],
          [
           129773
          ],
          [
           183375
          ],
          [
           148297
          ],
          [
           148635
          ],
          [
           208634
          ],
          [
           168145
          ],
          [
           96746
          ],
          [
           134137
          ],
          [
           245170
          ],
          [
           265461
          ],
          [
           182419
          ],
          [
           14182
          ],
          [
           172100
          ],
          [
           268165
          ],
          [
           36057
          ],
          [
           106019
          ],
          [
           122835
          ],
          [
           148670
          ],
          [
           16921
          ],
          [
           26349
          ],
          [
           151493
          ],
          [
           256956
          ],
          [
           155326
          ],
          [
           180479
          ],
          [
           2548
          ],
          [
           189621
          ],
          [
           927
          ],
          [
           150643
          ],
          [
           177303
          ],
          [
           111307
          ],
          [
           25636
          ],
          [
           151242
          ],
          [
           125825
          ],
          [
           167753
          ],
          [
           202543
          ],
          [
           22075
          ],
          [
           108565
          ],
          [
           161229
          ],
          [
           9440
          ],
          [
           195209
          ],
          [
           241318
          ],
          [
           15425
          ],
          [
           261800
          ],
          [
           102279
          ],
          [
           84965
          ],
          [
           142632
          ],
          [
           160557
          ],
          [
           154602
          ],
          [
           247271
          ],
          [
           36579
          ],
          [
           9726
          ],
          [
           4136
          ],
          [
           213285
          ],
          [
           74996
          ],
          [
           79029
          ],
          [
           242003
          ],
          [
           101481
          ],
          [
           194419
          ],
          [
           162943
          ],
          [
           15741
          ],
          [
           227863
          ],
          [
           115105
          ],
          [
           101215
          ],
          [
           181982
          ],
          [
           30742
          ],
          [
           197465
          ],
          [
           241721
          ],
          [
           15294
          ],
          [
           185194
          ],
          [
           204340
          ],
          [
           158147
          ],
          [
           126317
          ],
          [
           109569
          ],
          [
           85073
          ],
          [
           105098
          ],
          [
           17769
          ],
          [
           253444
          ],
          [
           160893
          ],
          [
           57758
          ],
          [
           99192
          ],
          [
           204562
          ],
          [
           241799
          ],
          [
           77436
          ],
          [
           47195
          ],
          [
           137902
          ],
          [
           263116
          ],
          [
           53106
          ],
          [
           199736
          ],
          [
           88719
          ],
          [
           38645
          ],
          [
           239984
          ],
          [
           173937
          ],
          [
           69701
          ],
          [
           4624
          ],
          [
           195192
          ],
          [
           128223
          ],
          [
           227707
          ],
          [
           244158
          ],
          [
           161171
          ],
          [
           58412
          ],
          [
           148355
          ],
          [
           242654
          ],
          [
           267793
          ],
          [
           32610
          ],
          [
           108896
          ],
          [
           111113
          ],
          [
           123798
          ],
          [
           7357
          ],
          [
           150932
          ],
          [
           161304
          ],
          [
           115455
          ],
          [
           71778
          ],
          [
           247424
          ],
          [
           123718
          ],
          [
           231748
          ],
          [
           201926
          ],
          [
           23381
          ],
          [
           78115
          ],
          [
           163223
          ],
          [
           261084
          ],
          [
           106118
          ],
          [
           9704
          ],
          [
           175690
          ],
          [
           146648
          ],
          [
           192158
          ],
          [
           84491
          ],
          [
           87598
          ],
          [
           230599
          ],
          [
           100506
          ],
          [
           68854
          ],
          [
           196011
          ],
          [
           26622
          ],
          [
           105720
          ],
          [
           120030
          ],
          [
           101443
          ],
          [
           155804
          ],
          [
           1670
          ],
          [
           246567
          ],
          [
           128053
          ],
          [
           14991
          ],
          [
           119260
          ],
          [
           178445
          ],
          [
           225519
          ],
          [
           110669
          ],
          [
           105831
          ],
          [
           130406
          ],
          [
           153504
          ],
          [
           178612
          ],
          [
           9268
          ],
          [
           233021
          ],
          [
           25707
          ],
          [
           6227
          ],
          [
           143348
          ],
          [
           147100
          ],
          [
           259256
          ],
          [
           227256
          ],
          [
           33575
          ],
          [
           115757
          ],
          [
           71826
          ],
          [
           52418
          ],
          [
           8936
          ],
          [
           138381
          ],
          [
           25361
          ],
          [
           129599
          ],
          [
           48208
          ],
          [
           122226
          ],
          [
           10492
          ],
          [
           40510
          ],
          [
           197790
          ],
          [
           197483
          ],
          [
           199419
          ],
          [
           89853
          ],
          [
           188906
          ],
          [
           208844
          ],
          [
           88872
          ],
          [
           231537
          ],
          [
           150156
          ],
          [
           15361
          ],
          [
           150367
          ],
          [
           159748
          ],
          [
           38880
          ],
          [
           175335
          ],
          [
           267917
          ],
          [
           136573
          ],
          [
           245317
          ],
          [
           73467
          ],
          [
           201244
          ],
          [
           258061
          ],
          [
           178369
          ],
          [
           166564
          ],
          [
           255306
          ],
          [
           109770
          ],
          [
           68849
          ],
          [
           229402
          ],
          [
           179292
          ],
          [
           120989
          ],
          [
           15739
          ],
          [
           183201
          ],
          [
           14723
          ],
          [
           215681
          ],
          [
           66606
          ],
          [
           245861
          ],
          [
           193474
          ],
          [
           45568
          ],
          [
           146620
          ],
          [
           248806
          ],
          [
           135780
          ],
          [
           221011
          ],
          [
           86431
          ],
          [
           46974
          ],
          [
           81091
          ],
          [
           129958
          ],
          [
           131523
          ],
          [
           27534
          ],
          [
           123666
          ],
          [
           157146
          ],
          [
           118480
          ],
          [
           73251
          ],
          [
           194292
          ],
          [
           128292
          ],
          [
           40500
          ],
          [
           2976
          ],
          [
           138327
          ],
          [
           192960
          ],
          [
           142724
          ],
          [
           253023
          ],
          [
           233131
          ],
          [
           228460
          ],
          [
           11345
          ],
          [
           23983
          ],
          [
           146600
          ],
          [
           42945
          ],
          [
           268565
          ],
          [
           208097
          ],
          [
           187441
          ],
          [
           112585
          ],
          [
           219779
          ],
          [
           8546
          ],
          [
           252528
          ],
          [
           209581
          ],
          [
           182653
          ],
          [
           14926
          ],
          [
           35676
          ],
          [
           202459
          ],
          [
           170698
          ],
          [
           211344
          ],
          [
           159316
          ],
          [
           89015
          ],
          [
           193821
          ],
          [
           63710
          ],
          [
           83338
          ],
          [
           20264
          ],
          [
           25373
          ],
          [
           224464
          ],
          [
           84377
          ],
          [
           12638
          ],
          [
           134457
          ],
          [
           163331
          ],
          [
           214624
          ],
          [
           200723
          ],
          [
           138353
          ],
          [
           242215
          ],
          [
           73678
          ],
          [
           219253
          ],
          [
           220847
          ],
          [
           160972
          ],
          [
           107737
          ],
          [
           75372
          ],
          [
           31810
          ],
          [
           77595
          ],
          [
           21251
          ],
          [
           127801
          ],
          [
           208388
          ],
          [
           151625
          ],
          [
           261556
          ],
          [
           147784
          ],
          [
           66168
          ],
          [
           63591
          ],
          [
           20780
          ],
          [
           227344
          ],
          [
           19228
          ],
          [
           147561
          ],
          [
           236591
          ],
          [
           114667
          ],
          [
           109039
          ],
          [
           262473
          ],
          [
           219208
          ],
          [
           267387
          ],
          [
           167865
          ],
          [
           133870
          ],
          [
           112932
          ],
          [
           170376
          ],
          [
           208602
          ],
          [
           89314
          ],
          [
           44509
          ],
          [
           13646
          ],
          [
           77185
          ],
          [
           165358
          ],
          [
           158437
          ],
          [
           58364
          ],
          [
           182510
          ],
          [
           136483
          ],
          [
           179868
          ],
          [
           1933
          ],
          [
           43063
          ],
          [
           174030
          ],
          [
           126684
          ],
          [
           103487
          ],
          [
           5748
          ],
          [
           41262
          ],
          [
           187071
          ],
          [
           250101
          ],
          [
           82744
          ],
          [
           245757
          ],
          [
           225413
          ],
          [
           95844
          ],
          [
           250332
          ],
          [
           216747
          ],
          [
           216298
          ],
          [
           180789
          ],
          [
           47713
          ],
          [
           80705
          ],
          [
           55529
          ],
          [
           31331
          ],
          [
           178724
          ],
          [
           135183
          ],
          [
           78513
          ],
          [
           225581
          ],
          [
           209718
          ],
          [
           153202
          ],
          [
           786
          ],
          [
           234824
          ],
          [
           194456
          ],
          [
           104520
          ],
          [
           94227
          ],
          [
           190699
          ],
          [
           116733
          ],
          [
           255844
          ],
          [
           230853
          ],
          [
           30228
          ],
          [
           147860
          ],
          [
           230203
          ],
          [
           19262
          ],
          [
           198257
          ],
          [
           222330
          ],
          [
           237051
          ],
          [
           34367
          ],
          [
           248378
          ],
          [
           162543
          ],
          [
           203008
          ],
          [
           99795
          ],
          [
           89247
          ],
          [
           47606
          ],
          [
           109983
          ],
          [
           250991
          ],
          [
           114861
          ],
          [
           3929
          ],
          [
           117639
          ],
          [
           176857
          ],
          [
           95976
          ],
          [
           150503
          ],
          [
           194150
          ],
          [
           168995
          ],
          [
           162828
          ],
          [
           246553
          ],
          [
           48590
          ],
          [
           82605
          ],
          [
           247687
          ],
          [
           254520
          ],
          [
           164233
          ],
          [
           97300
          ],
          [
           159330
          ],
          [
           27777
          ],
          [
           201141
          ],
          [
           45487
          ],
          [
           76885
          ],
          [
           106843
          ],
          [
           183148
          ],
          [
           219809
          ],
          [
           101236
          ],
          [
           117694
          ],
          [
           220074
          ],
          [
           7576
          ],
          [
           150623
          ],
          [
           45717
          ],
          [
           171597
          ],
          [
           229874
          ],
          [
           262355
          ],
          [
           142104
          ],
          [
           26666
          ],
          [
           244623
          ],
          [
           34860
          ],
          [
           99156
          ],
          [
           25478
          ],
          [
           261429
          ],
          [
           48926
          ],
          [
           128659
          ],
          [
           79079
          ],
          [
           218708
          ],
          [
           35659
          ],
          [
           236952
          ],
          [
           265168
          ],
          [
           249401
          ],
          [
           244506
          ],
          [
           82150
          ],
          [
           215169
          ],
          [
           238879
          ],
          [
           264988
          ],
          [
           235428
          ],
          [
           137410
          ],
          [
           257310
          ],
          [
           114104
          ],
          [
           237841
          ],
          [
           53948
          ],
          [
           84050
          ],
          [
           36323
          ],
          [
           206330
          ],
          [
           193313
          ],
          [
           174721
          ],
          [
           212544
          ],
          [
           240963
          ],
          [
           83388
          ],
          [
           87398
          ],
          [
           193995
          ],
          [
           141167
          ],
          [
           27386
          ],
          [
           177563
          ],
          [
           51936
          ],
          [
           86164
          ],
          [
           139765
          ],
          [
           200280
          ],
          [
           135530
          ],
          [
           51446
          ],
          [
           15061
          ],
          [
           257513
          ],
          [
           123893
          ],
          [
           187723
          ],
          [
           240697
          ],
          [
           244037
          ],
          [
           18768
          ],
          [
           4061
          ],
          [
           40665
          ],
          [
           10136
          ],
          [
           185459
          ],
          [
           208859
          ],
          [
           179293
          ],
          [
           106788
          ],
          [
           147499
          ],
          [
           234439
          ],
          [
           196373
          ],
          [
           237619
          ],
          [
           46984
          ],
          [
           146537
          ],
          [
           211481
          ],
          [
           138795
          ],
          [
           15818
          ],
          [
           122726
          ],
          [
           247257
          ],
          [
           216593
          ],
          [
           178509
          ],
          [
           210631
          ],
          [
           204870
          ],
          [
           73231
          ],
          [
           147370
          ],
          [
           45357
          ],
          [
           110601
          ],
          [
           214336
          ],
          [
           45801
          ],
          [
           29761
          ],
          [
           102987
          ],
          [
           132025
          ],
          [
           8928
          ],
          [
           55647
          ],
          [
           53562
          ],
          [
           110113
          ],
          [
           44303
          ],
          [
           251740
          ],
          [
           37551
          ],
          [
           152029
          ],
          [
           257005
          ],
          [
           83269
          ],
          [
           261948
          ],
          [
           243728
          ],
          [
           212833
          ],
          [
           136979
          ],
          [
           143802
          ],
          [
           163970
          ],
          [
           96679
          ],
          [
           8384
          ],
          [
           190776
          ],
          [
           247586
          ],
          [
           20455
          ],
          [
           216670
          ],
          [
           182507
          ],
          [
           102183
          ],
          [
           71902
          ],
          [
           167950
          ],
          [
           19929
          ],
          [
           78794
          ],
          [
           101585
          ],
          [
           266869
          ],
          [
           47582
          ],
          [
           222285
          ],
          [
           136150
          ],
          [
           219505
          ],
          [
           5892
          ],
          [
           133458
          ],
          [
           253488
          ],
          [
           263284
          ],
          [
           29109
          ],
          [
           192602
          ],
          [
           199681
          ],
          [
           98595
          ],
          [
           19019
          ],
          [
           94346
          ],
          [
           232161
          ],
          [
           262094
          ],
          [
           171776
          ],
          [
           263834
          ],
          [
           21071
          ],
          [
           166127
          ],
          [
           98795
          ],
          [
           9839
          ],
          [
           261055
          ],
          [
           54415
          ],
          [
           50137
          ],
          [
           209091
          ],
          [
           215469
          ],
          [
           42038
          ],
          [
           60012
          ],
          [
           151322
          ],
          [
           199947
          ],
          [
           232714
          ],
          [
           1663
          ],
          [
           235207
          ],
          [
           52083
          ],
          [
           263405
          ],
          [
           98236
          ],
          [
           78568
          ],
          [
           252453
          ],
          [
           107679
          ],
          [
           222310
          ],
          [
           162668
          ],
          [
           51129
          ],
          [
           105562
          ],
          [
           138798
          ],
          [
           87557
          ],
          [
           230031
          ],
          [
           72791
          ],
          [
           158463
          ],
          [
           264417
          ],
          [
           88856
          ],
          [
           227335
          ],
          [
           269629
          ],
          [
           121629
          ],
          [
           113344
          ],
          [
           239994
          ],
          [
           50422
          ],
          [
           264009
          ],
          [
           198641
          ],
          [
           91239
          ],
          [
           190542
          ],
          [
           105521
          ],
          [
           51064
          ],
          [
           204700
          ],
          [
           61295
          ],
          [
           144413
          ],
          [
           152435
          ],
          [
           21902
          ],
          [
           124230
          ],
          [
           201842
          ],
          [
           236527
          ],
          [
           29358
          ],
          [
           160197
          ],
          [
           198852
          ],
          [
           153135
          ],
          [
           10918
          ],
          [
           66007
          ],
          [
           221731
          ],
          [
           18919
          ],
          [
           23205
          ],
          [
           261383
          ],
          [
           190286
          ],
          [
           73463
          ],
          [
           118353
          ],
          [
           255653
          ],
          [
           53179
          ],
          [
           199059
          ],
          [
           148455
          ],
          [
           240425
          ],
          [
           107712
          ],
          [
           155707
          ],
          [
           157877
          ],
          [
           24766
          ],
          [
           104640
          ],
          [
           48042
          ],
          [
           17731
          ],
          [
           88808
          ],
          [
           216954
          ],
          [
           93737
          ],
          [
           90278
          ],
          [
           139484
          ],
          [
           157101
          ],
          [
           131602
          ],
          [
           188750
          ],
          [
           199482
          ],
          [
           261159
          ],
          [
           144978
          ],
          [
           234054
          ],
          [
           265409
          ],
          [
           153716
          ],
          [
           217295
          ],
          [
           138589
          ],
          [
           4375
          ],
          [
           48401
          ],
          [
           227514
          ],
          [
           80506
          ],
          [
           16635
          ],
          [
           165258
          ],
          [
           54647
          ],
          [
           208006
          ],
          [
           14650
          ],
          [
           37483
          ],
          [
           231470
          ],
          [
           217964
          ],
          [
           161895
          ],
          [
           14610
          ],
          [
           35918
          ],
          [
           178033
          ],
          [
           2017
          ],
          [
           209105
          ],
          [
           99169
          ],
          [
           91828
          ],
          [
           82297
          ],
          [
           93996
          ],
          [
           70671
          ],
          [
           186625
          ],
          [
           219319
          ],
          [
           118661
          ],
          [
           39005
          ],
          [
           77555
          ],
          [
           264587
          ],
          [
           22638
          ],
          [
           210955
          ],
          [
           140834
          ],
          [
           111836
          ],
          [
           264355
          ],
          [
           27580
          ],
          [
           35922
          ],
          [
           195589
          ],
          [
           190244
          ],
          [
           62825
          ],
          [
           29613
          ],
          [
           119129
          ],
          [
           171323
          ],
          [
           210553
          ],
          [
           60653
          ],
          [
           163408
          ],
          [
           258705
          ],
          [
           116859
          ],
          [
           148681
          ],
          [
           265005
          ],
          [
           212113
          ],
          [
           140145
          ],
          [
           75317
          ],
          [
           200046
          ],
          [
           59468
          ],
          [
           243398
          ],
          [
           185744
          ],
          [
           7302
          ],
          [
           57946
          ],
          [
           202760
          ],
          [
           29153
          ],
          [
           74256
          ],
          [
           137483
          ],
          [
           105568
          ],
          [
           7366
          ],
          [
           124795
          ],
          [
           191072
          ],
          [
           270529
          ],
          [
           69098
          ],
          [
           16674
          ],
          [
           168095
          ],
          [
           38617
          ],
          [
           1415
          ],
          [
           90608
          ],
          [
           65272
          ],
          [
           157459
          ],
          [
           126685
          ],
          [
           166314
          ],
          [
           210681
          ],
          [
           32393
          ],
          [
           6686
          ],
          [
           161057
          ],
          [
           157152
          ],
          [
           25184
          ],
          [
           226109
          ],
          [
           220877
          ],
          [
           148873
          ],
          [
           168943
          ],
          [
           92693
          ],
          [
           230
          ],
          [
           138665
          ],
          [
           165514
          ],
          [
           161139
          ],
          [
           209735
          ],
          [
           172316
          ],
          [
           80039
          ],
          [
           227596
          ],
          [
           259731
          ],
          [
           1798
          ],
          [
           182429
          ],
          [
           261475
          ],
          [
           253292
          ],
          [
           265289
          ],
          [
           153499
          ],
          [
           155132
          ],
          [
           253334
          ],
          [
           249781
          ],
          [
           30388
          ],
          [
           15020
          ],
          [
           132501
          ],
          [
           12166
          ],
          [
           60179
          ],
          [
           179666
          ],
          [
           29066
          ],
          [
           44647
          ],
          [
           187118
          ],
          [
           225305
          ],
          [
           130749
          ],
          [
           105064
          ],
          [
           40253
          ],
          [
           44683
          ],
          [
           42247
          ],
          [
           122716
          ],
          [
           24398
          ],
          [
           195611
          ],
          [
           86568
          ],
          [
           59165
          ],
          [
           72449
          ],
          [
           14530
          ],
          [
           79719
          ],
          [
           252854
          ],
          [
           195628
          ],
          [
           31756
          ],
          [
           174235
          ],
          [
           206280
          ],
          [
           150140
          ],
          [
           211996
          ],
          [
           24999
          ],
          [
           182612
          ],
          [
           223404
          ],
          [
           69760
          ],
          [
           122325
          ],
          [
           220993
          ],
          [
           211632
          ],
          [
           45218
          ],
          [
           10517
          ],
          [
           267620
          ],
          [
           167676
          ],
          [
           2680
          ],
          [
           168478
          ],
          [
           175005
          ],
          [
           153850
          ],
          [
           267784
          ],
          [
           164848
          ],
          [
           6588
          ],
          [
           193917
          ],
          [
           151401
          ],
          [
           141573
          ],
          [
           93723
          ],
          [
           200174
          ],
          [
           183697
          ],
          [
           183259
          ],
          [
           179843
          ],
          [
           161791
          ],
          [
           12977
          ],
          [
           220682
          ],
          [
           30099
          ],
          [
           6782
          ],
          [
           67747
          ],
          [
           155246
          ],
          [
           175535
          ],
          [
           224266
          ],
          [
           5819
          ],
          [
           147099
          ],
          [
           103345
          ],
          [
           78600
          ],
          [
           209448
          ],
          [
           166341
          ],
          [
           179141
          ],
          [
           218888
          ],
          [
           80188
          ],
          [
           13865
          ],
          [
           240183
          ],
          [
           248114
          ],
          [
           244012
          ],
          [
           265074
          ],
          [
           153340
          ],
          [
           239793
          ],
          [
           19487
          ],
          [
           160655
          ],
          [
           96321
          ],
          [
           125732
          ],
          [
           69104
          ],
          [
           130676
          ],
          [
           137789
          ],
          [
           112789
          ],
          [
           182310
          ],
          [
           143638
          ],
          [
           52293
          ],
          [
           142043
          ],
          [
           140733
          ],
          [
           73443
          ],
          [
           245517
          ],
          [
           215341
          ],
          [
           210141
          ],
          [
           175644
          ],
          [
           34663
          ],
          [
           65623
          ],
          [
           112309
          ],
          [
           58823
          ],
          [
           62858
          ],
          [
           117325
          ],
          [
           55934
          ],
          [
           132860
          ],
          [
           177967
          ],
          [
           144072
          ],
          [
           234136
          ],
          [
           90727
          ],
          [
           31277
          ],
          [
           32745
          ],
          [
           235564
          ],
          [
           13560
          ],
          [
           96650
          ],
          [
           170017
          ],
          [
           245623
          ],
          [
           131219
          ],
          [
           128614
          ],
          [
           268045
          ],
          [
           174586
          ],
          [
           143508
          ],
          [
           230973
          ],
          [
           185447
          ],
          [
           238026
          ],
          [
           124401
          ],
          [
           249279
          ],
          [
           70075
          ],
          [
           120356
          ],
          [
           133000
          ],
          [
           234955
          ],
          [
           216997
          ],
          [
           190991
          ],
          [
           228171
          ],
          [
           148787
          ],
          [
           33139
          ],
          [
           159925
          ],
          [
           86379
          ],
          [
           264617
          ],
          [
           199393
          ],
          [
           168301
          ],
          [
           249660
          ],
          [
           211526
          ],
          [
           29892
          ],
          [
           53334
          ],
          [
           224023
          ],
          [
           122524
          ],
          [
           161845
          ],
          [
           237799
          ],
          [
           101010
          ],
          [
           261952
          ],
          [
           97652
          ],
          [
           15040
          ],
          [
           248128
          ],
          [
           229682
          ],
          [
           155912
          ],
          [
           62055
          ],
          [
           152822
          ],
          [
           60116
          ],
          [
           212527
          ],
          [
           242448
          ]
         ],
         "hovertemplate": "t-SNE Component 1=%{x}<br>t-SNE Component 2=%{y}<br>userId=%{customdata[0]}<br>Cluster=%{marker.color}<extra></extra>",
         "legendgroup": "",
         "marker": {
          "color": [
           0,
           0,
           1,
           2,
           3,
           1,
           0,
           1,
           2,
           1,
           0,
           0,
           0,
           0,
           1,
           1,
           0,
           3,
           0,
           3,
           0,
           0,
           0,
           0,
           0,
           0,
           0,
           1,
           2,
           0,
           2,
           0,
           3,
           0,
           1,
           0,
           4,
           0,
           2,
           4,
           3,
           0,
           0,
           2,
           0,
           3,
           0,
           2,
           3,
           2,
           1,
           0,
           0,
           3,
           4,
           0,
           0,
           1,
           5,
           0,
           4,
           2,
           0,
           0,
           0,
           1,
           0,
           0,
           0,
           0,
           0,
           2,
           2,
           2,
           0,
           0,
           0,
           3,
           0,
           3,
           0,
           0,
           0,
           2,
           0,
           0,
           1,
           0,
           0,
           1,
           0,
           0,
           3,
           3,
           2,
           3,
           3,
           0,
           1,
           0,
           2,
           2,
           0,
           4,
           0,
           0,
           3,
           4,
           1,
           1,
           3,
           4,
           1,
           0,
           3,
           3,
           2,
           0,
           0,
           2,
           0,
           0,
           2,
           1,
           0,
           3,
           1,
           0,
           3,
           1,
           0,
           0,
           0,
           2,
           2,
           1,
           2,
           0,
           0,
           4,
           1,
           3,
           0,
           0,
           0,
           2,
           2,
           0,
           0,
           0,
           0,
           3,
           3,
           0,
           1,
           2,
           1,
           1,
           1,
           6,
           1,
           0,
           1,
           4,
           2,
           0,
           0,
           0,
           4,
           2,
           0,
           3,
           0,
           3,
           0,
           2,
           1,
           4,
           0,
           0,
           2,
           3,
           0,
           0,
           4,
           0,
           4,
           3,
           0,
           0,
           2,
           1,
           1,
           4,
           2,
           1,
           3,
           0,
           0,
           3,
           0,
           1,
           0,
           0,
           0,
           1,
           6,
           3,
           4,
           1,
           2,
           0,
           3,
           2,
           0,
           0,
           1,
           0,
           0,
           5,
           0,
           0,
           3,
           3,
           3,
           0,
           3,
           1,
           0,
           0,
           0,
           0,
           1,
           0,
           0,
           0,
           0,
           0,
           0,
           1,
           0,
           0,
           5,
           0,
           5,
           1,
           0,
           0,
           0,
           3,
           0,
           1,
           0,
           0,
           0,
           0,
           0,
           4,
           1,
           0,
           1,
           0,
           1,
           0,
           0,
           1,
           4,
           0,
           1,
           0,
           0,
           2,
           3,
           0,
           3,
           0,
           1,
           0,
           1,
           1,
           4,
           3,
           3,
           4,
           1,
           2,
           0,
           0,
           2,
           0,
           0,
           3,
           0,
           0,
           1,
           0,
           0,
           0,
           0,
           4,
           4,
           3,
           0,
           1,
           0,
           2,
           3,
           0,
           0,
           0,
           0,
           0,
           0,
           1,
           3,
           3,
           0,
           1,
           0,
           1,
           0,
           3,
           0,
           0,
           3,
           2,
           0,
           3,
           1,
           0,
           1,
           2,
           0,
           0,
           0,
           3,
           1,
           0,
           3,
           0,
           3,
           0,
           3,
           0,
           0,
           0,
           1,
           2,
           1,
           3,
           0,
           0,
           1,
           1,
           3,
           0,
           4,
           0,
           2,
           -1,
           2,
           0,
           5,
           3,
           0,
           0,
           1,
           0,
           1,
           4,
           2,
           2,
           0,
           1,
           1,
           1,
           0,
           3,
           4,
           3,
           0,
           0,
           3,
           1,
           0,
           1,
           1,
           1,
           0,
           2,
           2,
           3,
           3,
           1,
           1,
           0,
           0,
           0,
           3,
           1,
           2,
           0,
           0,
           0,
           0,
           0,
           6,
           1,
           1,
           0,
           0,
           1,
           2,
           1,
           0,
           0,
           0,
           2,
           1,
           1,
           1,
           0,
           0,
           2,
           0,
           0,
           2,
           3,
           0,
           3,
           3,
           1,
           0,
           2,
           2,
           0,
           0,
           0,
           1,
           0,
           0,
           0,
           4,
           3,
           1,
           2,
           0,
           0,
           2,
           1,
           0,
           0,
           1,
           3,
           0,
           5,
           0,
           0,
           4,
           0,
           0,
           0,
           1,
           1,
           0,
           2,
           1,
           3,
           4,
           0,
           1,
           3,
           0,
           0,
           2,
           4,
           4,
           0,
           1,
           0,
           3,
           0,
           1,
           0,
           3,
           3,
           0,
           5,
           0,
           0,
           0,
           3,
           0,
           1,
           0,
           4,
           0,
           0,
           1,
           2,
           4,
           0,
           1,
           2,
           0,
           3,
           2,
           0,
           0,
           0,
           0,
           3,
           0,
           2,
           0,
           2,
           1,
           0,
           1,
           3,
           4,
           3,
           0,
           5,
           3,
           4,
           2,
           6,
           0,
           5,
           3,
           0,
           0,
           1,
           0,
           1,
           0,
           0,
           2,
           0,
           4,
           1,
           0,
           0,
           3,
           0,
           3,
           0,
           0,
           3,
           0,
           3,
           0,
           1,
           1,
           0,
           0,
           0,
           0,
           2,
           0,
           1,
           0,
           0,
           3,
           2,
           0,
           3,
           0,
           2,
           3,
           0,
           0,
           1,
           0,
           0,
           0,
           2,
           2,
           0,
           1,
           2,
           0,
           0,
           3,
           0,
           0,
           6,
           2,
           2,
           4,
           0,
           0,
           0,
           3,
           1,
           0,
           2,
           0,
           0,
           0,
           0,
           3,
           1,
           2,
           0,
           0,
           2,
           0,
           2,
           2,
           0,
           0,
           0,
           3,
           1,
           0,
           0,
           4,
           5,
           3,
           1,
           4,
           3,
           3,
           0,
           1,
           0,
           1,
           0,
           0,
           3,
           1,
           0,
           0,
           1,
           4,
           0,
           0,
           1,
           0,
           0,
           2,
           1,
           1,
           6,
           0,
           3,
           0,
           2,
           1,
           -1,
           0,
           0,
           1,
           1,
           1,
           3,
           2,
           0,
           0,
           3,
           0,
           0,
           0,
           0,
           1,
           0,
           0,
           0,
           5,
           2,
           5,
           4,
           0,
           0,
           3,
           3,
           3,
           3,
           1,
           0,
           1,
           0,
           3,
           0,
           0,
           4,
           0,
           0,
           1,
           0,
           2,
           1,
           1,
           0,
           2,
           0,
           0,
           3,
           0,
           0,
           0,
           0,
           0,
           3,
           0,
           0,
           3,
           1,
           5,
           0,
           4,
           4,
           1,
           2,
           0,
           0,
           0,
           2,
           4,
           0,
           0,
           2,
           2,
           0,
           4,
           0,
           0,
           0,
           3,
           4,
           0,
           1,
           2,
           3,
           0,
           1,
           2,
           2,
           0,
           0,
           4,
           3,
           2,
           3,
           0,
           0,
           1,
           4,
           3,
           2,
           0,
           3,
           5,
           0,
           0,
           0,
           0,
           2,
           0,
           0,
           0,
           4,
           0,
           0,
           1,
           0,
           1,
           3,
           0,
           0,
           4,
           2,
           3,
           3,
           2,
           0,
           2,
           0,
           1,
           2,
           0,
           2,
           0,
           1,
           0,
           2,
           1,
           0,
           1,
           3,
           2,
           0,
           0,
           1,
           1,
           0,
           0,
           1,
           1,
           0,
           2,
           0,
           1,
           2,
           0,
           4,
           0,
           1,
           2,
           0,
           0,
           0,
           5,
           -1,
           3,
           0,
           1,
           1,
           0,
           4,
           1,
           1,
           0,
           1,
           2,
           0,
           1,
           3,
           0,
           0,
           1,
           0,
           0,
           0,
           2,
           2,
           0,
           1,
           0,
           3,
           0,
           0,
           1,
           1,
           1,
           5,
           0,
           0,
           0,
           0,
           2,
           2,
           0,
           2,
           0,
           0,
           1,
           3,
           3,
           1,
           0,
           4,
           1,
           1,
           0,
           0,
           0,
           0,
           0,
           2,
           3,
           0,
           2,
           2,
           0,
           4,
           0,
           0,
           0,
           2,
           0,
           0,
           0,
           3,
           1,
           0,
           0,
           0,
           0,
           0,
           3,
           1,
           0,
           0,
           3,
           0,
           4,
           0,
           0,
           1,
           3,
           3,
           0,
           0,
           0,
           3,
           1,
           1,
           3,
           2,
           0,
           0,
           1,
           0,
           1,
           0,
           3,
           0,
           2,
           4,
           0,
           5,
           0,
           2,
           0,
           0,
           0,
           4,
           0,
           3,
           3,
           0,
           0,
           3,
           2,
           3,
           0,
           4,
           4,
           0,
           0,
           0,
           3,
           1,
           0,
           0,
           0,
           3,
           0,
           0,
           5,
           2,
           0,
           2,
           1,
           3,
           0,
           5,
           0,
           0,
           3,
           0,
           0,
           4,
           0,
           3,
           0,
           0,
           3,
           3,
           4,
           0,
           0,
           0,
           0,
           0,
           0,
           3,
           0,
           0,
           0,
           4,
           1,
           0,
           1,
           2,
           0,
           3,
           2,
           1,
           0,
           -1,
           0,
           2,
           0,
           0,
           2,
           2
          ],
          "coloraxis": "coloraxis",
          "symbol": "circle"
         },
         "mode": "markers",
         "name": "",
         "orientation": "v",
         "showlegend": false,
         "type": "scatter",
         "x": [
          8.595426559448242,
          9.857013702392578,
          -2.510279893875122,
          -4.609951019287109,
          -10.806320190429688,
          -9.115365028381348,
          10.175956726074219,
          -9.259692192077637,
          0.36990922689437866,
          -4.476823329925537,
          6.678976535797119,
          10.264226913452148,
          5.7891130447387695,
          9.275650024414062,
          -10.658854484558105,
          -5.566142559051514,
          8.17462158203125,
          -12.241887092590332,
          8.64364242553711,
          -4.834555625915527,
          11.40736198425293,
          11.06884765625,
          8.558185577392578,
          8.427995681762695,
          10.55343246459961,
          9.339363098144531,
          10.141361236572266,
          -4.704003810882568,
          0.6414512395858765,
          11.844581604003906,
          -1.5445404052734375,
          8.151272773742676,
          -12.023855209350586,
          9.454028129577637,
          -5.980353832244873,
          1.2681618928909302,
          1.4386234283447266,
          5.883671283721924,
          -6.854520320892334,
          0.0677655041217804,
          -11.288017272949219,
          12.161566734313965,
          3.1963956356048584,
          -6.702309608459473,
          11.424725532531738,
          -6.060515403747559,
          9.721370697021484,
          -6.467681884765625,
          -9.513586044311523,
          -1.9545583724975586,
          -5.8461480140686035,
          8.22353744506836,
          8.205585479736328,
          -7.157310962677002,
          -0.3456961512565613,
          2.019401788711548,
          7.852301597595215,
          -11.138136863708496,
          -12.153558731079102,
          9.81029224395752,
          -1.740042805671692,
          -5.533744812011719,
          8.940374374389648,
          7.708240032196045,
          2.3909542560577393,
          -6.694979190826416,
          10.04918384552002,
          -2.348863124847412,
          5.605876922607422,
          1.0040388107299805,
          6.9802751541137695,
          -4.5425567626953125,
          -7.488917827606201,
          -2.709988594055176,
          -1.008713722229004,
          8.487696647644043,
          5.861182689666748,
          -11.07740306854248,
          11.743878364562988,
          -5.71643590927124,
          0.8326952457427979,
          7.9664716720581055,
          -2.7964773178100586,
          -1.1376601457595825,
          -3.337402582168579,
          5.271222114562988,
          -5.193657875061035,
          4.691108226776123,
          11.306038856506348,
          -10.836485862731934,
          1.8703174591064453,
          5.285841464996338,
          -7.988677978515625,
          -4.820271015167236,
          -3.3628296852111816,
          -10.690345764160156,
          -4.590617656707764,
          3.8534677028656006,
          -10.429200172424316,
          10.542503356933594,
          -4.3915934562683105,
          -4.476983070373535,
          8.0299654006958,
          -0.0012052766978740692,
          9.678934097290039,
          6.660923957824707,
          -8.671101570129395,
          0.5327116250991821,
          -5.128645896911621,
          -8.479132652282715,
          -11.86473274230957,
          -0.02062716707587242,
          -4.964547634124756,
          -2.6692395210266113,
          -8.22095775604248,
          -5.9552717208862305,
          -1.1621593236923218,
          8.555009841918945,
          10.900274276733398,
          -2.904092311859131,
          11.350298881530762,
          -2.184702157974243,
          -0.13249772787094116,
          -9.654218673706055,
          9.104174613952637,
          -10.235501289367676,
          -7.77203369140625,
          7.694732666015625,
          -4.783260345458984,
          -4.54716682434082,
          11.393712997436523,
          0.1983633041381836,
          11.716270446777344,
          -2.1895864009857178,
          -2.4910988807678223,
          -6.3982672691345215,
          -2.7297070026397705,
          3.831942558288574,
          9.195140838623047,
          -0.13441261649131775,
          -8.987607955932617,
          -7.669500350952148,
          9.750346183776855,
          4.530280113220215,
          -1.7715319395065308,
          -4.169337272644043,
          -2.3125693798065186,
          12.206413269042969,
          3.2575247287750244,
          -0.1793300062417984,
          1.1123510599136353,
          -10.599713325500488,
          -5.099310874938965,
          7.70327091217041,
          -5.883933067321777,
          -3.4634759426116943,
          -2.8550302982330322,
          -9.945490837097168,
          -3.5453310012817383,
          1.1475011110305786,
          -9.498199462890625,
          3.417365312576294,
          -6.3281121253967285,
          0.4442538619041443,
          -3.3454227447509766,
          9.560035705566406,
          7.070148468017578,
          11.0094575881958,
          1.2475208044052124,
          -1.9973628520965576,
          9.776390075683594,
          -10.751470565795898,
          7.5483503341674805,
          -8.001407623291016,
          8.973250389099121,
          -1.2151498794555664,
          -9.157773971557617,
          -1.326709270477295,
          9.500462532043457,
          11.677351951599121,
          -7.713496685028076,
          -4.803798675537109,
          9.750812530517578,
          11.189556121826172,
          0.3248386085033417,
          10.608434677124023,
          -0.9430097937583923,
          -7.05086612701416,
          12.429327011108398,
          3.339890241622925,
          -5.924442768096924,
          -3.968686580657959,
          -8.207579612731934,
          -0.5268483757972717,
          -3.9077813625335693,
          -6.314361095428467,
          -10.831311225891113,
          12.417664527893066,
          -0.7096844911575317,
          -5.679206848144531,
          1.937997817993164,
          -8.862064361572266,
          5.525949001312256,
          8.516279220581055,
          10.584982872009277,
          -10.622089385986328,
          1.2923401594161987,
          -10.445033073425293,
          1.0626147985458374,
          -10.313737869262695,
          -8.028948783874512,
          11.457720756530762,
          -6.346030235290527,
          -1.1420753002166748,
          1.1595194339752197,
          5.774445533752441,
          -9.810718536376953,
          4.2472662925720215,
          -2.467524290084839,
          -10.592805862426758,
          5.374507904052734,
          10.714371681213379,
          -9.875577926635742,
          -5.94374418258667,
          -12.256080627441406,
          8.536075592041016,
          -11.795878410339355,
          -8.545382499694824,
          5.069606304168701,
          1.8501094579696655,
          4.7821550369262695,
          6.514090061187744,
          -6.624428749084473,
          -0.6308014988899231,
          9.977540016174316,
          -3.667680501937866,
          1.0553083419799805,
          9.352002143859863,
          9.649605751037598,
          -3.1500113010406494,
          9.745177268981934,
          5.099276542663574,
          -12.343557357788086,
          2.1921746730804443,
          -12.35828971862793,
          -2.7225537300109863,
          -1.8869248628616333,
          12.21729564666748,
          12.439847946166992,
          -4.867732524871826,
          10.366103172302246,
          -6.84902286529541,
          6.8974690437316895,
          9.13756275177002,
          3.7196147441864014,
          11.462851524353027,
          12.192977905273438,
          -1.6956427097320557,
          -4.59926700592041,
          10.899664878845215,
          -9.981565475463867,
          1.6532000303268433,
          -8.006950378417969,
          11.42712688446045,
          9.202330589294434,
          -9.847322463989258,
          0.6365211606025696,
          -2.7599639892578125,
          -6.874602317810059,
          6.788329124450684,
          -0.17354196310043335,
          -8.48830509185791,
          -4.8327956199646,
          10.602632522583008,
          -7.043173789978027,
          8.132936477661133,
          -3.2448549270629883,
          5.761979579925537,
          -5.890254974365234,
          -5.094420909881592,
          -1.1045900583267212,
          -11.092546463012695,
          -12.146846771240234,
          0.9369956254959106,
          -10.562989234924316,
          -4.983867645263672,
          9.612348556518555,
          3.471933603286743,
          -3.5765347480773926,
          6.558011054992676,
          2.066911458969116,
          -6.32395076751709,
          10.990395545959473,
          11.384543418884277,
          -7.702484130859375,
          8.1466646194458,
          11.99992561340332,
          4.280918598175049,
          3.598513126373291,
          -1.5535001754760742,
          -1.4562865495681763,
          -8.195144653320312,
          -2.6186718940734863,
          -8.566649436950684,
          11.479297637939453,
          -4.259173393249512,
          -6.344779968261719,
          8.720415115356445,
          11.459216117858887,
          0.510923445224762,
          8.239799499511719,
          11.394319534301758,
          8.007128715515137,
          -8.799819946289062,
          -8.395535469055176,
          -4.620147705078125,
          9.108762741088867,
          -10.581441879272461,
          -1.903639316558838,
          -7.9928998947143555,
          3.1180179119110107,
          -11.157552719116211,
          11.603221893310547,
          9.961981773376465,
          -7.288084506988525,
          -3.949903726577759,
          11.61898422241211,
          -7.51710844039917,
          -8.442506790161133,
          12.019153594970703,
          -2.755885124206543,
          -1.025598168373108,
          1.0666462182998657,
          2.5152060985565186,
          6.96986198425293,
          -8.997187614440918,
          -4.834784030914307,
          9.85775375366211,
          -7.8217902183532715,
          -0.8919975757598877,
          -9.043505668640137,
          12.41167163848877,
          -5.6590576171875,
          11.876791954040527,
          9.109153747558594,
          8.059353828430176,
          -5.400519847869873,
          -5.676261901855469,
          -6.7982306480407715,
          -10.526754379272461,
          9.054838180541992,
          4.745778560638428,
          -3.853320360183716,
          -7.228353023529053,
          -6.6830549240112305,
          2.0265324115753174,
          1.3163732290267944,
          3.2964797019958496,
          -6.344386100769043,
          -6.121747016906738,
          -6.7038702964782715,
          -0.501573383808136,
          -10.822993278503418,
          -6.716047763824463,
          11.77947998046875,
          6.9490838050842285,
          -4.399886608123779,
          11.505285263061523,
          -10.679064750671387,
          -1.2400715351104736,
          -6.308110237121582,
          -1.1863476037979126,
          10.5255708694458,
          -9.316222190856934,
          -10.663110733032227,
          -5.429341793060303,
          11.739008903503418,
          -5.939233779907227,
          -0.994466245174408,
          -10.816732406616211,
          11.371085166931152,
          12.45551872253418,
          -7.6884074211120605,
          -5.750517845153809,
          7.02391242980957,
          -10.108953475952148,
          -9.011719703674316,
          -2.668431282043457,
          2.9497807025909424,
          -8.024613380432129,
          -5.614264488220215,
          -5.647866725921631,
          -7.239521026611328,
          -5.632462024688721,
          -7.6794538497924805,
          5.7939453125,
          8.340841293334961,
          10.69753646850586,
          -4.270998001098633,
          -3.107860565185547,
          -6.429858684539795,
          7.873870849609375,
          11.633173942565918,
          8.671552658081055,
          6.791470527648926,
          5.837975978851318,
          1.1620219945907593,
          -10.508718490600586,
          -6.05457878112793,
          9.486637115478516,
          9.637060165405273,
          -6.507843971252441,
          -3.70446515083313,
          -10.369257926940918,
          12.3100004196167,
          8.763724327087402,
          1.2872340679168701,
          -7.498595237731934,
          -10.049139976501465,
          -5.791146755218506,
          -9.422601699829102,
          10.232665061950684,
          11.150530815124512,
          -3.8407602310180664,
          9.768275260925293,
          11.415603637695312,
          -4.643029689788818,
          -11.933600425720215,
          -2.7109148502349854,
          -6.624897003173828,
          -7.783567905426025,
          -10.920909881591797,
          1.4317336082458496,
          -6.128419399261475,
          -1.1781587600708008,
          5.318445682525635,
          3.3819143772125244,
          1.1823184490203857,
          -9.236791610717773,
          9.260120391845703,
          1.6220816373825073,
          7.513810157775879,
          -1.6684942245483398,
          -8.867310523986816,
          -4.167726516723633,
          -1.065895915031433,
          8.701506614685059,
          1.5508739948272705,
          -5.589968204498291,
          -5.346912384033203,
          3.6394498348236084,
          11.78734016418457,
          -8.394132614135742,
          -6.947287559509277,
          11.537631034851074,
          -12.041487693786621,
          10.328489303588867,
          10.697504043579102,
          0.3954968750476837,
          10.717307090759277,
          -2.9161341190338135,
          9.692700386047363,
          -3.4782609939575195,
          -6.9341349601745605,
          8.369285583496094,
          -1.3508894443511963,
          -9.80893325805664,
          -6.353816032409668,
          -0.058708641678094864,
          2.7447872161865234,
          -4.847063064575195,
          -8.231887817382812,
          1.742205262184143,
          10.413090705871582,
          -0.9659108519554138,
          1.319993257522583,
          -0.42075562477111816,
          9.040660858154297,
          -5.058094024658203,
          4.82745885848999,
          -11.034770011901855,
          7.515745162963867,
          -4.294562339782715,
          12.391554832458496,
          -9.926105499267578,
          -6.511344909667969,
          10.812859535217285,
          -11.807296752929688,
          5.054235935211182,
          8.041986465454102,
          10.742172241210938,
          -9.59748649597168,
          8.221868515014648,
          -4.061914443969727,
          11.216560363769531,
          1.0570341348648071,
          -1.921749472618103,
          9.521453857421875,
          -8.447661399841309,
          -7.923603057861328,
          -1.2634116411209106,
          6.028841972351074,
          -8.068838119506836,
          -5.319983005523682,
          8.01035213470459,
          -6.4157257080078125,
          -4.027859210968018,
          4.56774377822876,
          4.400506496429443,
          0.8688241839408875,
          9.316157341003418,
          -11.253148078918457,
          -3.8979127407073975,
          -5.089123725891113,
          6.5724968910217285,
          0.6140870451927185,
          -6.242459297180176,
          6.270578861236572,
          -4.046309947967529,
          -11.050621032714844,
          -1.3568612337112427,
          -6.166550636291504,
          11.31098747253418,
          -11.257243156433105,
          -7.0958170890808105,
          -0.6671066880226135,
          -1.6856693029403687,
          1.1918092966079712,
          7.849554061889648,
          -12.398663520812988,
          -6.501656532287598,
          11.233405113220215,
          7.528939247131348,
          -8.777288436889648,
          2.461977005004883,
          -6.660953044891357,
          9.351536750793457,
          7.412447452545166,
          -1.4517967700958252,
          -0.37788093090057373,
          -1.918449878692627,
          -4.723917484283447,
          9.052515029907227,
          -2.7558717727661133,
          -4.919707775115967,
          9.505707740783691,
          -8.180990219116211,
          6.4832282066345215,
          5.058985233306885,
          -10.20691204071045,
          6.5777788162231445,
          -5.185060977935791,
          9.796142578125,
          -9.120776176452637,
          -9.347013473510742,
          12.18947696685791,
          8.131710052490234,
          9.793951034545898,
          7.239146709442139,
          -5.830988883972168,
          -0.22300469875335693,
          -4.774847030639648,
          8.767646789550781,
          5.798678398132324,
          -11.450628280639648,
          -2.927095651626587,
          3.9843552112579346,
          -8.03268051147461,
          7.6991047859191895,
          -4.693657875061035,
          -8.497659683227539,
          7.620873928070068,
          6.774125576019287,
          -2.9304914474487305,
          9.618000984191895,
          12.103459358215332,
          7.982927322387695,
          -4.464761734008789,
          -8.3685302734375,
          10.225679397583008,
          -5.345263957977295,
          -3.8281188011169434,
          9.114578247070312,
          0.42747384309768677,
          -5.627669811248779,
          9.512451171875,
          1.6466034650802612,
          1.113074541091919,
          -4.133955955505371,
          -5.306056022644043,
          -1.3930200338363647,
          9.728767395019531,
          11.340887069702148,
          7.994422435760498,
          -8.153441429138184,
          -3.6147501468658447,
          2.492523193359375,
          -4.99036169052124,
          4.505956172943115,
          11.684004783630371,
          7.809179782867432,
          3.2344422340393066,
          -5.0905327796936035,
          -6.821181774139404,
          -4.02409553527832,
          0.16594600677490234,
          8.21672534942627,
          -3.9930734634399414,
          12.126310348510742,
          -8.1494779586792,
          -7.44936466217041,
          6.585855960845947,
          4.130129337310791,
          -2.9087634086608887,
          -9.695547103881836,
          -10.287077903747559,
          6.639799118041992,
          -3.3847568035125732,
          -0.353749543428421,
          -11.446237564086914,
          -10.17849349975586,
          -6.130328178405762,
          0.15780842304229736,
          -6.905866622924805,
          -11.893736839294434,
          -3.9893414974212646,
          -5.9276041984558105,
          1.8266054391860962,
          -9.693977355957031,
          -2.8677868843078613,
          -1.146645188331604,
          -10.13283920288086,
          -4.2326202392578125,
          0.6062103509902954,
          3.113071918487549,
          -4.0772786140441895,
          -0.548005223274231,
          9.282825469970703,
          -0.9381721615791321,
          -6.459961414337158,
          12.046722412109375,
          9.267866134643555,
          -5.8169169425964355,
          -4.851892471313477,
          -10.006105422973633,
          1.2032114267349243,
          7.510739326477051,
          -5.873589038848877,
          9.58750057220459,
          -6.833917617797852,
          -5.864096641540527,
          -6.919932842254639,
          -0.3676862120628357,
          8.029845237731934,
          -6.355446815490723,
          -4.420258522033691,
          -9.706167221069336,
          -11.21616268157959,
          -4.351287841796875,
          7.9648613929748535,
          6.7378644943237305,
          -10.274818420410156,
          8.028212547302246,
          7.751126289367676,
          2.113802194595337,
          8.465410232543945,
          -9.540858268737793,
          7.252030849456787,
          8.053410530090332,
          12.411947250366211,
          -10.62336540222168,
          -5.4798903465271,
          -11.631717681884766,
          -1.4131442308425903,
          2.0621066093444824,
          3.6484177112579346,
          -5.930245876312256,
          -4.149175643920898,
          -11.099095344543457,
          -10.791324615478516,
          -3.239112615585327,
          8.19135856628418,
          -10.451069831848145,
          9.163192749023438,
          -6.685460090637207,
          6.867818355560303,
          7.603660583496094,
          0.4216751158237457,
          2.9940719604492188,
          8.527284622192383,
          -4.7571845054626465,
          7.613392353057861,
          -4.27319860458374,
          -3.0074143409729004,
          -6.712648868560791,
          6.359162330627441,
          -8.046093940734863,
          4.894099235534668,
          7.425063133239746,
          -9.863205909729004,
          9.626166343688965,
          0.4417424499988556,
          10.630702018737793,
          0.3266001343727112,
          1.2271047830581665,
          -4.662097930908203,
          8.186314582824707,
          7.841248035430908,
          -8.370169639587402,
          -3.3904502391815186,
          -10.99510383605957,
          4.4330854415893555,
          -0.7033222913742065,
          -0.012797304429113865,
          -7.291482448577881,
          -4.9325737953186035,
          2.545522689819336,
          8.655887603759766,
          11.621868133544922,
          -7.268795967102051,
          -0.29428204894065857,
          12.332676887512207,
          4.991801738739014,
          -4.5102972984313965,
          -7.868174076080322,
          -2.835254669189453,
          0.004084417596459389,
          11.034477233886719,
          10.345596313476562,
          11.544923782348633,
          -11.10175895690918,
          0.32037511467933655,
          9.467775344848633,
          -4.469989776611328,
          -2.252835273742676,
          -11.236272811889648,
          -0.08291756361722946,
          -3.674899101257324,
          -0.10826273262500763,
          -1.311564326286316,
          1.7315648794174194,
          5.069319248199463,
          -1.5591061115264893,
          -6.69458532333374,
          -7.620389461517334,
          -4.883841514587402,
          7.162386417388916,
          7.456845760345459,
          -11.426427841186523,
          -0.4650529623031616,
          -12.286421775817871,
          -1.7131807804107666,
          11.89272689819336,
          -7.986396312713623,
          -11.612662315368652,
          11.329236030578613,
          6.045152187347412,
          9.196463584899902,
          -2.7865989208221436,
          -3.1130175590515137,
          0.03332845866680145,
          8.25832462310791,
          10.995330810546875,
          -1.3778458833694458,
          6.0901923179626465,
          6.69642972946167,
          -10.163702964782715,
          4.684529781341553,
          -7.655318260192871,
          -7.907063007354736,
          7.879920959472656,
          8.746540069580078,
          -1.0742979049682617,
          -4.947971343994141,
          -9.015372276306152,
          -7.093596458435059,
          -3.502047061920166,
          5.992461204528809,
          -4.348055362701416,
          6.745020866394043,
          -2.755099296569824,
          -1.6698542833328247,
          7.716108322143555,
          -1.6370320320129395,
          12.16415023803711,
          -8.780109405517578,
          9.446907043457031,
          -6.981995105743408,
          -11.49872875213623,
          -0.7633820176124573,
          -8.990341186523438,
          -10.398431777954102,
          0.5296201705932617,
          -0.7331008315086365,
          4.490560531616211,
          -10.55790901184082,
          -9.452569007873535,
          7.146875381469727,
          10.523588180541992,
          -4.538634777069092,
          -10.432161331176758,
          6.696367263793945,
          -3.0448968410491943,
          0.9727441668510437,
          -6.005280017852783,
          -1.4841256141662598,
          5.613856792449951,
          -2.129256248474121,
          7.420742511749268,
          -11.356527328491211,
          -4.230178356170654,
          8.811248779296875,
          0.9874478578567505,
          11.284448623657227,
          -12.19678783416748,
          9.317716598510742,
          -8.959282875061035,
          0.9830722808837891,
          -4.732691287994385,
          -6.176735877990723,
          6.57254695892334,
          0.01227840781211853,
          -5.164013385772705,
          -10.87015438079834,
          7.85559606552124,
          -4.168178558349609,
          -4.298820495605469,
          -0.7678804397583008,
          -6.639095306396484,
          -6.491639137268066,
          2.044098138809204,
          6.987236976623535,
          -3.4798150062561035,
          8.144826889038086,
          2.6437606811523438,
          -3.116689682006836,
          -1.6483720541000366,
          -5.487598419189453,
          8.922789573669434,
          -4.785974502563477,
          -0.03183609992265701,
          -8.149169921875,
          3.427236318588257,
          -0.07128043472766876,
          -9.196244239807129,
          -4.63323450088501,
          -8.287202835083008,
          -10.779854774475098,
          11.645419120788574,
          12.21568775177002,
          2.943326950073242,
          12.470593452453613,
          -7.689702987670898,
          -0.8101309537887573,
          12.11870288848877,
          -6.120786190032959,
          10.853259086608887,
          8.62759780883789,
          -3.647923707962036,
          -11.341407775878906,
          -12.046916961669922,
          -10.436336517333984,
          7.36786413192749,
          -1.6427879333496094,
          -10.073304176330566,
          -2.6412973403930664,
          9.428857803344727,
          -3.960706949234009,
          -3.3515536785125732,
          9.393746376037598,
          11.041566848754883,
          -6.701819896697998,
          -5.481306076049805,
          5.768014907836914,
          -0.9336439371109009,
          -3.59147310256958,
          12.086431503295898,
          1.084778904914856,
          9.567319869995117,
          8.647931098937988,
          4.7299346923828125,
          -5.776529788970947,
          4.713850021362305,
          8.582282066345215,
          4.826183795928955,
          -10.986739158630371,
          -5.7515435218811035,
          7.427428722381592,
          12.034485816955566,
          8.325599670410156,
          10.967259407043457,
          8.643235206604004,
          -8.967220306396484,
          -8.721038818359375,
          8.417673110961914,
          11.784151077270508,
          -11.566307067871094,
          11.416136741638184,
          -1.102756142616272,
          -4.063477039337158,
          4.035330295562744,
          -10.90188217163086,
          -5.494694232940674,
          -12.10610580444336,
          11.855589866638184,
          12.410470962524414,
          8.473496437072754,
          -5.707277774810791,
          -5.245509147644043,
          -5.9627461433410645,
          -6.963961124420166,
          -4.6367363929748535,
          -0.3088858425617218,
          9.15698528289795,
          -5.6502275466918945,
          1.1837083101272583,
          -10.171709060668945,
          5.244048595428467,
          -10.304130554199219,
          9.671721458435059,
          -3.688091516494751,
          -0.6346021294593811,
          8.16365909576416,
          -12.326851844787598,
          8.960287094116211,
          -2.432302236557007,
          7.333173751831055,
          12.366620063781738,
          6.894002914428711,
          -1.3319758176803589,
          -0.5366816520690918,
          -11.8501558303833,
          -6.08615779876709,
          4.887328147888184,
          9.612714767456055,
          -12.048657417297363,
          -7.652962684631348,
          -8.134138107299805,
          11.202448844909668,
          0.9793675541877747,
          -0.170045867562294,
          9.75742244720459,
          8.455321311950684,
          5.511524677276611,
          -11.045675277709961,
          -3.1465938091278076,
          7.1880083084106445,
          8.327811241149902,
          9.884714126586914,
          -8.875897407531738,
          6.451357364654541,
          3.54758620262146,
          -12.071072578430176,
          -0.7980727553367615,
          4.145697593688965,
          -8.123577117919922,
          -7.955770015716553,
          -7.7145891189575195,
          9.026129722595215,
          -11.867484092712402,
          11.461610794067383,
          3.7358195781707764,
          -6.129509449005127,
          11.74988079071045,
          9.058145523071289,
          -1.2136850357055664,
          9.960700988769531,
          -10.177620887756348,
          -2.6320111751556396,
          9.791533470153809,
          -8.180375099182129,
          -11.066132545471191,
          -1.8623281717300415,
          9.847537994384766,
          -2.7923035621643066,
          4.74813175201416,
          8.561454772949219,
          11.315059661865234,
          5.3584723472595215,
          -10.879711151123047,
          7.022980213165283,
          1.8828946352005005,
          7.356193542480469,
          0.6309520602226257,
          -3.5753636360168457,
          9.14014720916748,
          -3.4838979244232178,
          -5.091824054718018,
          9.109554290771484,
          -10.102986335754395,
          0.7834047675132751,
          -7.574527740478516,
          0.8073369264602661,
          -3.3544907569885254,
          11.054987907409668,
          -4.123025894165039,
          5.088996410369873,
          11.7867431640625,
          -1.3906570672988892,
          -4.456121921539307
         ],
         "xaxis": "x",
         "y": [
          3.5321435928344727,
          4.677608966827393,
          1.5543057918548584,
          9.849347114562988,
          -1.2846261262893677,
          0.9765834212303162,
          -0.8767738342285156,
          4.584007740020752,
          6.190182685852051,
          2.0589394569396973,
          4.779263019561768,
          10.4356107711792,
          -3.250884771347046,
          -6.806189060211182,
          7.815102577209473,
          4.923199653625488,
          2.6430416107177734,
          -1.7049763202667236,
          4.797903537750244,
          -3.9992356300354004,
          -5.354095458984375,
          -4.92754602432251,
          7.653661727905273,
          3.782241106033325,
          7.958083152770996,
          3.182603359222412,
          -0.12413045018911362,
          1.3226877450942993,
          6.018808364868164,
          0.10255278646945953,
          10.179200172424316,
          6.706595420837402,
          0.6659133434295654,
          8.160360336303711,
          2.388976573944092,
          -5.205409526824951,
          -0.20421941578388214,
          -7.803157806396484,
          12.076244354248047,
          1.7373738288879395,
          -0.5839329957962036,
          -1.642476201057434,
          -8.557814598083496,
          12.206404685974121,
          -6.134435653686523,
          -3.7878620624542236,
          9.342830657958984,
          12.413254737854004,
          -4.511642932891846,
          10.298097610473633,
          -1.4124000072479248,
          -0.680889904499054,
          -2.40598726272583,
          -8.678552627563477,
          1.978659987449646,
          -8.23952865600586,
          -6.769559383392334,
          8.254181861877441,
          3.5371665954589844,
          1.0492219924926758,
          -3.77614688873291,
          12.977377891540527,
          9.088275909423828,
          5.9461164474487305,
          -8.719991683959961,
          -3.248448371887207,
          8.648506164550781,
          -9.477376937866211,
          -7.304974555969238,
          -5.5468316078186035,
          -0.02330438792705536,
          10.983525276184082,
          11.098908424377441,
          6.6642913818359375,
          -7.415916919708252,
          8.970629692077637,
          -8.865877151489258,
          0.1305883824825287,
          -2.07893443107605,
          -8.233083724975586,
          -5.535346508026123,
          -5.477003574371338,
          -8.454761505126953,
          5.438508033752441,
          -9.406608581542969,
          -6.965612411499023,
          0.8069800138473511,
          -2.422451972961426,
          10.038703918457031,
          6.365578651428223,
          -7.326519012451172,
          -2.919760227203369,
          -5.859988689422607,
          -3.8656482696533203,
          11.302618026733398,
          -1.0350569486618042,
          -4.8920578956604,
          -8.401092529296875,
          7.969747066497803,
          -6.130371570587158,
          9.845475196838379,
          10.24559211730957,
          5.52333402633667,
          -1.7496931552886963,
          -0.36187097430229187,
          4.554826736450195,
          -6.126235485076904,
          0.01730356365442276,
          4.532284259796143,
          1.3635233640670776,
          0.5042421817779541,
          -2.7272746562957764,
          1.0263912677764893,
          -9.219989776611328,
          -7.601714611053467,
          -4.084194183349609,
          6.106828212738037,
          -2.5251078605651855,
          -3.1476874351501465,
          7.1605963706970215,
          10.428516387939453,
          -8.41741943359375,
          6.789977073669434,
          1.0278576612472534,
          4.730961322784424,
          -4.843969821929932,
          8.441350936889648,
          -5.380865573883057,
          -3.7453441619873047,
          3.3262438774108887,
          1.4389796257019043,
          -6.568963050842285,
          1.5498285293579102,
          7.021905899047852,
          7.620403289794922,
          -1.4029995203018188,
          6.398021697998047,
          -5.403818130493164,
          7.715660095214844,
          -3.3839311599731445,
          0.9666547775268555,
          -8.48810863494873,
          0.7119871973991394,
          -6.087205410003662,
          -8.592921257019043,
          8.735239028930664,
          10.530421257019043,
          -4.940527439117432,
          -7.993394374847412,
          -9.476736068725586,
          -5.506613254547119,
          -4.124352931976318,
          -9.952752113342285,
          9.549751281738281,
          -0.9437692761421204,
          10.65542221069336,
          2.5012810230255127,
          2.624246120452881,
          0.7802776098251343,
          2.871251106262207,
          0.6866180300712585,
          -5.729977130889893,
          3.8394863605499268,
          1.774289608001709,
          8.501378059387207,
          0.5558038949966431,
          -7.232789039611816,
          1.1747980117797852,
          0.5828279256820679,
          6.643660068511963,
          7.945615768432617,
          0.38609448075294495,
          -4.666922569274902,
          -5.303565502166748,
          3.1553492546081543,
          6.261153221130371,
          4.717186450958252,
          -3.2924516201019287,
          0.5592979192733765,
          10.12679386138916,
          10.970231056213379,
          -3.9988677501678467,
          -0.5434424877166748,
          -2.971769094467163,
          -0.026772961020469666,
          -0.7308810353279114,
          -0.8454031348228455,
          -8.737214088439941,
          -1.202866792678833,
          -8.668449401855469,
          12.79455280303955,
          -1.9529595375061035,
          3.16938853263855,
          -1.853253722190857,
          12.015830039978027,
          -1.2611535787582397,
          -1.8448338508605957,
          -1.2129337787628174,
          -9.104899406433105,
          -9.880443572998047,
          -7.850082874298096,
          3.222182035446167,
          -7.130424499511719,
          6.778372764587402,
          -3.293454170227051,
          7.861538887023926,
          3.325836420059204,
          -2.788945436477661,
          -0.5148716568946838,
          7.8669586181640625,
          11.116639137268066,
          -4.154734134674072,
          -9.236507415771484,
          9.566449165344238,
          -7.239738464355469,
          -8.519577026367188,
          1.78884756565094,
          -9.481549263000488,
          -9.795656204223633,
          3.392066717147827,
          -3.216627597808838,
          -3.598877191543579,
          -4.919318675994873,
          -5.203479290008545,
          -1.0102574825286865,
          6.694211006164551,
          -1.579125165939331,
          3.4818732738494873,
          -7.526082992553711,
          -8.230806350708008,
          -6.155087471008301,
          -3.2724766731262207,
          5.5606889724731445,
          -7.22188663482666,
          -6.5520148277282715,
          -9.982678413391113,
          -7.466745853424072,
          9.178536415100098,
          -6.365807056427002,
          1.0432074069976807,
          9.23122501373291,
          -6.984885215759277,
          3.0920355319976807,
          -8.285432815551758,
          3.003417491912842,
          2.3325939178466797,
          -9.325672149658203,
          -4.257416725158691,
          10.482980728149414,
          -3.888857841491699,
          -6.108832836151123,
          3.4476122856140137,
          4.325430393218994,
          0.6971168518066406,
          -6.831865310668945,
          11.19356632232666,
          -1.9952367544174194,
          -3.277991533279419,
          1.113327145576477,
          -0.07228078693151474,
          5.410333633422852,
          -5.253174304962158,
          2.7624852657318115,
          10.556013107299805,
          -7.158256530761719,
          7.816998481750488,
          0.5885894894599915,
          -10.02658748626709,
          2.912071943283081,
          -4.343142986297607,
          -9.399147987365723,
          10.76273250579834,
          -4.343790531158447,
          8.572196960449219,
          -9.283766746520996,
          -3.3687448501586914,
          -1.4345991611480713,
          -2.76389217376709,
          -1.0156164169311523,
          4.607111930847168,
          -4.11220645904541,
          -3.2490358352661133,
          -1.6551011800765991,
          0.7094467282295227,
          6.795267581939697,
          10.829177856445312,
          9.35326862335205,
          -10.012114524841309,
          7.409669876098633,
          4.657449245452881,
          -8.37310791015625,
          -5.180932521820068,
          10.738957405090332,
          -3.3088061809539795,
          8.690896987915039,
          -6.889345645904541,
          9.945709228515625,
          -2.043546199798584,
          -10.070734977722168,
          -2.866671562194824,
          -3.6442975997924805,
          -7.368880271911621,
          -10.418554306030273,
          2.4955384731292725,
          -6.328197479248047,
          11.52419662475586,
          -9.642417907714844,
          3.045006036758423,
          10.33814525604248,
          -6.996850967407227,
          -8.299897193908691,
          -2.811008930206299,
          -6.827011585235596,
          0.9612775444984436,
          -7.003907680511475,
          -3.857163190841675,
          -0.22579777240753174,
          7.913578033447266,
          -9.244994163513184,
          2.646265745162964,
          -10.051236152648926,
          -3.0480728149414062,
          -5.1469573974609375,
          7.670482635498047,
          -8.770020484924316,
          9.562784194946289,
          -5.188638210296631,
          -8.252157211303711,
          2.7479145526885986,
          -3.6989450454711914,
          2.3965983390808105,
          7.9055705070495605,
          -8.577885627746582,
          -6.716463088989258,
          -7.822840690612793,
          -3.6324634552001953,
          -0.1545383632183075,
          -6.698028087615967,
          -3.3146655559539795,
          -8.429207801818848,
          -5.760144233703613,
          -0.9202029705047607,
          -6.010778903961182,
          -1.8312065601348877,
          3.2486705780029297,
          -3.1274867057800293,
          0.5478256344795227,
          12.847163200378418,
          4.797205924987793,
          -0.8222580552101135,
          2.835702419281006,
          -2.4600443840026855,
          -1.7095367908477783,
          3.405029058456421,
          -9.247862815856934,
          -9.844642639160156,
          -0.7263100743293762,
          -5.898205280303955,
          12.409796714782715,
          8.787227630615234,
          12.314786911010742,
          -8.442530632019043,
          3.5702552795410156,
          -9.019668579101562,
          0.9958360195159912,
          0.2733928859233856,
          3.32511305809021,
          0.6130242347717285,
          7.500552177429199,
          -2.1632614135742188,
          12.027942657470703,
          7.41037654876709,
          -4.874205589294434,
          5.0622053146362305,
          1.1983312368392944,
          0.8349802494049072,
          10.577615737915039,
          -4.816666126251221,
          -2.3104183673858643,
          -1.4451526403427124,
          0.611187219619751,
          -0.014715038239955902,
          -8.295445442199707,
          -1.5603076219558716,
          -2.4477953910827637,
          5.518089771270752,
          4.404455184936523,
          1.4653246402740479,
          -9.772756576538086,
          10.900188446044922,
          13.041155815124512,
          -8.653864860534668,
          -8.539495468139648,
          2.4166300296783447,
          8.915889739990234,
          -2.9697277545928955,
          5.194482326507568,
          9.56824016571045,
          -4.395252227783203,
          1.452816367149353,
          10.5795316696167,
          -8.461097717285156,
          -5.948015213012695,
          -7.171280384063721,
          5.75560998916626,
          -8.421533584594727,
          3.45898175239563,
          6.694270610809326,
          5.3105692863464355,
          7.788176536560059,
          0.17918798327445984,
          5.366873741149902,
          8.22438907623291,
          6.185580730438232,
          -1.7756805419921875,
          2.0842931270599365,
          -7.674027919769287,
          10.668670654296875,
          6.155517578125,
          -0.5883760452270508,
          4.916908264160156,
          7.743954658508301,
          -6.4152069091796875,
          11.042298316955566,
          3.0600779056549072,
          -5.605198383331299,
          10.829456329345703,
          -1.9036200046539307,
          -9.249353408813477,
          -9.6610107421875,
          -8.187500953674316,
          7.771839618682861,
          -8.913056373596191,
          12.30872917175293,
          7.939955711364746,
          -9.729180335998535,
          -5.85128116607666,
          -5.721338272094727,
          5.062600612640381,
          10.107145309448242,
          -5.396618366241455,
          -0.45695263147354126,
          -3.813997507095337,
          -4.163026809692383,
          3.4955525398254395,
          6.4809794425964355,
          9.368718147277832,
          -5.283136367797852,
          13.064455032348633,
          4.429715156555176,
          -7.428947448730469,
          -3.715263605117798,
          8.630199432373047,
          -9.377079010009766,
          10.319231986999512,
          2.725228786468506,
          10.232770919799805,
          -4.132119655609131,
          0.32940590381622314,
          2.7518041133880615,
          -8.801283836364746,
          3.2288477420806885,
          2.2308526039123535,
          5.020090103149414,
          8.048351287841797,
          6.371518135070801,
          6.070230007171631,
          -5.621064186096191,
          -3.165550708770752,
          -10.220484733581543,
          4.407854080200195,
          -7.860162734985352,
          -7.944091796875,
          9.589752197265625,
          8.37649917602539,
          -0.7872953414916992,
          -2.7848238945007324,
          4.693345546722412,
          0.3020665645599365,
          -6.580963611602783,
          -3.016078472137451,
          -7.355651378631592,
          2.965996265411377,
          -0.11252038925886154,
          -4.977701663970947,
          -9.379899978637695,
          -1.0351821184158325,
          3.9140212535858154,
          -7.081488609313965,
          -5.501491069793701,
          -0.9922841191291809,
          -3.1126315593719482,
          5.146223068237305,
          3.2096028327941895,
          10.299358367919922,
          1.3556032180786133,
          -8.235909461975098,
          6.667483806610107,
          2.8866608142852783,
          11.166296005249023,
          -2.7441036701202393,
          4.856238842010498,
          2.753174066543579,
          7.16213321685791,
          -5.19495964050293,
          -9.178410530090332,
          9.68018627166748,
          -2.1777219772338867,
          -1.800071358680725,
          -10.287064552307129,
          5.749505996704102,
          -2.1652982234954834,
          -10.049363136291504,
          6.869991779327393,
          5.663938522338867,
          6.247650146484375,
          -1.8712358474731445,
          4.941171169281006,
          -1.7735321521759033,
          -1.5774108171463013,
          -3.474364995956421,
          -5.702700614929199,
          -2.524088144302368,
          3.249755620956421,
          -4.954444885253906,
          -3.1195478439331055,
          7.03010368347168,
          3.2439351081848145,
          -2.993042469024658,
          2.910435199737549,
          -5.304105281829834,
          2.086256504058838,
          -8.034488677978516,
          8.455161094665527,
          -10.247669219970703,
          -2.6253175735473633,
          1.2165764570236206,
          -0.0030708685517311096,
          9.954663276672363,
          -9.523445129394531,
          -3.7359015941619873,
          3.2610232830047607,
          6.060894012451172,
          -9.793394088745117,
          -4.137592792510986,
          6.69442892074585,
          -7.307192802429199,
          -7.235525608062744,
          -9.105777740478516,
          -3.5686588287353516,
          5.734437942504883,
          -8.204092979431152,
          7.855408668518066,
          1.2313878536224365,
          2.7279701232910156,
          10.065033912658691,
          9.005455017089844,
          4.151556015014648,
          6.290164947509766,
          12.879836082458496,
          -9.275101661682129,
          1.003621220588684,
          3.0917093753814697,
          5.153811931610107,
          -3.115558624267578,
          7.564660549163818,
          -5.828174591064453,
          -5.766887664794922,
          1.4243677854537964,
          12.507220268249512,
          -6.617791175842285,
          -2.9279627799987793,
          4.70926570892334,
          1.241554856300354,
          6.868149280548096,
          10.978995323181152,
          5.983457088470459,
          11.416788101196289,
          11.047211647033691,
          9.303049087524414,
          4.771533012390137,
          7.8331193923950195,
          7.948801517486572,
          -8.522064208984375,
          -4.914984703063965,
          0.5485510230064392,
          -10.285980224609375,
          3.3663454055786133,
          6.305806636810303,
          6.965007781982422,
          -3.941664934158325,
          7.650997161865234,
          11.756026268005371,
          -6.215928554534912,
          -7.82384729385376,
          3.548008441925049,
          -5.798038005828857,
          9.390186309814453,
          -8.683117866516113,
          0.5060713291168213,
          -6.576587200164795,
          -6.933831214904785,
          -8.340995788574219,
          5.630086898803711,
          7.210119724273682,
          -9.221510887145996,
          -8.038369178771973,
          6.420623779296875,
          -0.11264614015817642,
          11.072208404541016,
          10.626084327697754,
          4.8502278327941895,
          -6.2524213790893555,
          -9.632142066955566,
          -3.289292812347412,
          5.823843479156494,
          4.749805450439453,
          -10.125736236572266,
          -2.8339426517486572,
          2.6385610103607178,
          -2.069545030593872,
          -1.7677021026611328,
          1.0018982887268066,
          -9.512877464294434,
          0.1679796427488327,
          -9.994987487792969,
          -0.20257806777954102,
          -7.432356834411621,
          6.433320999145508,
          -9.065956115722656,
          -8.740065574645996,
          -2.497392416000366,
          0.9273701906204224,
          -5.9156599044799805,
          -5.719745635986328,
          3.004685163497925,
          -2.805663585662842,
          9.477828025817871,
          -7.900955677032471,
          4.784448623657227,
          11.049654960632324,
          6.943321228027344,
          12.848891258239746,
          2.5099215507507324,
          8.588915824890137,
          3.4040801525115967,
          -2.453120231628418,
          -4.52714729309082,
          -0.7019648551940918,
          11.838482856750488,
          -0.9197173118591309,
          9.725381851196289,
          -9.832448959350586,
          -2.977527141571045,
          -2.0486361980438232,
          -0.7832280397415161,
          0.7098599672317505,
          -2.6102352142333984,
          11.445978164672852,
          -1.4471269845962524,
          5.127390384674072,
          -4.165615558624268,
          -8.424018859863281,
          -5.643655300140381,
          -7.714313983917236,
          7.367408752441406,
          6.523526191711426,
          -6.240669250488281,
          -3.305859088897705,
          -0.3494027256965637,
          3.6462788581848145,
          7.624529838562012,
          3.7466840744018555,
          -4.681478500366211,
          -9.94413948059082,
          -5.7696614265441895,
          -5.661071300506592,
          -3.0519611835479736,
          -0.4207026958465576,
          -3.1689670085906982,
          -1.5512107610702515,
          7.619466781616211,
          7.837610244750977,
          -7.207778453826904,
          -9.47382926940918,
          -1.5441757440567017,
          -3.489989995956421,
          -0.06834927946329117,
          -5.874330043792725,
          8.634815216064453,
          3.734872341156006,
          -8.27303409576416,
          12.2572660446167,
          0.9834349751472473,
          -1.869657039642334,
          5.4699177742004395,
          10.99311351776123,
          -2.5255281925201416,
          -0.6576600074768066,
          -5.0106892585754395,
          9.260711669921875,
          -9.166439056396484,
          0.4872388541698456,
          -9.155539512634277,
          -7.297885894775391,
          -4.01977014541626,
          -5.311312675476074,
          -2.66404390335083,
          -5.395866870880127,
          -2.000823497772217,
          3.3009464740753174,
          -2.75178861618042,
          -1.5832008123397827,
          -0.8303782939910889,
          5.0436248779296875,
          6.660511016845703,
          -9.969311714172363,
          7.777316093444824,
          -5.589895725250244,
          10.771145820617676,
          -3.2604966163635254,
          10.491535186767578,
          -8.381345748901367,
          9.81409740447998,
          10.967144012451172,
          -9.81563949584961,
          0.5529191493988037,
          -4.742959499359131,
          -6.280410289764404,
          9.03072738647461,
          -2.4758527278900146,
          0.16296005249023438,
          7.756282806396484,
          2.3624045848846436,
          7.953195571899414,
          -3.055417060852051,
          -10.486196517944336,
          2.8852269649505615,
          6.368927001953125,
          5.60121488571167,
          -9.185596466064453,
          -2.497929334640503,
          -3.895190715789795,
          -8.725556373596191,
          11.323984146118164,
          -4.095399856567383,
          -8.59109878540039,
          -7.566898822784424,
          6.651556968688965,
          -2.2255542278289795,
          -0.02735523134469986,
          6.3433837890625,
          0.6249868273735046,
          -8.05488109588623,
          2.571268081665039,
          1.8324790000915527,
          -2.3092925548553467,
          0.6679151058197021,
          -9.686623573303223,
          8.87938117980957,
          -9.29443645477295,
          8.073089599609375,
          -4.622087478637695,
          -3.804694175720215,
          -3.140881061553955,
          -1.39054274559021,
          6.099290370941162,
          -9.292964935302734,
          2.929738759994507,
          -7.96979284286499,
          -6.964243412017822,
          3.1269688606262207,
          -2.2240474224090576,
          6.804812431335449,
          -4.7821245193481445,
          -8.702705383300781,
          8.47046947479248,
          -0.00046019256114959717,
          9.371374130249023,
          -3.745155096054077,
          2.260716438293457,
          10.341562271118164,
          -5.364823341369629,
          5.267340183258057,
          9.846728324890137,
          2.3798813819885254,
          7.935678482055664,
          12.035346031188965,
          7.1047186851501465,
          -10.403619766235352,
          3.0453169345855713,
          -3.140969753265381,
          6.058533191680908,
          -8.784672737121582,
          -8.790205001831055,
          7.270639419555664,
          1.259297490119934,
          -0.3697137236595154,
          2.7192089557647705,
          2.9398114681243896,
          7.071773052215576,
          5.742387294769287,
          10.981850624084473,
          -5.63084602355957,
          -1.5919092893600464,
          9.989100456237793,
          -8.719120979309082,
          -3.8035383224487305,
          1.2297453880310059,
          7.441338062286377,
          9.578511238098145,
          3.444319486618042,
          -8.892396926879883,
          -5.110705852508545,
          2.8240654468536377,
          -5.055780410766602,
          -4.723495960235596,
          -5.5116705894470215,
          -1.5688629150390625,
          -1.8184528350830078,
          5.7686238288879395,
          1.6332508325576782,
          4.608587265014648,
          6.378823757171631,
          -7.480050086975098,
          -1.8937848806381226,
          9.634933471679688,
          -7.310061931610107,
          4.756134986877441,
          -5.430877208709717,
          -9.890830039978027,
          -3.6348824501037598,
          -1.4996824264526367,
          -7.912165641784668,
          -5.911528587341309,
          -9.383209228515625,
          7.822474479675293,
          6.620030403137207,
          2.8554093837738037,
          4.553545951843262,
          -8.8870849609375,
          -5.963720321655273,
          -8.946412086486816,
          -7.940708637237549,
          8.166500091552734,
          4.0976386070251465,
          3.6150527000427246,
          3.644157886505127,
          -3.45550537109375,
          9.906315803527832,
          -9.454899787902832,
          -0.119673952460289,
          10.64594841003418,
          5.640501499176025,
          10.017867088317871,
          6.61104679107666,
          2.6560330390930176,
          6.521944046020508,
          -1.9383177757263184,
          -0.4093911647796631,
          -0.1452951431274414,
          7.946956634521484,
          -2.5484023094177246,
          -3.6705353260040283,
          5.310942649841309,
          1.7338504791259766,
          -0.6671769618988037,
          -10.13021469116211,
          -9.729104995727539,
          -7.1324591636657715,
          -3.1902785301208496,
          12.022356033325195,
          -4.53335428237915,
          -7.234228610992432,
          5.920948028564453,
          11.272530555725098,
          9.492472648620605,
          0.06087740510702133,
          -6.7457733154296875,
          4.252552509307861,
          -2.362262725830078,
          12.656469345092773,
          -8.694684982299805,
          1.7757998704910278,
          -1.331485629081726,
          -3.5365984439849854,
          -0.544485330581665,
          0.13833492994308472,
          -5.402964115142822,
          -0.006516510620713234,
          -4.991228103637695,
          9.050606727600098,
          -4.144660949707031,
          4.389306545257568,
          9.548393249511719,
          10.10974407196045,
          -2.2726314067840576,
          -3.1755754947662354,
          -1.204058051109314,
          -10.205260276794434,
          -9.707033157348633,
          7.559615612030029,
          -8.564652442932129,
          -1.0740255117416382,
          -2.6405813694000244,
          9.785473823547363,
          -1.5565543174743652,
          -8.589617729187012,
          4.493759632110596,
          -1.6108649969100952,
          -9.061264038085938,
          9.12929916381836,
          -8.832159996032715,
          6.67479944229126,
          0.09898582845926285,
          -5.582141399383545,
          6.2224507331848145,
          -7.354399681091309,
          -2.3776955604553223,
          4.282143592834473,
          9.312954902648926,
          -3.2037763595581055,
          -0.08029380440711975,
          2.9752659797668457,
          -6.745965003967285,
          7.3333868980407715,
          0.39537039399147034,
          10.426284790039062,
          -4.536858081817627,
          -3.9682817459106445,
          -9.521917343139648,
          -3.2191312313079834,
          -5.580986022949219,
          -8.845070838928223,
          0.7095097899436951,
          -1.0669736862182617,
          11.324823379516602,
          -7.761376857757568,
          -5.188332557678223,
          1.2482668161392212,
          1.778555989265442,
          -6.678765296936035,
          7.586607933044434,
          -9.51318359375,
          -3.7655279636383057,
          3.5223162174224854,
          -5.729499816894531,
          5.310743808746338,
          -6.860229969024658,
          -5.079338073730469,
          -3.9177088737487793,
          -8.941252708435059,
          3.228825569152832,
          7.469500541687012,
          -8.756110191345215,
          11.211662292480469,
          2.101379632949829,
          -4.465695858001709,
          4.14697265625,
          3.183687686920166,
          11.569271087646484,
          -8.431487083435059,
          -5.748515605926514,
          -2.280587911605835,
          3.0680251121520996,
          -1.1870026588439941,
          -0.6204614639282227,
          -4.61460542678833,
          -8.797168731689453,
          4.847025394439697,
          -4.113422870635986,
          0.1854545921087265,
          -4.07277774810791,
          -0.6255934834480286,
          -9.344395637512207,
          -2.901414632797241,
          0.270683616399765,
          -5.2605299949646,
          -9.361245155334473,
          -2.7422902584075928,
          -6.813470840454102,
          -9.601503372192383,
          -4.8835368156433105,
          0.05474621802568436,
          -1.418501615524292,
          3.9661710262298584,
          0.6504188179969788,
          7.057657241821289,
          0.11202652007341385,
          -3.6356751918792725,
          5.233770370483398,
          8.150032043457031,
          -5.34976863861084,
          -5.055172920227051,
          0.09831103682518005,
          9.769680976867676,
          -7.3257904052734375,
          9.375330924987793,
          6.5338358879089355,
          10.904729843139648
         ],
         "yaxis": "y"
        }
       ],
       "layout": {
        "coloraxis": {
         "colorbar": {
          "title": {
           "text": "Cluster"
          }
         },
         "colorscale": [
          [
           0,
           "#440154"
          ],
          [
           0.1111111111111111,
           "#482878"
          ],
          [
           0.2222222222222222,
           "#3e4989"
          ],
          [
           0.3333333333333333,
           "#31688e"
          ],
          [
           0.4444444444444444,
           "#26828e"
          ],
          [
           0.5555555555555556,
           "#1f9e89"
          ],
          [
           0.6666666666666666,
           "#35b779"
          ],
          [
           0.7777777777777778,
           "#6ece58"
          ],
          [
           0.8888888888888888,
           "#b5de2b"
          ],
          [
           1,
           "#fde725"
          ]
         ]
        },
        "legend": {
         "tracegroupgap": 0
        },
        "template": {
         "data": {
          "bar": [
           {
            "error_x": {
             "color": "#2a3f5f"
            },
            "error_y": {
             "color": "#2a3f5f"
            },
            "marker": {
             "line": {
              "color": "#E5ECF6",
              "width": 0.5
             },
             "pattern": {
              "fillmode": "overlay",
              "size": 10,
              "solidity": 0.2
             }
            },
            "type": "bar"
           }
          ],
          "barpolar": [
           {
            "marker": {
             "line": {
              "color": "#E5ECF6",
              "width": 0.5
             },
             "pattern": {
              "fillmode": "overlay",
              "size": 10,
              "solidity": 0.2
             }
            },
            "type": "barpolar"
           }
          ],
          "carpet": [
           {
            "aaxis": {
             "endlinecolor": "#2a3f5f",
             "gridcolor": "white",
             "linecolor": "white",
             "minorgridcolor": "white",
             "startlinecolor": "#2a3f5f"
            },
            "baxis": {
             "endlinecolor": "#2a3f5f",
             "gridcolor": "white",
             "linecolor": "white",
             "minorgridcolor": "white",
             "startlinecolor": "#2a3f5f"
            },
            "type": "carpet"
           }
          ],
          "choropleth": [
           {
            "colorbar": {
             "outlinewidth": 0,
             "ticks": ""
            },
            "type": "choropleth"
           }
          ],
          "contour": [
           {
            "colorbar": {
             "outlinewidth": 0,
             "ticks": ""
            },
            "colorscale": [
             [
              0,
              "#0d0887"
             ],
             [
              0.1111111111111111,
              "#46039f"
             ],
             [
              0.2222222222222222,
              "#7201a8"
             ],
             [
              0.3333333333333333,
              "#9c179e"
             ],
             [
              0.4444444444444444,
              "#bd3786"
             ],
             [
              0.5555555555555556,
              "#d8576b"
             ],
             [
              0.6666666666666666,
              "#ed7953"
             ],
             [
              0.7777777777777778,
              "#fb9f3a"
             ],
             [
              0.8888888888888888,
              "#fdca26"
             ],
             [
              1,
              "#f0f921"
             ]
            ],
            "type": "contour"
           }
          ],
          "contourcarpet": [
           {
            "colorbar": {
             "outlinewidth": 0,
             "ticks": ""
            },
            "type": "contourcarpet"
           }
          ],
          "heatmap": [
           {
            "colorbar": {
             "outlinewidth": 0,
             "ticks": ""
            },
            "colorscale": [
             [
              0,
              "#0d0887"
             ],
             [
              0.1111111111111111,
              "#46039f"
             ],
             [
              0.2222222222222222,
              "#7201a8"
             ],
             [
              0.3333333333333333,
              "#9c179e"
             ],
             [
              0.4444444444444444,
              "#bd3786"
             ],
             [
              0.5555555555555556,
              "#d8576b"
             ],
             [
              0.6666666666666666,
              "#ed7953"
             ],
             [
              0.7777777777777778,
              "#fb9f3a"
             ],
             [
              0.8888888888888888,
              "#fdca26"
             ],
             [
              1,
              "#f0f921"
             ]
            ],
            "type": "heatmap"
           }
          ],
          "heatmapgl": [
           {
            "colorbar": {
             "outlinewidth": 0,
             "ticks": ""
            },
            "colorscale": [
             [
              0,
              "#0d0887"
             ],
             [
              0.1111111111111111,
              "#46039f"
             ],
             [
              0.2222222222222222,
              "#7201a8"
             ],
             [
              0.3333333333333333,
              "#9c179e"
             ],
             [
              0.4444444444444444,
              "#bd3786"
             ],
             [
              0.5555555555555556,
              "#d8576b"
             ],
             [
              0.6666666666666666,
              "#ed7953"
             ],
             [
              0.7777777777777778,
              "#fb9f3a"
             ],
             [
              0.8888888888888888,
              "#fdca26"
             ],
             [
              1,
              "#f0f921"
             ]
            ],
            "type": "heatmapgl"
           }
          ],
          "histogram": [
           {
            "marker": {
             "pattern": {
              "fillmode": "overlay",
              "size": 10,
              "solidity": 0.2
             }
            },
            "type": "histogram"
           }
          ],
          "histogram2d": [
           {
            "colorbar": {
             "outlinewidth": 0,
             "ticks": ""
            },
            "colorscale": [
             [
              0,
              "#0d0887"
             ],
             [
              0.1111111111111111,
              "#46039f"
             ],
             [
              0.2222222222222222,
              "#7201a8"
             ],
             [
              0.3333333333333333,
              "#9c179e"
             ],
             [
              0.4444444444444444,
              "#bd3786"
             ],
             [
              0.5555555555555556,
              "#d8576b"
             ],
             [
              0.6666666666666666,
              "#ed7953"
             ],
             [
              0.7777777777777778,
              "#fb9f3a"
             ],
             [
              0.8888888888888888,
              "#fdca26"
             ],
             [
              1,
              "#f0f921"
             ]
            ],
            "type": "histogram2d"
           }
          ],
          "histogram2dcontour": [
           {
            "colorbar": {
             "outlinewidth": 0,
             "ticks": ""
            },
            "colorscale": [
             [
              0,
              "#0d0887"
             ],
             [
              0.1111111111111111,
              "#46039f"
             ],
             [
              0.2222222222222222,
              "#7201a8"
             ],
             [
              0.3333333333333333,
              "#9c179e"
             ],
             [
              0.4444444444444444,
              "#bd3786"
             ],
             [
              0.5555555555555556,
              "#d8576b"
             ],
             [
              0.6666666666666666,
              "#ed7953"
             ],
             [
              0.7777777777777778,
              "#fb9f3a"
             ],
             [
              0.8888888888888888,
              "#fdca26"
             ],
             [
              1,
              "#f0f921"
             ]
            ],
            "type": "histogram2dcontour"
           }
          ],
          "mesh3d": [
           {
            "colorbar": {
             "outlinewidth": 0,
             "ticks": ""
            },
            "type": "mesh3d"
           }
          ],
          "parcoords": [
           {
            "line": {
             "colorbar": {
              "outlinewidth": 0,
              "ticks": ""
             }
            },
            "type": "parcoords"
           }
          ],
          "pie": [
           {
            "automargin": true,
            "type": "pie"
           }
          ],
          "scatter": [
           {
            "fillpattern": {
             "fillmode": "overlay",
             "size": 10,
             "solidity": 0.2
            },
            "type": "scatter"
           }
          ],
          "scatter3d": [
           {
            "line": {
             "colorbar": {
              "outlinewidth": 0,
              "ticks": ""
             }
            },
            "marker": {
             "colorbar": {
              "outlinewidth": 0,
              "ticks": ""
             }
            },
            "type": "scatter3d"
           }
          ],
          "scattercarpet": [
           {
            "marker": {
             "colorbar": {
              "outlinewidth": 0,
              "ticks": ""
             }
            },
            "type": "scattercarpet"
           }
          ],
          "scattergeo": [
           {
            "marker": {
             "colorbar": {
              "outlinewidth": 0,
              "ticks": ""
             }
            },
            "type": "scattergeo"
           }
          ],
          "scattergl": [
           {
            "marker": {
             "colorbar": {
              "outlinewidth": 0,
              "ticks": ""
             }
            },
            "type": "scattergl"
           }
          ],
          "scattermapbox": [
           {
            "marker": {
             "colorbar": {
              "outlinewidth": 0,
              "ticks": ""
             }
            },
            "type": "scattermapbox"
           }
          ],
          "scatterpolar": [
           {
            "marker": {
             "colorbar": {
              "outlinewidth": 0,
              "ticks": ""
             }
            },
            "type": "scatterpolar"
           }
          ],
          "scatterpolargl": [
           {
            "marker": {
             "colorbar": {
              "outlinewidth": 0,
              "ticks": ""
             }
            },
            "type": "scatterpolargl"
           }
          ],
          "scatterternary": [
           {
            "marker": {
             "colorbar": {
              "outlinewidth": 0,
              "ticks": ""
             }
            },
            "type": "scatterternary"
           }
          ],
          "surface": [
           {
            "colorbar": {
             "outlinewidth": 0,
             "ticks": ""
            },
            "colorscale": [
             [
              0,
              "#0d0887"
             ],
             [
              0.1111111111111111,
              "#46039f"
             ],
             [
              0.2222222222222222,
              "#7201a8"
             ],
             [
              0.3333333333333333,
              "#9c179e"
             ],
             [
              0.4444444444444444,
              "#bd3786"
             ],
             [
              0.5555555555555556,
              "#d8576b"
             ],
             [
              0.6666666666666666,
              "#ed7953"
             ],
             [
              0.7777777777777778,
              "#fb9f3a"
             ],
             [
              0.8888888888888888,
              "#fdca26"
             ],
             [
              1,
              "#f0f921"
             ]
            ],
            "type": "surface"
           }
          ],
          "table": [
           {
            "cells": {
             "fill": {
              "color": "#EBF0F8"
             },
             "line": {
              "color": "white"
             }
            },
            "header": {
             "fill": {
              "color": "#C8D4E3"
             },
             "line": {
              "color": "white"
             }
            },
            "type": "table"
           }
          ]
         },
         "layout": {
          "annotationdefaults": {
           "arrowcolor": "#2a3f5f",
           "arrowhead": 0,
           "arrowwidth": 1
          },
          "autotypenumbers": "strict",
          "coloraxis": {
           "colorbar": {
            "outlinewidth": 0,
            "ticks": ""
           }
          },
          "colorscale": {
           "diverging": [
            [
             0,
             "#8e0152"
            ],
            [
             0.1,
             "#c51b7d"
            ],
            [
             0.2,
             "#de77ae"
            ],
            [
             0.3,
             "#f1b6da"
            ],
            [
             0.4,
             "#fde0ef"
            ],
            [
             0.5,
             "#f7f7f7"
            ],
            [
             0.6,
             "#e6f5d0"
            ],
            [
             0.7,
             "#b8e186"
            ],
            [
             0.8,
             "#7fbc41"
            ],
            [
             0.9,
             "#4d9221"
            ],
            [
             1,
             "#276419"
            ]
           ],
           "sequential": [
            [
             0,
             "#0d0887"
            ],
            [
             0.1111111111111111,
             "#46039f"
            ],
            [
             0.2222222222222222,
             "#7201a8"
            ],
            [
             0.3333333333333333,
             "#9c179e"
            ],
            [
             0.4444444444444444,
             "#bd3786"
            ],
            [
             0.5555555555555556,
             "#d8576b"
            ],
            [
             0.6666666666666666,
             "#ed7953"
            ],
            [
             0.7777777777777778,
             "#fb9f3a"
            ],
            [
             0.8888888888888888,
             "#fdca26"
            ],
            [
             1,
             "#f0f921"
            ]
           ],
           "sequentialminus": [
            [
             0,
             "#0d0887"
            ],
            [
             0.1111111111111111,
             "#46039f"
            ],
            [
             0.2222222222222222,
             "#7201a8"
            ],
            [
             0.3333333333333333,
             "#9c179e"
            ],
            [
             0.4444444444444444,
             "#bd3786"
            ],
            [
             0.5555555555555556,
             "#d8576b"
            ],
            [
             0.6666666666666666,
             "#ed7953"
            ],
            [
             0.7777777777777778,
             "#fb9f3a"
            ],
            [
             0.8888888888888888,
             "#fdca26"
            ],
            [
             1,
             "#f0f921"
            ]
           ]
          },
          "colorway": [
           "#636efa",
           "#EF553B",
           "#00cc96",
           "#ab63fa",
           "#FFA15A",
           "#19d3f3",
           "#FF6692",
           "#B6E880",
           "#FF97FF",
           "#FECB52"
          ],
          "font": {
           "color": "#2a3f5f"
          },
          "geo": {
           "bgcolor": "white",
           "lakecolor": "white",
           "landcolor": "#E5ECF6",
           "showlakes": true,
           "showland": true,
           "subunitcolor": "white"
          },
          "hoverlabel": {
           "align": "left"
          },
          "hovermode": "closest",
          "mapbox": {
           "style": "light"
          },
          "paper_bgcolor": "white",
          "plot_bgcolor": "#E5ECF6",
          "polar": {
           "angularaxis": {
            "gridcolor": "white",
            "linecolor": "white",
            "ticks": ""
           },
           "bgcolor": "#E5ECF6",
           "radialaxis": {
            "gridcolor": "white",
            "linecolor": "white",
            "ticks": ""
           }
          },
          "scene": {
           "xaxis": {
            "backgroundcolor": "#E5ECF6",
            "gridcolor": "white",
            "gridwidth": 2,
            "linecolor": "white",
            "showbackground": true,
            "ticks": "",
            "zerolinecolor": "white"
           },
           "yaxis": {
            "backgroundcolor": "#E5ECF6",
            "gridcolor": "white",
            "gridwidth": 2,
            "linecolor": "white",
            "showbackground": true,
            "ticks": "",
            "zerolinecolor": "white"
           },
           "zaxis": {
            "backgroundcolor": "#E5ECF6",
            "gridcolor": "white",
            "gridwidth": 2,
            "linecolor": "white",
            "showbackground": true,
            "ticks": "",
            "zerolinecolor": "white"
           }
          },
          "shapedefaults": {
           "line": {
            "color": "#2a3f5f"
           }
          },
          "ternary": {
           "aaxis": {
            "gridcolor": "white",
            "linecolor": "white",
            "ticks": ""
           },
           "baxis": {
            "gridcolor": "white",
            "linecolor": "white",
            "ticks": ""
           },
           "bgcolor": "#E5ECF6",
           "caxis": {
            "gridcolor": "white",
            "linecolor": "white",
            "ticks": ""
           }
          },
          "title": {
           "x": 0.05
          },
          "xaxis": {
           "automargin": true,
           "gridcolor": "white",
           "linecolor": "white",
           "ticks": "",
           "title": {
            "standoff": 15
           },
           "zerolinecolor": "white",
           "zerolinewidth": 2
          },
          "yaxis": {
           "automargin": true,
           "gridcolor": "white",
           "linecolor": "white",
           "ticks": "",
           "title": {
            "standoff": 15
           },
           "zerolinecolor": "white",
           "zerolinewidth": 2
          }
         }
        },
        "title": {
         "text": "User Similarity Visualization with DBSCAN Clustering (eps=1.0397999999999956)"
        },
        "xaxis": {
         "anchor": "y",
         "domain": [
          0,
          1
         ],
         "title": {
          "text": "t-SNE Component 1"
         }
        },
        "yaxis": {
         "anchor": "x",
         "domain": [
          0,
          1
         ],
         "title": {
          "text": "t-SNE Component 2"
         }
        }
       }
      }
     },
     "metadata": {},
     "output_type": "display_data"
    },
    {
     "data": {
      "image/png": "[encoded data removed]",
      "text/plain": [
       "<Figure size 640x480 with 1 Axes>"
      ]
     },
     "metadata": {},
     "output_type": "display_data"
    }
   ],
   "source": [
    "import numpy as np\n",
    "from sklearn.cluster import DBSCAN\n",
    "import plotly.express as px\n",
    "import pandas as pd\n",
    "from sklearn.decomposition import PCA\n",
    "from sklearn.manifold import TSNE\n",
    "from sklearn.preprocessing import StandardScaler\n",
    "\n",
    "# Step 1: Prepare data for similarity visualization\n",
    "selected_features = ['userId', 'genres_cmu', 'rating', 'budget']\n",
    "# Group data by userId and genres_cmu, calculating the mean of ratings and filling NaNs\n",
    "df_merged.dropna(subset=selected_features, inplace=True)\n",
    "user_genre_ratings = df_merged.groupby(['userId', 'genres_cmu'])['rating'].mean().unstack().fillna(0)\n",
    "\n",
    "# Include additional features if available (e.g., budget, etc.)\n",
    "if 'budget' in df_merged.columns:\n",
    "    user_genre_ratings['budget'] = df_merged.groupby('userId')['budget'].mean()\n",
    "\n",
    "subsample_size = 1000  # Adjust to an acceptable size\n",
    "user_genre_ratings = user_genre_ratings.sample(n=subsample_size, random_state=42)\n",
    "\n",
    "# Step 2: Standardize the data\n",
    "scaler = StandardScaler()\n",
    "user_genre_scaled = scaler.fit_transform(user_genre_ratings)\n",
    "\n",
    "# Step 3: Dimensionality reduction for visualization\n",
    "# Use PCA for initial dimensionality reduction\n",
    "\n",
    "\n",
    "'''\n",
    "# TRY WITH n_components 10, 2 20 (for some good tests)\n",
    "'''\n",
    "\n",
    "\n",
    "pca = PCA(n_components=10) \n",
    "user_genre_pca = pca.fit_transform(user_genre_scaled)\n",
    "\n",
    "# Use t-SNE for a more detailed 2D visualization\n",
    "tsne = TSNE(n_components=2, random_state=42, perplexity=30, n_iter=300)\n",
    "user_genre_tsne = tsne.fit_transform(user_genre_pca)\n",
    "\n",
    "# Convert the result to a DataFrame for plotting\n",
    "user_tsne_df = pd.DataFrame(user_genre_tsne, columns=['Component 1', 'Component 2'])\n",
    "user_tsne_df['userId'] = user_genre_ratings.index\n",
    "\n",
    "list_clusters = []\n",
    "range_eps = np.arange(1, 2, 0.0001)\n",
    "\n",
    "# Step 4: Apply DBSCAN for clustering\n",
    "for eps_value in range_eps:\n",
    "    dbscan = DBSCAN(eps=eps_value, min_samples=5)  # Set random_state for consistency\n",
    "    user_tsne_df['Cluster'] = dbscan.fit_predict(user_tsne_df[['Component 1', 'Component 2']])\n",
    "    list_clusters.append(len(user_tsne_df['Cluster'].unique()))\n",
    "\n",
    "# Plot the number of clusters as a function of eps\n",
    "plt.plot(range_eps, list_clusters)\n",
    "\n",
    "# get the epsilon for wich the number of clusters is 4\n",
    "eps_value = range_eps[list_clusters.index(8)]\n",
    "print(f\"Optimal Epsilon value: {eps_value}\")\n",
    "dbscan = DBSCAN(eps=eps_value, min_samples=5)  # Set random_state for consistency\n",
    "user_tsne_df['Cluster'] = dbscan.fit_predict(user_tsne_df[['Component 1', 'Component 2']])\n",
    "# Step 5: Visualize the results with Plotly\n",
    "fig_similarity = px.scatter(\n",
    "    user_tsne_df,\n",
    "    x='Component 1',\n",
    "    y='Component 2',\n",
    "    hover_data=['userId'],\n",
    "    title=f'User Similarity Visualization with DBSCAN Clustering (eps={eps_value})',\n",
    "    labels={'Component 1': 't-SNE Component 1', 'Component 2': 't-SNE Component 2'},\n",
    "    color='Cluster',  # Use DBSCAN clusters for coloring points\n",
    "    color_continuous_scale='Viridis',  # Change this palette if necessary\n",
    "    category_orders={'Cluster': [0, 1, 2, 3, 4, -1]}  # -1 is for noise points\n",
    ")\n",
    "print(f\"Eps: {eps_value}\")\n",
    "\n",
    "# Display the plot\n",
    "fig_similarity.show()\n"
   ]
  },
  {
   "cell_type": "code",
   "execution_count": null,
   "metadata": {},
   "outputs": [],
   "source": [
    "from sklearn.preprocessing import StandardScaler\n",
    "from sklearn.neighbors import KNeighborsClassifier\n",
    "from sklearn.decomposition import PCA\n",
    "import plotly.express as px\n",
    "\n",
    "# Step 1: Normaliser les données\n",
    "selected_features = ['genres_cmu', 'rating', 'budget']\n",
    "# Remplir les valeurs manquantes avec 0 pour éviter les problèmes de NaN dans le KNN\n",
    "user_genre_ratings = df_merged.groupby(['userId', 'genres_cmu'])['rating'].mean().unstack().fillna(0)\n",
    "\n",
    "# Ajout de la feature budget si disponible\n",
    "if 'budget' in df_merged.columns:\n",
    "    user_genre_ratings['budget'] = df_merged.groupby('userId')['budget'].mean()\n",
    "\n",
    "subsample_size = 1000  # Adjust to an acceptable size\n",
    "user_genre_ratings = user_genre_ratings.sample(n=subsample_size, random_state=42)\n",
    "\n",
    "# Normalisation des données\n",
    "scaler = StandardScaler()\n",
    "user_genre_scaled = scaler.fit_transform(user_genre_ratings)\n",
    "\n",
    "# Step 2: Appliquer KNN\n",
    "k = 5  # Choisir un nombre de voisins, ajuster selon le cas\n",
    "knn = KNeighborsClassifier(n_neighbors=k)\n",
    "knn.fit(user_genre_scaled, user_genre_ratings.index)  # On entraîne avec les indices des utilisateurs\n",
    "\n",
    "# Prédire les clusters (indices des voisins)\n",
    "predictions = knn.predict(user_genre_scaled)\n",
    "\n",
    "# Ajouter la colonne des prédictions (clusters) aux données\n",
    "user_genre_ratings['cluster'] = predictions\n",
    "\n",
    "# Step 3: Réduction de la dimensionnalité (PCA ou t-SNE)\n",
    "pca = PCA(n_components=2)\n",
    "user_genre_2d = pca.fit_transform(user_genre_scaled)\n",
    "\n",
    "# Step 4: Visualisation avec Plotly\n",
    "fig_knn = px.scatter(\n",
    "    x=user_genre_2d[:, 0],  # Première composante principale\n",
    "    y=user_genre_2d[:, 1],  # Deuxième composante principale\n",
    "    color=user_genre_ratings['cluster'],  # Colorier par cluster prédit par KNN\n",
    "    title='KNN Clustering of Users Based on Genre Ratings and Budget',\n",
    "    labels={'x': 'PCA Component 1', 'y': 'PCA Component 2'},\n",
    "    color_continuous_scale='Viridis'  # Choisir un joli jeu de couleurs\n",
    ")\n",
    "\n",
    "fig_knn.show()\n"
   ]
  },
  {
   "cell_type": "code",
   "execution_count": null,
   "metadata": {},
   "outputs": [],
   "source": [
    "from sklearn.decomposition import PCA\n",
    "from sklearn.cluster import KMeans\n",
    "from sklearn.preprocessing import StandardScaler\n",
    "import plotly.express as px\n",
    "\n",
    "user_genre_ratings = df_merged.groupby(['userId', 'genres_cmu'])['rating'].mean().unstack().fillna(0)\n",
    "\n",
    "# Standardize the data\n",
    "scaler = StandardScaler()\n",
    "user_genre_scaled = scaler.fit_transform(user_genre_ratings)\n",
    "\n",
    "# Perform PCA\n",
    "pca = PCA(n_components=3)  # Reduce to 3 dimensions for clustering\n",
    "user_pca = pca.fit_transform(user_genre_scaled)\n",
    "\n",
    "# Apply KMeans clustering\n",
    "kmeans = KMeans(n_clusters=5, random_state=42)  # Adjust the number of clusters\n",
    "clusters = kmeans.fit_predict(user_pca)\n",
    "\n",
    "# Visualization of PCA and Clusters (2D)\n",
    "fig_pca_kmeans = px.scatter(\n",
    "    x=user_pca[:, 0], \n",
    "    y=user_pca[:, 1], \n",
    "    color=clusters,\n",
    "    title='KMeans Clustering After PCA',\n",
    "    labels={'x': 'First Principal Component', 'y': 'Second Principal Component'},\n",
    "    color_continuous_scale='Rainbow'\n",
    ")\n",
    "fig_pca_kmeans.show()\n",
    "\n",
    "# Visualization of PCA and Clusters (3D)\n",
    "fig_pca_kmeans_3d = px.scatter_3d(\n",
    "    x=user_pca[:, 0],\n",
    "    y=user_pca[:, 1],\n",
    "    z=user_pca[:, 2],\n",
    "    color=clusters,\n",
    "    title='3D KMeans Clustering After PCA',\n",
    "    labels={'x': 'First Component', 'y': 'Second Component', 'z': 'Third Component'},\n",
    "    color_continuous_scale='Rainbow'\n",
    ")\n",
    "fig_pca_kmeans_3d.show()\n"
   ]
  },
  {
   "cell_type": "markdown",
   "metadata": {},
   "source": [
    "# New part "
   ]
  },
  {
   "cell_type": "code",
   "execution_count": 1,
   "metadata": {},
   "outputs": [],
   "source": [
    "import pandas as pd\n",
    "import numpy as np\n",
    "from sklearn.decomposition import PCA\n",
    "from sklearn.preprocessing import StandardScaler\n",
    "from sklearn.cluster import KMeans\n",
    "import plotly.express as px\n",
    "\n",
    "# Load the dataset\n",
    "df_final_dataset_copy = pd.read_csv('Data/final_dataset.csv', index_col= 0)\n",
    "df_final_dataset = df_final_dataset_copy.copy()\n",
    "\n",
    "# load the data again\n",
    "df_copy = pd.read_csv(\"Data/df_filtered.csv\", index_col=0)\n",
    "df = df_copy.copy()\n",
    "df_final_dataset = df_final_dataset_copy.copy()\n",
    "df = df_copy.copy()\n",
    "df_final_dataset['imdbId'] = df_final_dataset.index.astype(str)\n",
    "df_final_dataset['imdbId'] = df_final_dataset['imdbId'].apply(lambda x: x[2:])\n",
    "df_final_dataset['imdbId'] = df_final_dataset['imdbId'].astype(int)\n",
    "df['imdbId'] = df['imdbId'].astype(int)  # Ensure same type\n",
    "# makes index go from 0 to n-1\n",
    "df_final_dataset = df_final_dataset.reset_index(drop=True)\n",
    "df_final_dataset = df_final_dataset.dropna(subset=['genres_cmu', 'countries'])\n",
    "df_final_dataset['genres_cmu'] = df_final_dataset['genres_cmu'].str.split(',').apply(lambda x: [genre.strip() for genre in x]).explode().reset_index(drop=True)\n",
    "df_final_dataset['countries'] = df_final_dataset['countries'].str.split(',').apply(lambda x: [genre.strip() for genre in x]).explode().reset_index(drop=True)\n",
    "df_final_dataset['production_companies'] = df_final_dataset['production_companies'].explode().reset_index(drop=True)\n",
    "\n",
    "# Merge the dataframes\n",
    "df_merged = df.merge(df_final_dataset, on='imdbId', how='left') \n",
    "df_merged = df_merged.dropna(subset=['rating', 'genres_cmu'])\n",
    "df_users = df_merged.sample(n=1000) \n",
    "\n"
   ]
  },
  {
   "cell_type": "code",
   "execution_count": 14,
   "metadata": {},
   "outputs": [],
   "source": [
    "import pandas as pd\n",
    "import matplotlib.pyplot as plt\n",
    "import seaborn as sns\n",
    "\n",
    "# Load the dataset \n",
    "df = df_merged.copy()\n",
    "\n",
    "# Set a beautiful color palette and style\n",
    "sns.set_theme(style=\"darkgrid\")\n",
    "sns.set_palette(\"deep\")\n",
    "\n",
    "# 1. Mean Ratings by Genre\n",
    "def plot_mean_ratings_by_genre():\n",
    "    plt.figure(figsize=(12, 6))\n",
    "    \n",
    "    # Split genres and explode the dataframe\n",
    "    genre_ratings = df.assign(genres=df['genres_cmu'].str.split(',')).explode('genres')\n",
    "    genre_mean_ratings = genre_ratings.groupby('genres')['rating'].mean().sort_values(ascending=False)\n",
    "    \n",
    "    sns.barplot(x=genre_mean_ratings.index, y=genre_mean_ratings.values)\n",
    "    plt.title('Average Movie Ratings by Genre', fontsize=15)\n",
    "    plt.xlabel('Genre', fontsize=12)\n",
    "    plt.ylabel('Mean Rating', fontsize=12)\n",
    "    plt.xticks(rotation=45, ha='right')\n",
    "    plt.tight_layout()\n",
    "    plt.show()\n",
    "\n",
    "# 2. Mean Ratings by Original Language\n",
    "def plot_mean_ratings_by_language():\n",
    "    plt.figure(figsize=(12, 6))\n",
    "    \n",
    "    language_mean_ratings = df.groupby('original_language')['rating'].mean().sort_values(ascending=False)\n",
    "    top_languages = language_mean_ratings.head(10)  # Top 10 languages\n",
    "    \n",
    "    sns.barplot(x=top_languages.index, y=top_languages.values)\n",
    "    plt.title('Average Movie Ratings by Original Language (Top 10)', fontsize=15)\n",
    "    plt.xlabel('Language', fontsize=12)\n",
    "    plt.ylabel('Mean Rating', fontsize=12)\n",
    "    plt.xticks(rotation=45, ha='right')\n",
    "    plt.tight_layout()\n",
    "    plt.show()\n",
    "\n",
    "# 3. Box Plot of Ratings by Production Countries\n",
    "def plot_ratings_by_country():\n",
    "    plt.figure(figsize=(14, 7))\n",
    "    \n",
    "    # Split countries and explode the dataframe\n",
    "    country_ratings = df.assign(countries=df['countries'].str.split(',')).explode('countries')\n",
    "    \n",
    "    # Get top 10 countries by number of movies\n",
    "    top_countries = country_ratings['countries'].value_counts().head(10).index\n",
    "    filtered_country_ratings = country_ratings[country_ratings['countries'].isin(top_countries)]\n",
    "    \n",
    "    sns.boxplot(x='countries', y='rating', data=filtered_country_ratings)\n",
    "    plt.title('Movie Ratings Distribution by Production Country (Top 10)', fontsize=15)\n",
    "    plt.xlabel('Country', fontsize=12)\n",
    "    plt.ylabel('Rating', fontsize=12)\n",
    "    plt.xticks(rotation=45, ha='right')\n",
    "    plt.tight_layout()\n",
    "    plt.show()\n",
    "    \n",
    "\n",
    "# 4. Heatmap of Average Ratings for Language and Genre Combinations\n",
    "def plot_language_genre_ratings_heatmap(df):\n",
    "    plt.figure(figsize=(15, 10))\n",
    "    df.dropna(subset=['genres_cmu', 'original_language'], inplace=True)\n",
    "    # only keep the top 10 languages\n",
    "    top_languages = df['original_language'].value_counts().head(10).index\n",
    "    df = df[df['original_language'].isin(top_languages)]\n",
    "    # only keep the top 10 genres\n",
    "    top_genres = df['genres_cmu'].value_counts().head(10).index\n",
    "    df = df[df['genres_cmu'].isin(top_genres)]\n",
    "    # change type to float\n",
    "    df['rating'] = df['rating'].astype(float)\n",
    "    # Prepare data\n",
    "    language_genre_ratings = df.assign(\n",
    "        genres=df['genres_cmu'],\n",
    "        languages=df['original_language']\n",
    "    )\n",
    "    \n",
    "    # Create pivot table\n",
    "    rating_pivot = language_genre_ratings.pivot_table(\n",
    "        values='rating', \n",
    "        index='languages', \n",
    "        columns='genres', \n",
    "        aggfunc='mean'\n",
    "    )\n",
    "    \n",
    "    # Plot heatmap\n",
    "    sns.heatmap(rating_pivot, annot=True, cmap='YlGnBu', fmt='.2f')\n",
    "    plt.title('Average Ratings by Language and Genre', fontsize=15)\n",
    "    plt.xlabel('Genre', fontsize=12)\n",
    "    plt.ylabel('Original Language', fontsize=12)\n",
    "    plt.xticks(rotation=45, ha='right')\n",
    "    plt.tight_layout()\n",
    "    plt.show()\n",
    "\n",
    "# 5. Scatter Plot: Budget vs Rating\n",
    "def plot_budget_vs_rating():\n",
    "    plt.figure(figsize=(12, 6))\n",
    "    df.dropna(subset=['budget'], inplace=True)\n",
    "    # Clean budget data \n",
    "    df['budget_clean'] = df['budget'].astype(float)\n",
    "    \n",
    "    sns.scatterplot(x='budget_clean', y='rating', data=df, alpha=0.6)\n",
    "    plt.title('Movie Budget vs Rating', fontsize=15)\n",
    "    plt.xlabel('Budget (USD)', fontsize=12)\n",
    "    plt.ylabel('Rating', fontsize=12)\n",
    "    plt.xscale('log')  # Log scale for better visualization\n",
    "    plt.tight_layout()\n",
    "    plt.show()\n",
    "\n",
    "# Uncomment and run the specific visualization you want\n",
    "# plot_mean_ratings_by_genre()\n"
   ]
  },
  {
   "cell_type": "code",
   "execution_count": null,
   "metadata": {},
   "outputs": [],
   "source": [
    "\n",
    "plot_mean_ratings_by_language()\n"
   ]
  },
  {
   "cell_type": "code",
   "execution_count": null,
   "metadata": {},
   "outputs": [],
   "source": [
    "\n",
    "plot_ratings_by_country()\n"
   ]
  },
  {
   "cell_type": "code",
   "execution_count": null,
   "metadata": {},
   "outputs": [],
   "source": [
    "\n",
    "plot_language_genre_ratings_heatmap(df)\n"
   ]
  },
  {
   "cell_type": "code",
   "execution_count": null,
   "metadata": {},
   "outputs": [],
   "source": [
    "\n",
    "plot_budget_vs_rating()\n"
   ]
  },
  {
   "cell_type": "code",
   "execution_count": null,
   "metadata": {},
   "outputs": [],
   "source": [
    "\n",
    "df_final_dataset = df_final_dataset_copy.copy()\n",
    "df = df_copy.copy()\n",
    "df_final_dataset['imdbId'] = df_final_dataset.index.astype(str)\n",
    "df_final_dataset['imdbId'] = df_final_dataset['imdbId'].apply(lambda x: x[2:])\n",
    "df_final_dataset['imdbId'] = df_final_dataset['imdbId'].astype(int)\n",
    "df['imdbId'] = df['imdbId'].astype(int)  # Ensure same type\n",
    "# makes index go from 0 to n-1\n",
    "df_final_dataset = df_final_dataset.reset_index(drop=True)\n",
    "df_final_dataset = df_final_dataset.dropna(subset=['genres_cmu'])\n",
    "df_final_dataset['genres_cmu'] = df_final_dataset['genres_cmu'].str.split(',').apply(lambda x: [genre.strip() for genre in x]).explode().reset_index(drop=True)\n",
    "# Merge the dataframes\n",
    "df_merged = df.merge(df_final_dataset, on='imdbId', how='left') \n",
    "df_merged = df_merged.dropna(subset=['rating', 'genres_cmu'])\n",
    "sampled_df = df_merged.sample(n=1000)  # Randomly sample 10 rows\n",
    "\n",
    "# 4. Box Office vs Average Rating\n",
    "try:\n",
    "    # Safely convert box office to numeric\n",
    "    \n",
    "    fig4 = px.scatter(\n",
    "        sampled_df.dropna(subset=['box_office_clean', 'rating']), \n",
    "        x='box_office_clean', \n",
    "        y='rating', \n",
    "        color='genres_cmu',\n",
    "        title='Box Office Performance vs Average Rating',\n",
    "        labels={'box_office_clean': 'Box Office ($)', 'rating': 'Rating'},\n",
    "        hover_data=['title']\n",
    "    )\n",
    "    fig4.show()\n",
    "    fig4.write_html('boxoffice_vs_rating.html')\n",
    "except Exception as e:\n",
    "    print(\"Error in box office visualization:\", e)\n",
    "    fig4 = None\n"
   ]
  },
  {
   "cell_type": "code",
   "execution_count": null,
   "metadata": {},
   "outputs": [],
   "source": [
    "import pandas as pd\n",
    "import plotly.express as px\n",
    "\n",
    "try:\n",
    "    # Drop rows with missing values in 'userId' or 'rating'\n",
    "    df_other = df.dropna(subset=['userId', 'rating'])\n",
    "    \n",
    "    # Calculate number of votes for each user and rating\n",
    "    user_rating_count = df_other.groupby(['userId', 'rating']).size().reset_index(name='vote_count')\n",
    "    \n",
    "    # Calculate the mean rating for each user\n",
    "    user_mean_rating = df_other.groupby('userId')['rating'].mean().reset_index(name='mean_rating')\n",
    "    \n",
    "    # Merge the vote counts with the mean ratings\n",
    "    merged_df = pd.merge(user_rating_count, user_mean_rating, on='userId', how='left')\n",
    "\n",
    "    # Create a scatter plot with 'vote_count' vs. 'mean_rating'\n",
    "    fig7 = px.scatter(\n",
    "        merged_df,\n",
    "        x='vote_count',\n",
    "        y='mean_rating',\n",
    "        title='Vote Count vs Mean Rating',\n",
    "        labels={'vote_count': 'Number of Votes', 'mean_rating': 'Mean Rating'},\n",
    "        color='rating',  # Color by rating for better distinction\n",
    "        hover_data=['userId']\n",
    "    )\n",
    "    \n",
    "    # Show the plot\n",
    "    fig7.show()\n",
    "    # Save as an HTML file\n",
    "    fig7.write_html('vote_count_vs_mean_rating.html')\n",
    "\n",
    "except Exception as e:\n",
    "    print(\"Error in vote count vs mean rating plot:\", e)\n",
    "    fig7 = None\n"
   ]
  },
  {
   "cell_type": "code",
   "execution_count": null,
   "metadata": {},
   "outputs": [],
   "source": []
  },
  {
   "cell_type": "code",
   "execution_count": null,
   "metadata": {},
   "outputs": [],
   "source": [
    "\n",
    "# 8. Production Companies Top Ratings\n",
    "try:\n",
    "    # drop nan values\n",
    "    df_new = df_merged.dropna(subset=['production_companies'])\n",
    "    df_new['production_companies'] = df_new['production_companies'].apply(lambda x: x.strip(\"[]\").replace(\"'\", \"\").split(\", \")).explode().reset_index(drop=True)\n",
    "    top_production_companies = df_new.groupby('production_companies')['rating'].agg(['mean', 'count']).reset_index()\n",
    "    top_production_companies = top_production_companies[top_production_companies['count'] > 10].sort_values('mean', ascending=False).head(15)\n",
    "    \n",
    "    fig8 = px.bar(\n",
    "        top_production_companies, \n",
    "        x='production_companies', \n",
    "        y='mean',\n",
    "        title='Top Production Companies by Average Rating',\n",
    "        labels={'mean': 'Average Rating', 'production_companies': 'Production Company'},\n",
    "        color='count',\n",
    "        color_continuous_scale='Plasma'\n",
    "    )\n",
    "    fig8.show()\n",
    "    fig8.write_html('production_company_ratings.html')\n",
    "except Exception as e:\n",
    "    print(\"Error in production companies visualization:\", e)\n",
    "    fig8 = None\n"
   ]
  },
  {
   "cell_type": "code",
   "execution_count": null,
   "metadata": {},
   "outputs": [],
   "source": [
    "import pandas as pd\n",
    "import plotly.express as px\n",
    "import ast  # For safely evaluating strings that look like lists\n",
    "\n",
    "def clean_production_companies(companies_str):\n",
    "    try:\n",
    "        # Strip outer brackets and split the string into individual company names\n",
    "        cleaned = companies_str.strip(\"[]\").replace(\"'\", \"\").split(\", \")\n",
    "        return cleaned\n",
    "    except AttributeError:\n",
    "        # If the input is not a string, return an empty list\n",
    "        return []\n",
    "try:\n",
    "    # Drop rows with NaN in 'production_companies' column\n",
    "    df_new = df_merged.dropna(subset=['production_companies'])\n",
    "    df_new = df_new.sample(n=100000, random_state=42)  # Sample for faster visualization\n",
    "    # Split the production companies and explode the list to separate rows\n",
    "    df_new['production_companies'] = df_new['production_companies'].astype(str).apply(clean_production_companies)\n",
    "    df_new = df_new.explode('production_companies').reset_index(drop=True)\n",
    "    # suppress '' in production companies\n",
    "    exploded_production_companies = df_new[df_new['production_companies'] != '']\n",
    "\n",
    "\n",
    "    # Group by 'production_companies' and calculate mean rating and count of appearances\n",
    "    production_company_ratings = exploded_production_companies.groupby('production_companies')['rating'].agg(['mean', 'count']).reset_index()\n",
    "\n",
    "    # Filter out production companies with fewer than 10 movies\n",
    "    production_company_ratings = production_company_ratings[production_company_ratings['count'] > 10].sort_values('mean', ascending=False)\n",
    "\n",
    "    # Plot the data as a scatter plot\n",
    "    fig8 = px.scatter(\n",
    "        production_company_ratings, \n",
    "        x='count',  # X-axis is the number of movies the company produced\n",
    "        y='mean',   # Y-axis is the average rating\n",
    "        title='Top Production Companies: Number of Movies vs. Average Movie Rating',\n",
    "        labels={'count': 'Number of Movies', 'mean': 'Average Rating', 'production_companies': 'Production Company'},\n",
    "        color='mean',  # Color by average rating for better visualization\n",
    "        color_continuous_scale='Plasma',  # Smooth gradient for colors\n",
    "        hover_data={'production_companies': True, 'count': True, 'mean': True}  # Show company name and other info on hover\n",
    "    )\n",
    "\n",
    "    # Add customization for a more refined look\n",
    "    fig8.update_traces(\n",
    "        marker=dict(\n",
    "            size=6,  # Smaller marker size\n",
    "            opacity=0.7,  # Marker opacity\n",
    "            line=dict(width=0)  # Remove marker contours (no border)\n",
    "        )\n",
    "    )\n",
    "\n",
    "    # Refined layout for a clean, polished look\n",
    "    fig8.update_layout(\n",
    "        plot_bgcolor='white',  # Clean background\n",
    "        paper_bgcolor='white',  # Clean paper background\n",
    "        title_font=dict(size=20, color='black', family='Arial'),\n",
    "        xaxis=dict(\n",
    "            title='Number of Movies',\n",
    "            title_font=dict(size=14),\n",
    "            showgrid=True,\n",
    "            gridcolor='lightgray',\n",
    "            zeroline=True,\n",
    "            zerolinewidth=2,\n",
    "            zerolinecolor='black'\n",
    "        ),\n",
    "        yaxis=dict(\n",
    "            title='Average Rating',\n",
    "            title_font=dict(size=14),\n",
    "            showgrid=True,\n",
    "            gridcolor='lightgray',\n",
    "            zeroline=True,\n",
    "            zerolinewidth=2,\n",
    "            zerolinecolor='black'\n",
    "        ),\n",
    "        hovermode='closest',\n",
    "    )\n",
    "\n",
    "    # Show and save the plot\n",
    "    fig8.write_html('production_company_ratings_scatter.html')\n",
    "    fig8.show()\n",
    "\n",
    "except Exception as e:\n",
    "    print(\"Error in production companies visualization:\", e)\n",
    "    fig8 = None\n"
   ]
  },
  {
   "cell_type": "code",
   "execution_count": null,
   "metadata": {},
   "outputs": [],
   "source": [
    "print(df_merged['production_companies'].head(10))\n",
    "df_new = df_merged.copy()\n",
    "df_new.dropna(subset=['production_companies'], inplace=True)\n",
    "print(df_new['production_companies'].apply(type).value_counts())\n"
   ]
  },
  {
   "cell_type": "code",
   "execution_count": null,
   "metadata": {},
   "outputs": [],
   "source": [
    "import pandas as pd\n",
    "import plotly.express as px\n",
    "\n",
    "# 9. Cast Impact on Ratings\n",
    "try:\n",
    "    # Drop rows with NaN in 'cast' column\n",
    "    df_merged = df_merged.dropna(subset=['cast'])\n",
    "\n",
    "    # Sample a smaller subset of the data\n",
    "    df_new = df_merged.sample(n=10000, random_state=42)  # Adding random_state for reproducibility\n",
    "\n",
    "    # Extract top cast and explode it properly\n",
    "    df_new['top_cast'] = df_new['cast'].apply(lambda x: x.strip(\"[]\").replace(\"'\", \"\").split(\", \"))\n",
    "    \n",
    "    # Exploding the 'top_cast' column so each actor is in a separate row\n",
    "    exploded_cast = df_new.explode('top_cast').reset_index(drop=True)\n",
    "\n",
    "    # Group by 'top_cast' and calculate mean rating and count of appearances\n",
    "    cast_ratings = exploded_cast.groupby('top_cast')['rating'].agg(['mean', 'count']).reset_index()\n",
    "\n",
    "    # Filter out cast members with fewer than 5 movies\n",
    "    cast_ratings = cast_ratings[cast_ratings['count'] > 5].sort_values('mean', ascending=False).head(15)\n",
    "\n",
    "    # Plot the data\n",
    "    fig9 = px.bar(\n",
    "        cast_ratings, \n",
    "        x='top_cast', \n",
    "        y='mean',\n",
    "        title='Top Cast Members by Average Movie Rating',\n",
    "        labels={'mean': 'Average Rating', 'top_cast': 'Lead Actor/Actress'},\n",
    "        color='count',  # Color by the count of movies\n",
    "        color_continuous_scale='Cividis'\n",
    "    )\n",
    "\n",
    "    # Save and show the plot\n",
    "    fig9.write_html('cast_ratings.html')\n",
    "    fig9.show()\n",
    "\n",
    "except Exception as e:\n",
    "    print(\"Error in cast ratings visualization:\", e)\n",
    "    fig9 = None\n"
   ]
  },
  {
   "cell_type": "code",
   "execution_count": null,
   "metadata": {},
   "outputs": [],
   "source": [
    "import pandas as pd\n",
    "import plotly.express as px\n",
    "\n",
    "# 9. Cast Impact on Ratings (Scatter Plot)\n",
    "try:\n",
    "    # Drop rows with NaN in 'cast' column\n",
    "    df_merged = df_merged.dropna(subset=['cast'])\n",
    "\n",
    "    # Sample a smaller subset of the data\n",
    "    df_new = df_merged.sample(n=10000, random_state=42)  # Adding random_state for reproducibility\n",
    "\n",
    "    # Extract top cast and explode it properly\n",
    "    df_new['top_cast'] = df_new['cast'].apply(lambda x: x.strip(\"[]\").replace(\"'\", \"\").split(\", \"))\n",
    "    \n",
    "    # Exploding the 'top_cast' column so each actor is in a separate row\n",
    "    exploded_cast = df_new.explode('top_cast').reset_index(drop=True)\n",
    "\n",
    "    # Group by 'top_cast' and calculate mean rating and count of appearances\n",
    "    cast_ratings = exploded_cast.groupby('top_cast')['rating'].agg(['mean', 'count']).reset_index()\n",
    "\n",
    "    # Filter out cast members with fewer than 5 movies\n",
    "    cast_ratings = cast_ratings[cast_ratings['count'] > 5].sort_values('mean', ascending=False)\n",
    "\n",
    "    # Plot the data as a scatter plot\n",
    "    fig9 = px.scatter(\n",
    "        cast_ratings, \n",
    "        x='count',  # X-axis is the number of times their name appears\n",
    "        y='mean',   # Y-axis is the average rating\n",
    "        title='Top Cast Members: Number of Movies vs. Average Movie Rating',\n",
    "        labels={'count': 'Number of Movies', 'mean': 'Average Rating', 'top_cast': 'Lead Actor/Actress'},\n",
    "        color='mean',  # Color by average rating for better visualization\n",
    "        color_continuous_scale='Viridis',  # Smooth gradient for colors\n",
    "        hover_data={'top_cast': True, 'count': True, 'mean': True}  # Show cast name and other info on hover\n",
    "    )\n",
    "\n",
    "    # Add customization for a more refined look\n",
    "    fig9.update_traces(\n",
    "        marker=dict(\n",
    "            size=6,  # Smaller marker size\n",
    "            opacity=0.7,  # Marker opacity\n",
    "            line=dict(width=0)  # Remove marker contours (no border)\n",
    "        )\n",
    "    )\n",
    "\n",
    "    # Refined layout for a clean, polished look\n",
    "    fig9.update_layout(\n",
    "        plot_bgcolor='white',  # Clean background\n",
    "        paper_bgcolor='white',  # Clean paper background\n",
    "        title_font=dict(size=20, color='black', family='Arial'),\n",
    "        xaxis=dict(\n",
    "            title='Number of Movies',\n",
    "            title_font=dict(size=14),\n",
    "            showgrid=True,\n",
    "            gridcolor='lightgray',\n",
    "            zeroline=True,\n",
    "            zerolinewidth=2,\n",
    "            zerolinecolor='black'\n",
    "        ),\n",
    "        yaxis=dict(\n",
    "            title='Average Rating',\n",
    "            title_font=dict(size=14),\n",
    "            showgrid=True,\n",
    "            gridcolor='lightgray',\n",
    "            zeroline=True,\n",
    "            zerolinewidth=2,\n",
    "            zerolinecolor='black'\n",
    "        ),\n",
    "        hovermode='closest',\n",
    "    )\n",
    "\n",
    "    # Show and save the plot\n",
    "    fig9.write_html('cast_ratings_scatter.html')\n",
    "    fig9.show()\n",
    "\n",
    "except Exception as e:\n",
    "    print(\"Error in cast ratings visualization:\", e)\n",
    "    fig9 = None\n"
   ]
  },
  {
   "cell_type": "code",
   "execution_count": null,
   "metadata": {},
   "outputs": [],
   "source": [
    "import pandas as pd\n",
    "import plotly.express as px\n",
    "\n",
    "# 10. Rating Trends Over Time with Smoothing and Standard Deviation (Beautified)\n",
    "try:\n",
    "    # Convert release date to datetime and extract the year\n",
    "    df_merged['release_year'] = pd.to_datetime(df_merged['release_date_clean'], errors='coerce').dt.year\n",
    "    \n",
    "    # Group by release year and calculate the average rating for each year\n",
    "    yearly_ratings = df_merged.groupby('release_year')['rating'].mean()\n",
    "    \n",
    "    # Calculate the standard deviation for each year\n",
    "    yearly_std = df_merged.groupby('release_year')['rating'].std()\n",
    "\n",
    "    # Apply a rolling average with a window of 3 years for smoothing\n",
    "    smoothed_ratings = yearly_ratings.rolling(window=3, min_periods=1).mean()\n",
    "    smoothed_std = yearly_std.rolling(window=3, min_periods=1).mean()  # Rolling std dev for smoothing\n",
    "\n",
    "    # Create a line plot for the ratings with the smoothed data and error bars\n",
    "    fig10 = px.line(\n",
    "        x=smoothed_ratings.index, \n",
    "        y=smoothed_ratings.values,\n",
    "        title='Smoothed Average Movie Ratings Over Years with Standard Deviation',\n",
    "        labels={'x': 'Year', 'y': 'Average Rating'},\n",
    "        line_shape='spline',  # Spline for smooth curves\n",
    "        line_dash_sequence=['solid'],  # Solid line for better clarity\n",
    "    )\n",
    "\n",
    "    # Customize line and marker appearance\n",
    "    fig10.update_traces(\n",
    "        mode='lines+markers', \n",
    "        marker=dict(size=8, color='blue', line=dict(width=2, color='darkblue')),\n",
    "        line=dict(width=3, color='royalblue')  # Smooth and bold line\n",
    "    )\n",
    "\n",
    "    # Add error bars (standard deviation) to the plot with refined styling\n",
    "    fig10.update_traces(\n",
    "        error_y=dict(\n",
    "            type='data',\n",
    "            array=smoothed_std.values,\n",
    "            visible=True,\n",
    "            thickness=1.5,  # Thicker error bars for visibility\n",
    "            width=2,  # Adjust width of the error bars\n",
    "            color='rgba(0, 0, 255, 0.4)'  # Transparent blue color for error bars\n",
    "        )\n",
    "    )\n",
    "\n",
    "    # Style the layout for a more professional and clean look\n",
    "    fig10.update_layout(\n",
    "        plot_bgcolor='white',  # White background for a clean look\n",
    "        paper_bgcolor='white',  # Paper background matching the plot\n",
    "        title_font=dict(size=20, color='black', family='Arial'),\n",
    "        xaxis=dict(\n",
    "            title='Year',\n",
    "            title_font=dict(size=14),\n",
    "            showgrid=True,\n",
    "            gridcolor='lightgray',\n",
    "            zeroline=True,\n",
    "            zerolinewidth=2,\n",
    "            zerolinecolor='black'\n",
    "        ),\n",
    "        yaxis=dict(\n",
    "            title='Average Rating',\n",
    "            title_font=dict(size=14),\n",
    "            showgrid=True,\n",
    "            gridcolor='lightgray',\n",
    "            zeroline=True,\n",
    "            zerolinewidth=2,\n",
    "            zerolinecolor='black'\n",
    "        ),\n",
    "        hovermode='closest',\n",
    "    )\n",
    "\n",
    "    # Show and save the plot\n",
    "    fig10.show()\n",
    "    fig10.write_html('ratings_over_time_smoothed_with_std_beautified.html')\n",
    "\n",
    "except Exception as e:\n",
    "    print(\"Error in rating trends visualization:\", e)\n",
    "    fig10 = None\n",
    "\n",
    "print(\"Visualization generation complete.\")\n"
   ]
  }
 ],
 "metadata": {
  "kernelspec": {
   "display_name": "ADA",
   "language": "python",
   "name": "python3"
  },
  "language_info": {
   "codemirror_mode": {
    "name": "ipython",
    "version": 3
   },
   "file_extension": ".py",
   "mimetype": "text/x-python",
   "name": "python",
   "nbconvert_exporter": "python",
   "pygments_lexer": "ipython3",
   "version": "3.10.15"
  }
 },
 "nbformat": 4,
 "nbformat_minor": 2
}
