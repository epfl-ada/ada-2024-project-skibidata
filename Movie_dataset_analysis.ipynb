{
 "cells": [
  {
   "cell_type": "code",
   "execution_count": 2,
   "id": "4b08667e",
   "metadata": {},
   "outputs": [],
   "source": [
    "import pandas as pd\n",
    "import numpy as np"
   ]
  },
  {
   "cell_type": "code",
   "execution_count": 3,
   "id": "a2f671c7",
   "metadata": {},
   "outputs": [],
   "source": [
    "A = pd.read_csv('./MovieSummaries/MovieSummaries/character.metadata.tsv', sep='\\t', header=None)"
   ]
  },
  {
   "cell_type": "code",
   "execution_count": 22,
   "id": "bdd611a7",
   "metadata": {},
   "outputs": [],
   "source": [
    "B = pd.read_csv('./MovieSummaries/MovieSummaries/movie.metadata.tsv', sep='\\t', header=None,\n",
    "               names=['Wikipedia_ID', 'Freebase_ID', 'Movie_name', 'Release_date', 'Box_office', 'Runtime',\n",
    "                     'Movie_languages', 'Movie_countries', 'Movie_genres'])"
   ]
  },
  {
   "cell_type": "code",
   "execution_count": 5,
   "id": "4c7d4fa1",
   "metadata": {},
   "outputs": [],
   "source": [
    "C = pd.read_csv('./MovieSummaries/MovieSummaries/plot_summaries.txt', sep='\\t', header=None)"
   ]
  },
  {
   "cell_type": "code",
   "execution_count": 6,
   "id": "be4c41ac",
   "metadata": {},
   "outputs": [
    {
     "data": {
      "text/plain": [
       "\"Shlykov, a hard-working taxi driver and Lyosha, a saxophonist, develop a bizarre love-hate relationship, and despite their prejudices, realize they aren't so different after all.\""
      ]
     },
     "execution_count": 6,
     "metadata": {},
     "output_type": "execute_result"
    }
   ],
   "source": [
    "C[1][0]"
   ]
  },
  {
   "cell_type": "code",
   "execution_count": 82,
   "id": "7d2ca9b4",
   "metadata": {},
   "outputs": [
    {
     "data": {
      "text/plain": [
       "81741"
      ]
     },
     "execution_count": 82,
     "metadata": {},
     "output_type": "execute_result"
    }
   ],
   "source": [
    "c = B['Wikipedia_ID'].unique()\n",
    "len(c)"
   ]
  },
  {
   "cell_type": "code",
   "execution_count": 41,
   "id": "7a1a951e",
   "metadata": {},
   "outputs": [
    {
     "name": "stdout",
     "output_type": "stream",
     "text": [
      "0    2001\n",
      "1    2000\n",
      "2    1988\n",
      "3    1987\n",
      "4    1983\n",
      "Name: Release_date, dtype: Int64\n"
     ]
    }
   ],
   "source": [
    "def process_release_date(df):\n",
    "    def extract_year(value):\n",
    "        if pd.isna(value):\n",
    "            return np.nan\n",
    "        try:\n",
    "            # Try to convert to datetime first\n",
    "            return pd.to_datetime(value).year\n",
    "        except:\n",
    "            # If it fails, check if it's a year\n",
    "            if isinstance(value, (int, float)) or (isinstance(value, str) and value.isdigit()):\n",
    "                return int(float(value))\n",
    "            return np.nan\n",
    "\n",
    "    # Apply the function to the 'Release_date' column\n",
    "    df['Release_date'] = df['Release_date'].apply(extract_year)\n",
    "    \n",
    "    # Ensure the column is of type Int64 to handle NaN values\n",
    "    df['Release_date'] = df['Release_date'].astype('Int64')\n",
    "    \n",
    "    return df\n",
    "\n",
    "A = B.copy()\n",
    "# Assuming your dataframe is named 'df'\n",
    "A = process_release_date(A)\n",
    "\n",
    "# Display the first few rows to verify the changes\n",
    "print(A['Release_date'].head())"
   ]
  },
  {
   "cell_type": "code",
   "execution_count": 25,
   "id": "2abb0919",
   "metadata": {},
   "outputs": [
    {
     "data": {
      "text/plain": [
       "Wikipedia_ID           0\n",
       "Freebase_ID            0\n",
       "Movie_name             0\n",
       "Release_date        6902\n",
       "Box_office         73340\n",
       "Runtime            20450\n",
       "Movie_languages        0\n",
       "Movie_countries        0\n",
       "Movie_genres           0\n",
       "dtype: int64"
      ]
     },
     "execution_count": 25,
     "metadata": {},
     "output_type": "execute_result"
    }
   ],
   "source": [
    "B.isna().sum()"
   ]
  },
  {
   "cell_type": "code",
   "execution_count": 26,
   "id": "8fd1d543",
   "metadata": {},
   "outputs": [
    {
     "data": {
      "text/plain": [
       "Wikipedia_ID           0\n",
       "Freebase_ID            0\n",
       "Movie_name             0\n",
       "Release_date        6903\n",
       "Box_office         73340\n",
       "Runtime            20450\n",
       "Movie_languages        0\n",
       "Movie_countries        0\n",
       "Movie_genres           0\n",
       "dtype: int64"
      ]
     },
     "execution_count": 26,
     "metadata": {},
     "output_type": "execute_result"
    }
   ],
   "source": [
    "A.isna().sum()"
   ]
  },
  {
   "cell_type": "code",
   "execution_count": 27,
   "id": "5bc76feb",
   "metadata": {
    "scrolled": true
   },
   "outputs": [
    {
     "data": {
      "text/plain": [
       "count        74838.0\n",
       "mean     1977.489457\n",
       "std        28.886039\n",
       "min           1888.0\n",
       "25%           1956.0\n",
       "50%           1985.0\n",
       "75%           2004.0\n",
       "max           2016.0\n",
       "Name: Release_date, dtype: Float64"
      ]
     },
     "execution_count": 27,
     "metadata": {},
     "output_type": "execute_result"
    }
   ],
   "source": [
    "A.Release_date.describe()"
   ]
  },
  {
   "cell_type": "code",
   "execution_count": 28,
   "id": "31693977",
   "metadata": {},
   "outputs": [
    {
     "data": {
      "text/html": [
       "<div>\n",
       "<style scoped>\n",
       "    .dataframe tbody tr th:only-of-type {\n",
       "        vertical-align: middle;\n",
       "    }\n",
       "\n",
       "    .dataframe tbody tr th {\n",
       "        vertical-align: top;\n",
       "    }\n",
       "\n",
       "    .dataframe thead th {\n",
       "        text-align: right;\n",
       "    }\n",
       "</style>\n",
       "<table border=\"1\" class=\"dataframe\">\n",
       "  <thead>\n",
       "    <tr style=\"text-align: right;\">\n",
       "      <th></th>\n",
       "      <th>Wikipedia_ID</th>\n",
       "      <th>Freebase_ID</th>\n",
       "      <th>Movie_name</th>\n",
       "      <th>Release_date</th>\n",
       "      <th>Box_office</th>\n",
       "      <th>Runtime</th>\n",
       "      <th>Movie_languages</th>\n",
       "      <th>Movie_countries</th>\n",
       "      <th>Movie_genres</th>\n",
       "    </tr>\n",
       "  </thead>\n",
       "  <tbody>\n",
       "    <tr>\n",
       "      <th>57963</th>\n",
       "      <td>1082508</td>\n",
       "      <td>/m/044ggd</td>\n",
       "      <td>Roundhay Garden Scene</td>\n",
       "      <td>1888</td>\n",
       "      <td>NaN</td>\n",
       "      <td>0.03</td>\n",
       "      <td>{\"/m/06ppq\": \"Silent film\"}</td>\n",
       "      <td>{\"/m/07ssc\": \"United Kingdom\"}</td>\n",
       "      <td>{\"/m/02hmvc\": \"Short Film\", \"/m/06ppq\": \"Silen...</td>\n",
       "    </tr>\n",
       "  </tbody>\n",
       "</table>\n",
       "</div>"
      ],
      "text/plain": [
       "       Wikipedia_ID Freebase_ID             Movie_name  Release_date  \\\n",
       "57963       1082508   /m/044ggd  Roundhay Garden Scene          1888   \n",
       "\n",
       "       Box_office  Runtime              Movie_languages  \\\n",
       "57963         NaN     0.03  {\"/m/06ppq\": \"Silent film\"}   \n",
       "\n",
       "                      Movie_countries  \\\n",
       "57963  {\"/m/07ssc\": \"United Kingdom\"}   \n",
       "\n",
       "                                            Movie_genres  \n",
       "57963  {\"/m/02hmvc\": \"Short Film\", \"/m/06ppq\": \"Silen...  "
      ]
     },
     "execution_count": 28,
     "metadata": {},
     "output_type": "execute_result"
    }
   ],
   "source": [
    "A[A['Release_date']==1888]"
   ]
  },
  {
   "cell_type": "code",
   "execution_count": 29,
   "id": "860d6a8e",
   "metadata": {},
   "outputs": [
    {
     "data": {
      "text/html": [
       "<div>\n",
       "<style scoped>\n",
       "    .dataframe tbody tr th:only-of-type {\n",
       "        vertical-align: middle;\n",
       "    }\n",
       "\n",
       "    .dataframe tbody tr th {\n",
       "        vertical-align: top;\n",
       "    }\n",
       "\n",
       "    .dataframe thead th {\n",
       "        text-align: right;\n",
       "    }\n",
       "</style>\n",
       "<table border=\"1\" class=\"dataframe\">\n",
       "  <thead>\n",
       "    <tr style=\"text-align: right;\">\n",
       "      <th></th>\n",
       "      <th>Wikipedia_ID</th>\n",
       "      <th>Freebase_ID</th>\n",
       "      <th>Movie_name</th>\n",
       "      <th>Release_date</th>\n",
       "      <th>Box_office</th>\n",
       "      <th>Runtime</th>\n",
       "      <th>Movie_languages</th>\n",
       "      <th>Movie_countries</th>\n",
       "      <th>Movie_genres</th>\n",
       "    </tr>\n",
       "  </thead>\n",
       "  <tbody>\n",
       "    <tr>\n",
       "      <th>30275</th>\n",
       "      <td>27554912</td>\n",
       "      <td>/m/0c03gcc</td>\n",
       "      <td>Kung Fu Panda 3</td>\n",
       "      <td>2016</td>\n",
       "      <td>NaN</td>\n",
       "      <td>NaN</td>\n",
       "      <td>{}</td>\n",
       "      <td>{}</td>\n",
       "      <td>{}</td>\n",
       "    </tr>\n",
       "    <tr>\n",
       "      <th>34022</th>\n",
       "      <td>23124260</td>\n",
       "      <td>/m/064mmw7</td>\n",
       "      <td>Jeepers Creepers 4</td>\n",
       "      <td>2016</td>\n",
       "      <td>NaN</td>\n",
       "      <td>NaN</td>\n",
       "      <td>{}</td>\n",
       "      <td>{\"/m/09c7w0\": \"United States of America\"}</td>\n",
       "      <td>{\"/m/01jfsb\": \"Thriller\", \"/m/03npn\": \"Horror\"}</td>\n",
       "    </tr>\n",
       "    <tr>\n",
       "      <th>64862</th>\n",
       "      <td>3139382</td>\n",
       "      <td>/m/08tyfg</td>\n",
       "      <td>Battle Angel</td>\n",
       "      <td>2016</td>\n",
       "      <td>NaN</td>\n",
       "      <td>NaN</td>\n",
       "      <td>{\"/m/02h40lc\": \"English Language\"}</td>\n",
       "      <td>{\"/m/09c7w0\": \"United States of America\"}</td>\n",
       "      <td>{\"/m/01jfsb\": \"Thriller\", \"/m/06n90\": \"Science...</td>\n",
       "    </tr>\n",
       "  </tbody>\n",
       "</table>\n",
       "</div>"
      ],
      "text/plain": [
       "       Wikipedia_ID Freebase_ID          Movie_name  Release_date  Box_office  \\\n",
       "30275      27554912  /m/0c03gcc     Kung Fu Panda 3          2016         NaN   \n",
       "34022      23124260  /m/064mmw7  Jeepers Creepers 4          2016         NaN   \n",
       "64862       3139382   /m/08tyfg        Battle Angel          2016         NaN   \n",
       "\n",
       "       Runtime                     Movie_languages  \\\n",
       "30275      NaN                                  {}   \n",
       "34022      NaN                                  {}   \n",
       "64862      NaN  {\"/m/02h40lc\": \"English Language\"}   \n",
       "\n",
       "                                 Movie_countries  \\\n",
       "30275                                         {}   \n",
       "34022  {\"/m/09c7w0\": \"United States of America\"}   \n",
       "64862  {\"/m/09c7w0\": \"United States of America\"}   \n",
       "\n",
       "                                            Movie_genres  \n",
       "30275                                                 {}  \n",
       "34022    {\"/m/01jfsb\": \"Thriller\", \"/m/03npn\": \"Horror\"}  \n",
       "64862  {\"/m/01jfsb\": \"Thriller\", \"/m/06n90\": \"Science...  "
      ]
     },
     "execution_count": 29,
     "metadata": {},
     "output_type": "execute_result"
    }
   ],
   "source": [
    "A[A['Release_date']==2016]"
   ]
  },
  {
   "cell_type": "code",
   "execution_count": 42,
   "id": "3599ea98",
   "metadata": {},
   "outputs": [
    {
     "name": "stdout",
     "output_type": "stream",
     "text": [
      "Release_date\n",
      "1888       1\n",
      "1889       1\n",
      "1890       2\n",
      "1891       3\n",
      "1892       3\n",
      "        ... \n",
      "2012    1194\n",
      "2013     164\n",
      "2014      17\n",
      "2015       4\n",
      "2016       3\n",
      "Name: count, Length: 129, dtype: Int64\n"
     ]
    }
   ],
   "source": [
    "# Assuming df is your DataFrame and 'year_column' is the column with years\n",
    "C = A.copy()\n",
    "year_occurrences = C['Release_date'].value_counts().sort_index()\n",
    "\n",
    "# Display the number of occurrences by year\n",
    "print(year_occurrences)"
   ]
  },
  {
   "cell_type": "code",
   "execution_count": 43,
   "id": "363ee504",
   "metadata": {},
   "outputs": [
    {
     "data": {
      "image/png": "[encoded data removed]",
      "text/plain": [
       "<Figure size 1000x600 with 1 Axes>"
      ]
     },
     "metadata": {},
     "output_type": "display_data"
    }
   ],
   "source": [
    "import matplotlib.pyplot as plt\n",
    "\n",
    "# Plot the histogram\n",
    "plt.figure(figsize=(10, 6))\n",
    "plt.bar(year_occurrences.index, year_occurrences.values)\n",
    "plt.xlabel('Year')\n",
    "plt.ylabel('Number of Occurrences')\n",
    "plt.title('Number of Occurrences by Year')\n",
    "plt.xticks(rotation=45)  # Rotate x-axis labels if needed\n",
    "plt.show()"
   ]
  },
  {
   "cell_type": "code",
   "execution_count": 48,
   "id": "2ba89052",
   "metadata": {},
   "outputs": [
    {
     "data": {
      "text/plain": [
       "0                {\"/m/09c7w0\": \"United States of America\"}\n",
       "1                {\"/m/09c7w0\": \"United States of America\"}\n",
       "2                                   {\"/m/05b4w\": \"Norway\"}\n",
       "3                           {\"/m/07ssc\": \"United Kingdom\"}\n",
       "4                                  {\"/m/0345h\": \"Germany\"}\n",
       "                               ...                        \n",
       "81736            {\"/m/09c7w0\": \"United States of America\"}\n",
       "81737    {\"/m/03rt9\": \"Ireland\", \"/m/07ssc\": \"United Ki...\n",
       "81738            {\"/m/09c7w0\": \"United States of America\"}\n",
       "81739                                {\"/m/03_3d\": \"Japan\"}\n",
       "81740                              {\"/m/0d060g\": \"Canada\"}\n",
       "Name: Movie_countries, Length: 81741, dtype: object"
      ]
     },
     "execution_count": 48,
     "metadata": {},
     "output_type": "execute_result"
    }
   ],
   "source": [
    "A.Movie_countries"
   ]
  },
  {
   "cell_type": "code",
   "execution_count": 55,
   "id": "36a0301b",
   "metadata": {},
   "outputs": [
    {
     "ename": "IndexError",
     "evalue": "list index out of range",
     "output_type": "error",
     "traceback": [
      "\u001b[1;31m---------------------------------------------------------------------------\u001b[0m",
      "\u001b[1;31mIndexError\u001b[0m                                Traceback (most recent call last)",
      "Cell \u001b[1;32mIn[55], line 16\u001b[0m\n\u001b[0;32m     13\u001b[0m     \u001b[38;5;28;01mreturn\u001b[39;00m \u001b[38;5;28;01mNone\u001b[39;00m\n\u001b[0;32m     15\u001b[0m \u001b[38;5;66;03m# Apply the function to clean the column\u001b[39;00m\n\u001b[1;32m---> 16\u001b[0m D[\u001b[38;5;124m'\u001b[39m\u001b[38;5;124mCleaned_countries\u001b[39m\u001b[38;5;124m'\u001b[39m] \u001b[38;5;241m=\u001b[39m D[\u001b[38;5;124m'\u001b[39m\u001b[38;5;124mMovie_countries\u001b[39m\u001b[38;5;124m'\u001b[39m]\u001b[38;5;241m.\u001b[39mapply(extract_country_name)\n\u001b[0;32m     18\u001b[0m \u001b[38;5;66;03m# Preview the cleaned column\u001b[39;00m\n\u001b[0;32m     19\u001b[0m \u001b[38;5;28mprint\u001b[39m(D[\u001b[38;5;124m'\u001b[39m\u001b[38;5;124mCleaned_countries\u001b[39m\u001b[38;5;124m'\u001b[39m]\u001b[38;5;241m.\u001b[39mhead())\n",
      "File \u001b[1;32m~\\anaconda3\\Lib\\site-packages\\pandas\\core\\series.py:4924\u001b[0m, in \u001b[0;36mSeries.apply\u001b[1;34m(self, func, convert_dtype, args, by_row, **kwargs)\u001b[0m\n\u001b[0;32m   4789\u001b[0m \u001b[38;5;28;01mdef\u001b[39;00m \u001b[38;5;21mapply\u001b[39m(\n\u001b[0;32m   4790\u001b[0m     \u001b[38;5;28mself\u001b[39m,\n\u001b[0;32m   4791\u001b[0m     func: AggFuncType,\n\u001b[1;32m   (...)\u001b[0m\n\u001b[0;32m   4796\u001b[0m     \u001b[38;5;241m*\u001b[39m\u001b[38;5;241m*\u001b[39mkwargs,\n\u001b[0;32m   4797\u001b[0m ) \u001b[38;5;241m-\u001b[39m\u001b[38;5;241m>\u001b[39m DataFrame \u001b[38;5;241m|\u001b[39m Series:\n\u001b[0;32m   4798\u001b[0m \u001b[38;5;250m    \u001b[39m\u001b[38;5;124;03m\"\"\"\u001b[39;00m\n\u001b[0;32m   4799\u001b[0m \u001b[38;5;124;03m    Invoke function on values of Series.\u001b[39;00m\n\u001b[0;32m   4800\u001b[0m \n\u001b[1;32m   (...)\u001b[0m\n\u001b[0;32m   4915\u001b[0m \u001b[38;5;124;03m    dtype: float64\u001b[39;00m\n\u001b[0;32m   4916\u001b[0m \u001b[38;5;124;03m    \"\"\"\u001b[39;00m\n\u001b[0;32m   4917\u001b[0m     \u001b[38;5;28;01mreturn\u001b[39;00m SeriesApply(\n\u001b[0;32m   4918\u001b[0m         \u001b[38;5;28mself\u001b[39m,\n\u001b[0;32m   4919\u001b[0m         func,\n\u001b[0;32m   4920\u001b[0m         convert_dtype\u001b[38;5;241m=\u001b[39mconvert_dtype,\n\u001b[0;32m   4921\u001b[0m         by_row\u001b[38;5;241m=\u001b[39mby_row,\n\u001b[0;32m   4922\u001b[0m         args\u001b[38;5;241m=\u001b[39margs,\n\u001b[0;32m   4923\u001b[0m         kwargs\u001b[38;5;241m=\u001b[39mkwargs,\n\u001b[1;32m-> 4924\u001b[0m     )\u001b[38;5;241m.\u001b[39mapply()\n",
      "File \u001b[1;32m~\\anaconda3\\Lib\\site-packages\\pandas\\core\\apply.py:1427\u001b[0m, in \u001b[0;36mSeriesApply.apply\u001b[1;34m(self)\u001b[0m\n\u001b[0;32m   1424\u001b[0m     \u001b[38;5;28;01mreturn\u001b[39;00m \u001b[38;5;28mself\u001b[39m\u001b[38;5;241m.\u001b[39mapply_compat()\n\u001b[0;32m   1426\u001b[0m \u001b[38;5;66;03m# self.func is Callable\u001b[39;00m\n\u001b[1;32m-> 1427\u001b[0m \u001b[38;5;28;01mreturn\u001b[39;00m \u001b[38;5;28mself\u001b[39m\u001b[38;5;241m.\u001b[39mapply_standard()\n",
      "File \u001b[1;32m~\\anaconda3\\Lib\\site-packages\\pandas\\core\\apply.py:1507\u001b[0m, in \u001b[0;36mSeriesApply.apply_standard\u001b[1;34m(self)\u001b[0m\n\u001b[0;32m   1501\u001b[0m \u001b[38;5;66;03m# row-wise access\u001b[39;00m\n\u001b[0;32m   1502\u001b[0m \u001b[38;5;66;03m# apply doesn't have a `na_action` keyword and for backward compat reasons\u001b[39;00m\n\u001b[0;32m   1503\u001b[0m \u001b[38;5;66;03m# we need to give `na_action=\"ignore\"` for categorical data.\u001b[39;00m\n\u001b[0;32m   1504\u001b[0m \u001b[38;5;66;03m# TODO: remove the `na_action=\"ignore\"` when that default has been changed in\u001b[39;00m\n\u001b[0;32m   1505\u001b[0m \u001b[38;5;66;03m#  Categorical (GH51645).\u001b[39;00m\n\u001b[0;32m   1506\u001b[0m action \u001b[38;5;241m=\u001b[39m \u001b[38;5;124m\"\u001b[39m\u001b[38;5;124mignore\u001b[39m\u001b[38;5;124m\"\u001b[39m \u001b[38;5;28;01mif\u001b[39;00m \u001b[38;5;28misinstance\u001b[39m(obj\u001b[38;5;241m.\u001b[39mdtype, CategoricalDtype) \u001b[38;5;28;01melse\u001b[39;00m \u001b[38;5;28;01mNone\u001b[39;00m\n\u001b[1;32m-> 1507\u001b[0m mapped \u001b[38;5;241m=\u001b[39m obj\u001b[38;5;241m.\u001b[39m_map_values(\n\u001b[0;32m   1508\u001b[0m     mapper\u001b[38;5;241m=\u001b[39mcurried, na_action\u001b[38;5;241m=\u001b[39maction, convert\u001b[38;5;241m=\u001b[39m\u001b[38;5;28mself\u001b[39m\u001b[38;5;241m.\u001b[39mconvert_dtype\n\u001b[0;32m   1509\u001b[0m )\n\u001b[0;32m   1511\u001b[0m \u001b[38;5;28;01mif\u001b[39;00m \u001b[38;5;28mlen\u001b[39m(mapped) \u001b[38;5;129;01mand\u001b[39;00m \u001b[38;5;28misinstance\u001b[39m(mapped[\u001b[38;5;241m0\u001b[39m], ABCSeries):\n\u001b[0;32m   1512\u001b[0m     \u001b[38;5;66;03m# GH#43986 Need to do list(mapped) in order to get treated as nested\u001b[39;00m\n\u001b[0;32m   1513\u001b[0m     \u001b[38;5;66;03m#  See also GH#25959 regarding EA support\u001b[39;00m\n\u001b[0;32m   1514\u001b[0m     \u001b[38;5;28;01mreturn\u001b[39;00m obj\u001b[38;5;241m.\u001b[39m_constructor_expanddim(\u001b[38;5;28mlist\u001b[39m(mapped), index\u001b[38;5;241m=\u001b[39mobj\u001b[38;5;241m.\u001b[39mindex)\n",
      "File \u001b[1;32m~\\anaconda3\\Lib\\site-packages\\pandas\\core\\base.py:921\u001b[0m, in \u001b[0;36mIndexOpsMixin._map_values\u001b[1;34m(self, mapper, na_action, convert)\u001b[0m\n\u001b[0;32m    918\u001b[0m \u001b[38;5;28;01mif\u001b[39;00m \u001b[38;5;28misinstance\u001b[39m(arr, ExtensionArray):\n\u001b[0;32m    919\u001b[0m     \u001b[38;5;28;01mreturn\u001b[39;00m arr\u001b[38;5;241m.\u001b[39mmap(mapper, na_action\u001b[38;5;241m=\u001b[39mna_action)\n\u001b[1;32m--> 921\u001b[0m \u001b[38;5;28;01mreturn\u001b[39;00m algorithms\u001b[38;5;241m.\u001b[39mmap_array(arr, mapper, na_action\u001b[38;5;241m=\u001b[39mna_action, convert\u001b[38;5;241m=\u001b[39mconvert)\n",
      "File \u001b[1;32m~\\anaconda3\\Lib\\site-packages\\pandas\\core\\algorithms.py:1743\u001b[0m, in \u001b[0;36mmap_array\u001b[1;34m(arr, mapper, na_action, convert)\u001b[0m\n\u001b[0;32m   1741\u001b[0m values \u001b[38;5;241m=\u001b[39m arr\u001b[38;5;241m.\u001b[39mastype(\u001b[38;5;28mobject\u001b[39m, copy\u001b[38;5;241m=\u001b[39m\u001b[38;5;28;01mFalse\u001b[39;00m)\n\u001b[0;32m   1742\u001b[0m \u001b[38;5;28;01mif\u001b[39;00m na_action \u001b[38;5;129;01mis\u001b[39;00m \u001b[38;5;28;01mNone\u001b[39;00m:\n\u001b[1;32m-> 1743\u001b[0m     \u001b[38;5;28;01mreturn\u001b[39;00m lib\u001b[38;5;241m.\u001b[39mmap_infer(values, mapper, convert\u001b[38;5;241m=\u001b[39mconvert)\n\u001b[0;32m   1744\u001b[0m \u001b[38;5;28;01melse\u001b[39;00m:\n\u001b[0;32m   1745\u001b[0m     \u001b[38;5;28;01mreturn\u001b[39;00m lib\u001b[38;5;241m.\u001b[39mmap_infer_mask(\n\u001b[0;32m   1746\u001b[0m         values, mapper, mask\u001b[38;5;241m=\u001b[39misna(values)\u001b[38;5;241m.\u001b[39mview(np\u001b[38;5;241m.\u001b[39muint8), convert\u001b[38;5;241m=\u001b[39mconvert\n\u001b[0;32m   1747\u001b[0m     )\n",
      "File \u001b[1;32mlib.pyx:2972\u001b[0m, in \u001b[0;36mpandas._libs.lib.map_infer\u001b[1;34m()\u001b[0m\n",
      "Cell \u001b[1;32mIn[55], line 12\u001b[0m, in \u001b[0;36mextract_country_name\u001b[1;34m(country_string)\u001b[0m\n\u001b[0;32m      9\u001b[0m \u001b[38;5;28;01mdef\u001b[39;00m \u001b[38;5;21mextract_country_name\u001b[39m(country_string):\n\u001b[0;32m     10\u001b[0m     \u001b[38;5;28;01mif\u001b[39;00m \u001b[38;5;28misinstance\u001b[39m(country_string, \u001b[38;5;28mstr\u001b[39m):\n\u001b[0;32m     11\u001b[0m         \u001b[38;5;66;03m# Split the string to extract the country name\u001b[39;00m\n\u001b[1;32m---> 12\u001b[0m         \u001b[38;5;28;01mreturn\u001b[39;00m country_string\u001b[38;5;241m.\u001b[39msplit(\u001b[38;5;124m'\u001b[39m\u001b[38;5;124m: \u001b[39m\u001b[38;5;124m'\u001b[39m)[\u001b[38;5;241m1\u001b[39m]\u001b[38;5;241m.\u001b[39mstrip(\u001b[38;5;124m'\u001b[39m\u001b[38;5;124m\"\u001b[39m\u001b[38;5;124m}\u001b[39m\u001b[38;5;124m'\u001b[39m)\n\u001b[0;32m     13\u001b[0m     \u001b[38;5;28;01mreturn\u001b[39;00m \u001b[38;5;28;01mNone\u001b[39;00m\n",
      "\u001b[1;31mIndexError\u001b[0m: list index out of range"
     ]
    }
   ],
   "source": [
    "def extract_countries(country_dict):\n",
    "    # If it's a dictionary, return the country names as a list\n",
    "    if isinstance(country_dict, dict):\n",
    "        return ', '.join(country_dict.values())  # Join country names with a comma\n",
    "    return None  # Return None for missing or invalid rows\n",
    "\n",
    "D = A.copy()\n",
    "# Apply the extraction function to the column\n",
    "def extract_country_name(country_string):\n",
    "    if isinstance(country_string, str):\n",
    "        # Split the string to extract the country name\n",
    "        return country_string.split(': ')[1].strip('\"}')\n",
    "    return None\n",
    "\n",
    "# Apply the function to clean the column\n",
    "D['Cleaned_countries'] = D['Movie_countries'].apply(extract_country_name)\n",
    "\n",
    "# Preview the cleaned column\n",
    "print(D['Cleaned_countries'].head())"
   ]
  },
  {
   "cell_type": "code",
   "execution_count": 58,
   "id": "a4894de2",
   "metadata": {},
   "outputs": [
    {
     "data": {
      "text/plain": [
       "'{\"/m/09c7w0\": \"United States of America\"}'"
      ]
     },
     "execution_count": 58,
     "metadata": {},
     "output_type": "execute_result"
    }
   ],
   "source": [
    "a = A['Movie_countries'][0]\n",
    "a"
   ]
  },
  {
   "cell_type": "code",
   "execution_count": 59,
   "id": "2b7d97ec",
   "metadata": {},
   "outputs": [
    {
     "data": {
      "text/plain": [
       "'United States of America'"
      ]
     },
     "execution_count": 59,
     "metadata": {},
     "output_type": "execute_result"
    }
   ],
   "source": [
    "a.split(': ')[1].strip('\"}')"
   ]
  },
  {
   "cell_type": "code",
   "execution_count": 79,
   "id": "b1005c63",
   "metadata": {},
   "outputs": [
    {
     "data": {
      "text/html": [
       "<div>\n",
       "<style scoped>\n",
       "    .dataframe tbody tr th:only-of-type {\n",
       "        vertical-align: middle;\n",
       "    }\n",
       "\n",
       "    .dataframe tbody tr th {\n",
       "        vertical-align: top;\n",
       "    }\n",
       "\n",
       "    .dataframe thead th {\n",
       "        text-align: right;\n",
       "    }\n",
       "</style>\n",
       "<table border=\"1\" class=\"dataframe\">\n",
       "  <thead>\n",
       "    <tr style=\"text-align: right;\">\n",
       "      <th></th>\n",
       "      <th>Wikipedia_ID</th>\n",
       "      <th>Freebase_ID</th>\n",
       "      <th>Movie_name</th>\n",
       "      <th>Release_date</th>\n",
       "      <th>Box_office</th>\n",
       "      <th>Runtime</th>\n",
       "      <th>Movie_languages</th>\n",
       "      <th>Movie_countries</th>\n",
       "      <th>Movie_genres</th>\n",
       "    </tr>\n",
       "  </thead>\n",
       "  <tbody>\n",
       "    <tr>\n",
       "      <th>0</th>\n",
       "      <td>975900</td>\n",
       "      <td>/m/03vyhn</td>\n",
       "      <td>Ghosts of Mars</td>\n",
       "      <td>2001</td>\n",
       "      <td>14010832.0</td>\n",
       "      <td>98.0</td>\n",
       "      <td>{\"/m/02h40lc\": \"English Language\"}</td>\n",
       "      <td>{\"/m/09c7w0\": \"United States of America\"}</td>\n",
       "      <td>{\"/m/01jfsb\": \"Thriller\", \"/m/06n90\": \"Science...</td>\n",
       "    </tr>\n",
       "    <tr>\n",
       "      <th>1</th>\n",
       "      <td>3196793</td>\n",
       "      <td>/m/08yl5d</td>\n",
       "      <td>Getting Away with Murder: The JonBenét Ramsey ...</td>\n",
       "      <td>2000</td>\n",
       "      <td>NaN</td>\n",
       "      <td>95.0</td>\n",
       "      <td>{\"/m/02h40lc\": \"English Language\"}</td>\n",
       "      <td>{\"/m/09c7w0\": \"United States of America\"}</td>\n",
       "      <td>{\"/m/02n4kr\": \"Mystery\", \"/m/03bxz7\": \"Biograp...</td>\n",
       "    </tr>\n",
       "    <tr>\n",
       "      <th>2</th>\n",
       "      <td>28463795</td>\n",
       "      <td>/m/0crgdbh</td>\n",
       "      <td>Brun bitter</td>\n",
       "      <td>1988</td>\n",
       "      <td>NaN</td>\n",
       "      <td>83.0</td>\n",
       "      <td>{\"/m/05f_3\": \"Norwegian Language\"}</td>\n",
       "      <td>{\"/m/05b4w\": \"Norway\"}</td>\n",
       "      <td>{\"/m/0lsxr\": \"Crime Fiction\", \"/m/07s9rl0\": \"D...</td>\n",
       "    </tr>\n",
       "    <tr>\n",
       "      <th>3</th>\n",
       "      <td>9363483</td>\n",
       "      <td>/m/0285_cd</td>\n",
       "      <td>White Of The Eye</td>\n",
       "      <td>1987</td>\n",
       "      <td>NaN</td>\n",
       "      <td>110.0</td>\n",
       "      <td>{\"/m/02h40lc\": \"English Language\"}</td>\n",
       "      <td>{\"/m/07ssc\": \"United Kingdom\"}</td>\n",
       "      <td>{\"/m/01jfsb\": \"Thriller\", \"/m/0glj9q\": \"Erotic...</td>\n",
       "    </tr>\n",
       "    <tr>\n",
       "      <th>4</th>\n",
       "      <td>261236</td>\n",
       "      <td>/m/01mrr1</td>\n",
       "      <td>A Woman in Flames</td>\n",
       "      <td>1983</td>\n",
       "      <td>NaN</td>\n",
       "      <td>106.0</td>\n",
       "      <td>{\"/m/04306rv\": \"German Language\"}</td>\n",
       "      <td>{\"/m/0345h\": \"Germany\"}</td>\n",
       "      <td>{\"/m/07s9rl0\": \"Drama\"}</td>\n",
       "    </tr>\n",
       "    <tr>\n",
       "      <th>...</th>\n",
       "      <td>...</td>\n",
       "      <td>...</td>\n",
       "      <td>...</td>\n",
       "      <td>...</td>\n",
       "      <td>...</td>\n",
       "      <td>...</td>\n",
       "      <td>...</td>\n",
       "      <td>...</td>\n",
       "      <td>...</td>\n",
       "    </tr>\n",
       "    <tr>\n",
       "      <th>95</th>\n",
       "      <td>29832307</td>\n",
       "      <td>/m/061l7z</td>\n",
       "      <td>The Thirteen Chairs</td>\n",
       "      <td>1969</td>\n",
       "      <td>NaN</td>\n",
       "      <td>94.0</td>\n",
       "      <td>{\"/m/02bjrlw\": \"Italian Language\", \"/m/02h40lc...</td>\n",
       "      <td>{\"/m/03rjj\": \"Italy\"}</td>\n",
       "      <td>{\"/m/05p553\": \"Comedy film\", \"/m/01z4y\": \"Come...</td>\n",
       "    </tr>\n",
       "    <tr>\n",
       "      <th>96</th>\n",
       "      <td>24039457</td>\n",
       "      <td>/m/0crx1wl</td>\n",
       "      <td>ZA: Zombies Anonymous</td>\n",
       "      <td>2005</td>\n",
       "      <td>NaN</td>\n",
       "      <td>118.0</td>\n",
       "      <td>{\"/m/02h40lc\": \"English Language\"}</td>\n",
       "      <td>{\"/m/09c7w0\": \"United States of America\"}</td>\n",
       "      <td>{\"/m/0gf28\": \"Parody\", \"/m/0qdzd\": \"B-movie\", ...</td>\n",
       "    </tr>\n",
       "    <tr>\n",
       "      <th>97</th>\n",
       "      <td>31322464</td>\n",
       "      <td>/m/0gj8s31</td>\n",
       "      <td>Youth Sports Festival</td>\n",
       "      <td>1951</td>\n",
       "      <td>NaN</td>\n",
       "      <td>NaN</td>\n",
       "      <td>{\"/m/04306rv\": \"German Language\"}</td>\n",
       "      <td>{\"/m/03f2w\": \"German Democratic Republic\"}</td>\n",
       "      <td>{\"/m/01z02hx\": \"Sports\", \"/m/0jtdp\": \"Document...</td>\n",
       "    </tr>\n",
       "    <tr>\n",
       "      <th>98</th>\n",
       "      <td>5894429</td>\n",
       "      <td>/m/0fc8w8</td>\n",
       "      <td>Closing the Ring</td>\n",
       "      <td>2007</td>\n",
       "      <td>NaN</td>\n",
       "      <td>117.0</td>\n",
       "      <td>{\"/m/02h40lc\": \"English Language\"}</td>\n",
       "      <td>{\"/m/09c7w0\": \"United States of America\", \"/m/...</td>\n",
       "      <td>{\"/m/068d7h\": \"Romantic drama\", \"/m/02l7c8\": \"...</td>\n",
       "    </tr>\n",
       "    <tr>\n",
       "      <th>99</th>\n",
       "      <td>12788657</td>\n",
       "      <td>/m/02x4zpv</td>\n",
       "      <td>The Boston Strangler</td>\n",
       "      <td>1968</td>\n",
       "      <td>17810894.0</td>\n",
       "      <td>116.0</td>\n",
       "      <td>{\"/m/02h40lc\": \"English Language\"}</td>\n",
       "      <td>{\"/m/09c7w0\": \"United States of America\"}</td>\n",
       "      <td>{\"/m/0lsxr\": \"Crime Fiction\", \"/m/02n4kr\": \"My...</td>\n",
       "    </tr>\n",
       "  </tbody>\n",
       "</table>\n",
       "<p>100 rows × 9 columns</p>\n",
       "</div>"
      ],
      "text/plain": [
       "    Wikipedia_ID Freebase_ID  \\\n",
       "0         975900   /m/03vyhn   \n",
       "1        3196793   /m/08yl5d   \n",
       "2       28463795  /m/0crgdbh   \n",
       "3        9363483  /m/0285_cd   \n",
       "4         261236   /m/01mrr1   \n",
       "..           ...         ...   \n",
       "95      29832307   /m/061l7z   \n",
       "96      24039457  /m/0crx1wl   \n",
       "97      31322464  /m/0gj8s31   \n",
       "98       5894429   /m/0fc8w8   \n",
       "99      12788657  /m/02x4zpv   \n",
       "\n",
       "                                           Movie_name  Release_date  \\\n",
       "0                                      Ghosts of Mars          2001   \n",
       "1   Getting Away with Murder: The JonBenét Ramsey ...          2000   \n",
       "2                                         Brun bitter          1988   \n",
       "3                                    White Of The Eye          1987   \n",
       "4                                   A Woman in Flames          1983   \n",
       "..                                                ...           ...   \n",
       "95                                The Thirteen Chairs          1969   \n",
       "96                              ZA: Zombies Anonymous          2005   \n",
       "97                              Youth Sports Festival          1951   \n",
       "98                                   Closing the Ring          2007   \n",
       "99                               The Boston Strangler          1968   \n",
       "\n",
       "    Box_office  Runtime                                    Movie_languages  \\\n",
       "0   14010832.0     98.0                 {\"/m/02h40lc\": \"English Language\"}   \n",
       "1          NaN     95.0                 {\"/m/02h40lc\": \"English Language\"}   \n",
       "2          NaN     83.0                 {\"/m/05f_3\": \"Norwegian Language\"}   \n",
       "3          NaN    110.0                 {\"/m/02h40lc\": \"English Language\"}   \n",
       "4          NaN    106.0                  {\"/m/04306rv\": \"German Language\"}   \n",
       "..         ...      ...                                                ...   \n",
       "95         NaN     94.0  {\"/m/02bjrlw\": \"Italian Language\", \"/m/02h40lc...   \n",
       "96         NaN    118.0                 {\"/m/02h40lc\": \"English Language\"}   \n",
       "97         NaN      NaN                  {\"/m/04306rv\": \"German Language\"}   \n",
       "98         NaN    117.0                 {\"/m/02h40lc\": \"English Language\"}   \n",
       "99  17810894.0    116.0                 {\"/m/02h40lc\": \"English Language\"}   \n",
       "\n",
       "                                      Movie_countries  \\\n",
       "0           {\"/m/09c7w0\": \"United States of America\"}   \n",
       "1           {\"/m/09c7w0\": \"United States of America\"}   \n",
       "2                              {\"/m/05b4w\": \"Norway\"}   \n",
       "3                      {\"/m/07ssc\": \"United Kingdom\"}   \n",
       "4                             {\"/m/0345h\": \"Germany\"}   \n",
       "..                                                ...   \n",
       "95                              {\"/m/03rjj\": \"Italy\"}   \n",
       "96          {\"/m/09c7w0\": \"United States of America\"}   \n",
       "97         {\"/m/03f2w\": \"German Democratic Republic\"}   \n",
       "98  {\"/m/09c7w0\": \"United States of America\", \"/m/...   \n",
       "99          {\"/m/09c7w0\": \"United States of America\"}   \n",
       "\n",
       "                                         Movie_genres  \n",
       "0   {\"/m/01jfsb\": \"Thriller\", \"/m/06n90\": \"Science...  \n",
       "1   {\"/m/02n4kr\": \"Mystery\", \"/m/03bxz7\": \"Biograp...  \n",
       "2   {\"/m/0lsxr\": \"Crime Fiction\", \"/m/07s9rl0\": \"D...  \n",
       "3   {\"/m/01jfsb\": \"Thriller\", \"/m/0glj9q\": \"Erotic...  \n",
       "4                             {\"/m/07s9rl0\": \"Drama\"}  \n",
       "..                                                ...  \n",
       "95  {\"/m/05p553\": \"Comedy film\", \"/m/01z4y\": \"Come...  \n",
       "96  {\"/m/0gf28\": \"Parody\", \"/m/0qdzd\": \"B-movie\", ...  \n",
       "97  {\"/m/01z02hx\": \"Sports\", \"/m/0jtdp\": \"Document...  \n",
       "98  {\"/m/068d7h\": \"Romantic drama\", \"/m/02l7c8\": \"...  \n",
       "99  {\"/m/0lsxr\": \"Crime Fiction\", \"/m/02n4kr\": \"My...  \n",
       "\n",
       "[100 rows x 9 columns]"
      ]
     },
     "execution_count": 79,
     "metadata": {},
     "output_type": "execute_result"
    }
   ],
   "source": [
    "D = A.copy()\n",
    "D.head(100)"
   ]
  },
  {
   "cell_type": "code",
   "execution_count": 65,
   "id": "b4bfbc56",
   "metadata": {},
   "outputs": [
    {
     "name": "stdout",
     "output_type": "stream",
     "text": [
      "Cleaned DataFrame:\n",
      "                                         Movie_countries  \\\n",
      "0              {\"/m/09c7w0\": \"United States of America\"}   \n",
      "1              {\"/m/09c7w0\": \"United States of America\"}   \n",
      "2                                 {\"/m/05b4w\": \"Norway\"}   \n",
      "3                         {\"/m/07ssc\": \"United Kingdom\"}   \n",
      "4                                {\"/m/0345h\": \"Germany\"}   \n",
      "...                                                  ...   \n",
      "81736          {\"/m/09c7w0\": \"United States of America\"}   \n",
      "81737  {\"/m/03rt9\": \"Ireland\", \"/m/07ssc\": \"United Ki...   \n",
      "81738          {\"/m/09c7w0\": \"United States of America\"}   \n",
      "81739                              {\"/m/03_3d\": \"Japan\"}   \n",
      "81740                            {\"/m/0d060g\": \"Canada\"}   \n",
      "\n",
      "              Cleaned_countries  \n",
      "0      United States of America  \n",
      "1      United States of America  \n",
      "2                        Norway  \n",
      "3                United Kingdom  \n",
      "4                       Germany  \n",
      "...                         ...  \n",
      "81736  United States of America  \n",
      "81737   Ireland, United Kingdom  \n",
      "81738  United States of America  \n",
      "81739                     Japan  \n",
      "81740                    Canada  \n",
      "\n",
      "[81741 rows x 2 columns]\n",
      "\n",
      "Unique countries:\n",
      "['United States of America' 'Norway' 'United Kingdom' 'Germany'\n",
      " 'South Africa' 'Argentina' 'Japan' 'Turkey' 'German Democratic Republic'\n",
      " 'Soviet Union' 'France' 'Italy' 'India' 'New Zealand' 'Mexico'\n",
      " 'Australia' 'Hong Kong' 'Netherlands' 'Denmark' 'Sweden' 'Canada'\n",
      " 'Brazil' 'Switzerland' 'Poland' 'Spain' 'South Korea' 'Hungary'\n",
      " 'West Germany' 'Pakistan' 'Yugoslavia' 'Algeria' 'Nepal' 'Kenya'\n",
      " 'England' 'Finland' 'Ireland' 'China' 'Austria' 'Philippines' 'Romania'\n",
      " 'Slovakia' 'Czech Republic' 'Portugal' 'Egypt' 'Czechoslovakia'\n",
      " 'Northern Ireland' 'Israel' 'Iceland' 'Indonesia' 'Belgium' 'Greece'\n",
      " 'Iraq' 'Republic of Macedonia' 'Russia' 'Taiwan' 'Lebanon' 'Iran'\n",
      " 'Bosnia and Herzegovina' 'Croatia' 'Malaysia' 'Uzbekistan' 'Nazi Germany'\n",
      " 'Weimar Republic' 'Morocco' 'Puerto Rico' 'Luxembourg' 'Tunisia'\n",
      " 'Albania' 'Cambodia' 'Thailand' 'Estonia' 'Chile' 'Scotland' 'Venezuela'\n",
      " 'Vietnam' 'Sri Lanka' 'Singapore' 'Senegal' 'Colombia' 'Mali'\n",
      " 'Bangladesh' 'Azerbaijan' 'Panama' 'Serbia' 'Burkina Faso' 'Slovenia'\n",
      " 'Bulgaria' 'Ukraine' 'Slovak Republic' 'Cuba' 'Malta' 'Bolivia' 'Uruguay'\n",
      " 'Kingdom of Italy' 'Korea' 'Monaco' 'Jamaica' 'Peru' 'Burma'\n",
      " 'Kingdom of Great Britain' 'Socialist Federal Republic of Yugoslavia'\n",
      " 'Georgia' 'Serbia and Montenegro' 'Isle of Man' 'Uzbek SSR' 'Costa Rica'\n",
      " 'Qatar' 'Lithuania' 'Georgian SSR' 'Cameroon' 'Mandatory Palestine'\n",
      " 'Palestinian territories' 'Bhutan' 'Kuwait' 'United Arab Emirates'\n",
      " 'Crime' 'Federal Republic of Yugoslavia' 'Afghanistan' 'Zimbabwe'\n",
      " 'Jordan' 'Libya' 'Democratic Republic of the Congo' 'Ethiopia' 'Mongolia'\n",
      " 'Nigeria' 'Soviet occupation zone' 'Armenia' 'Montenegro' 'Ukrainian SSR'\n",
      " 'Wales' 'Zambia' 'Guinea' 'Bahamas' 'Iraqi Kurdistan' 'Aruba'\n",
      " 'Turkmenistan' 'Congo' 'Bahrain' 'Guinea-Bissau' 'Haiti'\n",
      " 'Republic of China' 'Malayalam Language' 'Macau' 'Cyprus'\n",
      " 'Palestinian Territories' 'German Language' 'Ukranian SSR']\n"
     ]
    }
   ],
   "source": [
    "import re\n",
    "def extract_countries_from_string(country_string):\n",
    "    if isinstance(country_string, str) and country_string != '{}':\n",
    "        # Use regex to find all country names (text inside double quotes after the colon)\n",
    "        return ', '.join(re.findall(r'\": \"([^\"]+)\"', country_string))  # Extract country names after \": \"\n",
    "    return np.nan  # Return NaN for empty strings or {}\n",
    "\n",
    "# Apply the function to extract country names\n",
    "D['Cleaned_countries'] = D['Movie_countries'].apply(extract_countries_from_string)\n",
    "\n",
    "# Find unique countries\n",
    "# Flatten the list of country names and extract unique values\n",
    "unique_countries = pd.Series([country for countries in D['Cleaned_countries'].dropna() \n",
    "                              for country in countries.split(', ')]).unique()\n",
    "\n",
    "# Show results\n",
    "print(\"Cleaned DataFrame:\")\n",
    "print(D[['Movie_countries', 'Cleaned_countries']])\n",
    "print(\"\\nUnique countries:\")\n",
    "print(unique_countries)"
   ]
  },
  {
   "cell_type": "code",
   "execution_count": 74,
   "id": "b4ceb114",
   "metadata": {},
   "outputs": [
    {
     "data": {
      "image/png": "[encoded data removed]",
      "text/plain": [
       "<Figure size 1000x600 with 1 Axes>"
      ]
     },
     "metadata": {},
     "output_type": "display_data"
    }
   ],
   "source": [
    "country_counts = D['Cleaned_countries'].dropna().str.split(', ').explode().value_counts()\n",
    "\n",
    "# Create a histogram (bar plot)\n",
    "plt.figure(figsize=(10, 6))\n",
    "country_counts[:20].plot(kind='bar')\n",
    "plt.title('Histogram of Unique Countries')\n",
    "plt.xlabel('Countries')\n",
    "plt.ylabel('Number of Occurrences')\n",
    "plt.xticks(rotation=45, fontsize=5)\n",
    "plt.grid(axis='y')\n",
    "plt.tight_layout()\n",
    "plt.show()"
   ]
  },
  {
   "cell_type": "code",
   "execution_count": 80,
   "id": "21304cbb",
   "metadata": {},
   "outputs": [
    {
     "data": {
      "text/plain": [
       "['Mad Max 2: The Road Warrior',\n",
       " 'Mad Max',\n",
       " 'Mad Max Beyond Thunderdome',\n",
       " 'Mad Max 4: Fury Road']"
      ]
     },
     "execution_count": 80,
     "metadata": {},
     "output_type": "execute_result"
    }
   ],
   "source": [
    "contains_star_wars = [name for name in D['Movie_name'] if \"Mad Max\" in name]\n",
    "contains_star_wars"
   ]
  },
  {
   "cell_type": "code",
   "execution_count": 87,
   "id": "8223e4c1",
   "metadata": {},
   "outputs": [
    {
     "data": {
      "text/plain": [
       "6773"
      ]
     },
     "execution_count": 87,
     "metadata": {},
     "output_type": "execute_result"
    }
   ],
   "source": [
    "d = D['Runtime']<60\n",
    "d.sum()"
   ]
  },
  {
   "cell_type": "code",
   "execution_count": 90,
   "id": "6320e2fb",
   "metadata": {},
   "outputs": [
    {
     "name": "stdout",
     "output_type": "stream",
     "text": [
      "Cleaned DataFrame:\n",
      "                                          Cleaned_genres\n",
      "0      Thriller, Science Fiction, Horror, Adventure, ...\n",
      "1         Mystery, Biographical film, Drama, Crime Drama\n",
      "2                                   Crime Fiction, Drama\n",
      "3      Thriller, Erotic thriller, Psychological thriller\n",
      "4                                                  Drama\n",
      "...                                                  ...\n",
      "81736                                              Drama\n",
      "81737              Biographical film, Drama, Documentary\n",
      "81738                                     Satire, Comedy\n",
      "81739  Science Fiction, Japanese Movies, Adventure, A...\n",
      "81740                    Thriller, Horror, Slasher, Teen\n",
      "\n",
      "[81741 rows x 1 columns]\n",
      "\n",
      "Unique genres:\n",
      "363\n"
     ]
    }
   ],
   "source": [
    "import re\n",
    "E = D.copy()\n",
    "def extract_countries_from_string(country_string):\n",
    "    if isinstance(country_string, str) and country_string != '{}':\n",
    "        # Use regex to find all country names (text inside double quotes after the colon)\n",
    "        return ', '.join(re.findall(r'\": \"([^\"]+)\"', country_string))  # Extract country names after \": \"\n",
    "    return np.nan  # Return NaN for empty strings or {}\n",
    "\n",
    "# Apply the function to extract country names\n",
    "E['Cleaned_genres'] = E['Movie_genres'].apply(extract_countries_from_string)\n",
    "\n",
    "# Find unique countries\n",
    "# Flatten the list of country names and extract unique values\n",
    "unique_genres = pd.Series([country for countries in E['Cleaned_genres'].dropna() \n",
    "                              for country in countries.split(', ')]).unique()\n",
    "\n",
    "# Show results\n",
    "print(\"Cleaned DataFrame:\")\n",
    "print(E[['Cleaned_genres']])\n",
    "print(\"\\nUnique genres:\")\n",
    "print(len(unique_genres))"
   ]
  },
  {
   "cell_type": "code",
   "execution_count": null,
   "id": "7c8c7bc5",
   "metadata": {},
   "outputs": [],
   "source": []
  }
 ],
 "metadata": {
  "kernelspec": {
   "display_name": "Python 3 (ipykernel)",
   "language": "python",
   "name": "python3"
  },
  "language_info": {
   "codemirror_mode": {
    "name": "ipython",
    "version": 3
   },
   "file_extension": ".py",
   "mimetype": "text/x-python",
   "name": "python",
   "nbconvert_exporter": "python",
   "pygments_lexer": "ipython3",
   "version": "3.11.7"
  }
 },
 "nbformat": 4,
 "nbformat_minor": 5
}
